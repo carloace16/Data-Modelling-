{
    "metadata": {
        "kernelspec": {
            "name": "SQL",
            "display_name": "SQL",
            "language": "sql"
        },
        "language_info": {
            "name": "sql",
            "version": ""
        }
    },
    "nbformat_minor": 2,
    "nbformat": 4,
    "cells": [
        {
            "cell_type": "markdown",
            "source": [
                "# **Top 3 Queries**\r\n",
                "## **Query 1 (Medium)**\r\n",
                "\r\n",
                "### Proposition: Identifying Customers with ID.\r\n",
                "### Table: Sales.[Order] c, Sales.Customer o.\r\n",
                "### Columns: The column selected is c.CustomerId.\r\n",
                "### Predicate: By use GROUP BY clause, it will remove the duplicated id. \r\n",
                "\r\n",
                ""
            ],
            "metadata": {
                "azdata_cell_guid": "041643fd-2dd8-4388-86fc-ae9d32e83eb1"
            },
            "attachments": {}
        },
        {
            "cell_type": "code",
            "source": [
                "USE Northwinds2022TSQLV7\r\n",
                "SELECT c.CustomerId\r\n",
                "FROM Sales.[Order] c\r\n",
                "LEFT JOIN Sales.Customer o ON c.CustomerId = o.CustomerId\r\n",
                "GROUP BY c.CustomerId\r\n",
                "\r\n",
                "INTERSECT \r\n",
                "(SELECT c.CustomerId\r\n",
                "FROM Sales.[Order] c\r\n",
                "LEFT JOIN Sales.Customer o ON c.CustomerId = o.CustomerId\r\n",
                "GROUP BY c.CustomerId)\r\n",
                ""
            ],
            "metadata": {
                "azdata_cell_guid": "cdf07dba-13f1-43e0-a0a7-7c5ded395bda",
                "language": "sql",
                "tags": []
            },
            "outputs": [],
            "execution_count": null
        },
        {
            "cell_type": "markdown",
            "source": [
                "## **Query 2 (Medium)**\r\n",
                "\r\n",
                "### Proposition: Query to display no customer but uses 2 queries that display customer.\r\n",
                "### Table: Sales.[Order] c, Sales.Customer o.\r\n",
                "### Columns: The column selected is c.CustomerId.\r\n",
                "### Predicate: By use EXCEPT statement, it will remove everything existed in the list. \r\n",
                "\r\n",
                ""
            ],
            "metadata": {
                "azdata_cell_guid": "9335b1d1-d4e4-4663-b5cc-2330148b014d"
            },
            "attachments": {}
        },
        {
            "cell_type": "code",
            "source": [
                "USE Northwinds2022TSQLV7\r\n",
                "SELECT c.CustomerId\r\n",
                "FROM Sales.[Order] c\r\n",
                "LEFT JOIN Sales.Customer o ON c.CustomerId = o.CustomerId\r\n",
                "EXCEPT\r\n",
                "(SELECT o.CustomerId\r\n",
                "FROM Sales.Customer o\r\n",
                "GROUP BY o.CustomerId)"
            ],
            "metadata": {
                "azdata_cell_guid": "d6a41c16-56d8-425b-950c-5fa6f370142c",
                "language": "sql",
                "tags": []
            },
            "outputs": [],
            "execution_count": null
        },
        {
            "cell_type": "markdown",
            "source": [
                "## **Query 3 (Medium)**\r\n",
                "\r\n",
                "### Proposition: Show all customers that are not in USA.\r\n",
                "### Table: Sales.[Order] c, Sales.Customer o.\r\n",
                "### Columns: The column selected is c.CustomerId.\r\n",
                "### Predicate: By use EXCEPT statement below, it will remove all customers that has CustomerCountry = USA. "
            ],
            "metadata": {
                "azdata_cell_guid": "37238725-e350-4a0e-b19a-40b1e6efdb0a"
            },
            "attachments": {}
        },
        {
            "cell_type": "code",
            "source": [
                "USE Northwinds2022TSQLV7\r\n",
                "SELECT \r\n",
                "    c.CustomerId\r\n",
                "FROM \r\n",
                "    Sales.[Order] c\r\n",
                "LEFT JOIN \r\n",
                "    Sales.Customer o ON c.CustomerId = o.CustomerId\r\n",
                "EXCEPT\r\n",
                "    (SELECT \r\n",
                "         CustomerId\r\n",
                "     FROM \r\n",
                "         Sales.Customer\r\n",
                "     WHERE\r\n",
                "         CustomerCountry = 'USA'\r\n",
                "GROUP BY \r\n",
                "    CustomerId)"
            ],
            "metadata": {
                "azdata_cell_guid": "3212e8c5-7ee8-4d14-980e-a3f9f84ee320",
                "language": "sql"
            },
            "outputs": [],
            "execution_count": null
        },
        {
            "cell_type": "markdown",
            "source": [
                "# **Top 3 Worst Queries**\r\n",
                "## **Query 4 (Medium)**\r\n",
                "\r\n",
                "### Proposition: Refining Orders Within a Specific Total Value Range.\r\n",
                "### Table: Sales.[Order] c, Sales.OrderDetail o.\r\n",
                "### Columns: The column selected is c.OrderId, SUM(o.UnitPrice * o.Quantity) AS TotalValue.\r\n",
                "### Predicate: This proposition offers an optimized SQL query for retrieving orders with a total value falling within a specific range by efficiently filtering the results in the HAVING clause.\r\n",
                "\r\n",
                "### Solution to make it better: remove the INTERSECT statement & query below and combine HAVING SUM(o.UnitPrice * o.Quantity) <= 300) with the line above INTERSECT."
            ],
            "metadata": {
                "azdata_cell_guid": "5f56e906-83f2-4a3d-80f2-4ac47babd227"
            },
            "attachments": {}
        },
        {
            "cell_type": "code",
            "source": [
                "USE Northwinds2022TSQLV7\r\n",
                "SELECT \r\n",
                "    c.OrderId,\r\n",
                "    SUM(o.UnitPrice * o.Quantity) AS TotalValue\r\n",
                "FROM \r\n",
                "    Sales.[Order] c\r\n",
                "LEFT JOIN \r\n",
                "    Sales.OrderDetail o ON c.OrderId = o.OrderId\r\n",
                "GROUP BY \r\n",
                "    c.OrderId\r\n",
                "HAVING SUM(o.UnitPrice * o.Quantity) >= 200\r\n",
                "INTERSECT\r\n",
                "    (SELECT \r\n",
                "        c.OrderId,\r\n",
                "        SUM(o.UnitPrice * o.Quantity) AS TotalValue\r\n",
                "    FROM \r\n",
                "        Sales.[Order] c\r\n",
                "    LEFT JOIN \r\n",
                "        Sales.OrderDetail o ON c.OrderId = o.OrderId\r\n",
                "    GROUP BY \r\n",
                "        c.OrderId\r\n",
                "    HAVING SUM(o.UnitPrice * o.Quantity) <= 300)"
            ],
            "metadata": {
                "azdata_cell_guid": "cb6eaadb-0101-4082-a150-97cd09562b28",
                "language": "sql"
            },
            "outputs": [],
            "execution_count": null
        },
        {
            "cell_type": "markdown",
            "source": [
                "## **Query 5 (Medium)**\r\n",
                "\r\n",
                "### Proposition: Refining Orders Within a Product ID Range.\r\n",
                "### Table: Sales.[Order] c, Sales.OrderDetail o.\r\n",
                "### Columns: The column selected is c.OrderId, o.ProductId.\r\n",
                "### Predicate: This proposition offers a refined SQL query for retrieving orders containing products within a specific range of product IDs by leveraging the BETWEEN operator in the WHERE clause.\r\n",
                "\r\n",
                "### Solution to make it better: remove the INTERSECT statement & query below and change WHERE statemet to o.ProductId BETWEEN 20 AND 30."
            ],
            "metadata": {
                "azdata_cell_guid": "8abfa8c1-c183-4418-9bb1-3bab01a87a29"
            },
            "attachments": {}
        },
        {
            "cell_type": "code",
            "source": [
                "USE Northwinds2022TSQLV7\r\n",
                "SELECT \r\n",
                "    c.OrderId,\r\n",
                "    o.ProductId\r\n",
                "FROM \r\n",
                "    Sales.[Order] c\r\n",
                "LEFT JOIN \r\n",
                "    Sales.OrderDetail o ON c.OrderId = o.OrderId\r\n",
                "WHERE \r\n",
                "    o.ProductId >= 20\r\n",
                "GROUP BY \r\n",
                "    c.OrderId, o.ProductId\r\n",
                "HAVING \r\n",
                "    o.ProductId <= 30\r\n",
                "\r\n",
                "INTERSECT\r\n",
                "(SELECT \r\n",
                "    c.OrderId,\r\n",
                "    o.ProductId\r\n",
                "FROM \r\n",
                "    Sales.[Order] c\r\n",
                "LEFT JOIN \r\n",
                "    Sales.OrderDetail o ON c.OrderId = o.OrderId\r\n",
                "WHERE \r\n",
                "    o.ProductId <= 30\r\n",
                "GROUP BY \r\n",
                "    c.OrderId, o.ProductId\r\n",
                "HAVING \r\n",
                "    o.ProductId >= 20)"
            ],
            "metadata": {
                "azdata_cell_guid": "e67f4a21-344f-4358-b9e3-b287e1c53c6b",
                "language": "sql"
            },
            "outputs": [],
            "execution_count": null
        },
        {
            "cell_type": "markdown",
            "source": [
                "## **Query 6 (Medium)**\r\n",
                "\r\n",
                "### Proposition: Find employee with last name \"Lew\".\r\n",
                "### Table: Sales.[Order] c, HumanResources.Employee o.\r\n",
                "### Columns: The column selected is c.EmployeeId, o.EmployeeLastName.\r\n",
                "### Predicate: This proposition used WHERE clause to find the employee's last name that = Lew.\r\n",
                "\r\n",
                "### Solution to make it better: remove the INTERSECT statement & query below."
            ],
            "metadata": {
                "azdata_cell_guid": "c8faf5e8-13a8-4961-ade0-35bb235a9d36"
            },
            "attachments": {}
        },
        {
            "cell_type": "code",
            "source": [
                "USE Northwinds2022TSQLV7\r\n",
                "SELECT \r\n",
                "    c.EmployeeId,\r\n",
                "    o.EmployeeLastName\r\n",
                "FROM \r\n",
                "    Sales.[Order] c\r\n",
                "LEFT JOIN \r\n",
                "    HumanResources.Employee o ON c.EmployeeId = o.EmployeeId\r\n",
                "WHERE o.EmployeeLastName = 'Lew'\r\n",
                "GROUP BY \r\n",
                "    c.EmployeeId, o.EmployeeLastName\r\n",
                "\r\n",
                "\r\n",
                "INTERSECT\r\n",
                "(SELECT \r\n",
                "    c.EmployeeId,\r\n",
                "    o.EmployeeLastName\r\n",
                "FROM \r\n",
                "    Sales.[Order] c\r\n",
                "LEFT JOIN \r\n",
                "    HumanResources.Employee o ON c.EmployeeId = o.EmployeeId\r\n",
                "GROUP BY \r\n",
                "    c.EmployeeId, o.EmployeeLastName)"
            ],
            "metadata": {
                "azdata_cell_guid": "f4e95baf-798b-40b0-bcb0-a4b3779a9cf5",
                "language": "sql",
                "tags": []
            },
            "outputs": [],
            "execution_count": null
        },
        {
            "cell_type": "markdown",
            "source": [
                "## **Query 7 (Medium)**\r\n",
                "\r\n",
                "### Proposition: Identifying Sales Representatives Efficiently.\r\n",
                "### Table: Sales.[Order] c, HumanResources.Employee o.\r\n",
                "### Columns: The column selected is c.EmployeeId, o.EmployeeTitle.\r\n",
                "### Predicate: This proposition offers an optimized SQL query for efficiently identifying sales representatives by leveraging the WHERE clause to filter on the employee title.\r\n",
                ""
            ],
            "metadata": {
                "azdata_cell_guid": "ec2b0346-e3de-47b9-b178-256585c674f8"
            },
            "attachments": {}
        },
        {
            "cell_type": "code",
            "source": [
                "USE Northwinds2022TSQLV7\r\n",
                "SELECT \r\n",
                "    c.EmployeeId,\r\n",
                "    o.EmployeeTitle\r\n",
                "FROM \r\n",
                "    Sales.[Order] c\r\n",
                "LEFT JOIN \r\n",
                "    HumanResources.Employee o ON c.EmployeeId = o.EmployeeId\r\n",
                "WHERE o.EmployeeTitle = 'Sales Representative'\r\n",
                "GROUP BY \r\n",
                "    c.EmployeeId, o.EmployeeTitle\r\n",
                "\r\n",
                "INTERSECT\r\n",
                "(SELECT \r\n",
                "    c.EmployeeId,\r\n",
                "    o.EmployeeTitle\r\n",
                "FROM \r\n",
                "    Sales.[Order] c\r\n",
                "LEFT JOIN \r\n",
                "    HumanResources.Employee o ON c.EmployeeId = o.EmployeeId\r\n",
                "GROUP BY \r\n",
                "    c.EmployeeId, o.EmployeeTitle)"
            ],
            "metadata": {
                "azdata_cell_guid": "43e0eee5-2e2a-49e9-8934-ccda9db3c064",
                "language": "sql"
            },
            "outputs": [],
            "execution_count": null
        },
        {
            "cell_type": "markdown",
            "source": [
                "## **Query 8 (Medium)**\r\n",
                "\r\n",
                "### Proposition: Identifying Employees Hired Before a Specific Date.\r\n",
                "### Table: Sales.[Order] c, HumanResources.Employee o.\r\n",
                "### Columns: The column selected is c.EmployeeId, o.HireDate.\r\n",
                "### Predicate: This proposition offers an optimized SQL query for efficiently identifying employees hired before a specific date by leveraging the WHERE clause to filter on the hire date."
            ],
            "metadata": {
                "azdata_cell_guid": "89e111e3-2cc2-4326-b31c-6575204fae01"
            },
            "attachments": {}
        },
        {
            "cell_type": "code",
            "source": [
                "USE Northwinds2022TSQLV7\r\n",
                "SELECT \r\n",
                "    c.EmployeeId,\r\n",
                "    o.HireDate\r\n",
                "FROM \r\n",
                "    Sales.[Order] c\r\n",
                "LEFT JOIN \r\n",
                "    HumanResources.Employee o ON c.EmployeeId = o.EmployeeId\r\n",
                "WHERE o.HireDate <= '20140101'\r\n",
                "GROUP BY \r\n",
                "    c.EmployeeId, o.HireDate\r\n",
                "\r\n",
                "INTERSECT\r\n",
                "(SELECT \r\n",
                "    c.EmployeeId,\r\n",
                "    o.HireDate\r\n",
                "FROM \r\n",
                "    Sales.[Order] c\r\n",
                "LEFT JOIN \r\n",
                "    HumanResources.Employee o ON c.EmployeeId = o.EmployeeId\r\n",
                "GROUP BY \r\n",
                "    c.EmployeeId, o.HireDate)"
            ],
            "metadata": {
                "azdata_cell_guid": "a77058e2-a2e0-4aa2-b1af-f37801e7faf9",
                "language": "sql"
            },
            "outputs": [],
            "execution_count": null
        },
        {
            "cell_type": "markdown",
            "source": [
                "## **Query 9 (Complex)**\r\n",
                "\r\n",
                "### Proposition: Optimizing Query to Retrieve Orders within a Specific Range.\r\n",
                "### Table: Sales.[Order] c, HumanResources.Employee o, Sales.Customer k.\r\n",
                "### Columns: The column selected is c.OrderId, o.EmployeeId, k.CustomerId.\r\n",
                "### Predicate: This proposition offers an optimized SQL query for efficiently retrieving orders within a specified range by using WHERE clause."
            ],
            "metadata": {
                "azdata_cell_guid": "7f3f0f40-72f6-494d-be0c-595a2c067ce0"
            },
            "attachments": {}
        },
        {
            "cell_type": "code",
            "source": [
                "USE Northwinds2022TSQLV7\r\n",
                "SELECT c.OrderId, o.EmployeeId, k.CustomerId\r\n",
                "FROM Sales.[Order] c\r\n",
                "LEFT JOIN HumanResources.Employee o on c.EmployeeId = o.EmployeeId\r\n",
                "LEFT JOIN Sales.Customer k on c.CustomerId = k.CustomerId\r\n",
                "WHERE c.OrderId >= 10500 AND c.OrderId <= 10600\r\n",
                "GROUP BY c.OrderId, o.EmployeeId, k.CustomerId\r\n",
                "\r\n",
                "INTERSECT\r\n",
                "(SELECT c.OrderId, o.EmployeeId, k.CustomerId\r\n",
                "FROM Sales.[Order] c\r\n",
                "LEFT JOIN HumanResources.Employee o on c.EmployeeId = o.EmployeeId\r\n",
                "LEFT JOIN Sales.Customer k on c.CustomerId = k.CustomerId\r\n",
                "GROUP BY c.OrderId, o.EmployeeId, k.CustomerId)"
            ],
            "metadata": {
                "azdata_cell_guid": "727e0e93-9abd-4344-abb2-5f265217f85b",
                "language": "sql",
                "tags": []
            },
            "outputs": [],
            "execution_count": null
        },
        {
            "cell_type": "markdown",
            "source": [
                "## **Query 10 (Complex)**\r\n",
                "\r\n",
                "### Proposition: Optimizing Query to Retrieve Orders Shipped to the USA.\r\n",
                "### Table: Sales.[Order] c, HumanResources.Employee o, Sales.Customer k.\r\n",
                "### Columns: The column selected is c.OrderId, o.EmployeeId, k.CustomerId, c.ShipToCountry.\r\n",
                "### Predicate: This proposition offers an optimized SQL query for efficiently retrieving orders shipped to the USA by leveraging the WHERE clause to filter on the ShipToCountry."
            ],
            "metadata": {
                "azdata_cell_guid": "ac2941f0-c973-4a14-abf5-4b4b8e4d1631"
            },
            "attachments": {}
        },
        {
            "cell_type": "code",
            "source": [
                "USE Northwinds2022TSQLV7\r\n",
                "SELECT c.OrderId, o.EmployeeId, k.CustomerId, c.ShipToCountry\r\n",
                "FROM Sales.[Order] c\r\n",
                "LEFT JOIN HumanResources.Employee o on c.EmployeeId = o.EmployeeId\r\n",
                "LEFT JOIN Sales.Customer k on c.CustomerId = k.CustomerId\r\n",
                "WHERE c.ShipToCountry = 'USA'\r\n",
                "GROUP BY c.OrderId, o.EmployeeId, k.CustomerId, c.ShipToCountry\r\n",
                "\r\n",
                "INTERSECT\r\n",
                "(SELECT c.OrderId, o.EmployeeId, k.CustomerId, c.ShipToCountry\r\n",
                "FROM Sales.[Order] c\r\n",
                "LEFT JOIN HumanResources.Employee o on c.EmployeeId = o.EmployeeId\r\n",
                "LEFT JOIN Sales.Customer k on c.CustomerId = k.CustomerId\r\n",
                "GROUP BY c.OrderId, o.EmployeeId, k.CustomerId, c.ShipToCountry)"
            ],
            "metadata": {
                "azdata_cell_guid": "63bc2d61-0192-4225-a876-68d967223dcf",
                "language": "sql"
            },
            "outputs": [],
            "execution_count": null
        },
        {
            "cell_type": "markdown",
            "source": [
                "## **Query 11 (Complex)**\r\n",
                "\r\n",
                "### Proposition: Optimizing Query to Retrieve Orders not Shipped to the USA.\r\n",
                "### Table: Sales.[Order] c, HumanResources.Employee o, Sales.Customer k.\r\n",
                "### Columns: The column selected is c.OrderId, o.EmployeeId, k.CustomerId, c.ShipToCountry.\r\n",
                "### Predicate: This proposition offers an optimized SQL query for efficiently retrieving orders not shipped to the USA by leveraging the WHERE clause to filter on the ShipToCountry."
            ],
            "metadata": {
                "azdata_cell_guid": "e752199e-a926-48b6-a226-74afc8b519d9"
            },
            "attachments": {}
        },
        {
            "cell_type": "code",
            "source": [
                "USE Northwinds2022TSQLV7\r\n",
                "SELECT c.OrderId, o.EmployeeId, k.CustomerId, c.ShipToCountry\r\n",
                "FROM Sales.[Order] c\r\n",
                "LEFT JOIN HumanResources.Employee o on c.EmployeeId = o.EmployeeId\r\n",
                "LEFT JOIN Sales.Customer k on c.CustomerId = k.CustomerId\r\n",
                "WHERE c.ShipToCountry != 'USA'\r\n",
                "GROUP BY c.OrderId, o.EmployeeId, k.CustomerId, c.ShipToCountry\r\n",
                "\r\n",
                "INTERSECT\r\n",
                "(SELECT c.OrderId, o.EmployeeId, k.CustomerId, c.ShipToCountry\r\n",
                "FROM Sales.[Order] c\r\n",
                "LEFT JOIN HumanResources.Employee o on c.EmployeeId = o.EmployeeId\r\n",
                "LEFT JOIN Sales.Customer k on c.CustomerId = k.CustomerId\r\n",
                "GROUP BY c.OrderId, o.EmployeeId, k.CustomerId, c.ShipToCountry)"
            ],
            "metadata": {
                "azdata_cell_guid": "2413c7e1-1f50-483f-8a04-10362ef45e60",
                "language": "sql"
            },
            "outputs": [],
            "execution_count": null
        },
        {
            "cell_type": "markdown",
            "source": [
                "## **Query 12 (Complex)**\r\n",
                "\r\n",
                "### Proposition: Optimizing Query to Retrieve Orders with Total Value Greater than or Equal to 200.\r\n",
                "### Table: Sales.[Order] c, Sales.OrderDetail o, Sales.Customer k.\r\n",
                "### Columns: The column selected is c.OrderId, k.CustomerId, SUM(o.UnitPrice * o.Quantity) as TotalValue.\r\n",
                "### Predicate: This proposition presents an optimized SQL query for efficiently retrieving orders with a total value greater than or equal to 200."
            ],
            "metadata": {
                "azdata_cell_guid": "494fa6a5-5bc3-4ee2-a77c-51a084b09965"
            },
            "attachments": {}
        },
        {
            "cell_type": "code",
            "source": [
                "USE Northwinds2022TSQLV7\r\n",
                "SELECT c.OrderId, k.CustomerId, SUM(o.UnitPrice * o.Quantity) as TotalValue\r\n",
                "FROM Sales.[Order] c\r\n",
                "LEFT JOIN Sales.OrderDetail o on c.OrderId = o.OrderId\r\n",
                "LEFT JOIN Sales.Customer k on c.CustomerId = k.CustomerId\r\n",
                "GROUP BY c.OrderId, k.CustomerId\r\n",
                "HAVING SUM(o.UnitPrice * o.Quantity) >= 200\r\n",
                "\r\n",
                "INTERSECT\r\n",
                "(SELECT c.OrderId, k.CustomerId, SUM(o.UnitPrice * o.Quantity) as TotalValue\r\n",
                "FROM Sales.[Order] c\r\n",
                "LEFT JOIN Sales.OrderDetail o on c.OrderId = o.OrderId\r\n",
                "LEFT JOIN Sales.Customer k on c.CustomerId = k.CustomerId\r\n",
                "GROUP BY c.OrderId, k.CustomerId)"
            ],
            "metadata": {
                "azdata_cell_guid": "5e9522e4-81c2-4aab-8fcc-87d5320d2ccd",
                "language": "sql"
            },
            "outputs": [],
            "execution_count": null
        },
        {
            "cell_type": "markdown",
            "source": [
                "## **Query 13 (Complex)**\r\n",
                "\r\n",
                "### Proposition: Optimizing Query to Retrieve Order Details by Customer and Product\r\n",
                "### Table: Sales.[Order] c, Sales.OrderDetail o, Sales.Customer k.\r\n",
                "### Columns: The column selected is c.OrderId, k.CustomerId, o.ProductId.\r\n",
                "### Predicate: This proposition presents an optimized SQL query for efficiently retrieving order details by customer and product."
            ],
            "metadata": {
                "azdata_cell_guid": "062688d2-97dd-43b9-89a7-aedd1bf6c360"
            },
            "attachments": {}
        },
        {
            "cell_type": "code",
            "source": [
                "USE Northwinds2022TSQLV7\r\n",
                "SELECT c.OrderId, k.CustomerId, o.ProductId\r\n",
                "FROM Sales.[Order] c\r\n",
                "LEFT JOIN Sales.OrderDetail o on c.OrderId = o.OrderId\r\n",
                "LEFT JOIN Sales.Customer k on c.CustomerId = k.CustomerId\r\n",
                "GROUP BY c.OrderId, k.CustomerId, o.ProductId\r\n",
                "\r\n",
                "INTERSECT\r\n",
                "(SELECT c.OrderId, k.CustomerId, o.ProductId\r\n",
                "FROM Sales.[Order] c\r\n",
                "LEFT JOIN Sales.OrderDetail o on c.OrderId = o.OrderId\r\n",
                "LEFT JOIN Sales.Customer k on c.CustomerId = k.CustomerId\r\n",
                "GROUP BY c.OrderId, k.CustomerId, o.ProductId)"
            ],
            "metadata": {
                "azdata_cell_guid": "8e8a5f7c-6d18-4f19-a4a4-a8b74bed1426",
                "language": "sql"
            },
            "outputs": [],
            "execution_count": null
        },
        {
            "cell_type": "markdown",
            "source": [
                "## **Query 14 (Complex)**\r\n",
                "\r\n",
                "### Proposition: Optimizing Query to Retrieve Orders with Employee Birth Date from 1980 Onward.\r\n",
                "### Table: Sales.[Order] c, HumanResources.Employee o, Sales.Customer k.\r\n",
                "### Columns: The column selected is c.OrderId, k.CustomerId, o.EmployeeId, o.BirthDate.\r\n",
                "### Predicate: This proposition presents an optimized SQL query for efficiently retrieving orders with employee birth dates from 1980 onward."
            ],
            "metadata": {
                "azdata_cell_guid": "ba441725-f089-4625-8880-9371b8ac1845"
            },
            "attachments": {}
        },
        {
            "cell_type": "code",
            "source": [
                "USE Northwinds2022TSQLV7\r\n",
                "SELECT c.OrderId, k.CustomerId, o.EmployeeId, o.BirthDate\r\n",
                "FROM Sales.[Order] c\r\n",
                "LEFT JOIN HumanResources.Employee o on c.EmployeeId = o.EmployeeId\r\n",
                "LEFT JOIN Sales.Customer k on c.CustomerId = k.CustomerId\r\n",
                "GROUP BY c.OrderId, k.CustomerId, o.EmployeeId, o.BirthDate\r\n",
                "HAVING o.BirthDate >= '19800101'\r\n",
                "\r\n",
                "INTERSECT\r\n",
                "(SELECT c.OrderId, k.CustomerId, o.EmployeeId, o.BirthDate\r\n",
                "FROM Sales.[Order] c\r\n",
                "LEFT JOIN HumanResources.Employee o on c.EmployeeId = o.EmployeeId\r\n",
                "LEFT JOIN Sales.Customer k on c.CustomerId = k.CustomerId\r\n",
                "GROUP BY c.OrderId, k.CustomerId, o.EmployeeId, o.BirthDate)"
            ],
            "metadata": {
                "azdata_cell_guid": "597e8481-9c6c-4254-b44b-11838e111713",
                "language": "sql"
            },
            "outputs": [],
            "execution_count": null
        },
        {
            "cell_type": "markdown",
            "source": [
                "## **Query 15 (Complex)**\r\n",
                "\r\n",
                "### Proposition: Optimizing Query to Retrieve Orders with Employees from the USA.\r\n",
                "### Table: Sales.[Order] c, HumanResources.Employee o, Sales.Customer k.\r\n",
                "### Columns: The column selected is c.OrderId, o.EmployeeId, o.EmployeeCountry.\r\n",
                "### Predicate: This proposition presents an optimized SQL query for efficiently retrieving orders associated with employees from the USA."
            ],
            "metadata": {
                "azdata_cell_guid": "4a395b98-b711-4b11-87cd-d00173cc2f46"
            },
            "attachments": {}
        },
        {
            "cell_type": "code",
            "source": [
                "USE Northwinds2022TSQLV7\r\n",
                "SELECT c.OrderId, o.EmployeeId, o.EmployeeCountry\r\n",
                "FROM Sales.[Order] c\r\n",
                "LEFT JOIN HumanResources.Employee o on c.EmployeeId = o.EmployeeId\r\n",
                "LEFT JOIN Sales.Customer k on c.CustomerId = k.CustomerId\r\n",
                "GROUP BY c.OrderId, o.EmployeeId, o.EmployeeCountry\r\n",
                "HAVING o.EmployeeCountry = 'USA'\r\n",
                "\r\n",
                "INTERSECT\r\n",
                "(SELECT c.OrderId, o.EmployeeId, o.EmployeeCountry\r\n",
                "FROM Sales.[Order] c\r\n",
                "LEFT JOIN HumanResources.Employee o on c.EmployeeId = o.EmployeeId\r\n",
                "LEFT JOIN Sales.Customer k on c.CustomerId = k.CustomerId\r\n",
                "GROUP BY c.OrderId, o.EmployeeId, o.EmployeeCountry)"
            ],
            "metadata": {
                "azdata_cell_guid": "1e28adf9-7d5e-4d85-aaf1-9164d4b45502",
                "language": "sql"
            },
            "outputs": [],
            "execution_count": null
        },
        {
            "cell_type": "markdown",
            "source": [
                "## **Query 16 (Medium)**\r\n",
                "\r\n",
                "### Proposition: Optimizing Query to Retrieve Work Order id less than 10001 with Location IDs Less Than 50.\r\n",
                "### Table: Production.WorkOrder c, Production.WorkOrderRouting o.\r\n",
                "### Columns: The column selected is c.WorkOrderID, o.LocationID.\r\n",
                "### Predicate: This proposition presents an optimized SQL query for efficiently retrieving work orders with location IDs less than 50 and order id less than 10001. "
            ],
            "metadata": {
                "azdata_cell_guid": "1391ec2c-d078-4122-886f-70764014096d"
            },
            "attachments": {}
        },
        {
            "cell_type": "code",
            "source": [
                "USE AdventureWorks2017\r\n",
                "SELECT c.WorkOrderID, o.LocationID\r\n",
                "FROM Production.WorkOrder c\r\n",
                "LEFT JOIN Production.WorkOrderRouting o ON c.WorkOrderID = o.WorkOrderID\r\n",
                "GROUP BY c.WorkOrderID, o.LocationID\r\n",
                "HAVING c.WorkOrderID <= 10000 AND o.LocationID < 50\r\n",
                "\r\n",
                "INTERSECT\r\n",
                "(SELECT c.WorkOrderID, o.LocationID\r\n",
                "FROM Production.WorkOrder c\r\n",
                "LEFT JOIN Production.WorkOrderRouting o ON c.WorkOrderID = o.WorkOrderID\r\n",
                "GROUP BY c.WorkOrderID, o.LocationID)\r\n",
                "\r\n",
                ""
            ],
            "metadata": {
                "azdata_cell_guid": "071f5106-45a5-4d62-a947-1562e1b69217",
                "language": "sql",
                "tags": []
            },
            "outputs": [],
            "execution_count": null
        },
        {
            "cell_type": "markdown",
            "source": [
                "## **Query 17 (Medium)**\r\n",
                "\r\n",
                "### Proposition: Optimizing Query to Retrieve Currency Keys and Date Keys.\r\n",
                "### Table: dbo.DimCurrency c, dbo.FactCurrencyRate o.\r\n",
                "### Columns: The column selected is c.CurrencyKey, o.DateKey.\r\n",
                "### Predicate: This proposition presents an optimized SQL query for efficiently retrieving currency keys and date keys."
            ],
            "metadata": {
                "azdata_cell_guid": "c2702a8a-4723-4157-b60a-ed1edb5b596b"
            },
            "attachments": {}
        },
        {
            "cell_type": "code",
            "source": [
                "USE AdventureWorksDW2017\r\n",
                "SELECT c.CurrencyKey, o.DateKey\r\n",
                "FROM dbo.DimCurrency c\r\n",
                "LEFT JOIN dbo.FactCurrencyRate o ON c.CurrencyKey = o.CurrencyKey\r\n",
                "GROUP BY c.CurrencyKey, o.DateKey\r\n",
                "\r\n",
                "INTERSECT\r\n",
                "(SELECT c.CurrencyKey, o.DateKey\r\n",
                "FROM dbo.DimCurrency c\r\n",
                "LEFT JOIN dbo.FactCurrencyRate o ON c.CurrencyKey = o.CurrencyKey\r\n",
                "GROUP BY c.CurrencyKey, o.DateKey)\r\n",
                "\r\n",
                ""
            ],
            "metadata": {
                "azdata_cell_guid": "feaceca7-6e2a-4bfe-8573-6ef472e65836",
                "language": "sql"
            },
            "outputs": [],
            "execution_count": null
        },
        {
            "cell_type": "markdown",
            "source": [
                "## **Query 18 (Medium)**\r\n",
                "\r\n",
                "### Proposition: Optimizing Query to Retrieve Orders with Specific Customer and Buying Group.\r\n",
                "### Table: Sales.Orders c, Sales.Customers o.\r\n",
                "### Columns: The column selected is c.OrderID, c.CustomerID, o.BuyingGroupID.\r\n",
                "### Predicate: This proposition presents an optimized SQL query for efficiently retrieving orders with a specific customer ID and buying group ID."
            ],
            "metadata": {
                "azdata_cell_guid": "5d98c89c-5c68-49d1-be0e-f80bd3586fbd"
            },
            "attachments": {}
        },
        {
            "cell_type": "code",
            "source": [
                "USE WideWorldImporters\r\n",
                "SELECT c.OrderID, c.CustomerID, o.BuyingGroupID\r\n",
                "FROM Sales.Orders c\r\n",
                "LEFT JOIN Sales.Customers o ON c.CustomerID = o.CustomerID\r\n",
                "GROUP BY c.OrderID, c.CustomerID, o.BuyingGroupID\r\n",
                "HAVING o.BuyingGroupID = 1 AND c.CustomerID = 1\r\n",
                "\r\n",
                "INTERSECT\r\n",
                "(SELECT c.OrderID, c.CustomerID, o.BuyingGroupID\r\n",
                "FROM Sales.Orders c\r\n",
                "LEFT JOIN Sales.Customers o ON c.CustomerID = o.CustomerID\r\n",
                "GROUP BY c.OrderID, c.CustomerID, o.BuyingGroupID)"
            ],
            "metadata": {
                "azdata_cell_guid": "8b774e1c-7ad7-430a-9b38-1e5b8701fc0f",
                "language": "sql"
            },
            "outputs": [],
            "execution_count": null
        },
        {
            "cell_type": "markdown",
            "source": [
                "## **Query 19 (Medium)**\r\n",
                "\r\n",
                "### Proposition: Optimizing Query to Retrieve Orders Linked to Cities with Keys Less Than or Equal to 40000.\r\n",
                "### Table: Fact.[Order] c, Dimension.City o.\r\n",
                "### Columns: The column selected is c.[Order Key], c.[City Key].\r\n",
                "### Predicate: This proposition presents an optimized SQL query for efficiently retrieving orders associated with cities having keys less than or equal to 40000."
            ],
            "metadata": {
                "azdata_cell_guid": "b6ad0814-b5ee-4e45-bd4a-f4fdd4ec5363"
            },
            "attachments": {}
        },
        {
            "cell_type": "code",
            "source": [
                "USE WideWorldImportersDW\r\n",
                "SELECT c.[Order Key], c.[City Key]\r\n",
                "FROM Fact.[Order] c\r\n",
                "LEFT JOIN Dimension.City o ON c.[City Key] = o.[City Key]\r\n",
                "GROUP BY c.[Order Key], c.[City Key]\r\n",
                "HAVING c.[City Key] <= 40000\r\n",
                "\r\n",
                "INTERSECT\r\n",
                "(SELECT c.[Order Key], c.[City Key]\r\n",
                "FROM Fact.[Order] c\r\n",
                "LEFT JOIN Dimension.City o ON c.[City Key] = o.[City Key]\r\n",
                "GROUP BY c.[Order Key], c.[City Key])"
            ],
            "metadata": {
                "azdata_cell_guid": "e2c99886-9a62-46c8-a217-707dbad3d392",
                "language": "sql"
            },
            "outputs": [],
            "execution_count": null
        },
        {
            "cell_type": "markdown",
            "source": [
                "## **Query 20 (Medium)**\n",
                "\n",
                "### Proposition: Optimizing Query to Retrieve Employees Outside the USA\n",
                "### Table: Sales.[Order] c, HumanResources.Employee o.\n",
                "### Columns: The column selected is o.EmployeeId, o.EmployeeCountry.\n",
                "### Predicate: This proposition presents an optimized SQL query for efficiently retrieving employees who are not from the USA."
            ],
            "metadata": {
                "azdata_cell_guid": "b57211f2-1a50-4631-8e56-9eed949436fc"
            },
            "attachments": {}
        },
        {
            "cell_type": "code",
            "source": [
                "USE Northwinds2022TSQLV7\n",
                "SELECT o.EmployeeId, o.EmployeeCountry\n",
                "FROM Sales.[Order] c\n",
                "LEFT JOIN HumanResources.Employee o on c.EmployeeId = o.EmployeeId\n",
                "GROUP BY c.OrderId, o.EmployeeId, o.EmployeeCountry\n",
                "HAVING o.EmployeeCountry != 'USA'\n",
                "\n",
                "INTERSECT\n",
                "(SELECT o.EmployeeId, o.EmployeeCountry\n",
                "FROM Sales.[Order] c\n",
                "LEFT JOIN HumanResources.Employee o on c.EmployeeId = o.EmployeeId\n",
                "GROUP BY c.OrderId, o.EmployeeId, o.EmployeeCountry)\n",
                ""
            ],
            "metadata": {
                "azdata_cell_guid": "a9d0cbd0-238e-4abe-a12d-8d439e6c0aea",
                "language": "sql"
            },
            "outputs": [],
            "execution_count": null
        }
    ]
}