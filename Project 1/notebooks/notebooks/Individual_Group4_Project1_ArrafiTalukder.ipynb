{
    "metadata": {
        "kernelspec": {
            "name": "SQL",
            "display_name": "SQL",
            "language": "sql"
        },
        "language_info": {
            "name": "sql",
            "version": ""
        }
    },
    "nbformat_minor": 2,
    "nbformat": 4,
    "cells": [
        {
            "cell_type": "markdown",
            "source": [
                "# **Top 3 Queries**\n",
                "## **Medium Query**\n",
                "**Proposition**: Returns a list of employees alongside their respective orders, including orders placed on specific numerical days.\n",
                "\n",
                "**Database**: TSQLV4\n",
                "\n",
                "**Table**: The query utilizes the HR.Employees table for employee information and the dbo.Orders table for order details.\n",
                "\n",
                "**Columns**: It selects the employee's ID (empid), first name (firstname), and last name (lastname) from the HR.Employees table. Additionally, it retrieves the order ID (orderid) and order date (orderdate) from the dbo.Orders table.\n",
                "\n",
                "**Predicate**: The query employs a JOIN operation to link the HR.Employees table with the dbo.Orders table based on the empid column. It also utilizes a LEFT JOIN to include all employees regardless of whether they have placed orders. Further, it joins with the dbo.Nums table, which likely serves as a sequence generator, to include orders placed on specific numerical days (from 1 to 5). \n",
                "\n",
                "*This is one of the greater queries because the BETWEEN operator is used here to establish a repitition of 5 rows of a result shown within a single row. Usually I have used the BETWEEN operator for filtration purposes, however, here for replication which is very interesting.*"
            ],
            "metadata": {
                "azdata_cell_guid": "7ca68531-dbc8-4228-968c-1893f2c2f993"
            },
            "attachments": {}
        },
        {
            "cell_type": "code",
            "source": [
                "USE TSQLV4;\n",
                "\n",
                "SELECT E.empid, E.firstname, E.lastname, O.orderid, O.orderdate\n",
                "FROM HR.Employees AS E\n",
                "    JOIN\n",
                "    dbo.Nums AS N\n",
                "    ON  N.n BETWEEN 1 AND 5\n",
                "    LEFT JOIN\n",
                "    dbo.Orders AS O\n",
                "    ON \n",
                "    E.empid = O.empid\n",
                "ORDER BY \n",
                "    E.empid, \n",
                "    N.n;\n",
                "--FOR JSON PATH, ROOT('EmployeeOrderDetails');"
            ],
            "metadata": {
                "azdata_cell_guid": "71f87311-1b3a-490d-a431-870bba542f6f",
                "language": "sql",
                "tags": []
            },
            "outputs": [],
            "execution_count": null
        },
        {
            "cell_type": "markdown",
            "source": [
                "## **Medium Query**\n",
                "**Proposition**: Returns the customers with the highest total quantities specifically for customers located in the UK.\n",
                "\n",
                "**Database**: TSQLV4\n",
                "\n",
                "**Table**: The tables involved in this query are Sales.Customers, Sales.Orders, and Sales.OrderDetails.\n",
                "\n",
                "**Columns**: Customer ID (custid): Identifies each customer uniquely.\n",
                "Company Name (companyname): Name of the customer's company.\n",
                "Number of Orders (num_orders): Count of distinct orders placed by each customer.\n",
                "Total Quantity Ordered (total_quantity_ordered): Sum of quantities ordered across all orders by each customer.Average Unit Price (avg_unit_price): Average unit price of products ordered by each customer.\n",
                "\n",
                "**Predicate**:The query utilizes INNER JOIN operations to link the Sales.Customers table with the Sales.Orders and Sales.OrderDetails tables based on the customer ID (custid) and order ID (orderid) columns, It filters the data to focus solely on customers located in the UK.The data is grouped by customer ID and company name to aggregate the metrics.\n",
                "Finally, the results are ordered by the total quantity ordered in descending order to identify the customers with the highest total quantities ordered.\n",
                "\n",
                "*This is one of the greater queries because this query retrieves detailed information about customers orders, usually more than other queries. This query utlizes two inner joins to retrieve this data and the result set is also restricted to orders only from the UK which is fascinating due to specificity.*"
            ],
            "metadata": {
                "azdata_cell_guid": "eb1cf6c3-b989-44bb-8d9d-7a9e2cc2163f"
            },
            "attachments": {}
        },
        {
            "cell_type": "code",
            "source": [
                "USE TSQLV4;\n",
                "SELECT\n",
                "    C.custid,\n",
                "    C.companyname,\n",
                "    COUNT(DISTINCT O.orderid) AS num_orders,\n",
                "    SUM(OD.qty) AS total_quantity_ordered,\n",
                "    AVG(OD.unitprice) AS avg_unit_price\n",
                "FROM\n",
                "    Sales.Customers AS C\n",
                "    INNER JOIN\n",
                "    Sales.Orders AS O ON O.custid = C.custid\n",
                "    INNER JOIN\n",
                "    Sales.OrderDetails AS OD ON OD.orderid = O.orderid\n",
                "WHERE \n",
                "    C.country = N'UK'\n",
                "GROUP BY \n",
                "    C.custid, C.companyname\n",
                "ORDER BY \n",
                "    total_quantity_ordered DESC;\n",
                "--FOR JSON PATH, ROOT('CustomerOrderDetails');"
            ],
            "metadata": {
                "azdata_cell_guid": "4881f684-080a-4a59-976e-2baa7ff55466",
                "language": "sql"
            },
            "outputs": [],
            "execution_count": null
        },
        {
            "cell_type": "markdown",
            "source": [
                "## **Complex Query**\n",
                "**Proposition**: Returns the total and average sales values for each employee\n",
                "\n",
                "**Database**: Northwinds2022TSQLV7\n",
                "\n",
                "**Table**: The query retrieves data from the  HumanResources.Employee table and the Sales.Order table. Also, this query involves a user-defined table-valued function named dbo.GetEmployeeSales, which computes sales by order for each employee.\n",
                "\n",
                "**Columns**: The query uses columns from the HumanResources.Employee table, including EmployeeId, EmployeeLastName, and EmployeeFirstName. It also involves sales data, such as OrderId, UnitPrice, Quantity, and DiscountPercentage, from the Sales.Order and Sales.OrderDetail tables within a function named dbo.GetEmployeeSales. This function calculates total sales for each order. In the main query, these sales figures are summed up and averaged for each employee, resulting in two derived columns: TotalSalesValue and AverageOrderValue, which represent the sum and average of sales per employee, respectively.\n",
                "\n",
                "**Predicate**: The dbo.GetEmployeeSales function calculates the total sales for each order by an employee, factoring in unit price, quantity, and discount. The main query then aggregates these results by employee, summing up total sales and calculating the average order value. An OUTER APPLY is used to match each employee with their sales, ensuring that employees with no sales are still included with a total sales value of 0. Also mention the use of aggregate functions SUM and AVG to calculate total and average sales values, respectively, and the OUTER APPLY clause to combine each employee with their respective sales data.\n",
                "\n",
                "*This is a complex query of greater ranking because the result set is more compact with details and information, in comparison to the other complex queries.*\n",
                ""
            ],
            "metadata": {
                "azdata_cell_guid": "035ec6e8-766c-4341-a81f-67331b6d0bf8"
            },
            "attachments": {}
        },
        {
            "cell_type": "code",
            "source": [
                "USE Northwinds2022TSQLV7;\n",
                "\n",
                "DROP FUNCTION IF EXISTS dbo.GetEmployeeSales;\n",
                "GO\n",
                "\n",
                "CREATE FUNCTION dbo.GetEmployeeSales(@EmployeeId AS INT)\n",
                "RETURNS TABLE\n",
                "AS\n",
                "RETURN (\n",
                "    SELECT\n",
                "    O.EmployeeId,\n",
                "    O.OrderId,\n",
                "    SUM(OD.UnitPrice * OD.Quantity * (1 - OD.DiscountPercentage)) AS TotalSales\n",
                "FROM Sales.[Order] O\n",
                "    INNER JOIN Sales.OrderDetail OD ON O.OrderId = OD.OrderId\n",
                "WHERE O.EmployeeId = @EmployeeId\n",
                "GROUP BY O.EmployeeId, O.OrderId\n",
                ");\n",
                "GO\n",
                "\n",
                ";WITH\n",
                "    EmployeeSales\n",
                "    AS\n",
                "    (\n",
                "        SELECT\n",
                "            E.EmployeeId,\n",
                "            E.EmployeeLastName,\n",
                "            E.EmployeeFirstName,\n",
                "            ISNULL(ES.TotalSales, 0) AS TotalSales\n",
                "        FROM HumanResources.Employee E\n",
                "    OUTER APPLY dbo.GetEmployeeSales(E.EmployeeId) ES\n",
                "    )\n",
                "SELECT\n",
                "    ES.EmployeeId,\n",
                "    ES.EmployeeLastName,\n",
                "    ES.EmployeeFirstName,\n",
                "    SUM(ES.TotalSales) AS TotalSalesValue,\n",
                "    AVG(ES.TotalSales) AS AverageOrderValue\n",
                "FROM EmployeeSales ES\n",
                "GROUP BY ES.EmployeeId, ES.EmployeeLastName, ES.EmployeeFirstName\n",
                "ORDER BY TotalSalesValue DESC;\n",
                "--FOR JSON PATH, ROOT('EmployeeSales');\n",
                ""
            ],
            "metadata": {
                "azdata_cell_guid": "d0f2516f-8a20-4d17-bcfd-57075a19d3a3",
                "language": "sql"
            },
            "outputs": [],
            "execution_count": null
        },
        {
            "cell_type": "markdown",
            "source": [
                "# **Top 3 Worst Queries**\n",
                "## **Medium Query**\n",
                "**Proposition**: Returns an analysis of orders placed by customers during the year 2000.\n",
                "\n",
                "**Database**: Northwinds2022TSQLV7\n",
                "\n",
                "**Table**: The query retrieves data from the Sales.Customer, Sales.Order, Sales.OrderDetail, and Production.Product tables.\n",
                "\n",
                "**Columns**: It selects various pertinent columns including CustomerId, OrderId, ProductId, ProductName, and Quantity to provide comprehensive insights into customer orders and the products they purchased.\n",
                "\n",
                "**Predicate**: The query employs JOIN operations to connect the Sales.Customer table with the Sales.Order and Sales.OrderDetail tables based on the CustomerId column, ensuring inclusion of all relevant order details for each customer. Then, it joins the Production.Product table to retrieve product names associated with each order detail. The WHERE clause filters the data to focus on orders placed in the year 2000 by using the YEAR function on the OrderDate column.\n",
                "\n",
                "*This query is bad because the OrderDate column does not exist within the Sales.Customer table, thus, it cannot be joined with the Sales.Order table. This results to a lack of specificity as we are unable to filter the query to see the details of how many queries exist within a specified year, such as year 2000.*\n",
                "\n",
                ""
            ],
            "metadata": {
                "azdata_cell_guid": "41ec8012-dc38-478b-98ed-43b4c6cd61e6"
            },
            "attachments": {}
        },
        {
            "cell_type": "code",
            "source": [
                "USE Northwinds2022TSQLV7;\n",
                "SELECT C.CustomerId, O.OrderId, OD.ProductId, P.ProductName, OD.Quantity\n",
                "FROM Sales.Customer AS C\n",
                "  LEFT OUTER JOIN\n",
                "  (Sales.[Order] AS O\n",
                "  INNER JOIN Sales.OrderDetail AS OD\n",
                "  ON O.OrderId = OD.OrderId)\n",
                "  ON C.CustomerId = O.CustomerId\n",
                "  INNER JOIN Production.Product AS P\n",
                "  ON OD.ProductId = P.ProductId\n",
                "WHERE YEAR(O.OrderDate) = 2000;"
            ],
            "metadata": {
                "azdata_cell_guid": "b606921a-a106-459e-977e-5ccd6adbc9ca",
                "language": "sql"
            },
            "outputs": [],
            "execution_count": null
        },
        {
            "cell_type": "markdown",
            "source": [
                "## **Medium Query**\n",
                "**Proposition**: Returns a detailed analysis of orders placed by customers from Japan.\n",
                "\n",
                "**Database**: TSQLV4\n",
                "\n",
                "**Table**: The query retrieves data from the Sales.Customers, Sales.Orders, and Sales.OrderDetails tables.\n",
                "\n",
                "**Columns**: It selects the Customer ID (custid) and Company Name (companyname) from the Sales.Customers table to uniquely identify each Japanese customer. Additionally, it calculates various metrics, including the number of unique orders (num_unique_orders), the count of ordered products (num_ordered_products), and the total order amount (total_order_amount) for each customer.\n",
                "\n",
                "**Predicate**: The query utilizes INNER JOIN operations to link the Sales.Customers table with the Sales.Orders and Sales.OrderDetails tables based on the customer ID (custid) and order ID (orderid) columns. This ensures inclusion of only Japanese customers who have placed orders. It then filters the data to focus on customers from Japan by specifying 'JPN' as the country in the WHERE clause. Finally, it groups the results by customer ID and company name for aggregation.\n",
                "\n",
                "*This query is bad because it cannot retrieve information regarding the Japanese customers who have placed orders. Information about the japanese customers who have placed orders have to be added in the Sales.Customers table.*"
            ],
            "metadata": {
                "azdata_cell_guid": "e7ce3e61-4acb-4e5d-95ff-837fb5ffd047"
            },
            "attachments": {}
        },
        {
            "cell_type": "code",
            "source": [
                "USE TSQLV4;\n",
                "\n",
                "SELECT\n",
                "    C.custid,\n",
                "    C.companyname,\n",
                "    COUNT(DISTINCT O.orderid) AS num_unique_orders,\n",
                "    COUNT(OD.productid) AS num_ordered_products,\n",
                "    SUM(OD.qty * OD.unitprice) AS total_order_amount\n",
                "FROM\n",
                "    Sales.Customers AS C\n",
                "    INNER JOIN\n",
                "    Sales.Orders AS O ON O.custid = C.custid\n",
                "    INNER JOIN\n",
                "    Sales.OrderDetails AS OD ON OD.orderid = O.orderid\n",
                "WHERE \n",
                "    C.country = N'JPN'\n",
                "GROUP BY \n",
                "    C.custid,\n",
                "    C.companyname;"
            ],
            "metadata": {
                "azdata_cell_guid": "0ca64a53-edbb-4062-9ae9-cbeed68eacc6",
                "language": "sql"
            },
            "outputs": [],
            "execution_count": null
        },
        {
            "cell_type": "markdown",
            "source": [
                "## **Complex Query**\n",
                "**Proposition**: Returns the total number of products and their average price provided by a specific supplier.\n",
                "\n",
                "**Database**: Northwinds2022TSQLV7\n",
                "\n",
                "**Table:** The query utilizes a user-defined table-valued function named dbo.GetProductsFromSupplier, which selects products based on the supplier ID provided. In addition, it retrieves data from the Production.Product table.\n",
                "\n",
                "**Columns**: In the query provided, the columns used are from the Production.Product table and include ProductId, SupplierId, ProductName, and UnitPrice. These are accessed through a function named dbo.GetProductsFromSupplier, which filters products by a specific supplier. In the main query, the SupplierId is used to group the results, and two calculated columns are created: TotalProducts, which counts the number of products from the supplier, and AveragePrice, which calculates the average price of those products.\n",
                "\n",
                "**Predicate**: The function dbo.GetProductsFromSupplier is applied to filter the products by a specific supplier ID. The main query then groups the results by SupplierId and calculates the total number of products supplied by this supplier and the average price of these products.\n",
                "Also mention the aggregate functions COUNT and AVG used to calculate the total number of products and their average price, respectively.\n",
                "\n",
                "*This query is not necessarily bad, however, it is reduced to a lower ranking due to the lack of detail the result set outputs. In addition declaring a parameter(@SupplierId)can be a more efficient way of doing executing this query*\n",
                ""
            ],
            "metadata": {
                "azdata_cell_guid": "b37fec02-a7d9-4d6a-b5e7-5a907f9b4cdf"
            },
            "attachments": {}
        },
        {
            "cell_type": "code",
            "source": [
                "USE Northwinds2022TSQLV7;\n",
                "\n",
                "DROP FUNCTION IF EXISTS dbo.GetProductsFromSupplier;\n",
                "GO\n",
                "\n",
                "CREATE FUNCTION dbo.GetProductsFromSupplier(@SupplierId INT)\n",
                "RETURNS TABLE\n",
                "AS\n",
                "RETURN (\n",
                "    SELECT\n",
                "    P.ProductId,\n",
                "    P.SupplierId,\n",
                "    P.ProductName,\n",
                "    P.UnitPrice\n",
                "FROM Production.Product P\n",
                "WHERE P.SupplierId = @SupplierId\n",
                ");\n",
                "GO\n",
                "SELECT\n",
                "    GPS.SupplierId,\n",
                "    COUNT(GPS.ProductId) AS TotalProducts,\n",
                "    AVG(GPS.UnitPrice) AS AveragePrice\n",
                "FROM dbo.GetProductsFromSupplier(2) AS GPS\n",
                "GROUP BY GPS.SupplierId;"
            ],
            "metadata": {
                "azdata_cell_guid": "4fe7f669-2b0f-466f-8c28-345fef7e0e8e",
                "language": "sql"
            },
            "outputs": [],
            "execution_count": null
        },
        {
            "cell_type": "markdown",
            "source": [
                "# **Top 3 Fixed Queries**\n",
                "## **Medium Query**\n",
                "**Fixed:** Removed the filtration (OrderDate) which restricted the customer orders to the year 2000."
            ],
            "metadata": {
                "azdata_cell_guid": "753cdfd9-b7e5-4da0-bb98-2b854faec327"
            },
            "attachments": {}
        },
        {
            "cell_type": "code",
            "source": [
                "USE Northwinds2022TSQLV7;\n",
                "\n",
                "SELECT\n",
                "    C.CustomerId,\n",
                "    O.OrderId,\n",
                "    OD.ProductId,\n",
                "    P.ProductName,\n",
                "    OD.Quantity\n",
                "FROM\n",
                "    Sales.Customer AS C\n",
                "    LEFT JOIN Sales.[Order] AS O ON C.CustomerId = O.CustomerId\n",
                "    INNER JOIN Sales.OrderDetail AS OD ON O.OrderId = OD.OrderId\n",
                "    INNER JOIN Production.Product AS P ON OD.ProductId = P.ProductId;"
            ],
            "metadata": {
                "azdata_cell_guid": "eaf66f31-0f90-4ef0-bc46-0b3c1319f2a6",
                "language": "sql"
            },
            "outputs": [],
            "execution_count": null
        },
        {
            "cell_type": "markdown",
            "source": [
                "## **Medium Query**\n",
                "**Fixed:** Replaced the country as USA as it was Japan previously. The country USA is added to the Sales.Customers table."
            ],
            "metadata": {
                "azdata_cell_guid": "2c628bac-cc9a-4769-b4f4-c86a9400a184"
            },
            "attachments": {}
        },
        {
            "cell_type": "code",
            "source": [
                "USE TSQLV4;\n",
                "\n",
                "SELECT\n",
                "    C.custid,\n",
                "    C.companyname,\n",
                "    COUNT(DISTINCT O.orderid) AS num_unique_orders,\n",
                "    COUNT(OD.productid) AS num_ordered_products,\n",
                "    SUM(OD.qty * OD.unitprice) AS total_order_amount\n",
                "FROM\n",
                "    Sales.Customers AS C\n",
                "    INNER JOIN\n",
                "    Sales.Orders AS O ON O.custid = C.custid\n",
                "    INNER JOIN\n",
                "    Sales.OrderDetails AS OD ON OD.orderid = O.orderid\n",
                "WHERE \n",
                "    C.country = N'USA'\n",
                "GROUP BY \n",
                "    C.custid,\n",
                "    C.companyname;\n",
                "\n",
                "--FOR JSON PATH, ROOT('EmployeeOrdersDetails');"
            ],
            "metadata": {
                "azdata_cell_guid": "26296395-80a6-4218-a3a5-ad2fe42d5e46",
                "language": "sql"
            },
            "outputs": [],
            "execution_count": null
        },
        {
            "cell_type": "markdown",
            "source": [
                "## **Complex Query**\n",
                "**Fixed:** There is no way to ultimately fix this code, however, this version of the code uses a parameter (better visual aspect) to select the specified supplier id, which is 2 in context to the query."
            ],
            "metadata": {
                "azdata_cell_guid": "5fa7d732-2488-4ee0-bff0-40ad98a12657"
            },
            "attachments": {}
        },
        {
            "cell_type": "code",
            "source": [
                "USE Northwinds2022TSQLV7;\n",
                "\n",
                "DROP FUNCTION IF EXISTS dbo.GetProductsFromSupplier;\n",
                "GO\n",
                "\n",
                "CREATE FUNCTION dbo.GetProductsFromSupplier(@SupplierId INT)\n",
                "RETURNS TABLE\n",
                "AS\n",
                "RETURN (\n",
                "    SELECT\n",
                "    P.ProductId,\n",
                "    P.SupplierId,\n",
                "    P.ProductName,\n",
                "    P.UnitPrice\n",
                "FROM Production.Product P\n",
                "WHERE P.SupplierId = @SupplierId\n",
                ");\n",
                "GO\n",
                "\n",
                "DECLARE @SupplierId INT = 2;\n",
                "\n",
                "SELECT\n",
                "    GPS.SupplierId,\n",
                "    COUNT(GPS.ProductId) AS TotalProducts,\n",
                "    AVG(GPS.UnitPrice) AS AveragePrice\n",
                "FROM dbo.GetProductsFromSupplier(@SupplierId) AS GPS\n",
                "GROUP BY GPS.SupplierId;\n",
                "\n",
                "--FOR JSON PATH, ROOT('ProductionProduct');"
            ],
            "metadata": {
                "azdata_cell_guid": "8f4ad764-ad63-4ade-b66e-d930608ae2c0",
                "language": "sql"
            },
            "outputs": [],
            "execution_count": null
        },
        {
            "cell_type": "markdown",
            "source": [
                "# **Medium Level Queries**\n",
                "**Proposition**: Provides a summary of the total amount spent by each customer.\n",
                "\n",
                "**Database**: WideWorldImporters\n",
                "\n",
                "**Table**: The query retrieves data from the Sales.Orders and Sales.OrderLines tables.\n",
                "\n",
                "**Columns**: It selects the CustomerID column from the Sales.Orders table to identify each customer uniquely. Additionally, it calculates the total spent by multiplying the quantity of each item (Quantity) with its unit price (UnitPrice) from the Sales.OrderLines table and sums up these values.\n",
                "\n",
                "**Predicate**: The query employs an INNER JOIN operation to link the Sales.Orders table with the Sales.OrderLines table based on the orderid column. This join ensures that only orders with corresponding order lines are considered. It then groups the data by CustomerID to aggregate the total spent by each customer. Finally, it orders the results by CustomerID in ascending order.\n",
                ""
            ],
            "metadata": {
                "azdata_cell_guid": "33cfc4bf-d437-44eb-b4d1-a62c00204f40"
            },
            "attachments": {}
        },
        {
            "cell_type": "code",
            "source": [
                "USE WideWorldImporters;\n",
                "\n",
                "SELECT\n",
                "    O.CustomerID,\n",
                "    SUM(OD.Quantity * OD.UnitPrice) AS total_spent\n",
                "FROM\n",
                "    Sales.Orders AS O\n",
                "    INNER JOIN\n",
                "    Sales.OrderLines AS OD ON O.orderid = OD.orderid\n",
                "GROUP BY \n",
                "    O.CustomerID\n",
                "ORDER BY \n",
                "    O.CustomerID ASC;"
            ],
            "metadata": {
                "azdata_cell_guid": "a7f38dbc-d746-4fd5-b962-4a84118ccee9",
                "language": "sql"
            },
            "outputs": [],
            "execution_count": null
        },
        {
            "cell_type": "markdown",
            "source": [
                "**Proposition**: Returns a list of customers along with their corresponding country names, sorted by country name and customer name.\n",
                "\n",
                "**Database**: PrestigeCars \n",
                "\n",
                "**Table**: The query involves three tables: Data.Customer, Data.Country, and Data.Sales.\n",
                "\n",
                "**Columns**: The columns used are c.CustomerName for the name of the customer from the Data.Customer table, and co.CountryName for the name of the country from the Data.Country table.\n",
                "\n",
                "**Predicate**: The query utilizes INNER JOIN clauses to relate the tables. The first INNER JOIN connects Data.Customer (aliased as c) with Data.Country (aliased as co) using the country code (c.Country matches co.CountryISO2), ensuring that only customers with a corresponding country are selected. The second INNER JOIN connects Data.Customer (c) with Data.Sales (s) using the CustomerID, which ensures that only customers who have made a sale are included in the result set.\n",
                ""
            ],
            "metadata": {
                "azdata_cell_guid": "eaa3d5b0-cc29-47bd-9351-00814b587207"
            },
            "attachments": {}
        },
        {
            "cell_type": "code",
            "source": [
                "USE PrestigeCars;\n",
                "\n",
                "SELECT\n",
                "    c.CustomerName,\n",
                "    co.CountryName\n",
                "FROM\n",
                "    [Data].[Customer] c\n",
                "    INNER JOIN [Data].[Country] co ON c.Country = co.CountryISO2\n",
                "    INNER JOIN [Data].[Sales] s ON c.CustomerID = s.CustomerID\n",
                "ORDER BY\n",
                "    co.CountryName,\n",
                "    c.CustomerName;"
            ],
            "metadata": {
                "azdata_cell_guid": "aed8f2a6-e956-4a88-8e50-1ef85e73d4c0",
                "language": "sql",
                "tags": []
            },
            "outputs": [],
            "execution_count": null
        },
        {
            "cell_type": "markdown",
            "source": [
                "**Proposition**: Returns details containing employee information, including their personal details, password hashes, and phone numbers.\n",
                "\n",
                "**Database**: AdventureWorks2017\n",
                "\n",
                "**Table**: The query retrieves data from the Person.Person, Person.Password, and Person.PersonPhone tables.\n",
                "\n",
                "**Columns**: It selects the BusinessEntityID, FirstName, and LastName columns from the Person.Person table to represent each employee's unique identifier and name. Additionally, it includes the PasswordHash column from the Person.Password table to display the hashed passwords of employees. Furthermore, it incorporates the PhoneNumber column from the Person.PersonPhone table to present the contact numbers associated with each employee.\n",
                "\n",
                "**Predicate**: The query employs JOIN operations to link the Person.Person table with the Person.Password and Person.PersonPhone tables based on the BusinessEntityID column, guaranteeing consistency of data across the tables. It then orders the results by BusinessEntityID in ascending order for clarity.\n",
                "\n",
                "\n",
                ""
            ],
            "metadata": {
                "azdata_cell_guid": "1360aa73-e517-4114-a045-f86fe01e893d"
            },
            "attachments": {}
        },
        {
            "cell_type": "code",
            "source": [
                "USE AdventureWorks2017;\n",
                "\n",
                "SELECT\n",
                "    P.BusinessEntityID,\n",
                "    P.FirstName,\n",
                "    P.LastName,\n",
                "    PS.PasswordHash,\n",
                "    PP.PhoneNumber\n",
                "FROM\n",
                "    Person.Person AS P\n",
                "    JOIN\n",
                "    Person.Password AS PS ON P.BusinessEntityID = PS.BusinessEntityID\n",
                "    INNER JOIN\n",
                "    Person.PersonPhone AS PP ON P.BusinessEntityID = PP.BusinessEntityID\n",
                "ORDER BY BusinessEntityID ASC;"
            ],
            "metadata": {
                "azdata_cell_guid": "d3b7083e-5bcd-4a2c-97d1-a82e85a2a2ea",
                "language": "sql"
            },
            "outputs": [],
            "execution_count": null
        },
        {
            "cell_type": "markdown",
            "source": [
                "**Proposition**: Returns details of the number of orders handled by each salesperson.\n",
                "\n",
                "**Database**: WideWorldImportersDW\n",
                "\n",
                "**Table**: The query retrieves data from the Fact.Order table.\n",
                "\n",
                "**Columns**: It selects the Salesperson Key column to identify each salesperson uniquely. Additionally, it calculates the count of orders handled by each salesperson.\n",
                "\n",
                "**Predicate**: The query employs LEFT OUTER JOIN operations to link the Fact.Order table with related fact tables (Fact.Purchase and Fact.Transaction) based on appropriate keys. This allows for inclusion of all orders regardless of whether they are associated with purchases or transactions. It then groups the data by Salesperson Key to aggregate the count of orders handled by each salesperson.\n",
                ""
            ],
            "metadata": {
                "azdata_cell_guid": "94ce9e51-6888-40dd-8876-2f2375490e38"
            },
            "attachments": {}
        },
        {
            "cell_type": "code",
            "source": [
                "USE WideWorldImportersDW;\n",
                "\n",
                "SELECT\n",
                "    O.[Salesperson Key],\n",
                "    COUNT(*) AS Orders_Count\n",
                "FROM\n",
                "    Fact.[Order] AS O\n",
                "    LEFT OUTER JOIN\n",
                "    Fact.Purchase AS P ON P.[Date Key] = O.[Order Date Key]\n",
                "    LEFT OUTER JOIN\n",
                "    Fact.[Transaction] AS T ON T.[Lineage Key] = P.[Lineage Key]\n",
                "GROUP BY\n",
                "    O.[Salesperson Key];"
            ],
            "metadata": {
                "azdata_cell_guid": "3f1b0175-f86d-42d7-834f-d59581c171f6",
                "language": "sql"
            },
            "outputs": [],
            "execution_count": null
        },
        {
            "cell_type": "markdown",
            "source": [
                "**Proposition**: Returns an analysis of Canadian customer orders and their associated details.\n",
                "\n",
                "**Database**: TSQLV4\n",
                "\n",
                "**Table**: The query primarily focuses on data from the Sales.Customers, Sales.Orders, and Sales.OrderDetails tables.\n",
                "\n",
                "\n",
                "**Columns**: It selects the Customer ID (custid) and Company Name (companyname) from the Sales.Customers table to uniquely identify each Canadian customer. Additionally, it calculates various metrics, including the number of unique orders (num_unique_orders), the count of ordered products (num_ordered_products), and the total order amount (total_order_amount) for each customer.\n",
                "\n",
                "**Predicate**: The query utilizes LEFT JOIN operations to link the Sales.Customers table with the Sales.Orders and Sales.OrderDetails tables based on the customer ID (custid) and order ID (orderid) columns, respectively. This ensures inclusion of all Canadian customers, even if they haven't placed any orders. It then filters the data to focus solely on Canadian customers by specifying 'Canada' as the country in the WHERE clause. Finally, it groups the results by customer ID and company name for aggregation.\n",
                ""
            ],
            "metadata": {
                "language": "sql",
                "azdata_cell_guid": "2c23ee92-d7cc-4be5-836a-b840e6ca6a24"
            },
            "attachments": {}
        },
        {
            "cell_type": "code",
            "source": [
                "USE TSQLV4;\n",
                "\n",
                "SELECT\n",
                "    C.custid,\n",
                "    C.companyname,\n",
                "    COUNT(DISTINCT O.orderid) AS num_unique_orders,\n",
                "    COUNT(OD.productid) AS num_ordered_products,\n",
                "    SUM(OD.qty * OD.unitprice) AS total_order_amount\n",
                "FROM\n",
                "    Sales.Customers AS C\n",
                "    LEFT JOIN\n",
                "    Sales.Orders AS O ON O.custid = C.custid\n",
                "    LEFT JOIN\n",
                "    Sales.OrderDetails AS OD ON OD.orderid = O.orderid\n",
                "WHERE \n",
                "    C.country = N'Canada'\n",
                "GROUP BY \n",
                "    C.custid,\n",
                "    C.companyname;"
            ],
            "metadata": {
                "azdata_cell_guid": "da8c8c05-860e-4621-9fb6-49fe83c6a948",
                "language": "sql"
            },
            "outputs": [],
            "execution_count": null
        },
        {
            "cell_type": "markdown",
            "source": [
                "**Proposition**: Returns a detailed analysis of customer orders and spending.\n",
                "\n",
                "**Database**: Northwinds2022TSQLV7\n",
                "\n",
                "**Table**: The query retrieves data from the Sales.Customer, Sales.Order, Sales.OrderDetail, and Production.Product tables.\n",
                "\n",
                "**Columns**: It selects the CustomerId column to uniquely identify each customer. Additionally, it calculates various metrics, including the number of distinct orders (num_orders) and the total amount spent (total_spent) by each customer.\n",
                "\n",
                "**Predicate**: The query utilizes INNER JOIN operations to link the Sales.Customer table with the Sales.Order and Sales.OrderDetail tables based on the CustomerId column. Additionally, it joins the Production.Product table to retrieve product information associated with each order detail. It then aggregates the data, calculating the count of distinct orders and the total amount spent by each customer, grouped by CustomerId.\n",
                ""
            ],
            "metadata": {
                "azdata_cell_guid": "59e8f2ff-f5f2-44f2-a945-773455618457"
            },
            "attachments": {}
        },
        {
            "cell_type": "code",
            "source": [
                "USE Northwinds2022TSQLV7;\n",
                "SELECT\n",
                "    C.CustomerId,\n",
                "    COUNT(DISTINCT O.OrderId) AS num_orders,\n",
                "    SUM(OD.Quantity * OD.UnitPrice) AS total_spent\n",
                "FROM\n",
                "    Sales.Customer AS C\n",
                "    INNER JOIN\n",
                "    Sales.[Order] AS O ON O.CustomerId = C.CustomerId\n",
                "    INNER JOIN\n",
                "    Sales.OrderDetail AS OD ON OD.OrderId = O.OrderId\n",
                "    INNER JOIN\n",
                "    Production.Product AS P ON OD.ProductId = P.ProductId\n",
                "GROUP BY \n",
                "    C.CustomerId;"
            ],
            "metadata": {
                "azdata_cell_guid": "cd111627-c2fd-4acd-900b-5c92b0f19daf",
                "language": "sql"
            },
            "outputs": [],
            "execution_count": null
        },
        {
            "cell_type": "markdown",
            "source": [
                "**Proposition**: Returns a detailed analysis of customer orders and spending habits, specifically focusing on Canadian customers.\n",
                "\n",
                "**Database**: TSQLV4\n",
                "\n",
                "**Table**: The query retrieves data from the Sales.Customers, Sales.Orders, Sales.OrderDetails, and HR.Employees tables.\n",
                "\n",
                "**Columns**: It selects the Customer ID (custid) column to uniquely identify each customer. Additionally, it calculates various metrics, including the count of distinct orders (num_orders) and the total amount spent (total_amount_spent) by each customer.\n",
                "\n",
                "**Predicate**: The query employs INNER JOIN operations to link the Sales.Customers table with the Sales.Orders and Sales.OrderDetails tables based on the customer ID (custid) and order ID (orderid) columns, respectively. It also joins the HR.Employees table to retrieve employee information associated with each order. The WHERE clause filters the data to focus solely on Canadian customers. Finally, it groups the results by customer ID and orders them by the number of orders in ascending order for clarity.\n",
                ""
            ],
            "metadata": {
                "azdata_cell_guid": "e7d4d5bd-591f-46e1-a70c-df054c9a5e7a"
            },
            "attachments": {}
        },
        {
            "cell_type": "code",
            "source": [
                "USE TSQLV4;\n",
                "SELECT\n",
                "    C.custid,\n",
                "    COUNT(DISTINCT O.orderid) AS num_orders,\n",
                "    SUM(OD.qty * OD.unitprice) AS total_amount_spent\n",
                "FROM\n",
                "    Sales.Customers AS C\n",
                "    INNER JOIN\n",
                "    Sales.Orders AS O ON O.custid = C.custid\n",
                "    INNER JOIN\n",
                "    Sales.OrderDetails AS OD ON OD.orderid = O.orderid\n",
                "    INNER JOIN\n",
                "    HR.Employees AS E ON E.empid = O.empid\n",
                "WHERE \n",
                "    C.country = N'Canada'\n",
                "GROUP BY \n",
                "    C.custid\n",
                "ORDER BY \n",
                "    num_orders ASC;"
            ],
            "metadata": {
                "azdata_cell_guid": "a49a2724-d9ce-4953-be3f-e1d5233b709e",
                "language": "sql"
            },
            "outputs": [],
            "execution_count": null
        },
        {
            "cell_type": "markdown",
            "source": [
                "**Proposition**: Returns an analysis of customer orders and spending behavior, specifically focusing on customers from the USA.\n",
                "\n",
                "**Database**: TSQLV4\n",
                "\n",
                "**Table**: The query retrieves data from the Sales.Customers, Sales.Orders, Sales.OrderDetails, and HR.Employees tables.\n",
                "\n",
                "**Columns**: It selects the Customer ID (custid) column to uniquely identify each customer. Additionally, it calculates various metrics, including the count of distinct orders (num_orders), the total amount spent (total_amount_spent), and the average unit price (avg_unit_price) of products purchased by each customer.\n",
                "\n",
                "**Predicate**: The query employs INNER JOIN operations to link the Sales.Customers table with the Sales.Orders and Sales.OrderDetails tables based on the customer ID (custid) and order ID (orderid) columns, respectively. It also joins the HR.Employees table to retrieve employee information associated with each order. The WHERE clause filters the data to focus solely on customers from the USA. Finally, it groups the results by customer ID and orders them by customer ID for clarity.\n",
                ""
            ],
            "metadata": {
                "azdata_cell_guid": "32783eda-5419-4eca-a1c1-12830cc508bd"
            },
            "attachments": {}
        },
        {
            "cell_type": "code",
            "source": [
                "USE TSQLV4;\n",
                "SELECT\n",
                "    C.custid,\n",
                "    COUNT(DISTINCT O.orderid) AS num_orders,\n",
                "    SUM(OD.qty * OD.unitprice) AS total_amount_spent,\n",
                "    AVG(OD.unitprice) AS avg_unit_price\n",
                "FROM\n",
                "    Sales.Customers AS C\n",
                "    INNER JOIN\n",
                "    Sales.Orders AS O ON O.custid = C.custid\n",
                "    INNER JOIN\n",
                "    Sales.OrderDetails AS OD ON OD.orderid = O.orderid\n",
                "    INNER JOIN\n",
                "    HR.Employees AS E ON E.empid = O.empid\n",
                "WHERE \n",
                "    C.country = N'USA'\n",
                "GROUP BY \n",
                "    C.custid\n",
                "ORDER BY \n",
                "    C.custid;"
            ],
            "metadata": {
                "azdata_cell_guid": "c699be72-8c8b-46d5-ade3-61069943fd78",
                "language": "sql"
            },
            "outputs": [],
            "execution_count": null
        },
        {
            "cell_type": "markdown",
            "source": [
                "**Proposition**: Returns customer orders and associated details, specifically focusing on customers from Mexico.\n",
                "\n",
                "**Database**: TSQLV4\n",
                "\n",
                "**Table**: The query primarily utilizes data from the Sales.Customers, Sales.Orders, and Sales.OrderDetails tables.\n",
                "\n",
                "**Columns**: It selects the Customer ID (custid) and Company Name (companyname) columns to uniquely identify each customer. Additionally, it calculates various metrics, including the count of distinct orders (num_orders), the total quantity ordered (total_quantity_ordered), and the date of the first order (first_order_date) placed by each customer.\n",
                "\n",
                "**Predicate**: The query employs INNER JOIN operations to link the Sales.Customers table with the Sales.Orders and Sales.OrderDetails tables based on the customer ID (custid) and order ID (orderid) columns, respectively. The WHERE clause filters the data to focus solely on customers from Mexico. Finally, it groups the results by customer ID and company name, ordering them by the number of orders in descending order for clarity.\n",
                ""
            ],
            "metadata": {
                "azdata_cell_guid": "f711cc98-007b-4abc-a490-91e8cc856a4a"
            },
            "attachments": {}
        },
        {
            "cell_type": "code",
            "source": [
                "USE TSQLV4;\n",
                "SELECT\n",
                "    C.custid,\n",
                "    C.companyname,\n",
                "    COUNT(DISTINCT O.orderid) AS num_orders,\n",
                "    SUM(OD.qty) AS total_quantity_ordered,\n",
                "    MIN(O.orderdate) AS first_order_date\n",
                "FROM\n",
                "    Sales.Customers AS C\n",
                "    INNER JOIN\n",
                "    Sales.Orders AS O ON O.custid = C.custid\n",
                "    INNER JOIN\n",
                "    Sales.OrderDetails AS OD ON OD.orderid = O.orderid\n",
                "WHERE \n",
                "    C.country = N'Mexico'\n",
                "GROUP BY \n",
                "    C.custid, C.companyname\n",
                "ORDER BY \n",
                "    num_orders DESC;"
            ],
            "metadata": {
                "azdata_cell_guid": "90ced8aa-9f54-48b7-8cab-761522e415f7",
                "language": "sql"
            },
            "outputs": [],
            "execution_count": null
        },
        {
            "cell_type": "markdown",
            "source": [
                "# **Complex Level Queries**\n",
                "**Proposition**: Returns customer order details by product categories.\n",
                "\n",
                "**Database**: Northwinds2022TSQLV7\n",
                "\n",
                "**Table**: The query utilizes a user-defined table-valued function named dbo.GetCustomerOrders, which selects orders based on a given customer ID from the Sales.[Order] table.\n",
                "\n",
                "**Columns**: The columns involved are directly from the Sales.[Order] table within the function: OrderId, CustomerId, EmployeeId, OrderDate, RequiredDate, ShipToRegion, ShipToPostalCode, ShipToCountry. In the main query, additional columns from related tables include Quantity from Sales.OrderDetail, and UnitPrice and CategoryId from Production.Product. The CategoryId is also related to the Production.Category table.\n",
                "\n",
                "**Predicate**: The dbo.GetCustomerOrders function filters orders for a specific customer. The main query then joins these orders with order details and products, grouping the results by customer ID. It calculates the number of distinct product categories (NumCategories), the total quantity of products ordered (TotalQuantity), and the average price per product category (AvgPricePerCategory). Also mention the use of aggregate functions COUNT(DISTINCT ...), SUM, and AVG to compute the number of categories, total quantity, and average price per category, respectively.\n",
                ""
            ],
            "metadata": {
                "azdata_cell_guid": "c2a79725-ec69-4c0f-b0be-86e138351987"
            },
            "attachments": {}
        },
        {
            "cell_type": "code",
            "source": [
                "USE Northwinds2022TSQLV7;\n",
                "\n",
                "DROP FUNCTION IF EXISTS dbo.GetCustomerOrders;\n",
                "GO\n",
                "\n",
                "CREATE FUNCTION dbo.GetCustomerOrders(@CustomerId AS INT)\n",
                "RETURNS TABLE\n",
                "AS\n",
                "RETURN (\n",
                "    SELECT\n",
                "    OrderId,\n",
                "    CustomerId,\n",
                "    EmployeeId,\n",
                "    OrderDate,\n",
                "    RequiredDate,\n",
                "    ShipToRegion,\n",
                "    ShipToPostalCode,\n",
                "    ShipToCountry\n",
                "FROM Sales.[Order]\n",
                "WHERE CustomerId = @CustomerId\n",
                ");\n",
                "GO\n",
                "SELECT\n",
                "    CO.CustomerId,\n",
                "    COUNT(DISTINCT P.CategoryId) AS NumCategories,\n",
                "    SUM(OD.Quantity) AS TotalQuantity,\n",
                "    AVG(P.UnitPrice) AS AvgPricePerCategory\n",
                "FROM dbo.GetCustomerOrders(6) AS CO\n",
                "    INNER JOIN Sales.OrderDetail OD ON CO.OrderId = OD.OrderId\n",
                "    INNER JOIN Production.Product P ON OD.ProductId = P.ProductId\n",
                "    INNER JOIN Production.Category C ON P.CategoryId = C.CategoryId\n",
                "GROUP BY CO.CustomerId;\n",
                ""
            ],
            "metadata": {
                "azdata_cell_guid": "33542597-9370-4399-b211-d3133c26c54f",
                "language": "sql"
            },
            "outputs": [],
            "execution_count": null
        },
        {
            "cell_type": "markdown",
            "source": [
                "**Proposition**: Analyzes the diversity and pricing of products supplied by a specific supplier\n",
                "\n",
                "**Database**: Northwinds2022TSQLV7\n",
                "\n",
                "**Table**: The query utilizes a user-defined table-valued function called dbo.GetProductsBySupplier, which retrieves products from the Production.Product table based on the supplied SupplierId.\n",
                "\n",
                "**Columns**: Within the dbo.GetProductsBySupplier function, the columns used are ProductId, ProductName, SupplierId, CategoryId, and UnitPrice from the Production.Product table. The main query leverages SupplierId from the function's output and CategoryId for grouping products into categories.\n",
                "\n",
                "**Predicate**: The function dbo.GetProductsBySupplier is designed to filter products by a given supplier. The main query then joins these products with the Production.Category table to ensure category data is accurate, subsequently grouping by SupplierId. It computes the number of distinct product categories (NumCategories) supplied by the supplier and the average unit price of these products (AvgPricePerProduct), offering insights into the range and average pricing of the supplier's products. Also mention the use of the COUNT(DISTINCT ...) function to determine the number of unique categories and AVG to calculate the average price per product.\n",
                ""
            ],
            "metadata": {
                "azdata_cell_guid": "6399e40a-01aa-4a03-b815-c6345d772874"
            },
            "attachments": {}
        },
        {
            "cell_type": "code",
            "source": [
                "USE Northwinds2022TSQLV7;\n",
                "\n",
                "DROP FUNCTION IF EXISTS dbo.GetProductsBySupplier;\n",
                "GO\n",
                "\n",
                "CREATE FUNCTION dbo.GetProductsBySupplier(@SupplierId AS INT)\n",
                "RETURNS TABLE\n",
                "AS\n",
                "RETURN (\n",
                "    SELECT\n",
                "    ProductId,\n",
                "    ProductName,\n",
                "    SupplierId,\n",
                "    CategoryId,\n",
                "    UnitPrice\n",
                "FROM Production.Product\n",
                "WHERE SupplierId = @SupplierId\n",
                ");\n",
                "GO\n",
                "SELECT\n",
                "    PBS.SupplierId,\n",
                "    COUNT(DISTINCT PBS.CategoryId) AS NumCategories,\n",
                "    AVG(PBS.UnitPrice) AS AvgPricePerProduct\n",
                "FROM dbo.GetProductsBySupplier(5) AS PBS\n",
                "    INNER JOIN Production.Category C ON PBS.CategoryId = C.CategoryId\n",
                "GROUP BY PBS.SupplierId;\n",
                ""
            ],
            "metadata": {
                "azdata_cell_guid": "a555942b-f573-43c4-bd12-86b2e7414ec2",
                "language": "sql"
            },
            "outputs": [],
            "execution_count": null
        },
        {
            "cell_type": "markdown",
            "source": [
                "**Proposition**: Returns employee performance in terms of customer reach, order volume, and average order value.\n",
                "\n",
                "**Database**: Northwinds2022TSQLV7\n",
                "\n",
                "**Table**: The query is built around the Sales.[Order] table, accessed through the dbo.GetOrdersByEmployee function, which filters orders handled by a specific employee.\n",
                "\n",
                "**Columns**: Within the dbo.GetOrdersByEmployee function, the utilized columns are OrderId, CustomerId, EmployeeId, and OrderDate. In the main query, a subquery named OrderValue calculates TotalValue for each order, using UnitPrice, Quantity, and DiscountPercentage from the Sales.OrderDetail table.\n",
                "\n",
                "**Predicate**: The dbo.GetOrdersByEmployee function serves to retrieve orders linked to a particular employee. The main query extends this by joining with a subquery that aggregates order details to compute the total value of each order. The result set is then grouped by EmployeeId, providing a count of unique customers (NumUniqueCustomers), a total count of orders (TotalOrders), and an average value of these orders (AvgOrderValue). \n",
                ""
            ],
            "metadata": {
                "azdata_cell_guid": "89307409-e626-445c-b2c8-f9fc9fe28141"
            },
            "attachments": {}
        },
        {
            "cell_type": "code",
            "source": [
                "USE Northwinds2022TSQLV7;\n",
                "\n",
                "DROP FUNCTION IF EXISTS dbo.GetOrdersByEmployee;\n",
                "GO\n",
                "\n",
                "CREATE FUNCTION dbo.GetOrdersByEmployee(@EmployeeId AS INT)\n",
                "RETURNS TABLE\n",
                "AS\n",
                "RETURN (\n",
                "    SELECT\n",
                "    OrderId,\n",
                "    CustomerId,\n",
                "    EmployeeId,\n",
                "    OrderDate\n",
                "FROM Sales.[Order]\n",
                "WHERE EmployeeId = @EmployeeId\n",
                ");\n",
                "GO\n",
                "SELECT\n",
                "    OBE.EmployeeId,\n",
                "    COUNT(DISTINCT OBE.CustomerId) AS NumUniqueCustomers,\n",
                "    COUNT(OBE.OrderId) AS TotalOrders,\n",
                "    AVG(OrderValue.TotalValue) AS AvgOrderValue\n",
                "FROM dbo.GetOrdersByEmployee(3) AS OBE\n",
                "    INNER JOIN (\n",
                "    SELECT\n",
                "        OrderId,\n",
                "        SUM(UnitPrice * Quantity * (1 - DiscountPercentage)) AS TotalValue\n",
                "    FROM Sales.OrderDetail\n",
                "    GROUP BY OrderId\n",
                ") AS OrderValue ON OBE.OrderId = OrderValue.OrderId\n",
                "GROUP BY OBE.EmployeeId;"
            ],
            "metadata": {
                "azdata_cell_guid": "7875104d-d0d1-4c7d-ab0e-fbac07b1a561",
                "language": "sql"
            },
            "outputs": [],
            "execution_count": null
        },
        {
            "cell_type": "markdown",
            "source": [
                "**Proposition**: Returns shipping data for a specific product, including the number of shipments, total quantity shipped, and average quantity per shipment.\n",
                "\n",
                "**Database**: Northwinds2022TSQLV7\n",
                "\n",
                "**Table**: The query leverages a user-defined table-valued function named dbo.GetShipmentsByProduct, which retrieves shipment details from the Sales.OrderDetail and Sales.[Order] tables based on the provided ProductId.\n",
                "\n",
                "**Columns**: Within the dbo.GetShipmentsByProduct function, the used columns are OrderId, ProductId, ShipToDate, and Quantity. The main query focuses on the ProductId to group the data, and then it calculates NumberOfShipments, TotalQuantityShipped, and AvgQuantityPerShipment as derived metrics.\n",
                "\n",
                "**Predicate**: The dbo.GetShipmentsByProduct function is designed to filter shipments that include a specific product, excluding orders without a confirmed ship date. In the overarching query, the data is aggregated by ProductId, providing insights into the shipping activity for that product. This includes counting the total number of shipments (NumberOfShipments), summing up the total quantity of the product shipped (TotalQuantityShipped), and calculating the average quantity per shipment (AvgQuantityPerShipment). \n",
                ""
            ],
            "metadata": {
                "azdata_cell_guid": "0da6309d-f154-4e6c-8bc4-bf2797da8cec"
            },
            "attachments": {}
        },
        {
            "cell_type": "code",
            "source": [
                "USE Northwinds2022TSQLV7;\n",
                "\n",
                "DROP FUNCTION IF EXISTS dbo.GetShipmentsByProduct;\n",
                "GO\n",
                "\n",
                "CREATE FUNCTION dbo.GetShipmentsByProduct(@ProductId AS INT)\n",
                "RETURNS TABLE\n",
                "AS\n",
                "RETURN (\n",
                "    SELECT\n",
                "    OD.OrderId,\n",
                "    OD.ProductId,\n",
                "    O.ShipToDate,\n",
                "    OD.Quantity\n",
                "FROM Sales.OrderDetail OD\n",
                "    INNER JOIN Sales.[Order] O ON OD.OrderId = O.OrderId\n",
                "WHERE OD.ProductId = @ProductId AND O.ShipToDate IS NOT NULL\n",
                ");\n",
                "GO\n",
                "SELECT\n",
                "    SBP.ProductId,\n",
                "    COUNT(SBP.OrderId) AS NumberOfShipments,\n",
                "    SUM(SBP.Quantity) AS TotalQuantityShipped,\n",
                "    AVG(SBP.Quantity) AS AvgQuantityPerShipment\n",
                "FROM dbo.GetShipmentsByProduct(10) AS SBP\n",
                "GROUP BY SBP.ProductId;\n",
                ""
            ],
            "metadata": {
                "azdata_cell_guid": "ee3f74ba-0f36-4306-8867-3e9b350d18c9",
                "language": "sql"
            },
            "outputs": [],
            "execution_count": null
        },
        {
            "cell_type": "markdown",
            "source": [
                "**Proposition**: Returns customer purchase history by totaling orders, revenue, and average order value.\n",
                "\n",
                "**Database**: Northwinds2022TSQLV7\n",
                "\n",
                "**Table**: The analysis is based on data pulled from the Sales.[Order] and Sales.OrderDetail tables through the dbo.GetOrdersByCustomer function, which isolates orders for a given customer.\n",
                "\n",
                "**Columns**: Within the dbo.GetOrdersByCustomer function, the columns accessed are OrderId, CustomerId, OrderDate, Quantity, UnitPrice, and DiscountPercentage. The overarching query then employs CustomerId to group the data, while TotalOrders, TotalRevenue, and AvgOrderValue are calculated fields derived from the function's output.\n",
                "\n",
                "**Predicate**: The dbo.GetOrdersByCustomer function is designed to filter orders specific to a customer, joining order and detail records to capture the quantity, unit price, and discounts of purchased items. The main query aggregates these details by customer ID, tallying the number of orders (TotalOrders), computing the total revenue (TotalRevenue), and determining the average value of these orders (AvgOrderValue). \n",
                ""
            ],
            "metadata": {
                "azdata_cell_guid": "3a42404c-86db-4126-aab6-b8aa84ad6371"
            },
            "attachments": {}
        },
        {
            "cell_type": "code",
            "source": [
                "USE Northwinds2022TSQLV7;\n",
                "\n",
                "DROP FUNCTION IF EXISTS dbo.GetOrdersByCustomer;\n",
                "GO\n",
                "\n",
                "CREATE FUNCTION dbo.GetOrdersByCustomer(@CustomerId AS INT)\n",
                "RETURNS TABLE\n",
                "AS\n",
                "RETURN (\n",
                "    SELECT\n",
                "    O.OrderId,\n",
                "    O.CustomerId,\n",
                "    O.OrderDate,\n",
                "    OD.Quantity,\n",
                "    OD.UnitPrice,\n",
                "    OD.DiscountPercentage\n",
                "FROM Sales.[Order] O\n",
                "    INNER JOIN Sales.OrderDetail OD ON O.OrderId = OD.OrderId\n",
                "WHERE O.CustomerId = @CustomerId\n",
                ");\n",
                "GO\n",
                "SELECT\n",
                "    GOC.CustomerId,\n",
                "    COUNT(GOC.OrderId) AS TotalOrders,\n",
                "    SUM(GOC.Quantity * GOC.UnitPrice * (1 - GOC.DiscountPercentage)) AS TotalRevenue,\n",
                "    AVG(GOC.Quantity * GOC.UnitPrice * (1 - GOC.DiscountPercentage)) AS AvgOrderValue\n",
                "FROM dbo.GetOrdersByCustomer(1) AS GOC\n",
                "GROUP BY GOC.CustomerId;\n",
                ""
            ],
            "metadata": {
                "azdata_cell_guid": "81ac5c4b-29eb-478c-80b6-5b9f0977e21f",
                "language": "sql"
            },
            "outputs": [],
            "execution_count": null
        }
    ]
}