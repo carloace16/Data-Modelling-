{
    "metadata": {
        "kernelspec": {
            "name": "SQL",
            "display_name": "SQL",
            "language": "sql"
        },
        "language_info": {
            "name": "sql",
            "version": ""
        }
    },
    "nbformat_minor": 2,
    "nbformat": 4,
    "cells": [
        {
            "cell_type": "markdown",
            "source": [
                "# **Top 3 Problems**\r\n",
                "## **Query 1 Medium**\r\n",
                "- **Proposition:** Create a query that retrieves the business entity IDs of individuals along with their corresponding passwords.\r\n",
                "- **Table:** AdventureWorks2017 database. Person.Person table, Person.Password and Person.PersonPhone table\r\n",
                "- This SQL query stands out for its succinct demonstration of essential SQL principles. By efficiently retrieving data from multiple tables using INNER JOINs based on BusinessEntityID, it highlights the importance of proper table joining techniques for maintaining data integrity. The inclusion of PasswordHash underscores the critical consideration of securing sensitive data, while the use of join conditions emphasizes the fundamental skill of establishing relationships between tables. Overall, its concise execution and focus on core SQL concepts make it a standout problem for learning and practice."
            ],
            "metadata": {
                "language": "sql",
                "azdata_cell_guid": "a0b24f20-582b-4f01-99dc-bf4ce57a0e57"
            },
            "attachments": {}
        },
        {
            "cell_type": "code",
            "source": [
                "USE AdventureWorks2017;\r\n",
                "SELECT P.BusinessEntityID,\r\n",
                "       PS.PasswordHash\r\n",
                "FROM Person.Person AS P\r\n",
                "    JOIN Person.Password AS PS\r\n",
                "        ON P.BusinessEntityID = PS.BusinessEntityID\r\n",
                "    INNER JOIN Person.PersonPhone AS PP\r\n",
                "        ON PP.BusinessEntityID = PS.BusinessEntityID\r\n",
                "FOR JSON PATH, ROOT('person');"
            ],
            "metadata": {
                "language": "sql",
                "azdata_cell_guid": "ef8f01f9-e4b2-4b62-b56f-68479c5268e9",
                "tags": []
            },
            "outputs": [],
            "execution_count": null
        },
        {
            "cell_type": "markdown",
            "source": [
                "## **Query 2 Medium**\r\n",
                "- **Proposition:** Retrieve details of orders made by customers from the Canada, ordered by the total quantity of items ordered by each customer. This query aims to analyze the order behavior of Canadian customers within the Sales database, prioritizing customers based on the total quantity of items they've ordered.\r\n",
                "- **Table:** Sales.Customers: Contains information about customers, including custid and country.\r\n",
                "Sales.Orders: Stores details about orders, including orderid and custid.\r\n",
                "Sales.OrderDetails: Holds information about order items, including qty and orderid.\r\n",
                "- This SQL code is noteworthy for its concise yet comprehensive analysis of customer orders within the Sales database, particularly focusing on Canadian customers. By joining the Sales.Customers, Sales.Orders, and Sales.OrderDetails tables, it effectively calculates the number of orders (num_orders) and the total quantity ordered (total_quantity_ordered) by each Canadian customer. This provides valuable insights into the ordering behavior of Canadian customers, with the results ordered by the total quantity ordered in descending order, offering quick visibility into the most significant orders."
            ],
            "metadata": {
                "language": "sql",
                "azdata_cell_guid": "2a428384-c8f4-4d1a-b103-00ebe5f83f89"
            },
            "attachments": {}
        },
        {
            "cell_type": "code",
            "source": [
                "USE TSQLV4\r\n",
                "SELECT C.custid,\r\n",
                "       COUNT(DISTINCT O.orderid) AS num_orders,\r\n",
                "       SUM(OD.qty) AS total_quantity_ordered\r\n",
                "FROM Sales.Customers AS C\r\n",
                "    INNER JOIN Sales.Orders AS O\r\n",
                "        ON O.custid = C.custid\r\n",
                "    INNER JOIN Sales.OrderDetails AS OD\r\n",
                "        ON OD.orderid = O.orderid\r\n",
                "WHERE C.country = N'Canada'\r\n",
                "GROUP BY C.custid\r\n",
                "ORDER BY total_quantity_ordered DESC\r\n",
                "FOR JSON PATH, ROOT('canada');"
            ],
            "metadata": {
                "language": "sql",
                "azdata_cell_guid": "e375cb45-aebf-41d9-a671-1dc7ba43a201"
            },
            "outputs": [],
            "execution_count": null
        },
        {
            "cell_type": "markdown",
            "source": [
                "## **Query 3 Complex**\r\n",
                "- **Proposition:** Utilize the user-defined function dbo.GetCustOrders to extract order details made by a specified customer and analyze the product ordering behavior. This query aims to provide insights into the quantity of products ordered by the designated customer within the TSQLV4 database.\r\n",
                "- **Table:** Sales.Orders: Contains comprehensive information regarding orders, including orderid, custid, empid, orderdate, requireddate, shipregion, shippostalcode, and shipcountry.\r\n",
                "Sales.OrderDetails: Stores detailed data about order items, encompassing orderid, productid, and qty.\r\n",
                "Audit.TransactionTimingSequence: Records transaction timing details, including productid.\r\n",
                "- This SQL code showcases a custom function, dbo.GetCustOrders, efficiently retrieving order details for a specified customer ID from the Sales.Orders table. By utilizing the function to filter orders for customer ID 6 and joining with Sales.OrderDetails, it calculates the number of distinct product IDs (numorders) and the total quantity ordered (totalqty) for that customer. The inclusion of a LEFT OUTER JOIN with Audit.TransactionTimingSequence enhances data analysis possibilities, offering insights into transaction timing. Overall, this code's modularity, functionality, and potential for insightful data analysis make it noteworthy."
            ],
            "metadata": {
                "language": "sql",
                "azdata_cell_guid": "5e89071b-0c56-45b3-97af-0986dac5b120"
            },
            "attachments": {}
        },
        {
            "cell_type": "code",
            "source": [
                "USE TSQLV4\r\n",
                "DROP FUNCTION IF EXISTS dbo.GetCustOrders;\r\n",
                "go\r\n",
                "CREATE FUNCTION dbo.GetCustOrders\r\n",
                "(\r\n",
                "    @cid AS INT\r\n",
                ")\r\n",
                "RETURNS TABLE\r\n",
                "AS\r\n",
                "RETURN SELECT orderid,\r\n",
                "              custid,\r\n",
                "              empid,\r\n",
                "              orderdate,\r\n",
                "              requireddate,\r\n",
                "              shipregion,\r\n",
                "              shippostalcode,\r\n",
                "              shipcountry\r\n",
                "       FROM Sales.Orders\r\n",
                "       WHERE custid = @cid\r\n",
                "GO\r\n",
                "\r\n",
                "SELECT C.custid,\r\n",
                "       COUNT(DISTINCT ODA.productid) AS numorders,\r\n",
                "       SUM(OD.qty) AS totalqty\r\n",
                "FROM dbo.GetCustOrders(6) AS C\r\n",
                "    INNER JOIN Sales.Orders AS O\r\n",
                "        ON O.custid = C.custid\r\n",
                "    INNER JOIN Sales.OrderDetails AS OD\r\n",
                "        ON OD.orderid = O.orderid\r\n",
                "    LEFT OUTER JOIN Audit.TransactionTimingSequence AS ODA\r\n",
                "        ON O.orderid = ODA.productid\r\n",
                "GROUP BY C.custid\r\n",
                "FOR JSON PATH, ROOT('six');"
            ],
            "metadata": {
                "language": "sql",
                "azdata_cell_guid": "7e7c9545-da84-40de-bf99-2aaa76cb6595"
            },
            "outputs": [],
            "execution_count": null
        },
        {
            "cell_type": "markdown",
            "source": [
                "# **Worst 3 Problems**\r\n",
                "## **Query 1 Medium**\r\n",
                "<img src=\"https://static.vecteezy.com/system/resources/previews/022/841/114/non_2x/chatgpt-logo-transparent-background-free-png.png\" alt=\"AI\" width=\"20\" height=\"20\"> _Written in collaboration with ChatGPT from OpenAI to improve understanding and assist with the explanation of the query_\r\n",
                "- **Proposition:** Retrieve employee information along with their associated orders by joining the Employees table with a number table and the Orders table. This query aims to analyze employee orders within the TSQLV4 database.\r\n",
                "- **Table:** TSQLV4 database, HR.Employees and dbo.Nums tables\r\n",
                "- This SQL code exhibits poor design and functionality due to several reasons. Firstly, the JOIN operation with the dbo.Nums table based on the range of N.n BETWEEN 1 AND 5 seems arbitrary and unrelated to the Employees or Orders tables, potentially leading to unexpected or erroneous results. Additionally, the lack of a meaningful relationship between the Nums table and the other tables suggests a flawed data model. Furthermore, the absence of proper filtering criteria or conditions in the JOINs could result in Cartesian products, significantly inflating the result set and causing performance issues. Overall, this code lacks coherence, clarity, and logical structure, making it inefficient and prone to errors.\r\n",
                "- To enhance the SQL code, remove the unnecessary join with dbo.Nums, ensuring that the remaining join between HR.Employees and dbo.Orders is meaningful and relevant. Clarify the query's intent to retrieve employee information along with corresponding order IDs. Apply proper filtering criteria if necessary and optimize the ordering of results. The revised code should focus on efficiency and logical structure for improved functionality."
            ],
            "metadata": {
                "language": "sql",
                "azdata_cell_guid": "ee0411dd-b081-4926-a04c-8d4763f43753"
            },
            "attachments": {}
        },
        {
            "cell_type": "code",
            "source": [
                "USE TSQLV4\r\n",
                "SELECT E.empid,\r\n",
                "       E.firstname,\r\n",
                "       E.lastname\r\n",
                "FROM HR.Employees AS E\r\n",
                "    JOIN dbo.Nums AS N\r\n",
                "        ON N.n\r\n",
                "           BETWEEN 1 AND 5\r\n",
                "    JOIN dbo.Orders AS O\r\n",
                "        ON E.empid = O.empid\r\n",
                "ORDER BY E.empid,\r\n",
                "         N.n\r\n",
                "FOR JSON PATH, ROOT('employees');"
            ],
            "metadata": {
                "language": "sql",
                "azdata_cell_guid": "b1274a47-8766-489a-a4de-4a018a64d15e"
            },
            "outputs": [],
            "execution_count": null
        },
        {
            "cell_type": "markdown",
            "source": [
                "## **Query 2 Medium**\r\n",
                "<img src=\"https://static.vecteezy.com/system/resources/previews/022/841/114/non_2x/chatgpt-logo-transparent-background-free-png.png\" alt=\"AI\" width=\"20\" height=\"20\"> _Written in collaboration with ChatGPT from OpenAI to improve understanding and assist with the explanation of the query_\r\n",
                "- **Proposition:** Retrieve a list of customers along with their personal information such as first name, middle name, last name, and birth date, who share the same last name as employees and belong to the department groups defined within the organization. This query aims to explore potential familial or organizational relationships between employees and customers within the database, offering insights into potential correlations or connections based on shared attributes.\r\n",
                "- **Table:** AdventureWorksDW2017 database. dbo.DimCustomer table, dbo.DimEmployee and dbo.DimDepartmentGroup table\r\n",
                "- This SQL code has several shortcomings. Joining dbo.DimCustomer and dbo.DimEmployee solely based on LastName can lead to inaccurate matches, as names may not be unique. Similarly, joining DimEmployee and DimDepartmentGroup based on DepartmentName and DepartmentGroupName respectively may not accurately represent relationships. Additionally, selecting columns from DimCustomer without filtering based on join conditions can result in redundant or irrelevant data. These issues make the code inefficient and prone to producing incorrect results.\r\n",
                "- To improve the SQL code, refine the joins by incorporating more robust and unique identifiers, such as employee IDs, to ensure accurate matches between tables. Additionally, consider refining the selection of columns to include only necessary fields and apply appropriate filtering conditions to reduce redundancy and improve result accuracy. By enhancing the join criteria and refining column selection, the code can achieve greater efficiency and accuracy in representing the relationships between employees, customers, and department groups."
            ],
            "metadata": {
                "language": "sql",
                "azdata_cell_guid": "1ddc6a7f-3a10-40aa-a0f7-0cb2b4ce4660"
            },
            "attachments": {}
        },
        {
            "cell_type": "code",
            "source": [
                "USE AdventureWorksDW2017;\r\n",
                "SELECT DC.CustomerKey,\r\n",
                "       DC.FirstName,\r\n",
                "       DC.MiddleName,\r\n",
                "       DC.LastName,\r\n",
                "       DC.BirthDate\r\n",
                "FROM dbo.DimCustomer AS DC\r\n",
                "    INNER JOIN dbo.DimEmployee AS DE\r\n",
                "        ON DE.LastName = DC.LastName\r\n",
                "    INNER JOIN dbo.DimDepartmentGroup AS G\r\n",
                "        ON G.DepartmentGroupName = DE.DepartmentName\r\n",
                "FOR JSON PATH, ROOT('dimcustomer');"
            ],
            "metadata": {
                "language": "sql",
                "azdata_cell_guid": "c3a1e6b9-3d90-4900-8be7-100a3de40891"
            },
            "outputs": [],
            "execution_count": null
        },
        {
            "cell_type": "markdown",
            "source": [
                "## **Query 3 Complex**\r\n",
                "<img src=\"https://static.vecteezy.com/system/resources/previews/022/841/114/non_2x/chatgpt-logo-transparent-background-free-png.png\" alt=\"AI\" width=\"20\" height=\"20\"> _Written in collaboration with ChatGPT from OpenAI to improve understanding and assist with the explanation of the query_\r\n",
                "- **Proposition:** Utilize a user-defined function named dbo.GetCustOrders to retrieve details of orders made by a specific customer, and then analyze the order behavior of that customer. This query aims to provide insights into the order patterns and quantities of items ordered by a particular customer within the Sales database.\r\n",
                "- **Table:** Sales.Orders: Contains information about orders, including orderid, custid, empid, orderdate, requireddate, shipregion, shippostalcode, and shipcountry.\r\n",
                "Sales.OrderDetails: Holds details about order items, including orderid and qty.\r\n",
                "- This SQL code is inefficient and redundant for several reasons. Firstly, using a user-defined function dbo.GetCustOrders adds unnecessary complexity when retrieving order details for a specific customer ID. Additionally, the LEFT OUTER JOIN with Sales.OrderDetails table as ODA is redundant since the same table (Sales.OrderDetails) is already joined as OD. Moreover, counting distinct order IDs using COUNT(DISTINCT ODA.orderid) may yield inaccurate results due to the redundant join. These factors contribute to the code's inefficiency, complexity, and potential for producing incorrect results.\r\n",
                "- To improve this SQL code, consider eliminating the user-defined function dbo.GetCustOrders and directly joining Sales.Orders and Sales.OrderDetails tables based on the custid column. Remove the redundant LEFT OUTER JOIN with Sales.OrderDetails and simplify the query to avoid duplicated data. Additionally, use a more accurate method to count distinct orders, such as COUNT(DISTINCT O.orderid), to ensure result accuracy. By streamlining the query and removing unnecessary complexities, you can enhance efficiency and accuracy while reducing the potential for errors."
            ],
            "metadata": {
                "language": "sql",
                "azdata_cell_guid": "4bf3fd27-0aa9-4f61-9d85-22a772ddcf97"
            },
            "attachments": {}
        },
        {
            "cell_type": "code",
            "source": [
                "USE TSQLV4\r\n",
                "DROP FUNCTION IF EXISTS dbo.GetCustOrders;\r\n",
                "go\r\n",
                "CREATE FUNCTION dbo.GetCustOrders\r\n",
                "(\r\n",
                "    @cid AS INT\r\n",
                ")\r\n",
                "RETURNS TABLE\r\n",
                "AS\r\n",
                "RETURN SELECT orderid,\r\n",
                "              custid,\r\n",
                "              empid,\r\n",
                "              orderdate,\r\n",
                "              requireddate,\r\n",
                "              shipregion,\r\n",
                "              shippostalcode,\r\n",
                "              shipcountry\r\n",
                "       FROM Sales.Orders\r\n",
                "       WHERE custid = @cid\r\n",
                "GO\r\n",
                "SELECT C.custid,\r\n",
                "       COUNT(DISTINCT ODA.orderid) AS numorders,\r\n",
                "       SUM(OD.qty) AS totalqty\r\n",
                "FROM dbo.GetCustOrders(0) AS C\r\n",
                "    INNER JOIN Sales.Orders AS O\r\n",
                "        ON O.custid = C.custid\r\n",
                "    INNER JOIN Sales.OrderDetails AS OD\r\n",
                "        ON OD.orderid = O.orderid\r\n",
                "    LEFT OUTER JOIN Sales.OrderDetails AS ODA\r\n",
                "        ON O.orderid = ODA.orderid\r\n",
                "GROUP BY C.custid\r\n",
                "FOR JSON PATH, ROOT('zero');"
            ],
            "metadata": {
                "language": "sql",
                "azdata_cell_guid": "64f91acd-258d-40ba-9325-55db79c127da",
                "tags": []
            },
            "outputs": [],
            "execution_count": null
        },
        {
            "cell_type": "markdown",
            "source": [
                "# **Medium Queries**\r\n",
                "- **Proposition:** Retrieve the count of distinct orders placed by each customer, ordered by the ascending CustomerID. This query aims to provide insights into customer order behavior within the Sales database, specifically focusing on the number of orders placed by each customer.\r\n",
                "- **Table:** WideWorldImporters database. Sales.Orders: Contains information about orders, including CustomerID and OrderID.\r\n",
                "Sales.SpecialDeals: Stores special deals information related to customers.\r\n",
                "Sales.OrderLines: Holds details about order lines, including the order ID."
            ],
            "metadata": {
                "language": "sql",
                "azdata_cell_guid": "704e74cf-3e75-4774-91f9-7011dc0d921d"
            },
            "attachments": {}
        },
        {
            "cell_type": "code",
            "source": [
                "USE WideWorldImporters\r\n",
                "SELECT TOP (10)\r\n",
                "       O.CustomerID,\r\n",
                "       COUNT(DISTINCT O.OrderID) AS num_orders\r\n",
                "FROM Sales.Orders AS O\r\n",
                "    LEFT OUTER JOIN Sales.SpecialDeals AS SP\r\n",
                "        ON SP.CustomerID = O.CustomerID\r\n",
                "    INNER JOIN Sales.OrderLines AS OD\r\n",
                "        ON O.orderid = OD.orderid\r\n",
                "GROUP BY O.CustomerID\r\n",
                "ORDER BY O.CustomerID ASC\r\n",
                "FOR JSON PATH, ROOT('orders');\r\n",
                ""
            ],
            "metadata": {
                "language": "sql",
                "azdata_cell_guid": "1bcbc815-78db-4c21-98f9-8eb1d4339e45",
                "tags": []
            },
            "outputs": [],
            "execution_count": null
        },
        {
            "cell_type": "markdown",
            "source": [
                "<img src=\"https://static.vecteezy.com/system/resources/previews/022/841/114/non_2x/chatgpt-logo-transparent-background-free-png.png\" alt=\"AI\" width=\"20\" height=\"20\"> _Written in collaboration with ChatGPT from OpenAI to improve understanding and assist with the explanation of the query_\r\n",
                "- **Proposition:** Count the distinct occurrences of Salesperson Key across orders within the Fact schema. This query aims to provide insights into the diversity of sales personnel involved in transactions recorded in the Fact schema, considering the relationships between Order, Purchase, and Transaction data.\r\n",
                "- **Table:** WideWorldImportersDW database. Fact.Order: Contains information about orders, including Order Key, Order Date Key, and Salesperson Key.\r\n",
                "Fact.Purchase: Stores details about purchases, including Date Key and Lineage Key.\r\n",
                "Fact.Transaction: Holds information about transactions, including Lineage Key."
            ],
            "metadata": {
                "language": "sql",
                "azdata_cell_guid": "020e1e2d-2669-4921-a0ae-ffb01b033b0d"
            },
            "attachments": {}
        },
        {
            "cell_type": "code",
            "source": [
                "USE WideWorldImportersDW\r\n",
                "SELECT COUNT(DISTINCT CombinedOrders.[Salesperson Key]) AS SalespersonKey_Count\r\n",
                "FROM\r\n",
                "(\r\n",
                "    SELECT O.[Order Key],\r\n",
                "           O.[Order Date Key],\r\n",
                "           O.[Salesperson Key]\r\n",
                "    FROM Fact.[Order] O\r\n",
                "        LEFT OUTER JOIN Fact.Purchase AS P\r\n",
                "            ON P.[Date Key] = O.[Order Date Key]\r\n",
                "        LEFT OUTER JOIN Fact.[Transaction] AS T\r\n",
                "            ON T.[Lineage Key] = P.[Lineage Key]\r\n",
                ") AS CombinedOrders\r\n",
                "FOR JSON PATH, ROOT('worldwidedw');"
            ],
            "metadata": {
                "language": "sql",
                "azdata_cell_guid": "362ab2ed-908d-442d-82a2-4ab2ec1f5f02"
            },
            "outputs": [],
            "execution_count": null
        },
        {
            "cell_type": "markdown",
            "source": [
                "<img src=\"https://static.vecteezy.com/system/resources/previews/022/841/114/non_2x/chatgpt-logo-transparent-background-free-png.png\" alt=\"AI\" width=\"20\" height=\"20\"> _Written in collaboration with ChatGPT from OpenAI to improve understanding and assist with the explanation of the query_\n",
                "- **Proposition:** Retrieve information about customers and their orders, including customers who haven't placed any orders. This query aims to provide insights into customer order behavior within the context of the TSQLV4 database, focusing on the Customers and Orders tables.\n",
                "- **Table:** Sales.Customers: Contains data about customers, including custid and country. \n",
                "Sales.Orders: Stores information about orders, including orderid and custid. \n",
                "Sales.OrderDetails: Holds details about order items, including qty and orderid."
            ],
            "metadata": {
                "language": "sql",
                "azdata_cell_guid": "247dadf8-edc7-43fd-b69f-32df7fb2e857"
            },
            "attachments": {}
        },
        {
            "cell_type": "code",
            "source": [
                "USE TSQLV4\r\n",
                "SELECT C.custid,\r\n",
                "       COUNT(O.orderid) AS numorders,\r\n",
                "       COALESCE(SUM(OD.qty), 0) AS totalqty\r\n",
                "FROM Sales.Customers AS C\r\n",
                "    LEFT JOIN Sales.Orders AS O\r\n",
                "        ON O.custid = C.custid\r\n",
                "    LEFT JOIN Sales.OrderDetails AS OD\r\n",
                "        ON OD.orderid = O.orderid\r\n",
                "WHERE C.country = N'USA'\r\n",
                "GROUP BY C.custid\r\n",
                "FOR JSON PATH, ROOT('customer');"
            ],
            "metadata": {
                "language": "sql",
                "azdata_cell_guid": "45614ce7-0ab3-4047-8014-d509a363c1cf"
            },
            "outputs": [],
            "execution_count": null
        },
        {
            "cell_type": "markdown",
            "source": [
                "- **Proposition:** Retrieve information about customers and their orders, focusing on the Customers and Orders tables. This query aims to provide insights into customer order behavior by calculating the number of orders placed by each customer and the total quantity of items ordered.\r\n",
                "- **Table:** Sales.Customer: Contains data about customers, including custid.\r\n",
                "Sales.Order: Stores information about orders, including orderid and custid.\r\n",
                "Sales.OrderDetail: Holds details about order items, including qty and orderid.\r\n",
                ""
            ],
            "metadata": {
                "language": "sql",
                "azdata_cell_guid": "f8fa0cee-0a4c-45d7-b76a-11fa212a5ab6"
            },
            "attachments": {}
        },
        {
            "cell_type": "code",
            "source": [
                "USE Northwinds2022TSQLV7\r\n",
                "SELECT C.CustomerId,\r\n",
                "       COUNT(O.orderid) AS numorders,\r\n",
                "       SUM(OD.Quantity) AS totalqty\r\n",
                "FROM Sales.Customer AS C\r\n",
                "    INNER JOIN Sales.[Order] AS O\r\n",
                "        ON O.CustomerId = C.CustomerId\r\n",
                "    INNER JOIN Sales.OrderDetail AS OD\r\n",
                "        ON OD.orderid = O.orderid\r\n",
                "GROUP BY C.CustomerId\r\n",
                "FOR JSON PATH, ROOT('customer');"
            ],
            "metadata": {
                "language": "sql",
                "azdata_cell_guid": "cd499954-aee8-44a9-aa0b-21587b492476"
            },
            "outputs": [],
            "execution_count": null
        },
        {
            "cell_type": "markdown",
            "source": [
                "- **Proposition:** Retrieve details of orders made by customers from Japan.\r\n",
                "- **Table:** TSQLV4 database. Sales.Customers, Sales.Orders and Sales.Orderdetails table"
            ],
            "metadata": {
                "language": "sql",
                "azdata_cell_guid": "e528dc91-07d5-46c9-8783-6189e9e4baaa"
            },
            "attachments": {}
        },
        {
            "cell_type": "code",
            "source": [
                "USE TSQLV4\r\n",
                "SELECT C.custid,\r\n",
                "       COUNT(DISTINCT O.orderid) AS num_orders,\r\n",
                "       SUM(OD.qty) AS total_quantity_ordered\r\n",
                "FROM Sales.Customers AS C\r\n",
                "    INNER JOIN Sales.Orders AS O\r\n",
                "        ON O.custid = C.custid\r\n",
                "    INNER JOIN Sales.OrderDetails AS OD\r\n",
                "        ON OD.orderid = O.orderid\r\n",
                "WHERE C.country = N'JPN'\r\n",
                "GROUP BY C.custid\r\n",
                "FOR JSON PATH, ROOT('customer');"
            ],
            "metadata": {
                "language": "sql",
                "azdata_cell_guid": "3a7a7408-83ab-4b71-9dd3-57dcf7e3c2e5"
            },
            "outputs": [],
            "execution_count": null
        },
        {
            "cell_type": "markdown",
            "source": [
                "- **Proposition:** Constructs a comprehensive list of customer details along with associated order and order detail information by utilizing a LEFT OUTER JOIN between the Sales.Customer, Sales.[Order], and Sales.OrderDetail tables.\r\n",
                "- **Table:** The query involves the Sales.Customer, Sales.[Order], and Sales.OrderDetail tables.\r\n",
                "Columns: The selected columns include CustomerId from the Sales.Customer table, OrderId from the Sales.[Order] table, and ProductId along with Quantity from the Sales.OrderDetail table.\r\n",
                ""
            ],
            "metadata": {
                "language": "sql",
                "azdata_cell_guid": "24a97326-4e41-419f-b25b-438607902a5d"
            },
            "attachments": {}
        },
        {
            "cell_type": "code",
            "source": [
                "USE Northwinds2022TSQLV7;\r\n",
                "SELECT TOP (50)\r\n",
                "       C.CustomerId,\r\n",
                "       O.OrderId,\r\n",
                "       OD.ProductId,\r\n",
                "       OD.Quantity\r\n",
                "FROM Sales.Customer AS C\r\n",
                "    LEFT OUTER JOIN(Sales.[Order] AS O\r\n",
                "    INNER JOIN Sales.OrderDetail AS OD\r\n",
                "        ON O.OrderId = OD.OrderId)\r\n",
                "        ON C.CustomerId = O.CustomerId\r\n",
                "FOR JSON PATH, ROOT('customer');"
            ],
            "metadata": {
                "language": "sql",
                "azdata_cell_guid": "505ac996-8264-4fb4-85ac-a66c875ca8e5"
            },
            "outputs": [],
            "execution_count": null
        },
        {
            "cell_type": "markdown",
            "source": [
                "- **Proposition:** Retrieve details of orders made by customers from the USA, ordered by the ascending number of distinct orders placed by each customer. This query aims to analyze the order behavior of US customers within the Sales database.\n",
                "- **Table:** Sales.Customers: Contains information about customers, including custid and country. Sales.Orders: Stores details about orders, including orderid and custid. Sales.OrderDetails: Holds information about order items, including qty and orderid."
            ],
            "metadata": {
                "language": "sql",
                "azdata_cell_guid": "a992368e-b06d-4f55-9f20-bf3f18e8b7c2"
            },
            "attachments": {}
        },
        {
            "cell_type": "code",
            "source": [
                "USE TSQLV4\r\n",
                "SELECT C.custid,\r\n",
                "       COUNT(DISTINCT O.orderid) AS num_orders,\r\n",
                "       SUM(OD.qty) AS total_quantity_ordered\r\n",
                "FROM Sales.Customers AS C\r\n",
                "    INNER JOIN Sales.Orders AS O\r\n",
                "        ON O.custid = C.custid\r\n",
                "    INNER JOIN Sales.OrderDetails AS OD\r\n",
                "        ON OD.orderid = O.orderid\r\n",
                "WHERE C.country = N'USA'\r\n",
                "GROUP BY C.custid\r\n",
                "ORDER BY num_orders ASC\r\n",
                "FOR JSON PATH, ROOT('orderdetails');"
            ],
            "metadata": {
                "language": "sql",
                "azdata_cell_guid": "6df509a0-6fa4-4b42-a061-e6009ddfbb15",
                "tags": []
            },
            "outputs": [],
            "execution_count": null
        },
        {
            "cell_type": "markdown",
            "source": [
                "- **Proposition:** Retrieve the details of customers along with the make and model of the cars they own. The results should be sorted by the customer's name, followed by the make of the car, and then the model of the car. This query aims to provide a comprehensive overview of customers and the prestigious cars they own.\r\n",
                "- **Table:** Prestige Cars database. Data.Customer table, Data.Model table and Data.Make table\r\n",
                "\r\n",
                ""
            ],
            "metadata": {
                "language": "sql",
                "azdata_cell_guid": "ed7ba84a-bf99-4737-a0f8-491345765ce0"
            },
            "attachments": {}
        },
        {
            "cell_type": "code",
            "source": [
                "USE PrestigeCars\r\n",
                "SELECT c.CustomerName,\r\n",
                "       mk.MakeName,\r\n",
                "       md.ModelName\r\n",
                "FROM [Data].[Customer] c\r\n",
                "    INNER JOIN [Data].[Model] md\r\n",
                "        ON c.CustomerID = md.ModelID\r\n",
                "    INNER JOIN [Data].[Make] mk\r\n",
                "        ON md.MakeID = mk.MakeID\r\n",
                "ORDER BY c.CustomerName,\r\n",
                "         mk.MakeName,\r\n",
                "         md.ModelName\r\n",
                "FOR JSON PATH, ROOT('prestigecars');"
            ],
            "metadata": {
                "language": "sql",
                "azdata_cell_guid": "3364d5fa-c6a5-494f-9015-5e325387ebe0"
            },
            "outputs": [],
            "execution_count": null
        },
        {
            "cell_type": "markdown",
            "source": [
                "- **Proposition:** Retrieve details of orders made by customers from Mexico and organize the results by customer ID. This query aims to provide insights into the order behavior of Mexican customers within the Sales database.\r\n",
                "- **Table:** Sales.Customers: Contains information about customers, including custid and country.\r\n",
                "Sales.Orders: Stores details about orders, including orderid and custid.\r\n",
                "Sales.OrderDetails: Holds information about order items, including qty and orderid.\r\n",
                ""
            ],
            "metadata": {
                "language": "sql",
                "azdata_cell_guid": "ab68f537-6c16-4d7e-9bf6-21886b3b5a67"
            },
            "attachments": {}
        },
        {
            "cell_type": "code",
            "source": [
                "USE TSQLV4\r\n",
                "SELECT C.custid,\r\n",
                "       COUNT(DISTINCT O.orderid) AS numorders,\r\n",
                "       SUM(OD.qty) AS totalqty\r\n",
                "FROM Sales.Customers AS C\r\n",
                "    INNER JOIN Sales.Orders AS O\r\n",
                "        ON O.custid = C.custid\r\n",
                "    INNER JOIN Sales.OrderDetails AS OD\r\n",
                "        ON OD.orderid = O.orderid\r\n",
                "WHERE C.country = N'Mexico'\r\n",
                "GROUP BY C.custid\r\n",
                "ORDER BY C.custid\r\n",
                "FOR JSON PATH, ROOT('mexico');"
            ],
            "metadata": {
                "language": "sql",
                "azdata_cell_guid": "96f86e25-4175-4d75-a616-9da058a83dc8",
                "tags": []
            },
            "outputs": [],
            "execution_count": null
        },
        {
            "cell_type": "markdown",
            "source": [
                "- **Proposition:** Retrieve details of orders made by customers from the Canada, ordered by the total quantity of items ordered by each customer. This query aims to analyze the order behavior of Canadian customers within the Sales database, prioritizing customers based on the total quantity of items they've ordered.\r\n",
                "- **Table:** Sales.Customers: Contains information about customers, including custid and country.\r\n",
                "Sales.Orders: Stores details about orders, including orderid and custid.\r\n",
                "Sales.OrderDetails: Holds information about order items, including qty and orderid.\r\n",
                ""
            ],
            "metadata": {
                "language": "sql",
                "azdata_cell_guid": "42339d49-aad4-40de-9e25-fc2ec523e5b0"
            },
            "attachments": {}
        },
        {
            "cell_type": "code",
            "source": [
                "USE TSQLV4\r\n",
                "SELECT C.custid,\r\n",
                "       COUNT(DISTINCT O.orderid) AS num_orders,\r\n",
                "       SUM(OD.qty) AS total_quantity_ordered\r\n",
                "FROM Sales.Customers AS C\r\n",
                "    INNER JOIN Sales.Orders AS O\r\n",
                "        ON O.custid = C.custid\r\n",
                "    INNER JOIN Sales.OrderDetails AS OD\r\n",
                "        ON OD.orderid = O.orderid\r\n",
                "WHERE C.country = N'Canada'\r\n",
                "GROUP BY C.custid\r\n",
                "ORDER BY total_quantity_ordered DESC\r\n",
                "--FOR JSON PATH, ROOT('canada');\r\n",
                ""
            ],
            "metadata": {
                "language": "sql",
                "azdata_cell_guid": "55730083-f8ae-48c9-9e2a-f08f30e4be00"
            },
            "outputs": [],
            "execution_count": null
        },
        {
            "cell_type": "markdown",
            "source": [
                "# **Complex Queries**\r\n",
                "<img src=\"https://static.vecteezy.com/system/resources/previews/022/841/114/non_2x/chatgpt-logo-transparent-background-free-png.png\" alt=\"AI\" width=\"20\" height=\"20\"> _Written in collaboration with ChatGPT from OpenAI to improve understanding and assist with the explanation of the query_\r\n",
                "- **Proposition:** Utilize a user-defined function named dbo.GetCustOrders to retrieve details of orders made by a specific customer, and then analyze the order behavior of that customer. This query aims to provide insights into the order patterns and quantities of items ordered by a particular customer within the Sales database.\r\n",
                "- **Table:** Sales.Orders: Contains information about orders, including orderid, custid, empid, orderdate, requireddate, shipregion, shippostalcode, and shipcountry.\r\n",
                "Sales.OrderDetails: Holds details about order items, including orderid and qty.\r\n",
                "\r\n",
                ""
            ],
            "metadata": {
                "language": "sql",
                "azdata_cell_guid": "bb047739-9e27-409a-af64-2fa2cd9a0457"
            },
            "attachments": {}
        },
        {
            "cell_type": "code",
            "source": [
                "USE TSQLV4\r\n",
                "DROP FUNCTION IF EXISTS dbo.GetCustOrders;\r\n",
                "go\r\n",
                "CREATE FUNCTION dbo.GetCustOrders\r\n",
                "(\r\n",
                "    @cid AS INT\r\n",
                ")\r\n",
                "RETURNS TABLE\r\n",
                "AS\r\n",
                "RETURN SELECT orderid,\r\n",
                "              custid,\r\n",
                "              empid,\r\n",
                "              orderdate,\r\n",
                "              requireddate,\r\n",
                "              shipregion,\r\n",
                "              shippostalcode,\r\n",
                "              shipcountry\r\n",
                "       FROM Sales.Orders\r\n",
                "       WHERE custid = @cid\r\n",
                "GO\r\n",
                "SELECT C.custid,\r\n",
                "       COUNT(DISTINCT ODA.orderid) AS numorders,\r\n",
                "       SUM(OD.qty) AS totalqty\r\n",
                "FROM dbo.GetCustOrders(0) AS C\r\n",
                "    INNER JOIN Sales.Orders AS O\r\n",
                "        ON O.custid = C.custid\r\n",
                "    INNER JOIN Sales.OrderDetails AS OD\r\n",
                "        ON OD.orderid = O.orderid\r\n",
                "    LEFT OUTER JOIN Sales.OrderDetails AS ODA\r\n",
                "        ON O.orderid = ODA.orderid\r\n",
                "GROUP BY C.custid\r\n",
                "FOR JSON PATH, ROOT('zero');"
            ],
            "metadata": {
                "language": "sql",
                "azdata_cell_guid": "66c26091-654f-4ca2-ae4c-a6f76e0873ab",
                "tags": []
            },
            "outputs": [],
            "execution_count": null
        },
        {
            "cell_type": "markdown",
            "source": [
                "- **Proposition:** Utilize a user-defined function named dbo.GetCustOrders to retrieve details of orders made by a specific customer and analyze the order behavior in terms of product quantity. This query aims to provide insights into the quantity of products ordered by a particular customer within the Sales database.\r\n",
                "- **Table:** Sales.Orders: Contains information about orders, including orderid, custid, empid, orderdate, requireddate, shipregion, shippostalcode, and shipcountry.\r\n",
                "Sales.OrderDetails: Holds details about order items, including orderid, productid, and qty.\r\n",
                "Audit.TransactionTimingSequence: Stores transaction timing information, including productid.\r\n",
                "\r\n",
                ""
            ],
            "metadata": {
                "language": "sql",
                "azdata_cell_guid": "1906529c-18bd-4df3-95a2-6028f4a1c0fc"
            },
            "attachments": {}
        },
        {
            "cell_type": "code",
            "source": [
                "USE TSQLV4\r\n",
                "DROP FUNCTION IF EXISTS dbo.GetCustOrders;\r\n",
                "go\r\n",
                "CREATE FUNCTION dbo.GetCustOrders\r\n",
                "(\r\n",
                "    @cid AS INT\r\n",
                ")\r\n",
                "RETURNS TABLE\r\n",
                "AS\r\n",
                "RETURN SELECT orderid,\r\n",
                "              custid,\r\n",
                "              empid,\r\n",
                "              orderdate,\r\n",
                "              requireddate,\r\n",
                "              shipregion,\r\n",
                "              shippostalcode,\r\n",
                "              shipcountry\r\n",
                "       FROM Sales.Orders\r\n",
                "       WHERE custid = @cid\r\n",
                "GO\r\n",
                "\r\n",
                "SELECT C.custid,\r\n",
                "       COUNT(DISTINCT ODA.productid) AS numorders,\r\n",
                "       SUM(OD.qty) AS totalqty\r\n",
                "FROM dbo.GetCustOrders(1) AS C\r\n",
                "    INNER JOIN Sales.Orders AS O\r\n",
                "        ON O.custid = C.custid\r\n",
                "    INNER JOIN Sales.OrderDetails AS OD\r\n",
                "        ON OD.orderid = O.orderid\r\n",
                "    LEFT OUTER JOIN Audit.TransactionTimingSequence AS ODA\r\n",
                "        ON O.orderid = ODA.productid\r\n",
                "GROUP BY C.custid\r\n",
                "FOR JSON PATH, ROOT('one');"
            ],
            "metadata": {
                "language": "sql",
                "azdata_cell_guid": "ad43b903-60e4-4b64-99a7-af58cb6a3e54"
            },
            "outputs": [],
            "execution_count": null
        },
        {
            "cell_type": "markdown",
            "source": [
                ""
            ],
            "metadata": {
                "language": "sql",
                "azdata_cell_guid": "50e1b07d-982c-4d6e-8188-81041fe1c8c3"
            }
        },
        {
            "cell_type": "code",
            "source": [
                "USE TSQLV4\r\n",
                "DROP FUNCTION IF EXISTS dbo.GetCustOrders;\r\n",
                "go\r\n",
                "CREATE FUNCTION dbo.GetCustOrders\r\n",
                "(\r\n",
                "    @cid AS INT\r\n",
                ")\r\n",
                "RETURNS TABLE\r\n",
                "AS\r\n",
                "RETURN SELECT orderid,\r\n",
                "              custid,\r\n",
                "              empid,\r\n",
                "              orderdate,\r\n",
                "              requireddate,\r\n",
                "              shipregion,\r\n",
                "              shippostalcode,\r\n",
                "              shipcountry\r\n",
                "       FROM Sales.Orders\r\n",
                "       WHERE custid = @cid\r\n",
                "GO\r\n",
                "\r\n",
                "SELECT C.custid,\r\n",
                "       COUNT(DISTINCT ODA.productid) AS numorders,\r\n",
                "       SUM(OD.qty) AS totalqty\r\n",
                "FROM dbo.GetCustOrders(2) AS C\r\n",
                "    INNER JOIN Sales.Orders AS O\r\n",
                "        ON O.custid = C.custid\r\n",
                "    INNER JOIN Sales.OrderDetails AS OD\r\n",
                "        ON OD.orderid = O.orderid\r\n",
                "    LEFT OUTER JOIN Audit.TransactionTimingSequence AS ODA\r\n",
                "        ON O.orderid = ODA.productid\r\n",
                "GROUP BY C.custid\r\n",
                "FOR JSON PATH, ROOT('two');"
            ],
            "metadata": {
                "language": "sql",
                "azdata_cell_guid": "b1dd91a7-f7e3-4f8a-85aa-0ec98e7a15b0",
                "tags": []
            },
            "outputs": [],
            "execution_count": null
        },
        {
            "cell_type": "markdown",
            "source": [
                "- **Proposition:** Leverage a user-defined function named dbo.GetCustOrders to extract order details made by a specific customer and analyze the product ordering behavior. This query aims to provide insights into the quantity of products ordered by a designated customer, within the TSQLV4 database.\r\n",
                "- **Table:** Sales.Orders: Stores comprehensive information about orders, including orderid, custid, empid, orderdate, requireddate, shipregion, shippostalcode, and shipcountry.\r\n",
                "Sales.OrderDetails: Contains detailed data about order items, including orderid, productid, and qty.\r\n",
                "Audit.TransactionTimingSequence: Holds transaction timing details, including productid.\r\n",
                ""
            ],
            "metadata": {
                "language": "sql",
                "azdata_cell_guid": "05e493a6-38b7-4569-b7d8-d629ee0fb435"
            },
            "attachments": {}
        },
        {
            "cell_type": "code",
            "source": [
                "USE TSQLV4\r\n",
                "DROP FUNCTION IF EXISTS dbo.GetCustOrders;\r\n",
                "go\r\n",
                "CREATE FUNCTION dbo.GetCustOrders\r\n",
                "(\r\n",
                "    @cid AS INT\r\n",
                ")\r\n",
                "RETURNS TABLE\r\n",
                "AS\r\n",
                "RETURN SELECT orderid,\r\n",
                "              custid,\r\n",
                "              empid,\r\n",
                "              orderdate,\r\n",
                "              requireddate,\r\n",
                "              shipregion,\r\n",
                "              shippostalcode,\r\n",
                "              shipcountry\r\n",
                "       FROM Sales.Orders\r\n",
                "       WHERE custid = @cid\r\n",
                "GO\r\n",
                "\r\n",
                "SELECT C.custid,\r\n",
                "       COUNT(DISTINCT ODA.productid) AS numorders,\r\n",
                "       SUM(OD.qty) AS totalqty\r\n",
                "FROM dbo.GetCustOrders(3) AS C\r\n",
                "    INNER JOIN Sales.Orders AS O\r\n",
                "        ON O.custid = C.custid\r\n",
                "    INNER JOIN Sales.OrderDetails AS OD\r\n",
                "        ON OD.orderid = O.orderid\r\n",
                "    LEFT OUTER JOIN Audit.TransactionTimingSequence AS ODA\r\n",
                "        ON O.orderid = ODA.productid\r\n",
                "GROUP BY C.custid\r\n",
                "FOR JSON PATH, ROOT('three');"
            ],
            "metadata": {
                "language": "sql",
                "azdata_cell_guid": "78349bec-c1a8-44ef-8123-fd74c724c3c6"
            },
            "outputs": [],
            "execution_count": null
        },
        {
            "cell_type": "markdown",
            "source": [
                "- **Proposition:** Employing a user-defined function named dbo.GetCustOrders, extract the order details made by a specified customer and scrutinize the product ordering behavior within the TSQLV4 database. This query aims to deliver insights into the quantity of products ordered by the designated customer.\r\n",
                "- **Table:** Sales.Orders: This table contains comprehensive information regarding orders, including orderid, custid, empid, orderdate, requireddate, shipregion, shippostalcode, and shipcountry.\r\n",
                "Sales.OrderDetails: Detailed data about order items are stored here, encompassing orderid, productid, and qty.\r\n",
                "Audit.TransactionTimingSequence: Transaction timing details, including productid, are recorded in this table.\r\n",
                ""
            ],
            "metadata": {
                "language": "sql",
                "azdata_cell_guid": "699243dd-7ab2-4ecc-84ed-cd0586ec193a"
            },
            "attachments": {}
        },
        {
            "cell_type": "code",
            "source": [
                "USE TSQLV4\r\n",
                "DROP FUNCTION IF EXISTS dbo.GetCustOrders;\r\n",
                "go\r\n",
                "CREATE FUNCTION dbo.GetCustOrders\r\n",
                "(\r\n",
                "    @cid AS INT\r\n",
                ")\r\n",
                "RETURNS TABLE\r\n",
                "AS\r\n",
                "RETURN SELECT orderid,\r\n",
                "              custid,\r\n",
                "              empid,\r\n",
                "              orderdate,\r\n",
                "              requireddate,\r\n",
                "              shipregion,\r\n",
                "              shippostalcode,\r\n",
                "              shipcountry\r\n",
                "       FROM Sales.Orders\r\n",
                "       WHERE custid = @cid\r\n",
                "GO\r\n",
                "\r\n",
                "SELECT C.custid,\r\n",
                "       COUNT(DISTINCT ODA.productid) AS numorders,\r\n",
                "       SUM(OD.qty) AS totalqty\r\n",
                "FROM dbo.GetCustOrders(4) AS C\r\n",
                "    INNER JOIN Sales.Orders AS O\r\n",
                "        ON O.custid = C.custid\r\n",
                "    INNER JOIN Sales.OrderDetails AS OD\r\n",
                "        ON OD.orderid = O.orderid\r\n",
                "    LEFT OUTER JOIN Audit.TransactionTimingSequence AS ODA\r\n",
                "        ON O.orderid = ODA.productid\r\n",
                "GROUP BY C.custid\r\n",
                "FOR JSON PATH, ROOT('four');"
            ],
            "metadata": {
                "language": "sql",
                "azdata_cell_guid": "aec9ade7-5df0-4e94-9df6-808902870d9c"
            },
            "outputs": [],
            "execution_count": null
        },
        {
            "cell_type": "markdown",
            "source": [
                "- **Proposition:** Leverage the user-defined function dbo.GetCustOrders to retrieve order details made by a specified customer and scrutinize the product ordering behavior. This query aims to provide insights into the quantity of products ordered by the designated customer within the TSQLV4 database.\r\n",
                "- **Table:** Sales.Orders: This table contains comprehensive information regarding orders, including orderid, custid, empid, orderdate, requireddate, shipregion, shippostalcode, and shipcountry.\r\n",
                "Sales.OrderDetails: Detailed data about order items are stored here, encompassing orderid, productid, and qty.\r\n",
                "Audit.TransactionTimingSequence: Transaction timing details, including productid, are recorded in this table.\r\n",
                ""
            ],
            "metadata": {
                "language": "sql",
                "azdata_cell_guid": "a48f4970-3b03-445e-8fe1-0034bce01e4b"
            },
            "attachments": {}
        },
        {
            "cell_type": "code",
            "source": [
                "USE TSQLV4\r\n",
                "DROP FUNCTION IF EXISTS dbo.GetCustOrders;\r\n",
                "go\r\n",
                "CREATE FUNCTION dbo.GetCustOrders\r\n",
                "(\r\n",
                "    @cid AS INT\r\n",
                ")\r\n",
                "RETURNS TABLE\r\n",
                "AS\r\n",
                "RETURN SELECT orderid,\r\n",
                "              custid,\r\n",
                "              empid,\r\n",
                "              orderdate,\r\n",
                "              requireddate,\r\n",
                "              shipregion,\r\n",
                "              shippostalcode,\r\n",
                "              shipcountry\r\n",
                "       FROM Sales.Orders\r\n",
                "       WHERE custid = @cid\r\n",
                "GO\r\n",
                "\r\n",
                "SELECT C.custid,\r\n",
                "       COUNT(DISTINCT ODA.productid) AS numorders,\r\n",
                "       SUM(OD.qty) AS totalqty\r\n",
                "FROM dbo.GetCustOrders(5) AS C\r\n",
                "    INNER JOIN Sales.Orders AS O\r\n",
                "        ON O.custid = C.custid\r\n",
                "    INNER JOIN Sales.OrderDetails AS OD\r\n",
                "        ON OD.orderid = O.orderid\r\n",
                "    LEFT OUTER JOIN Audit.TransactionTimingSequence AS ODA\r\n",
                "        ON O.orderid = ODA.productid\r\n",
                "GROUP BY C.custid\r\n",
                "FOR JSON PATH, ROOT('five');"
            ],
            "metadata": {
                "language": "sql",
                "azdata_cell_guid": "7366c1cf-9260-43db-85aa-a89b60af41dd"
            },
            "outputs": [],
            "execution_count": null
        }
    ]
}