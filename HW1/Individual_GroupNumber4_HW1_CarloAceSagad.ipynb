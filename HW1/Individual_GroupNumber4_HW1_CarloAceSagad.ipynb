{
    "metadata": {
        "kernelspec": {
            "name": "SQL",
            "display_name": "SQL",
            "language": "sql"
        },
        "language_info": {
            "name": "sql",
            "version": ""
        }
    },
    "nbformat_minor": 2,
    "nbformat": 4,
    "cells": [
        {
            "cell_type": "markdown",
            "source": [
                "# **Top 5**"
            ],
            "metadata": {
                "language": "sql",
                "azdata_cell_guid": "b23949a8-9c7a-43f4-97c6-731e99ed5092"
            },
            "attachments": {}
        },
        {
            "cell_type": "markdown",
            "source": [
                "## 1. **Query 1**\r\n",
                "\r\n",
                "### This code extracts specific information from the \"Sales.Order\" table, including order ID, order date, customer ID, and employee ID. The WHERE clause filters the results to include only orders where the day of the month matches the last day of the same month. What makes this code special is its focus on extracting orders placed specifically on the last day of each month. It leverages functions like DAY and EOMONTH to ensure accuracy in pinpointing these particular orders. This query could be useful for analyzing end-of-month transactions or understanding patterns related to orders placed on the final day of each month within the dataset."
            ],
            "metadata": {
                "language": "sql",
                "azdata_cell_guid": "2410a3a8-65b9-4342-890c-7836006d8ad4"
            },
            "attachments": {}
        },
        {
            "cell_type": "code",
            "source": [
                "USE TSQLV4;\r\n",
                "SELECT orderid, orderdate, custid, empid\r\n",
                "FROM Sales.Orders\r\n",
                "WHERE DAY(orderdate) = DAY(EOMONTH(orderdate));\r\n",
                "\r\n",
                "use Northwinds2022TSQLV7;\r\n",
                "SELECT OrderId, OrderDate, CustomerId, EmployeeId\r\n",
                "FROM Sales.[Order]\r\n",
                "WHERE DAY(OrderDate) = DAY(EOMONTH(OrderDate));"
            ],
            "metadata": {
                "language": "sql",
                "azdata_cell_guid": "89212b8c-5b26-4a60-a150-f65d57bd548e",
                "tags": []
            },
            "outputs": [],
            "execution_count": null
        },
        {
            "cell_type": "markdown",
            "source": [
                "## 2. **Query 2**\r\n",
                "\r\n",
                "### This SQL code fetches customer IDs and regions from the \"Sales.Customer\" table and organizes the results in a particular sequence. The ORDER BY clause is used with a CASE statement to sort the rows based on whether the customer region is NULL or not. If the region is NULL, it assigns a value of 1; otherwise, it assigns 0. Consequently, rows with NULL regions appear first in the result set, followed by rows sorted by their actual region values. This code is noteworthy because it employs a custom sorting mechanism, prioritizing NULL regions, which can be beneficial for emphasizing or handling null values distinctively in the result set."
            ],
            "metadata": {
                "language": "sql",
                "azdata_cell_guid": "6897d7ed-07b7-460d-940a-d49727f153fd"
            },
            "attachments": {}
        },
        {
            "cell_type": "code",
            "source": [
                "USE TSQLV4;\r\n",
                "SELECT custid,region\r\n",
                "FROM Sales.Customers\r\n",
                "ORDER BY\r\n",
                "   CASE\r\n",
                "       WHEN region IS NULL THEN 1\r\n",
                "       ELSE 0\r\n",
                "   END,\r\n",
                "   region;\r\n",
                "\r\n",
                "   use Northwinds2022TSQLV7;\r\n",
                "   SELECT CustomerId,CustomerRegion\r\n",
                "FROM Sales.Customer\r\n",
                "ORDER BY\r\n",
                "  CASE\r\n",
                "      WHEN CustomerRegion IS NULL THEN 1\r\n",
                "      ELSE 0\r\n",
                "  END,\r\n",
                "  CustomerRegion;"
            ],
            "metadata": {
                "language": "sql",
                "azdata_cell_guid": "b38577d6-a577-4969-b546-971f15f4433c",
                "tags": []
            },
            "outputs": [],
            "execution_count": null
        },
        {
            "cell_type": "markdown",
            "source": [
                "## 3. **Query 3**\r\n",
                "\r\n",
                "### This SQL code retrieves unique employee IDs and the corresponding years in which orders were placed for customer ID 71 from the \"Sales.Orders\" table. It uses the DISTINCT keyword to ensure that each combination of employee ID and order year appears only once in the result set. The DISTINCT clause helps eliminate duplicate records. This code is notable because it focuses on a specific customer (custid = 71) and provides a distinct list of employee IDs along with the respective years they processed orders. It's special for its simplicity in obtaining unique combinations and showcasing the use of the DISTINCT keyword for result set clarity."
            ],
            "metadata": {
                "language": "sql",
                "azdata_cell_guid": "dab2697b-058e-4a2c-9a2f-66ab6d7fd9d0"
            },
            "attachments": {}
        },
        {
            "cell_type": "code",
            "source": [
                "USE TSQLV4;\r\n",
                "SELECT DISTINCT empid, YEAR(orderdate) AS orderyear\r\n",
                "FROM Sales.Orders\r\n",
                "WHERE custid = 71;\r\n",
                ""
            ],
            "metadata": {
                "language": "sql",
                "azdata_cell_guid": "72a35dc1-3f6d-477f-9446-8009f6cc1bad",
                "tags": []
            },
            "outputs": [],
            "execution_count": null
        },
        {
            "cell_type": "markdown",
            "source": [
                "## 4. **Query 4**\r\n",
                "\r\n",
                "### This SQL code fetches employee IDs, first names, last names, and countries from the \"HR.Employees\" table, arranging the results based on the employees' hire dates. The ORDER BY clause with \"hiredate\" ensures that the output is sorted in ascending order by the date each employee was hired. This code is notable for its simplicity and effectiveness in presenting employee information in chronological order of hiring, making it easy to identify the sequence of employee additions to the organization. The use of ORDER BY with \"hiredate\" adds a temporal dimension to the query, providing insights into the historical hiring patterns within the company."
            ],
            "metadata": {
                "language": "sql",
                "azdata_cell_guid": "fd724098-e604-4cb7-ba37-580737af8773"
            },
            "attachments": {}
        },
        {
            "cell_type": "code",
            "source": [
                "USE TSQLV4;\r\n",
                "SELECT empid, firstname, lastname, country\r\n",
                "FROM HR.Employees\r\n",
                "ORDER BY hiredate;\r\n",
                ""
            ],
            "metadata": {
                "language": "sql",
                "azdata_cell_guid": "ecb061dc-2140-4893-8727-679bdccaa4e7",
                "tags": []
            },
            "outputs": [],
            "execution_count": null
        },
        {
            "cell_type": "markdown",
            "source": [
                "## 5. **Query 5**\r\n",
                "\r\n",
                "### This SQL code retrieves employee IDs, first names, and last names from the \"HR.Employees\" table for individuals with the last name 'Davis.' The WHERE clause filters the results to include only those records where the last name matches 'Davis.' This code is particularly useful for identifying and extracting information specifically related to employees with the last name 'Davis' from the database. Its specificity allows for a focused retrieval of data, making it special for situations where detailed information about employees sharing a common last name is needed."
            ],
            "metadata": {
                "language": "sql",
                "azdata_cell_guid": "9373db84-b301-428e-b8ca-b7702ff63516"
            },
            "attachments": {}
        },
        {
            "cell_type": "code",
            "source": [
                "USE TSQLV4;\r\n",
                "SELECT empid, firstname, lastname\r\n",
                "FROM HR.Employees\r\n",
                "WHERE lastname = N'davis';\r\n",
                ""
            ],
            "metadata": {
                "language": "sql",
                "azdata_cell_guid": "320e4578-43e0-4ece-a076-b47d2d7b0f29",
                "tags": []
            },
            "outputs": [],
            "execution_count": null
        },
        {
            "cell_type": "markdown",
            "source": [
                "# **Chapter 02 - Exercises**"
            ],
            "metadata": {
                "language": "sql",
                "azdata_cell_guid": "efcffce4-8644-4344-a63e-48d33dc1fd77"
            },
            "attachments": {}
        },
        {
            "cell_type": "markdown",
            "source": [
                "## **Question 1**\r\n",
                "\r\n",
                "### It retrieves data related to orders, specifically the order ID, order date, customer ID, and employee ID. The WHERE clause is employed to filter the results, focusing on orders placed between June 1, 2015, and June 30, 2015. By using the conditions \"OrderDate >= '2015-06-01' AND OrderDate < '2015-07-01'\", the code ensures that only orders within this time frame are included in the query output, providing a targeted view of orders specifically placed during the month of June 2015."
            ],
            "metadata": {
                "language": "sql",
                "azdata_cell_guid": "b095b565-aae8-42a1-bb55-a339c3360231"
            },
            "attachments": {}
        },
        {
            "cell_type": "code",
            "source": [
                "--Question 1\r\n",
                "\r\n",
                "USE TSQLV4;\r\n",
                "SELECT orderid, orderdate, custid, empid\r\n",
                "FROM Sales.Orders\r\n",
                "WHERE orderdate >= '2015-06-01' AND orderdate < '2015-07-01';\r\n",
                "\r\n",
                "USE Northwinds2022TSQLV7;\r\n",
                "SELECT OrderId, OrderDate, CustomerId, EmployeeId\r\n",
                "FROM sales.[ORDER]\r\n",
                "WHERE OrderDate >= '2015-06-01' AND OrderDate < '2015-07-01';\r\n",
                ""
            ],
            "metadata": {
                "language": "sql",
                "azdata_cell_guid": "6067cb15-3752-489e-8edb-8c03388c5dfd",
                "tags": []
            },
            "outputs": [],
            "execution_count": null
        },
        {
            "cell_type": "markdown",
            "source": [
                "## **Question 2**\r\n",
                "\r\n",
                "### This code is designed to retrieve specific information from the \"Sales.Order\" table. It selects details such as the order ID, order date, customer ID, and employee ID. The WHERE clause is used to filter the results based on a specific condition. In this case, it focuses on orders where the day of the month matches the last day of the month (EOMONTH stands for \"End Of Month\"). This means the code is extracting orders placed on the final day of each month. It's a useful query for pinpointing orders that were processed on the last day of any given month, providing insights into end-of-month transactions."
            ],
            "metadata": {
                "language": "sql",
                "azdata_cell_guid": "1eb5cedd-7129-412f-9ea6-503a9e73dd12"
            },
            "attachments": {}
        },
        {
            "cell_type": "code",
            "source": [
                "--Question 2\r\n",
                "\r\n",
                "USE TSQLV4;\r\n",
                "SELECT orderid, orderdate, custid, empid\r\n",
                "FROM Sales.Orders\r\n",
                "WHERE DAY(orderdate) = DAY(EOMONTH(orderdate));\r\n",
                "\r\n",
                "use Northwinds2022TSQLV7;\r\n",
                "SELECT OrderId, OrderDate, CustomerId, EmployeeId\r\n",
                "FROM Sales.[Order]\r\n",
                "WHERE DAY(OrderDate) = DAY(EOMONTH(OrderDate));\r\n",
                "\r\n",
                "\r\n",
                ""
            ],
            "metadata": {
                "language": "sql",
                "azdata_cell_guid": "02ae9a46-f9ae-447d-bfca-6e7f2e4dfcde",
                "tags": []
            },
            "outputs": [],
            "execution_count": null
        },
        {
            "cell_type": "markdown",
            "source": [
                "## **Question 3**\r\n",
                "\r\n",
                "### This code is designed to retrieve information from the \"HumanResources.Employee\" table. It selects details such as employee ID, first name, and last name. The WHERE clause includes a condition that filters the results to include only those employees whose last names have at least two occurrences of the letter 'e'. The LEN function calculates the length of the last name, and the expression \"LEN(EmployeeLastName) - LEN(REPLACE(EmployeeLastName, 'e', ''))\" calculates the difference in length between the last name and the last name with all 'e's removed. If this difference is greater than or equal to 2, the employee's information is included in the query results. This code is useful for finding employees with a specific pattern in their last names, specifically those with multiple occurrences of the letter 'e'."
            ],
            "metadata": {
                "language": "sql",
                "azdata_cell_guid": "7d3c1703-ad64-4ef6-b9eb-35b96b6b8624"
            },
            "attachments": {}
        },
        {
            "cell_type": "code",
            "source": [
                "--Question 3\r\n",
                "\r\n",
                "USE TSQLV4;\r\n",
                "SELECT empid, firstname, lastname\r\n",
                "FROM HR.Employees\r\n",
                "WHERE LEN(lastname) - LEN(REPLACE(lastname, 'e', '')) >= 2\r\n",
                "\r\n",
                "use Northwinds2022TSQLV7;\r\n",
                "SELECT EmployeeId, EmployeeFirstName, EmployeeLastName\r\n",
                "FROM HumanResources.[Employee]\r\n",
                "WHERE LEN(EmployeeLastName) - LEN(REPLACE(EmployeeLastName, 'e', '')) >= 2\r\n",
                ""
            ],
            "metadata": {
                "language": "sql",
                "azdata_cell_guid": "457a03b3-3fa1-48e8-98b7-aa0aaa5d329f",
                "tags": []
            },
            "outputs": [],
            "execution_count": null
        },
        {
            "cell_type": "markdown",
            "source": [
                "## **Question 4**\r\n",
                "### This code extracts information from the \"sales.OrderDetail\" table. It selects the order ID and calculates the total value for each order by multiplying the quantity of items with their unit price and then summing up these values. The results are grouped by order ID using the GROUP BY clause. The HAVING clause is then applied to filter the results, including only those orders where the calculated total value is greater than $10,000. In simpler terms, this code is useful for identifying and summarizing orders that have a total value exceeding $10,000, providing a quick overview of high-value transactions in the database."
            ],
            "metadata": {
                "language": "sql",
                "azdata_cell_guid": "1421ffdd-ae23-443b-94d1-70b92d10357d"
            },
            "attachments": {}
        },
        {
            "cell_type": "code",
            "source": [
                "--Question 4\r\n",
                "\r\n",
                "USE TSQLV4;\r\n",
                "SELECT orderid, SUM(qty * unitprice) AS totalvalue\r\n",
                "FROM Sales.OrderDetails\r\n",
                "GROUP BY orderid\r\n",
                "HAVING SUM(qty * unitprice) > 10000\r\n",
                "ORDER BY totalvalue DESC;\r\n",
                "\r\n",
                "use Northwinds2022TSQLV7;\r\n",
                "SELECT OrderId, SUM(Quantity * UnitPrice) AS totalvalue\r\n",
                "FROM sales.[OrderDetail]\r\n",
                "GROUP BY OrderId\r\n",
                "HAVING SUM(Quantity * UnitPrice) > 10000\r\n",
                ""
            ],
            "metadata": {
                "language": "sql",
                "azdata_cell_guid": "8561b605-054f-49ed-9115-e04c08cf340a",
                "tags": []
            },
            "outputs": [],
            "execution_count": null
        },
        {
            "cell_type": "markdown",
            "source": [
                "## **Question 5**\r\n",
                "### This code is used to fetch information from the \"HumanResources.Employee\" table. It selects the employee ID and last name for employees whose last names start with a lowercase letter. The ASCII function is applied to the first letter (LEFT(EmployeeLastName, 1)) of each employee's last name, which returns the ASCII code for that letter. The condition \"BETWEEN 97 AND 122\" ensures that only letters 'a' to 'z' are included, which are the ASCII values for lowercase letters in the English alphabet. In simpler terms, this code helps identify and list employees whose last names begin with a lowercase letter, providing a targeted view of a specific group within the database."
            ],
            "metadata": {
                "language": "sql",
                "azdata_cell_guid": "64361739-bfc0-4687-8b2b-978f48cedbbe"
            },
            "attachments": {}
        },
        {
            "cell_type": "code",
            "source": [
                "--Question 5\r\n",
                "\r\n",
                "USE TSQLV4;\r\n",
                "SELECT empid, lastname\r\n",
                "FROM HR.Employees\r\n",
                "WHERE ASCII(LEFT(lastname, 1)) BETWEEN 97 AND 122;\r\n",
                "\r\n",
                "use Northwinds2022TSQLV7;\r\n",
                "SELECT EmployeeId, EmployeeLastName\r\n",
                "FROM HumanResources.[Employee]\r\n",
                "WHERE ASCII(LEFT(EmployeeLastName, 1)) BETWEEN 97 AND 122;\r\n",
                "\r\n",
                "\r\n",
                ""
            ],
            "metadata": {
                "language": "sql",
                "azdata_cell_guid": "8840904c-c8f8-40ad-9e85-af1f25c27f85",
                "tags": []
            },
            "outputs": [],
            "execution_count": null
        },
        {
            "cell_type": "markdown",
            "source": [
                "## **Question 6**\n",
                "### In Query 1, orders are counted for each employee with the condition that the order date is before May 1, 2016. This means it only considers orders placed prior to this specific date.\n",
                "\n",
                "### In Query 2, orders are also counted for each employee, but the condition is applied using the HAVING clause. Here, the focus is on employees whose maximum order date (MAX(orderdate)) is before May 1, 2016. This implies that it considers the employee's overall order history and only includes those whose latest order occurred before the specified date.\n",
                "\n",
                ""
            ],
            "metadata": {
                "language": "sql",
                "azdata_cell_guid": "72eb9f1d-cea5-4860-8f93-7c17b9e86845"
            },
            "attachments": {}
        },
        {
            "cell_type": "code",
            "source": [
                "--Question 6\r\n",
                "-- Query 1\r\n",
                "\r\n",
                "USE TSQLV4;\r\n",
                "SELECT empid, COUNT(*) AS numorders\r\n",
                "FROM Sales.Orders\r\n",
                "WHERE orderdate < '20160501'\r\n",
                "GROUP BY empid;\r\n",
                "\r\n",
                "-- Query 2\r\n",
                "SELECT empid, COUNT(*) AS numorders\r\n",
                "FROM Sales.Orders\r\n",
                "GROUP BY empid\r\n",
                "HAVING MAX(orderdate) < '20160501';\r\n",
                "\r\n",
                "use Northwinds2022TSQLV7;\r\n",
                "--Query 1\r\n",
                "SELECT EmployeeId, COUNT(*) AS numorders\r\n",
                "FROM sales.[Order]\r\n",
                "WHERE orderdate < '20160501'\r\n",
                "GROUP BY EmployeeId;\r\n",
                "\r\n",
                "\r\n",
                "-- Query 2\r\n",
                "SELECT EmployeeId, COUNT(*) AS numorders\r\n",
                "FROM sales.[Order]\r\n",
                "GROUP BY EmployeeId\r\n",
                "HAVING MAX(orderdate) < '20160501';\r\n",
                ""
            ],
            "metadata": {
                "language": "sql",
                "azdata_cell_guid": "e0c1ea82-5f4f-4822-934f-834ea490d99e",
                "tags": []
            },
            "outputs": [],
            "execution_count": null
        },
        {
            "cell_type": "markdown",
            "source": [
                "## **Question 7**\r\n",
                "### This code retrieves information from the \"sales.ORDER\" table, specifically focusing on the top 3 countries where orders were shipped in the year 2015. It calculates the average freight cost for each of these countries and names it as \"avgfreight.\" The results are grouped by the destination country, and the TOP 3 keyword ensures that only the top three countries with the highest average freight costs are included. Finally, the ORDER BY clause arranges the countries in descending order based on their average freight costs, so the country with the highest average freight appears first in the output. In simpler terms, the code helps identify and display the top three countries with the highest average shipping costs for orders placed in the year 2015.\r\n",
                ""
            ],
            "metadata": {
                "language": "sql",
                "azdata_cell_guid": "298fe254-b364-40ee-ad7f-4c8b75809c3a"
            },
            "attachments": {}
        },
        {
            "cell_type": "code",
            "source": [
                "--Question 7\r\n",
                "\r\n",
                "USE TSQLV4;\r\n",
                "SELECT TOP 3 shipcountry, AVG(freight) AS avgfreight\r\n",
                "FROM Sales.Orders\r\n",
                "WHERE YEAR(orderdate) = 2015\r\n",
                "GROUP BY shipcountry\r\n",
                "ORDER BY avgfreight DESC;\r\n",
                "\r\n",
                "use Northwinds2022TSQLV7;\r\n",
                "SELECT TOP 3 ShipToCountry, AVG(Freight) AS avgfreight\r\n",
                "FROM sales.[ORDER]\r\n",
                "WHERE YEAR(orderdate) = 2015\r\n",
                "GROUP BY ShipToCountry\r\n",
                "ORDER BY avgfreight DESC;\r\n",
                "\r\n",
                ""
            ],
            "metadata": {
                "language": "sql",
                "azdata_cell_guid": "c6c27aca-2784-4764-a342-e71b81606eae",
                "tags": []
            },
            "outputs": [],
            "execution_count": null
        },
        {
            "cell_type": "markdown",
            "source": [
                "## **Question 8**\r\n",
                "### This code retrieves information from the \"sales.ORDER\" table, specifically focusing on customer IDs, order dates, order IDs, and assigns a unique row number to each row. The ROW_NUMBER() function is used to generate this row number, and it is determined within each partition of data grouped by customer ID. The data is then sorted in ascending order first by customer ID, then by order date, and finally by order ID. This means that the output will display rows for each customer in chronological order based on when their orders were placed. The row numbers help identify the sequence of orders for each customer, providing a structured way to understand the order history for different customers."
            ],
            "metadata": {
                "language": "sql",
                "azdata_cell_guid": "0fa4051c-06f9-4a77-82a3-d7138d55bebd"
            },
            "attachments": {}
        },
        {
            "cell_type": "code",
            "source": [
                "--Question 8\r\n",
                "\r\n",
                "USE TSQLV4;\r\n",
                "SELECT custid, orderdate, orderid,\r\n",
                "   ROW_NUMBER() OVER (PARTITION BY custid ORDER BY orderdate, orderid) AS rownum\r\n",
                "FROM Sales.Orders\r\n",
                "ORDER BY custid, orderdate, orderid;\r\n",
                "\r\n",
                "use Northwinds2022TSQLV7;\r\n",
                "SELECT CustomerId, OrderDate, OrderId,\r\n",
                "  ROW_NUMBER() OVER (PARTITION BY CustomerId ORDER BY OrderDate, OrderId) AS rownum\r\n",
                "FROM sales.[ORDER]\r\n",
                "ORDER BY CustomerId, OrderDate, OrderId;\r\n",
                ""
            ],
            "metadata": {
                "language": "sql",
                "azdata_cell_guid": "c3b5b52c-e3cc-469c-9251-c6b885caa1c9",
                "tags": []
            },
            "outputs": [],
            "execution_count": null
        },
        {
            "cell_type": "markdown",
            "source": [
                "## **Question 9**\r\n",
                "### This code retrieves information from the \"humanresources.EMPLOYEE\" table, focusing on employee details such as ID, first name, last name, and title of courtesy. The CASE statement is used to create a new column called \"gender,\" which categorizes employees based on their title of courtesy. If the title is 'Ms.' or 'Mrs.', the gender is labeled as 'Female.' If the title is 'Mr.,' the gender is labeled as 'Male.' If the title doesn't match any of these cases, it is labeled as 'Unknown.' In simpler terms, this code helps classify employees into gender categories based on their titles, providing a quick overview of the gender distribution within the employee data."
            ],
            "metadata": {
                "language": "sql",
                "azdata_cell_guid": "d4a94aa5-876d-4620-b71e-8d08a1fae457"
            },
            "attachments": {}
        },
        {
            "cell_type": "code",
            "source": [
                "--Question 9\r\n",
                "\r\n",
                "USE TSQLV4;\r\n",
                "SELECT empid, firstname, lastname, titleofcourtesy,\r\n",
                "CASE\r\n",
                "       WHEN titleofcourtesy IN ('Ms.', 'Mrs.') THEN 'Female'\r\n",
                "       WHEN titleofcourtesy = 'Mr.' THEN 'Male'\r\n",
                "       ELSE 'Unknown'\r\n",
                "   END AS gender\r\n",
                "FROM\r\n",
                "   HR.Employees;\r\n",
                "\r\n",
                "   USE Northwinds2022TSQLV7;\r\n",
                "   SELECT EmployeeId, EmployeeFirstName, EmployeeLastName, EmployeeTitleofCourtesy,\r\n",
                "CASE\r\n",
                "      WHEN EmployeeTitleofCourtesy IN ('Ms.', 'Mrs.') THEN 'Female'\r\n",
                "      WHEN EmployeeTitleOfCourtesy= 'Mr.' THEN 'Male'\r\n",
                "      ELSE 'Unknown'\r\n",
                "  END AS gender\r\n",
                "FROM humanresources.[EMPLOYEE];\r\n",
                "\r\n",
                ""
            ],
            "metadata": {
                "language": "sql",
                "azdata_cell_guid": "00ed7db1-9204-4b0a-8ae0-2d3a7e3b189e",
                "tags": []
            },
            "outputs": [],
            "execution_count": null
        },
        {
            "cell_type": "markdown",
            "source": [
                "## **Question 10**\r\n",
                "### This code fetches customer IDs and their respective regions from the \"Sales.Customer\" table and arranges the results in a specific order. The ORDER BY clause, along with the CASE statement, is used to sort the rows based on whether the customer region is NULL or not. If the region is NULL, it assigns a value of 1; otherwise, it assigns 0. This ensures that rows with NULL regions appear first in the result set. After that, the rows are sorted based on the actual region values. In simpler terms, this code is designed to display customers with NULL regions at the top of the list, making it easy to identify and handle records with missing or unspecified region information."
            ],
            "metadata": {
                "language": "sql",
                "azdata_cell_guid": "85fad8dd-d6f0-4c95-b44c-300f39232a2b"
            },
            "attachments": {}
        },
        {
            "cell_type": "code",
            "source": [
                "--Question 10\r\n",
                "\r\n",
                "USE TSQLV4;\r\n",
                "SELECT custid,region\r\n",
                "FROM Sales.Customers\r\n",
                "ORDER BY\r\n",
                "   CASE\r\n",
                "       WHEN region IS NULL THEN 1\r\n",
                "       ELSE 0\r\n",
                "   END,\r\n",
                "   region;\r\n",
                "\r\n",
                "   use Northwinds2022TSQLV7;\r\n",
                "   SELECT CustomerId,CustomerRegion\r\n",
                "FROM Sales.Customer\r\n",
                "ORDER BY\r\n",
                "  CASE\r\n",
                "      WHEN CustomerRegion IS NULL THEN 1\r\n",
                "      ELSE 0\r\n",
                "  END,\r\n",
                "  CustomerRegion;\r\n",
                "\r\n",
                ""
            ],
            "metadata": {
                "language": "sql",
                "azdata_cell_guid": "fb05ef32-d43a-49c7-92af-f8c675daec10",
                "tags": []
            },
            "outputs": [],
            "execution_count": null
        },
        {
            "cell_type": "markdown",
            "source": [
                "# **Chapter 02 - Queries**"
            ],
            "metadata": {
                "language": "sql",
                "azdata_cell_guid": "c8df2dbb-13c9-431a-970c-bac68644200b"
            },
            "attachments": {}
        },
        {
            "cell_type": "markdown",
            "source": [
                "- Calculate the number of orders placed by each employee for a specific customer (custid = 71)\r\n",
                "\r\n",
                "- Group the results by employee ID and the year of order date\r\n",
                "\r\n",
                "- Count only those cases where the number of orders in a given year is greater than 1\r\n",
                "\r\n",
                "- Tables involved: Sales.Orders table"
            ],
            "metadata": {
                "language": "sql",
                "azdata_cell_guid": "5cdc6d94-118f-4852-9a9c-d0b6b9e84d82"
            },
            "attachments": {}
        },
        {
            "cell_type": "code",
            "source": [
                "USE TSQLV4;\r\n",
                "SELECT empid, YEAR(orderdate) AS orderyear, COUNT(*) AS numorders\r\n",
                "FROM Sales.Orders\r\n",
                "WHERE custid = 71\r\n",
                "GROUP BY empid, YEAR(orderdate)\r\n",
                "HAVING COUNT(*) > 1\r\n",
                "ORDER BY empid, orderyear;\r\n",
                "\r\n",
                "\r\n",
                "\r\n",
                ""
            ],
            "metadata": {
                "azdata_cell_guid": "7691a2af-a8ef-4beb-9504-98382a9c1a4c",
                "language": "sql",
                "tags": []
            },
            "outputs": [],
            "execution_count": null
        },
        {
            "cell_type": "markdown",
            "source": [
                "- Retrieve the employee ID, order year, and total freight cost for orders placed by a specific customer (custid = 71)\r\n",
                "\r\n",
                "- Group the results by employee ID and the year of order date\r\n",
                "\r\n",
                "- Display the total freight cost for each employee in each year\r\n",
                "\r\n",
                "- Tables involved: Sales.Orders table"
            ],
            "metadata": {
                "language": "sql",
                "azdata_cell_guid": "6d6ea6da-f812-4ae3-badd-4eee9859e2f2"
            },
            "attachments": {}
        },
        {
            "cell_type": "code",
            "source": [
                "-- this code is commented in the chapter 02 queries too\r\n",
                "/*USE TSQLV4;\r\n",
                "\r\n",
                "SELECT empid, YEAR(orderdate) AS orderyear, freight\r\n",
                "FROM Sales.Orders\r\n",
                "WHERE custid = 71\r\n",
                "GROUP BY empid, YEAR(orderdate);\r\n",
                "*/\r\n",
                ""
            ],
            "metadata": {
                "language": "sql",
                "azdata_cell_guid": "18b1b7d3-5fc8-486c-909b-6103444e0c58",
                "tags": []
            },
            "outputs": [],
            "execution_count": null
        },
        {
            "cell_type": "markdown",
            "source": [
                "- Retrieve order IDs and corresponding order years from the 'Sales.Orders' table\r\n",
                "\r\n",
                "- Filter the results to include only orders with a year greater than 2015\r\n",
                "\r\n",
                "- Utilize the YEAR function for extracting the year from the order date\r\n",
                "\r\n",
                "- This is a filtering operation based on the order year\r\n",
                "\r\n",
                "- Tables involved: Sales.Orders table\r\n",
                ""
            ],
            "metadata": {
                "language": "sql",
                "azdata_cell_guid": "19a42e75-978c-4468-98c2-4206ab21c4cd"
            },
            "attachments": {}
        },
        {
            "cell_type": "code",
            "source": [
                "USE TSQLV4;\r\n",
                "-- this code is commented in the chapter 02 queries too\r\n",
                "/* SELECT orderid, YEAR(orderdate) AS orderyear \r\n",
                "FROM Sales.Orders\r\n",
                "WHERE orderyear > 2015;\r\n",
                "*/"
            ],
            "metadata": {
                "language": "sql",
                "azdata_cell_guid": "ed66d702-6c89-450e-a1cb-f90051b559a9",
                "tags": []
            },
            "outputs": [],
            "execution_count": null
        },
        {
            "cell_type": "markdown",
            "source": [
                "- Retrieve distinct combinations of employee ID and the year of order date for orders placed by a specific customer (custid = 71)\r\n",
                "\r\n",
                "- Display unique pairs of employee ID and order year\r\n",
                "\r\n",
                "- Tables involved: Sales.Orders table"
            ],
            "metadata": {
                "language": "sql",
                "azdata_cell_guid": "53b8b64a-2634-4650-8b40-259baadf13d4"
            },
            "attachments": {}
        },
        {
            "cell_type": "code",
            "source": [
                "USE TSQLV4;\r\n",
                "SELECT DISTINCT empid, YEAR(orderdate) AS orderyear\r\n",
                "FROM Sales.Orders\r\n",
                "WHERE custid = 71;\r\n",
                ""
            ],
            "metadata": {
                "language": "sql",
                "azdata_cell_guid": "4735efec-42b0-4142-b1bf-32ef8158b774",
                "tags": []
            },
            "outputs": [],
            "execution_count": null
        },
        {
            "cell_type": "markdown",
            "source": [
                "- Retrieve employee details including employee ID, first name, last name, and country\r\n",
                "\r\n",
                "- from the HR.Employees table\r\n",
                "\r\n",
                "- Arrange the results in ascending order based on the hire date\r\n",
                "\r\n",
                "- Tables involved: HR.Employees table"
            ],
            "metadata": {
                "language": "sql",
                "azdata_cell_guid": "f1a7ac03-3832-4eb7-afb0-d9ecb3e91d7b"
            },
            "attachments": {}
        },
        {
            "cell_type": "code",
            "source": [
                "USE TSQLV4;\r\n",
                "SELECT empid, firstname, lastname, country\r\n",
                "FROM HR.Employees\r\n",
                "ORDER BY hiredate;\r\n",
                ""
            ],
            "metadata": {
                "language": "sql",
                "azdata_cell_guid": "57ced97b-8332-4728-a1b8-12782805e8b8",
                "tags": []
            },
            "outputs": [],
            "execution_count": null
        },
        {
            "cell_type": "markdown",
            "source": [
                "- Retrieve the top 5 orders with ties based on the order date in descending order\r\n",
                "\r\n",
                "- Display order details including order ID (orderid), order date (orderdate), customer ID (custid), and employee ID (empid)\r\n",
                "\r\n",
                "- Tables involved: Sales.Orders table"
            ],
            "metadata": {
                "language": "sql",
                "azdata_cell_guid": "b8d69a85-e237-411f-9f49-cd0c76dbf368"
            },
            "attachments": {}
        },
        {
            "cell_type": "code",
            "source": [
                "USE TSQLV4;\r\n",
                "SELECT TOP (5) WITH TIES orderid, orderdate, custid, empid\r\n",
                "FROM Sales.Orders\r\n",
                "ORDER BY orderdate DESC;\r\n",
                ""
            ],
            "metadata": {
                "language": "sql",
                "azdata_cell_guid": "a18161a2-9cde-4c55-88c7-8d59a4733b56",
                "tags": []
            },
            "outputs": [],
            "execution_count": null
        },
        {
            "cell_type": "markdown",
            "source": [
                "- Retrieve employee details including employee ID (empid), first name (firstname), and last name (lastname)\r\n",
                "\r\n",
                "- From the HR.Employees table\r\n",
                "\r\n",
                "- Filter the results to include only those employees whose last name starts with the letter 'D'\r\n",
                "\r\n",
                "- Tables involved: HR.Employees table"
            ],
            "metadata": {
                "language": "sql",
                "azdata_cell_guid": "5568e047-b8c4-4a61-bc88-45f6768d8295"
            },
            "attachments": {}
        },
        {
            "cell_type": "code",
            "source": [
                "USE TSQLV4;\r\n",
                "SELECT empid, firstname, lastname\r\n",
                "FROM HR.Employees\r\n",
                "WHERE lastname LIKE N'D%';\r\n",
                ""
            ],
            "metadata": {
                "language": "sql",
                "azdata_cell_guid": "899ff175-9af0-46d5-aea1-11d6a1d925e5",
                "tags": []
            },
            "outputs": [],
            "execution_count": null
        },
        {
            "cell_type": "markdown",
            "source": [
                "- Retrieve order details including order ID (orderid), customer ID (custid), employee ID (empid), and order date (orderdate)\r\n",
                "\r\n",
                "- From the Sales.Orders table\r\n",
                "\r\n",
                "- Include orders where either (custid is 1 and empid is 1, 3, or 5) or (custid is 85 and empid is 2, 4, or 6)"
            ],
            "metadata": {
                "language": "sql",
                "azdata_cell_guid": "78f68d4a-f5ee-4192-9864-d0d879471317"
            },
            "attachments": {}
        },
        {
            "cell_type": "code",
            "source": [
                "USE TSQLV4;\r\n",
                "SELECT orderid, custid, empid, orderdate\r\n",
                "FROM Sales.Orders\r\n",
                "WHERE\r\n",
                "      ( custid = 1\r\n",
                "        AND empid IN(1, 3, 5) )\r\n",
                "    OR\r\n",
                "      ( custid = 85\r\n",
                "        AND empid IN(2, 4, 6) );\r\n",
                ""
            ],
            "metadata": {
                "language": "sql",
                "azdata_cell_guid": "ade0d616-bd95-499a-8b09-8cb0bb3c3a77",
                "tags": []
            },
            "outputs": [],
            "execution_count": null
        },
        {
            "cell_type": "markdown",
            "source": [
                "- Retrieve customer details including customer ID (custid), country (country), region (region), and city (city)\r\n",
                "\r\n",
                "- From the Sales.Customers table\r\n",
                "\r\n",
                "- Include only those customers located in the region with the code 'WA'"
            ],
            "metadata": {
                "language": "sql",
                "azdata_cell_guid": "6472945e-5db9-4eea-af94-edfe964e1547"
            },
            "attachments": {}
        },
        {
            "cell_type": "code",
            "source": [
                "USE TSQLV4;\r\n",
                "SELECT custid, country, region, city\r\n",
                "FROM Sales.Customers\r\n",
                "WHERE region = N'WA';\r\n",
                ""
            ],
            "metadata": {
                "language": "sql",
                "azdata_cell_guid": "65addf44-07db-4d93-96f7-400604ef0f2a",
                "tags": []
            },
            "outputs": [],
            "execution_count": null
        },
        {
            "cell_type": "markdown",
            "source": [
                "- Retrieve order IDs, order years, and the year immediately following each order year\r\n",
                "- Utilize the YEAR function for extracting the year from the order date\r\n",
                "- Perform arithmetic to calculate the next year based on the extracted order year\r\n",
                "- This is a projection operation on the order year with an arithmetic calculation\r\n",
                "- Tables involved: Sales.Orders table\r\n",
                ""
            ],
            "metadata": {
                "language": "sql",
                "azdata_cell_guid": "43539646-e533-4c1b-8f40-c4ea1c490dee"
            },
            "attachments": {}
        },
        {
            "cell_type": "code",
            "source": [
                "-- this code is commented in the chapter 02 queries too\r\n",
                "/* USE TSQLV4;\r\n",
                "SELECT \r\n",
                "  orderid, \r\n",
                "  YEAR(orderdate) AS orderyear, \r\n",
                "  orderyear + 1 AS nextyear\r\n",
                "FROM Sales.Orders;\r\n",
                "*/\r\n",
                ""
            ],
            "metadata": {
                "language": "sql",
                "azdata_cell_guid": "e49fde8d-3d0b-430b-809f-567a13be3fac",
                "tags": []
            },
            "outputs": [],
            "execution_count": null
        },
        {
            "cell_type": "markdown",
            "source": [
                "- Retrieve employee details including employee ID (empid), first name (firstname), and last name (lastname)\r\n",
                "\r\n",
                "- From the HR.Employees table\r\n",
                "\r\n",
                "- Include only those employees whose last name is 'Davis' (case-sensitive)"
            ],
            "metadata": {
                "language": "sql",
                "azdata_cell_guid": "3e40e7f5-85a4-4a70-8a91-8913de1cbf79"
            },
            "attachments": {}
        },
        {
            "cell_type": "code",
            "source": [
                "USE TSQLV4;\r\n",
                "SELECT empid, firstname, lastname\r\n",
                "FROM HR.Employees\r\n",
                "WHERE lastname = N'davis';\r\n",
                ""
            ],
            "metadata": {
                "language": "sql",
                "azdata_cell_guid": "4e065517-ae17-4040-ac54-c6bc6a8a7528",
                "tags": []
            },
            "outputs": [],
            "execution_count": null
        },
        {
            "cell_type": "markdown",
            "source": [
                "- Retrieve customer details including customer ID (custid), country (country), region (region), and city (city)\r\n",
                "\r\n",
                "- Create a new column location by concatenating the country, region, and city with commas in between\r\n",
                "\r\n",
                "- From the Sales.Customers table"
            ],
            "metadata": {
                "language": "sql",
                "azdata_cell_guid": "dbaafc1c-b509-44c2-8d24-ddffc2982cdb"
            },
            "attachments": {}
        },
        {
            "cell_type": "code",
            "source": [
                "USE TSQLV4;\r\n",
                "SELECT custid, country, region, city,\r\n",
                "  CONCAT(country, N',' + region, N',' + city) AS location\r\n",
                "FROM Sales.Customers;\r\n",
                ""
            ],
            "metadata": {
                "language": "sql",
                "azdata_cell_guid": "30516ca0-feff-46c7-91f2-abd2f5265fd8",
                "tags": []
            },
            "outputs": [],
            "execution_count": null
        },
        {
            "cell_type": "markdown",
            "source": [
                "- Find the position of the first space character in the string 'Itzik Ben-Gan'\r\n",
                "\r\n",
                "- Utilize the CHARINDEX function to perform the search\r\n",
                "\r\n",
                "- This is a character manipulation operation\r\n",
                "\r\n",
                "- No tables are involved in this query"
            ],
            "metadata": {
                "language": "sql",
                "azdata_cell_guid": "42e31b2e-9f11-4fb7-aa90-6a080672d28d"
            },
            "attachments": {}
        },
        {
            "cell_type": "code",
            "source": [
                "USE TSQLV4;\r\n",
                "SELECT CHARINDEX(' ','Itzik Ben-Gan'); -- 6\r\n",
                ""
            ],
            "metadata": {
                "language": "sql",
                "azdata_cell_guid": "fb6366ea-0198-4a37-8cd9-3916cb2f4069",
                "tags": []
            },
            "outputs": [],
            "execution_count": null
        },
        {
            "cell_type": "markdown",
            "source": [
                "- Retrieve supplier details including supplier ID (supplierid)\r\n",
                "\r\n",
                "- Create a new column strsupplierid by padding the supplier ID with leading zeros to make it a 10-character string\r\n",
                "\r\n",
                "- From the Production.Suppliers table"
            ],
            "metadata": {
                "language": "sql",
                "azdata_cell_guid": "c31492e1-6a93-4013-9e40-617e3c69c7e2"
            },
            "attachments": {}
        },
        {
            "cell_type": "code",
            "source": [
                "USE TSQLV4;\r\n",
                "SELECT supplierid,\r\n",
                "  RIGHT(REPLICATE('0', 9) + CAST(supplierid AS VARCHAR(10)),\r\n",
                "        10) AS strsupplierid\r\n",
                "FROM Production.Suppliers;\r\n",
                ""
            ],
            "metadata": {
                "language": "sql",
                "azdata_cell_guid": "14710053-a58e-428c-b356-66c5e5af07f9",
                "tags": []
            },
            "outputs": [],
            "execution_count": null
        },
        {
            "cell_type": "markdown",
            "source": [
                "- Format the integer value 1759 as a 10-digit string with leading zeros\r\n",
                "\r\n",
                "- Utilize the FORMAT function for formatting\r\n",
                "\r\n",
                "- This is a formatting operation for numeric data\r\n",
                "\r\n",
                "- No tables are involved in this query"
            ],
            "metadata": {
                "language": "sql",
                "azdata_cell_guid": "57768f9a-ce5f-4962-900c-9649f500df01"
            },
            "attachments": {}
        },
        {
            "cell_type": "code",
            "source": [
                "USE TSQLV4;\r\n",
                "SELECT FORMAT(1759, '0000000000'); -- '0000001759'\r\n",
                ""
            ],
            "metadata": {
                "language": "sql",
                "azdata_cell_guid": "44a093c0-042b-4c57-a129-b3b115792636",
                "tags": []
            },
            "outputs": [],
            "execution_count": null
        },
        {
            "cell_type": "markdown",
            "source": [
                "- Retrieve employee IDs and decompressed CVs from the 'dbo.EmployeeCVs' table\r\n",
                "- Utilize the DECOMPRESS function for decompressing compressed data\r\n",
                "- Cast the decompressed data to NVARCHAR(MAX) for proper display\r\n",
                "- This is a decompression operation on compressed data\r\n",
                "- Tables involved: dbo.EmployeeCVs table\r\n",
                ""
            ],
            "metadata": {
                "language": "sql",
                "azdata_cell_guid": "761c65a2-0437-4531-abe0-07bd4f4bcf55"
            },
            "attachments": {}
        },
        {
            "cell_type": "code",
            "source": [
                "-- this code is commented in the chapter 02 queries too\r\n",
                "/*SELECT empid, CAST(DECOMPRESS(cv) AS NVARCHAR(MAX)) AS cv\r\n",
                "FROM dbo.EmployeeCVs;\r\n",
                "*/\r\n",
                ""
            ],
            "metadata": {
                "language": "sql",
                "azdata_cell_guid": "90bed74e-3098-4066-9a0e-9ee56b89daad",
                "tags": []
            },
            "outputs": [],
            "execution_count": null
        },
        {
            "cell_type": "markdown",
            "source": [
                "- Retrieve employee details including employee ID (empid) and last name (lastname)\r\n",
                "\r\n",
                "- From the HR.Employees table\r\n",
                "\r\n",
                "- Include only those employees whose last names start with a letter between 'A' and 'E' (inclusive)"
            ],
            "metadata": {
                "language": "sql",
                "azdata_cell_guid": "2d2ab344-50d6-413b-802f-031e870ce22f"
            },
            "attachments": {}
        },
        {
            "cell_type": "code",
            "source": [
                "USE TSQLV4;\r\n",
                "SELECT empid, lastname\r\n",
                "FROM HR.Employees\r\n",
                "WHERE lastname LIKE N'[A-E]%';\r\n",
                ""
            ],
            "metadata": {
                "language": "sql",
                "azdata_cell_guid": "841f955f-0fea-46b2-9407-3032feedd107",
                "tags": []
            },
            "outputs": [],
            "execution_count": null
        },
        {
            "cell_type": "markdown",
            "source": [
                "- Set the language for the session to US English and then cast a string to a date\r\n",
                "\r\n",
                "- Utilize the SET LANGUAGE statement to set the language\r\n",
                "\r\n",
                "- Use the CAST function to convert the string '02/12/2016' to a date\r\n",
                "\r\n",
                "- This is a language-specific date conversion operation\r\n",
                "\r\n",
                "- No tables are involved in this query"
            ],
            "metadata": {
                "language": "sql",
                "azdata_cell_guid": "cb610b39-4b49-4381-846c-69ff4ae62f7d"
            },
            "attachments": {}
        },
        {
            "cell_type": "code",
            "source": [
                "USE TSQLV4;\r\n",
                "SET LANGUAGE us_english;\r\n",
                "SELECT CAST('02/12/2016' AS DATE);\r\n",
                ""
            ],
            "metadata": {
                "language": "sql",
                "azdata_cell_guid": "da5d6096-1e7a-490d-9f49-33b858d092e4",
                "tags": []
            },
            "outputs": [],
            "execution_count": null
        },
        {
            "cell_type": "markdown",
            "source": [
                "- Parse a string representing a date using the 'en-US' culture\r\n",
                "\r\n",
                "- Utilize the PARSE function to perform the date parsing\r\n",
                "\r\n",
                "- This is a culture-specific date conversion operation\r\n",
                "\r\n",
                "- No tables are involved in this query"
            ],
            "metadata": {
                "language": "sql",
                "azdata_cell_guid": "f21205b1-e7cc-44dc-beaa-904be5b05c66"
            },
            "attachments": {}
        },
        {
            "cell_type": "code",
            "source": [
                "USE TSQLV4;\r\n",
                "SELECT PARSE('02/12/2016' AS DATE USING 'en-US');\r\n",
                ""
            ],
            "metadata": {
                "language": "sql",
                "azdata_cell_guid": "fa55687d-449f-491a-beb5-f65c42e5c549",
                "tags": []
            },
            "outputs": [],
            "execution_count": null
        },
        {
            "cell_type": "markdown",
            "source": [
                "- Add a CHECK constraint to ensure that the 'orderdate' column in the 'Sales.Orders2' table has a time component set to midnight\r\n",
                "- Utilize the CONVERT function for formatting the time component\r\n",
                "- This is a data integrity enforcement operation\r\n",
                "- Tables involved: Sales.Orders2 table\r\n",
                ""
            ],
            "metadata": {
                "language": "sql",
                "azdata_cell_guid": "854c03d1-40b8-4798-8507-043bd48a6798"
            },
            "attachments": {}
        },
        {
            "cell_type": "code",
            "source": [
                "/*USE TSQLV4;\r\n",
                "--no access to the Sales.Orders2\r\n",
                "ALTER TABLE Sales.Orders2\r\n",
                "  ADD CONSTRAINT CHK_Orders2_orderdate\r\n",
                "  CHECK( CONVERT(CHAR(12), orderdate, 114) = '00:00:00:000' );\r\n",
                "  */\r\n",
                ""
            ],
            "metadata": {
                "language": "sql",
                "azdata_cell_guid": "30e64878-17fb-4c65-9db3-2dccf08e33dd",
                "tags": []
            },
            "outputs": [],
            "execution_count": null
        },
        {
            "cell_type": "markdown",
            "source": [
                "- Retrieve order details including order ID (orderid), customer ID (custid), employee ID (empid), and order date (orderdate)\r\n",
                "\r\n",
                "- From the Sales.Orders table\r\n",
                "\r\n",
                "- Include only those orders where the order date is on or after January 1, 2015, and before January 1, 2016"
            ],
            "metadata": {
                "language": "sql",
                "azdata_cell_guid": "eab03534-a3bd-49d4-8901-370213a8f998"
            },
            "attachments": {}
        },
        {
            "cell_type": "code",
            "source": [
                "USE TSQLV4;\r\n",
                "SELECT orderid, custid, empid, orderdate\r\n",
                "FROM Sales.Orders\r\n",
                "WHERE orderdate >= '20150101' AND orderdate < '20160101';\r\n",
                ""
            ],
            "metadata": {
                "language": "sql",
                "azdata_cell_guid": "089d219c-fa78-4ba8-80ab-7bc86a8d62f8",
                "tags": []
            },
            "outputs": [],
            "execution_count": null
        },
        {
            "cell_type": "markdown",
            "source": [
                "- Cast a string representing a date in 'YYYYMMDD' format to a date\r\n",
                "\r\n",
                "- Utilize the CAST function for date conversion\r\n",
                "\r\n",
                "- This is a format-specific date conversion operation\r\n",
                "\r\n",
                "- No tables are involved in this query"
            ],
            "metadata": {
                "language": "sql",
                "azdata_cell_guid": "37990331-06c0-470e-8515-8688ff4402d2"
            },
            "attachments": {}
        },
        {
            "cell_type": "code",
            "source": [
                "USE TSQLV4;\r\n",
                "SELECT CAST('20160212' AS DATE);\r\n",
                ""
            ],
            "metadata": {
                "language": "sql",
                "azdata_cell_guid": "0b6f31b2-4b45-4a6c-82cd-0853ccc8350b",
                "tags": []
            },
            "outputs": [],
            "execution_count": null
        },
        {
            "cell_type": "markdown",
            "source": [
                "- Convert the current timestamp to a character string with a specific time style\r\n",
                "\r\n",
                "- Utilize the CONVERT function for date and time formatting\r\n",
                "\r\n",
                "- This is a timestamp formatting operation\r\n",
                "\r\n",
                "- No tables are involved in this query"
            ],
            "metadata": {
                "language": "sql",
                "azdata_cell_guid": "51820dd9-8f69-4b7a-b6e8-7a4e1c0fb9fc"
            },
            "attachments": {}
        },
        {
            "cell_type": "code",
            "source": [
                "USE TSQLV4;\r\n",
                "SELECT CONVERT(CHAR(12), CURRENT_TIMESTAMP, 114);\r\n",
                ""
            ],
            "metadata": {
                "language": "sql",
                "azdata_cell_guid": "982c6b2e-fdf7-42da-9990-95d9522a9a31",
                "tags": []
            },
            "outputs": [],
            "execution_count": null
        },
        {
            "cell_type": "markdown",
            "source": [
                "- Switch the time zone offset of the current system date and time to UTC\r\n",
                "\r\n",
                "- Utilize the SWITCHOFFSET function for adjusting time zone offset\r\n",
                "\r\n",
                "- This is a time zone conversion operation\r\n",
                "\r\n",
                "- No tables are involved in this query"
            ],
            "metadata": {
                "language": "sql",
                "azdata_cell_guid": "7fac3c56-da20-49c9-8aee-e510c1786d21"
            },
            "attachments": {}
        },
        {
            "cell_type": "code",
            "source": [
                "USE TSQLV4;\r\n",
                "SELECT SWITCHOFFSET(SYSDATETIMEOFFSET(), '+00:00');\r\n",
                ""
            ],
            "metadata": {
                "language": "sql",
                "azdata_cell_guid": "4f545180-8ad8-4018-b280-f8b2c71a5f68",
                "tags": []
            },
            "outputs": [],
            "execution_count": null
        },
        {
            "cell_type": "markdown",
            "source": [
                "- Add 1 year to a specified date represented as a string\r\n",
                "\r\n",
                "- Utilize the DATEADD function for date manipulation\r\n",
                "\r\n",
                "- This is a date addition operation\r\n",
                "\r\n",
                "- No tables are involved in this query"
            ],
            "metadata": {
                "language": "sql",
                "azdata_cell_guid": "1e204012-d28c-4968-b678-18d2c4a733c6"
            },
            "attachments": {}
        },
        {
            "cell_type": "code",
            "source": [
                "USE TSQLV4;\r\n",
                "SELECT DATEADD(year, 1, '20160212');\r\n",
                ""
            ],
            "metadata": {
                "language": "sql",
                "azdata_cell_guid": "d1d969ed-8644-40d8-9472-502dac55834b",
                "tags": []
            },
            "outputs": [],
            "execution_count": null
        },
        {
            "cell_type": "markdown",
            "source": [
                "- Calculate the current year for each date in the specified format ('18991231')\r\n",
                "\r\n",
                "- by determining the difference in years between the current date and the reference date\r\n",
                "\r\n",
                "- Tables involved: None (This is a scalar operation using system date functions)"
            ],
            "metadata": {
                "language": "sql",
                "azdata_cell_guid": "f9e91788-2e6f-4c71-8260-41f95dbf2aab"
            },
            "attachments": {}
        },
        {
            "cell_type": "code",
            "source": [
                "USE TSQLV4;\r\n",
                "SELECT\r\n",
                "  DATEADD(\r\n",
                "    year, \r\n",
                "    DATEDIFF(year, '18991231', SYSDATETIME()), '18991231');\r\n",
                ""
            ],
            "metadata": {
                "language": "sql",
                "azdata_cell_guid": "9a7bbe16-b965-4917-8b34-2b03e944b08a",
                "tags": []
            },
            "outputs": [],
            "execution_count": null
        },
        {
            "cell_type": "markdown",
            "source": [
                "- Check if a given string can be interpreted as a valid date\r\n",
                "\r\n",
                "- The string '20160212' is evaluated for its date validity\r\n",
                "\r\n",
                "- This is a scalar operation and does not involve tables"
            ],
            "metadata": {
                "language": "sql",
                "azdata_cell_guid": "979fdc37-a12c-496e-917a-94466bd0ae9f"
            },
            "attachments": {}
        },
        {
            "cell_type": "code",
            "source": [
                "-- ISDATE\r\n",
                "USE TSQLV4;\r\n",
                "SELECT ISDATE('20160212');\r\n",
                ""
            ],
            "metadata": {
                "language": "sql",
                "azdata_cell_guid": "503ce605-b562-47bf-ab38-3f164bd444eb",
                "tags": []
            },
            "outputs": [],
            "execution_count": null
        },
        {
            "cell_type": "markdown",
            "source": [
                "- Retrieve information about tables in the database, including schema names and table names\r\n",
                "\r\n",
                "- Utilize the sys.tables system view\r\n",
                "\r\n",
                "- Use SCHEMA_NAME function to convert schema_id to schema name\r\n",
                "\r\n",
                "- Tables involved: sys.tables system view"
            ],
            "metadata": {
                "language": "sql",
                "azdata_cell_guid": "0824e5b5-1566-401c-a6c2-7c28a6fc5f6f"
            },
            "attachments": {}
        },
        {
            "cell_type": "code",
            "source": [
                "-- Catalog Views\r\n",
                "USE TSQLV4;\r\n",
                "SELECT SCHEMA_NAME(schema_id) AS table_schema_name, name AS table_name\r\n",
                "FROM sys.tables;\r\n",
                ""
            ],
            "metadata": {
                "language": "sql",
                "azdata_cell_guid": "43d83a97-1789-4490-b687-62332c4c4abc",
                "tags": []
            },
            "outputs": [],
            "execution_count": null
        },
        {
            "cell_type": "markdown",
            "source": [
                "- Retrieve detailed information about the structure of the 'Sales.Orders' table\r\n",
                "\r\n",
                "- Utilize the sys.sp_help stored procedure\r\n",
                "\r\n",
                "- Specify the table name 'Sales.Orders' as the parameter for @objname\r\n",
                "\r\n",
                "- This is a descriptive operation aiming to understand the table's characteristics\r\n",
                "\r\n",
                "- Tables involved: Sales.Orders table (indirectly through sys.sp_help)"
            ],
            "metadata": {
                "language": "sql",
                "azdata_cell_guid": "c44abd47-d010-4570-a329-4e1f87a4fbc9"
            },
            "attachments": {}
        },
        {
            "cell_type": "code",
            "source": [
                "USE TSQLV4;\r\n",
                "EXEC sys.sp_help\r\n",
                "  @objname = N'Sales.Orders';\r\n",
                ""
            ],
            "metadata": {
                "language": "sql",
                "azdata_cell_guid": "e1444486-4c2b-472d-bd24-17c73df4e538",
                "tags": []
            },
            "outputs": [],
            "execution_count": null
        },
        {
            "cell_type": "markdown",
            "source": [
                "- Check if the 'Sales.Orders' table has a primary key\r\n",
                "\r\n",
                "- Utilize the OBJECTPROPERTY function with 'TableHasPrimaryKey' property\r\n",
                "\r\n",
                "- This is a metadata query to understand the key structure of the table\r\n",
                "\r\n",
                "- Tables involved: Sales.Orders table (indirectly through OBJECTPROPERTY)"
            ],
            "metadata": {
                "language": "sql",
                "azdata_cell_guid": "ffeb93a5-6b60-4690-afba-4c9017fb360c"
            },
            "attachments": {}
        },
        {
            "cell_type": "code",
            "source": [
                "USE TSQLV4;\r\n",
                "SELECT \r\n",
                "  OBJECTPROPERTY(OBJECT_ID(N'Sales.Orders'), 'TableHasPrimaryKey');\r\n",
                ""
            ],
            "metadata": {
                "language": "sql",
                "azdata_cell_guid": "d81eba01-fd44-41d0-8645-656f6a7c9360",
                "tags": []
            },
            "outputs": [],
            "execution_count": null
        }
    ]
}