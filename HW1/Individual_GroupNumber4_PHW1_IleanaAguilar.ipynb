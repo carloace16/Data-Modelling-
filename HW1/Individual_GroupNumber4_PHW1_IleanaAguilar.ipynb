{
    "metadata": {
        "kernelspec": {
            "name": "SQL",
            "display_name": "SQL",
            "language": "sql"
        },
        "language_info": {
            "name": "sql",
            "version": ""
        }
    },
    "nbformat_minor": 2,
    "nbformat": 4,
    "cells": [
        {
            "cell_type": "markdown",
            "source": [
                "# My Top Five"
            ],
            "metadata": {
                "azdata_cell_guid": "e8834eb0-8d50-492e-899d-43d367f7976c"
            },
            "attachments": {}
        },
        {
            "cell_type": "markdown",
            "source": [
                "# Query 4\n",
                "In this query we want to return orders with total value (quantity * unitprice) greater than 10000 sorted by total value.\n",
                "\n",
                "In order to do that, we need to:\n",
                "\n",
                "1. Select the Order ID (`orderid`) and total value (`qty * unitprice`) of orders from a table named `OrderDetails` within a schema named `Sales`.\n",
                "2. Then, filter and return those orders whose total value (`qty * unitprice`) is greater than 10000.\n",
                "\n",
                "\n",
                "\n",
                "  \n",
                "\n",
                "## Let's break this down:\n",
                "\n",
                "The names of the output columns will be `orderid` and `totalvalue`.\n",
                "\n",
                "`SUM(qty * unitprice)` calculates the total value of each order by multiplying the quantity (`qty`) of each item in the order by its unit price (`unitprice`), and then summing these products for all items within the same order.\n",
                "\n",
                "`SUM(qty * unitprice) AS totalvalue`: The `SUM(qty * unitprice)` calculation is labeled as `totalvalue` for each order.\n",
                "\n",
                "`GROUP BY orderid`: `SUM(qty * unitprice)` is performed separately for each order. There will be one row per order in the output, with each row showing the total value of that order.\n",
                "\n",
                "`HAVING SUM(qty * unitprice) > 10000`: After grouping the results by order, we get orders with a total value greater than $10,000. We use `HAVING` instead of `WHERE` because `GROUP BY` combined multiple rows of data from the original table based on `SUM(qty * unitprice)` into one single row in the result set.\n",
                "\n",
                "`ORDER BY totalvalue DESC`: The query sorts the resulting set of orders by their total value in descending order using the `DESC` keyword.\n",
                ""
            ],
            "metadata": {
                "azdata_cell_guid": "98229510-cec3-48d4-a1fa-1c1bc301e5f9"
            },
            "attachments": {}
        },
        {
            "cell_type": "code",
            "source": [
                "USE TSQLV4;\n",
                "SELECT orderid, SUM(qty * unitprice) AS totalvalue\n",
                "FROM Sales.OrderDetails\n",
                "GROUP BY orderid\n",
                "HAVING SUM(qty * unitprice) > 10000\n",
                "ORDER BY totalvalue DESC;\n",
                "\n",
                "USE Northwinds2022TSQLV7;\n",
                "SELECT OrderId, SUM(Quantity * UnitPrice) AS totalvalue\n",
                "FROM sales.[OrderDetail]\n",
                "GROUP BY OrderId\n",
                "HAVING SUM(Quantity * UnitPrice) > 10000"
            ],
            "metadata": {
                "azdata_cell_guid": "e33003b3-9fc9-4d8e-9ecf-7c8dadadc2e0",
                "language": "sql"
            },
            "outputs": [],
            "execution_count": null
        },
        {
            "cell_type": "markdown",
            "source": [
                "# Query 5\n",
                "In this query we want to return employees with a last name that starts with a lower case letter.\n",
                "\n",
                "In order to do that, we need to:\n",
                "\n",
                "1. Select the employee ID (`empid`) and last name (`lastname`) of employees from a table named `Employees` within a schema named `HR`.\n",
                "2. Then, we filter and return those employees whose last names start with a lower case letter using `WHERE ASCII(LEFT(lastname, 1)) BETWEEN 97 AND 122;`.\n",
                "\n",
                "Let's break this down:\n",
                "\n",
                "- The names of the output columns will be `empid` and `lastname`.\n",
                "- `LEFT(lastname, 1)` extracts the first character (letter) from the `lastname` column of each row.\n",
                "- `ASCII(..)` takes any character that is passed through the function and returns its ASCII value.\n",
                "- `ASCII(LEFT(lastname, 1)) BETWEEN 97 AND 122` checks if the first letter of the employee's lastname has an ASCII value between 97 and 122, which corresponds to lowercase letters 'a' through 'z'.\n",
                ""
            ],
            "metadata": {
                "language": "sql",
                "azdata_cell_guid": "9249b659-ecb5-41ab-b6a3-ade4be0b31fc"
            },
            "attachments": {}
        },
        {
            "cell_type": "code",
            "source": [
                "USE TSQLV4;\n",
                "SELECT empid, lastname\n",
                "FROM HR.Employees\n",
                "WHERE ASCII(LEFT(lastname, 1)) BETWEEN 97 AND 122;\n",
                "\n",
                "USE Northwinds2022TSQLV7;\n",
                "SELECT EmployeeId, EmployeeLastName\n",
                "FROM HumanResources.[Employee]\n",
                "WHERE ASCII(LEFT(EmployeeLastName, 1)) BETWEEN 97 AND 122;"
            ],
            "metadata": {
                "language": "sql",
                "azdata_cell_guid": "c4b64c31-de3c-4dbd-b29a-d11428d9a83f"
            },
            "outputs": [],
            "execution_count": null
        },
        {
            "cell_type": "markdown",
            "source": [
                "# Proposition\n",
                "\n",
                "- Calculate total freight and number of orders per employee and year\n",
                "\n",
                "- for a specific customer (custid = 71)\n",
                "\n",
                "- based on the order date and employee ID grouping\n",
                "\n",
                "- Tables involved: Sales.Orders table"
            ],
            "metadata": {
                "language": "sql",
                "azdata_cell_guid": "e4614276-c107-4d02-8f20-705b96203468"
            },
            "attachments": {}
        },
        {
            "cell_type": "code",
            "source": [
                "USE TSQLV4;\n",
                "SELECT\n",
                " empid,\n",
                " YEAR(orderdate) AS orderyear,\n",
                " SUM(freight) AS totalfreight,\n",
                " COUNT(*) AS numorders\n",
                "FROM Sales.Orders\n",
                "WHERE custid = 71\n",
                "GROUP BY empid, YEAR(orderdate);\n",
                ""
            ],
            "metadata": {
                "language": "sql",
                "azdata_cell_guid": "dc8de836-e8b4-4484-b816-7ba2794d48dd"
            },
            "outputs": [],
            "execution_count": null
        },
        {
            "cell_type": "markdown",
            "source": [
                "# Proposition\n",
                "\n",
                "- Set the language to British English to influence date formatting\n",
                "\n",
                "- Cast the string '02/12/2016' to the DATE datatype, considering the British English date format (dd/mm/yyyy)\n",
                "\n",
                "- Tables involved: None (literal string)"
            ],
            "metadata": {
                "language": "sql",
                "azdata_cell_guid": "ce27a0e5-fb44-4bf4-a8cc-a96cbba0458e"
            },
            "attachments": {}
        },
        {
            "cell_type": "code",
            "source": [
                "SET LANGUAGE British;\n",
                "SELECT CAST('02/12/2016' AS DATE);"
            ],
            "metadata": {
                "language": "sql",
                "azdata_cell_guid": "c1d47d87-08eb-423e-bd32-fa17c565d639",
                "tags": []
            },
            "outputs": [],
            "execution_count": null
        },
        {
            "cell_type": "markdown",
            "source": [
                "# Proposition\n",
                "\n",
                "- Replicate the string `abc` three times to generate the result `abcabcabc`\n",
                "\n",
                "- Utilizing the REPLICATE function in SQL Server\n",
                "\n",
                "- Tables involved: None "
            ],
            "metadata": {
                "language": "sql",
                "azdata_cell_guid": "76f121d5-0c01-4f9e-a4d0-ed8e357b9337"
            },
            "attachments": {}
        },
        {
            "cell_type": "code",
            "source": [
                "SELECT REPLICATE('abc', 3); -- 'abcabcabc'"
            ],
            "metadata": {
                "language": "sql",
                "azdata_cell_guid": "7f70d36d-28bd-4d70-9629-4875e1b9eade",
                "tags": []
            },
            "outputs": [],
            "execution_count": null
        },
        {
            "cell_type": "markdown",
            "source": [
                "# The Rest of my Exercise Explainations"
            ],
            "metadata": {
                "language": "sql",
                "azdata_cell_guid": "382ba3f7-2b04-4703-95c1-dba388e995b6"
            },
            "attachments": {}
        },
        {
            "cell_type": "markdown",
            "source": [
                "# Query 1\n",
                "\n",
                "In this query we want to return orders placed in June 2015.\n",
                "\n",
                "In order to do that, we need to select the order ID (`orderid`), order date (`orderdate`), and customer ID (`custid`) columns from a table named `Orders` within a schema named `Sales`.\n",
                "\n",
                "Then, we filter and return those orders placed in June 2015 using `WHERE OrderDate >= '2015-06-01' AND OrderDate < '2015-07-01'`.\n",
                "\n",
                "## Let's break this down:\n",
                "\n",
                "- `OrderDate >= '2015-06-01'` looks at orders that were placed on or after June 1st, 2015.\n",
                "- `OrderDate < '2015-07-01'` looks at orders that were placed before but not on July 1st, 2015.\n",
                "- You can alternatively use `OrderDate <= '2015-06-30'`, but `OrderDate < '2015-07-01'` looks cleaner.\n",
                "\n",
                "## Now when you put them all together with the logical operator AND like so:\n",
                "\n",
                "`WHERE OrderDate >= '2015-06-01' AND OrderDate < '2015-07-01'`\n",
                "\n",
                "## Alternatives:\n",
                "\n",
                "You will filter and only receive the orders placed on or after June 1st, 2015, and before but not on July 1st, 2015, so from June 1st, 2015, to July 1st, 2015."
            ],
            "metadata": {
                "azdata_cell_guid": "b30085d3-8aed-4a85-8c41-eaf9e240f936"
            },
            "attachments": {}
        },
        {
            "cell_type": "code",
            "source": [
                "USE TSQLV4;\n",
                "SELECT orderid, orderdate, custid, empid\n",
                "FROM Sales.Orders\n",
                "WHERE orderdate >= '2015-06-01' AND orderdate < '2015-07-01'\n",
                "\n",
                "USE Northwinds2022TSQLV7;\n",
                "SELECT OrderId, OrderDate, CustomerId, EmployeeId\n",
                "FROM sales.[ORDER]\n",
                "WHERE OrderDate >= '2015-06-01' AND OrderDate < '2015-07-01';"
            ],
            "metadata": {
                "azdata_cell_guid": "364313f3-5076-41a6-8ac4-dc825ddef417",
                "language": "sql"
            },
            "outputs": [],
            "execution_count": null
        },
        {
            "cell_type": "markdown",
            "source": [
                "# Query 2\n",
                "In this query, we aim to retrieve orders where the order date corresponds to the last day of the month.\n",
                "\n",
                "To accomplish this, we first utilize the `DAY` function in conjunction with the `EOMONTH` function. Here's how it breaks down:\n",
                "\n",
                "- `DAY(OrderDate)` extracts the day component from the order date.\n",
                "- `EOMONTH(OrderDate)` returns the last day of the month for each order date.\n",
                "- `DAY(EOMONTH(OrderDate))` extracts the day component from the last day of the month for each order date.\n",
                "\n",
                "Then, we filter the results to only include orders where the day of the order date matches the day of the last day of the month. This ensures that we're selecting orders with order dates corresponding to the end of the month.\n",
                "\n",
                "Finally, the query selects the order ID (`OrderId`), order date (`OrderDate`), customer ID (`CustomerId`), and employee ID (`EmployeeId`) from the `Order` table within the `Sales` schema.\n",
                ""
            ],
            "metadata": {
                "language": "sql",
                "azdata_cell_guid": "2ab201d6-ecb1-4d55-b133-5185aa824279"
            },
            "attachments": {}
        },
        {
            "cell_type": "code",
            "source": [
                "use TSQLV4;\n",
                "SELECT\n",
                "  empid,\n",
                "  YEAR(orderdate) AS orderyear,\n",
                "  SUM(freight) AS totalfreight,\n",
                "  COUNT(*) AS numorders\n",
                "FROM Sales.Orders\n",
                "WHERE custid = 71\n",
                "GROUP BY empid, YEAR(orderdate);\n",
                "\n",
                "USE Northwinds2022TSQLV7;\n",
                "SELECT OrderId, OrderDate, CustomerId, EmployeeId\n",
                "FROM Sales.[Order]\n",
                "WHERE DAY(OrderDate) = DAY(EOMONTH(OrderDate));\n",
                ""
            ],
            "metadata": {
                "language": "sql",
                "azdata_cell_guid": "38f89b2c-7c4b-48dc-b534-31903011db69",
                "tags": []
            },
            "outputs": [],
            "execution_count": null
        },
        {
            "cell_type": "markdown",
            "source": [
                "# Query 3\n",
                "\n",
                "In this query, we want to return employees with last names containing the letter 'e' twice or more.\n",
                "\n",
                "To accomplish this, we need to select the employee ID (`empid`), first name (`firstname`), and last name (`lastname`) of employees from a table named `Employees` within a schema named `HR`.\n",
                "\n",
                "Then, we filter and return those employees whose last names contain the letter 'e' at least two times using the condition `WHERE LEN(lastname) - LEN(REPLACE(lastname, 'e', '')) >= 2`.\n",
                "\n",
                "## Let's break this down:\n",
                "\n",
                "- `LEN(lastname)` calculates the length of the original last name, counting the total number of characters it contains.\n",
                "- `REPLACE(lastname, 'e', '')` replaces all instances of the letter 'e' in the `lastname` column with an empty string (''). In other words, it removes all 'e's from the last name.\n",
                "- `LEN(REPLACE(lastname, 'e', ''))` calculates the length of the last name after all the 'e's have been removed. Since each 'e' removed reduces the length of the last name by one, the result of this calculation is the length of the last name without its 'e's.\n",
                "- `LEN(lastname) - LEN(REPLACE(lastname, 'e', ''))` subtracts the length of the last name without 'e's from the original length of the last name. The result is the number of 'e's that were present in the last name because each 'e' removed accounts for a single unit of difference in length.\n",
                "\n",
                "## All together\n",
                "- `(length of last name) - (length of last name without 'e's) >= 2` means there were 2 or more 'e's in the employee's last name, and it will be selected by the query.\n",
                ""
            ],
            "metadata": {
                "language": "sql",
                "azdata_cell_guid": "b42fd879-38c7-4d57-bc4b-f253c7aabc8c"
            },
            "attachments": {}
        },
        {
            "cell_type": "code",
            "source": [
                "USE TSQLV4;\n",
                "SELECT empid, firstname, lastname\n",
                "FROM HR.Employees\n",
                "WHERE LEN(lastname) - LEN(REPLACE(lastname, 'e', '')) >= 2\n",
                "\n",
                "USE Northwinds2022TSQLV7;\n",
                "SELECT EmployeeId, EmployeeFirstName, EmployeeLastName\n",
                "FROM HumanResources.[Employee]\n",
                "WHERE LEN(EmployeeLastName) - LEN(REPLACE(EmployeeLastName, 'e', '')) >= 2\n",
                ""
            ],
            "metadata": {
                "language": "sql",
                "azdata_cell_guid": "d7443567-efeb-4665-9fa3-6741ad81e6d6",
                "tags": []
            },
            "outputs": [],
            "execution_count": null
        },
        {
            "cell_type": "markdown",
            "source": [
                "# Query 6\n",
                "\n",
                "## Query 1:\n",
                "\n",
                "- Filters orders on an individual basis before counting them, directly affecting which orders are considered for each employee.\n",
                "- The result includes all employees who placed any orders before the specified date, counting only those orders.\n",
                "- The first query is useful for understanding employee activity up to a certain date.\n",
                "\n",
                "## Query 2:\n",
                "\n",
                "- It first considers all orders placed by each employee and then applies a condition on the aggregated set (based on the latest order date) to decide which employees' total order counts to include.\n",
                "- The result includes employees based on the date of their last order and counts all their orders, potentially including orders placed at any time, as long as their last order was before the specified date.\n",
                "- The second query helps identify employees who might be considered inactive or no longer placing orders as of a certain date, offering insights into employee engagement over time."
            ],
            "metadata": {
                "language": "sql",
                "azdata_cell_guid": "1e9304ff-b339-4db6-89a9-06cff6821821"
            },
            "attachments": {}
        },
        {
            "cell_type": "code",
            "source": [
                "-- Query 1\n",
                "USE TSQLV4;\n",
                "SELECT empid, COUNT(*) AS numorders\n",
                "FROM Sales.Orders\n",
                "WHERE orderdate < '20160501'\n",
                "GROUP BY empid;\n",
                "\n",
                "SELECT empid, COUNT(*) AS numorders\n",
                "FROM Sales.Orders\n",
                "GROUP BY empid\n",
                "HAVING MAX(orderdate) < '20160501';\n",
                "\n",
                "\n",
                "-- Query 2\n",
                "USE Northwinds2022TSQLV7;\n",
                "SELECT EmployeeId, COUNT(*) AS numorders\n",
                "FROM sales.[Order]\n",
                "WHERE orderdate < '20160501'\n",
                "GROUP BY EmployeeId;\n",
                "\n",
                "SELECT EmployeeId, COUNT(*) AS numorders\n",
                "FROM sales.[Order]\n",
                "GROUP BY EmployeeId\n",
                "HAVING MAX(orderdate) < '20160501';"
            ],
            "metadata": {
                "language": "sql",
                "azdata_cell_guid": "c3bc2534-2d11-4494-8406-eb12b9d86606"
            },
            "outputs": [],
            "execution_count": null
        },
        {
            "cell_type": "markdown",
            "source": [
                "# Query 7\n",
                "\n",
                "In this query, we aim to find the top 3 countries with the highest average freight costs for orders placed in the year 2015.\n",
                "\n",
                "To do this, we begin by selecting the top 3 ShipToCountry values and calculating the average freight cost (Freight) for each country.\n",
                "\n",
                "## Lets break this down\n",
                "\n",
                "- We retrieve this data from the [ORDER] table in the sales schema of the Northwinds2022TSQLV7 database.\n",
                "\n",
                "- We then apply a filter to only include orders placed in the year 2015 using the condition YEAR(orderdate) = 2015.\n",
                "\n",
                "- Next, we group the results by the ShipToCountry column, ensuring that each unique country is considered separately for the calculation of average freight costs.\n",
                "\n",
                "- Finally, we sort the grouped results in descending order based on the calculated average freight cost (avgfreight). This ensures that the top 3 countries with the highest average freight costs appear at the top of the result set."
            ],
            "metadata": {
                "language": "sql",
                "azdata_cell_guid": "85e50abf-da6d-4614-928e-10375239b488"
            },
            "attachments": {}
        },
        {
            "cell_type": "code",
            "source": [
                "USE TSQLV4;\n",
                "SELECT TOP 3 shipcountry, AVG(freight) AS avgfreight\n",
                "FROM Sales.Orders\n",
                "WHERE YEAR(orderdate) = 2015\n",
                "GROUP BY shipcountry\n",
                "ORDER BY avgfreight DESC;\n",
                "\n",
                "USE Northwinds2022TSQLV7;\n",
                "SELECT TOP 3 ShipToCountry, AVG(Freight) AS avgfreight\n",
                "FROM sales.[ORDER]\n",
                "WHERE YEAR(orderdate) = 2015\n",
                "GROUP BY ShipToCountry\n",
                "ORDER BY avgfreight DESC;"
            ],
            "metadata": {
                "language": "sql",
                "azdata_cell_guid": "77c3162e-87a4-4a0c-b0cb-00cca56e9549"
            },
            "outputs": [],
            "execution_count": null
        },
        {
            "cell_type": "markdown",
            "source": [
                "# Query 8\n",
                "In this query, we want to calculate row numbers for orders based on order date ordering (using order id as tiebreaker) for each customer separately.\n",
                "\n",
                "To do this, we begin by selecting the CustomerId, OrderDate, and OrderId columns from the [ORDER] table in the sales schema of the Northwinds2022TSQLV7 database.\n",
                "\n",
                "## Lets break this down\n",
                "\n",
                "- we utilize the ROW_NUMBER() window function to assign a sequential row number to each order within its respective customer group. \n",
                "- We partition the data by CustomerId and order the rows within each partition by OrderDate and then by OrderId.\n",
                "\n",
                "Finally, we order the results by CustomerId, OrderDate, and OrderId to ensure that the rows are displayed in a logical order.\n",
                "\n",
                ""
            ],
            "metadata": {
                "language": "sql",
                "azdata_cell_guid": "7c91e219-838c-4138-a7ac-2533a7088887"
            },
            "attachments": {}
        },
        {
            "cell_type": "code",
            "source": [
                "USE TSQLV4;\n",
                "SELECT custid, orderdate, orderid,\n",
                "   ROW_NUMBER() OVER (PARTITION BY custid ORDER BY orderdate, orderid) AS rownum\n",
                "FROM Sales.Orders\n",
                "ORDER BY custid, orderdate, orderid;\n",
                "\n",
                "USE Northwinds2022TSQLV7;\n",
                "SELECT CustomerId, OrderDate, OrderId,\n",
                "  ROW_NUMBER() OVER (PARTITION BY CustomerId ORDER BY OrderDate, OrderId) AS rownum\n",
                "FROM sales.[ORDER]\n",
                "ORDER BY CustomerId, OrderDate, OrderId;"
            ],
            "metadata": {
                "language": "sql",
                "azdata_cell_guid": "3500c84e-e459-4cb1-a987-3f7b51a78d39"
            },
            "outputs": [],
            "execution_count": null
        },
        {
            "cell_type": "markdown",
            "source": [
                "# Query 9\n",
                "In this query, we  want to figure out and return for each employee the gender based on the title of courtesy Ms., Mrs. - Female, Mr. - Male, Dr. - Unknown\n",
                "\n",
                "To do this, we select the specified columns from the Employees table in the HR schema of the TSQLV4 database. \n",
                "\n",
                "We then apply a CASE statement to categorize the gender based on the titleofcourtesy column. If the titleofcourtesy is 'Ms.' or 'Mrs.', we categorize the gender as 'Female'. \n",
                "\n",
                "If it is 'Mr.', we categorize the gender as 'Male'. \n",
                "\n",
                "For any other values or if the titleofcourtesy is NULL, we label the gender as 'Unknown'.\n",
                "\n",
                "We repeat the same process for the Employee table in the humanresources schema of the Northwinds2022TSQLV7 database.\n",
                "\n",
                "## Lets break this down\n",
                "\n",
                "- CASE Statement: The CASE statement is used to evaluate conditions based on the titleofcourtesy column.\n",
                "- Categorization: Based on the conditions, the gender column is assigned values 'Female', 'Male', or 'Unknown'.\n",
                "- Alias: The derived column is aliased as gender to provide a clear representation of the gender category."
            ],
            "metadata": {
                "language": "sql",
                "azdata_cell_guid": "c6fdf589-8b7d-4a67-819d-ed6b6019f399"
            },
            "attachments": {}
        },
        {
            "cell_type": "code",
            "source": [
                "USE TSQLV4;\n",
                "SELECT empid, firstname, lastname, titleofcourtesy,\n",
                "CASE\n",
                "       WHEN titleofcourtesy IN ('Ms.', 'Mrs.') THEN 'Female'\n",
                "       WHEN titleofcourtesy = 'Mr.' THEN 'Male'\n",
                "       ELSE 'Unknown'\n",
                "   END AS gender\n",
                "FROM\n",
                "   HR.Employees;\n",
                "\n",
                "USE Northwinds2022TSQLV7;\n",
                "SELECT EmployeeId, EmployeeFirstName, EmployeeLastName, EmployeeTitleofCourtesy,\n",
                "CASE\n",
                "      WHEN EmployeeTitleofCourtesy IN ('Ms.', 'Mrs.') THEN 'Female'\n",
                "      WHEN EmployeeTitleOfCourtesy= 'Mr.' THEN 'Male'\n",
                "      ELSE 'Unknown'\n",
                "  END AS gender\n",
                "FROM humanresources.[EMPLOYEE];\n",
                ""
            ],
            "metadata": {
                "language": "sql",
                "azdata_cell_guid": "d455ca0e-bf08-46ad-a914-47014f1f5edb"
            },
            "outputs": [],
            "execution_count": null
        },
        {
            "cell_type": "markdown",
            "source": [
                "# Query 10\n",
                "\n",
                "In this query, we want to return for each customer the customer ID and region sort the rows in the output by region having NULLs sort last (after non-NULL values)\n",
                "\n",
                "To do this, we select the specified columns from the Customers table in the Sales schema of the TSQLV4 database. \n",
                "\n",
                "We then order the results by the region column, with NULL values appearing last.\n",
                "\n",
                "We repeat the same process for the Customer table in the Sales schema of the Northwinds2022TSQLV7 database.\n",
                "\n",
                "## This break this down:\n",
                "\n",
                "- ORDER BY Clause: The ORDER BY clause is used to sort the result set based on the region column.\n",
                "- CASE Statement: Within the ORDER BY clause, a CASE statement is employed to handle NULL values in the region column. It assigns a value of 1 to NULL regions and 0 to non-NULL regions.\n",
                "- Sorting: The result set is sorted based on the values assigned by the CASE statement. NULL regions are placed after non-NULL regions in the sorted output."
            ],
            "metadata": {
                "language": "sql",
                "azdata_cell_guid": "cb729796-d1ad-40fd-8419-21f45c0857b1"
            },
            "attachments": {}
        },
        {
            "cell_type": "code",
            "source": [
                "USE TSQLV4;\n",
                "SELECT custid,region\n",
                "FROM Sales.Customers\n",
                "ORDER BY\n",
                "   CASE\n",
                "       WHEN region IS NULL THEN 1\n",
                "       ELSE 0\n",
                "   END,\n",
                "   region;\n",
                "\n",
                "\n",
                "USE Northwinds2022TSQLV7;\n",
                "SELECT CustomerId,CustomerRegion\n",
                "FROM Sales.Customer\n",
                "ORDER BY\n",
                "  CASE\n",
                "      WHEN CustomerRegion IS NULL THEN 1\n",
                "      ELSE 0\n",
                "  END,\n",
                "  CustomerRegion;\n",
                "\n",
                ""
            ],
            "metadata": {
                "language": "sql",
                "azdata_cell_guid": "65a44d20-08e6-49a5-a46b-21bc556b123d"
            },
            "outputs": [],
            "execution_count": null
        },
        {
            "cell_type": "markdown",
            "source": [
                "# Rest of my Propositions"
            ],
            "metadata": {
                "language": "sql",
                "azdata_cell_guid": "85697bf3-0a87-49bb-8132-f3516d3061fb"
            },
            "attachments": {}
        },
        {
            "cell_type": "markdown",
            "source": [
                "***\n",
                "- Identify employees who have processed more than one order per year\n",
                "\n",
                "- for a specific customer (custid = 71)\n",
                "\n",
                "- based on the order date, employee ID, and year grouping\n",
                "\n",
                "- Tables involved: Sales.Orders table\n",
                "\n",
                ""
            ],
            "metadata": {
                "language": "sql",
                "azdata_cell_guid": "9a006c5e-578d-4c5c-88fb-b9c22df48fc4"
            },
            "attachments": {}
        },
        {
            "cell_type": "code",
            "source": [
                "USE TSQLV4;\n",
                "SELECT empid, YEAR(orderdate) AS orderyear, COUNT(*) AS numorders\n",
                "FROM Sales.Orders\n",
                "WHERE custid = 71\n",
                "GROUP BY empid, YEAR(orderdate)\n",
                "HAVING COUNT(*) > 1;\n",
                ""
            ],
            "metadata": {
                "language": "sql",
                "azdata_cell_guid": "e0b772a6-f0c1-4e9e-b074-9f35554ec7d6"
            },
            "outputs": [],
            "execution_count": null
        },
        {
            "cell_type": "markdown",
            "source": [
                "***\n",
                "- Retrieve the unique combination of employee IDs and the corresponding order years\n",
                "\n",
                "- for a specific customer (custid = 71)\n",
                "\n",
                "- based on the order date\n",
                "\n",
                "- Tables involved: Sales.Orders table\n",
                "\n",
                ""
            ],
            "metadata": {
                "language": "sql",
                "azdata_cell_guid": "50c4e304-a0a0-401a-8b27-e531313f63e0"
            },
            "attachments": {}
        },
        {
            "cell_type": "code",
            "source": [
                "USE TSQLV4;\n",
                "SELECT empid, YEAR(orderdate) AS orderyear\n",
                "FROM Sales.Orders\n",
                "WHERE custid = 71;\n",
                ""
            ],
            "metadata": {
                "language": "sql",
                "azdata_cell_guid": "69154c92-8d72-4473-8832-7f355e1ebc38"
            },
            "outputs": [],
            "execution_count": null
        },
        {
            "cell_type": "markdown",
            "source": [
                "* * *\n",
                "\n",
                "- Identify employees who have processed more than one order per year\n",
                "\n",
                "- for a specific customer (custid = 71)\n",
                "\n",
                "- based on the order date, employee ID, and year grouping\n",
                "\n",
                "- Sort the results by employee ID and order year\n",
                "\n",
                "- Tables involved: Sales.Orders table"
            ],
            "metadata": {
                "language": "sql",
                "azdata_cell_guid": "adce1fce-9d49-461c-8ac0-e2ea8adf11a0"
            },
            "attachments": {}
        },
        {
            "cell_type": "code",
            "source": [
                "USE TSQLV4;\n",
                "SELECT empid, YEAR(orderdate) AS orderyear, COUNT(*) AS numorders\n",
                "FROM Sales.Orders\n",
                "WHERE custid = 71\n",
                "GROUP BY empid, YEAR(orderdate)\n",
                "HAVING COUNT(*) > 1\n",
                "ORDER BY empid, orderyear;\n",
                ""
            ],
            "metadata": {
                "language": "sql",
                "azdata_cell_guid": "8f5f4df7-3c3a-4ed6-a9a7-c1051604ab48"
            },
            "outputs": [],
            "execution_count": null
        },
        {
            "cell_type": "markdown",
            "source": [
                "***\n",
                "\n",
                "- Retrieve the top 5 recent orders, ordered by order date and order ID in descending order\n",
                "\n",
                "- Displaying order ID, order date, customer ID, and employee ID\n",
                "\n",
                "- Tables involved: Sales.Orders table\n",
                "\n",
                ""
            ],
            "metadata": {
                "language": "sql",
                "azdata_cell_guid": "71710b35-2369-4ef5-b420-461aacee5ec4"
            },
            "attachments": {}
        },
        {
            "cell_type": "code",
            "source": [
                "USE TSQLV4;\n",
                "SELECT TOP (5) orderid, orderdate, custid, empid\n",
                "FROM Sales.Orders\n",
                "ORDER BY orderdate DESC, orderid DESC;\n",
                ""
            ],
            "metadata": {
                "language": "sql",
                "azdata_cell_guid": "96a53649-c869-4834-87b7-1687a3b840fa"
            },
            "outputs": [],
            "execution_count": null
        },
        {
            "cell_type": "markdown",
            "source": [
                "***\n",
                "\n",
                "- Retrieve order details including order ID, employee ID, and order date\n",
                "\n",
                "- for orders falling within the range of order IDs 10300 to 10310\n",
                "\n",
                "- Tables involved: Sales.Orders table\n",
                "\n",
                ""
            ],
            "metadata": {
                "language": "sql",
                "azdata_cell_guid": "95a8e0c6-e5de-47dd-ab33-d1dc692075ec"
            },
            "attachments": {}
        },
        {
            "cell_type": "code",
            "source": [
                "USE TSQLV4;\n",
                "SELECT orderid, empid, orderdate\n",
                "FROM Sales.Orders\n",
                "WHERE orderid BETWEEN 10300 AND 10310;\n",
                ""
            ],
            "metadata": {
                "language": "sql",
                "azdata_cell_guid": "e1de2f03-b68c-4d1d-8914-d01d83d43c03"
            },
            "outputs": [],
            "execution_count": null
        },
        {
            "cell_type": "markdown",
            "source": [
                "***\n",
                "\n",
                "- Retrieve order details including order ID, customer ID, employee ID, and order date\n",
                "\n",
                "- for orders meeting specific criteria:\n",
                "\n",
                "- For customer ID 1, select orders processed by employees 1, 3, or 5\n",
                "\n",
                "- For customer ID 85, select orders processed by employees 2, 4, or 6\n",
                "\n",
                "- Tables involved: Sales.Orders table\n",
                "\n",
                ""
            ],
            "metadata": {
                "language": "sql",
                "azdata_cell_guid": "30e5ea3b-37de-40e1-9aa8-984812d3fa75"
            },
            "attachments": {}
        },
        {
            "cell_type": "code",
            "source": [
                "USE TSQLV4;\n",
                "SELECT orderid, custid, empid, orderdate\n",
                "FROM Sales.Orders\n",
                "WHERE\n",
                "        custid = 1\n",
                "    AND empid IN(1, 3, 5)\n",
                "    OR  custid = 85\n",
                "    AND empid IN(2, 4, 6);\n",
                ""
            ],
            "metadata": {
                "language": "sql",
                "azdata_cell_guid": "9a631896-aa48-4443-af55-7ee447ec0646"
            },
            "outputs": [],
            "execution_count": null
        },
        {
            "cell_type": "markdown",
            "source": [
                "***\n",
                "\n",
                "- Classify orders based on their order ID, customer ID, and order value into predefined value categories\n",
                "\n",
                "- Value categories are determined using a CASE statement based on the order value:\n",
                "\n",
                "- Less than 1000\n",
                "\n",
                "- Between 1000 and 3000\n",
                "\n",
                "- More than 3000\n",
                "\n",
                "- Unknown for any other values\n",
                "\n",
                "- Tables involved: Sales.OrderValues table\n",
                "\n",
                ""
            ],
            "metadata": {
                "language": "sql",
                "azdata_cell_guid": "1f7d39ed-7ca8-406c-a994-804e88bfaf81"
            },
            "attachments": {}
        },
        {
            "cell_type": "code",
            "source": [
                "USE TSQLV4;\n",
                "SELECT orderid, custid, val,\n",
                "  CASE \n",
                "    WHEN val < 1000.00                   THEN 'Less than 1000'\n",
                "    WHEN val BETWEEN 1000.00 AND 3000.00 THEN 'Between 1000 and 3000'\n",
                "    WHEN val > 3000.00                   THEN 'More than 3000'\n",
                "    ELSE 'Unknown'\n",
                "  END AS valuecategory\n",
                "FROM Sales.OrderValues;\n",
                ""
            ],
            "metadata": {
                "language": "sql",
                "azdata_cell_guid": "87ccd87d-da93-474e-ac75-5e3674b05dc4"
            },
            "outputs": [],
            "execution_count": null
        },
        {
            "cell_type": "markdown",
            "source": [
                "***\n",
                "\n",
                "- Retrieve customer details including customer ID, country, region, and city\n",
                "\n",
                "- Excluding customers located in the region of Washington (WA) or with NULL region values\n",
                "\n",
                "- Tables involved: Sales.Customers table\n",
                "\n",
                ""
            ],
            "metadata": {
                "language": "sql",
                "azdata_cell_guid": "08fa9d53-ab9e-4fd1-929c-bd0f3f3b6d39"
            },
            "attachments": {}
        },
        {
            "cell_type": "code",
            "source": [
                "USE TSQLV4;\n",
                "SELECT custid, country, region, city\n",
                "FROM Sales.Customers\n",
                "WHERE region <> N'WA'\n",
                "   OR region IS NULL;\n",
                ""
            ],
            "metadata": {
                "language": "sql",
                "azdata_cell_guid": "3515c7e2-81cf-4fbd-b12f-adb6f9e85f65"
            },
            "outputs": [],
            "execution_count": null
        },
        {
            "cell_type": "markdown",
            "source": [
                "***\n",
                "\n",
                "- Retrieve information about collations including their names and descriptions\n",
                "\n",
                "- Utilizing the system function sys.fn_helpcollations()\n",
                "\n",
                "- Tables involved: None (system function)\n",
                "\n",
                ""
            ],
            "metadata": {
                "language": "sql",
                "azdata_cell_guid": "e00b5bda-c06d-41a1-af80-a831a5a270bc"
            },
            "attachments": {}
        },
        {
            "cell_type": "code",
            "source": [
                "SELECT name, description\n",
                "FROM sys.fn_helpcollations();\n",
                ""
            ],
            "metadata": {
                "language": "sql",
                "azdata_cell_guid": "3523a3bf-ec62-4bc8-b339-d488bcdc538e"
            },
            "outputs": [],
            "execution_count": null
        },
        {
            "cell_type": "markdown",
            "source": [
                "***\n",
                "\n",
                "- Generate a concatenated location string for each customer, including country, region, and city\n",
                "\n",
                "- Utilize the COALESCE function to handle NULL values for the region\n",
                "\n",
                "- Tables involved: Sales.Customers table\n",
                "\n",
                ""
            ],
            "metadata": {
                "language": "sql",
                "azdata_cell_guid": "ec058c16-01d8-4484-b409-ea1569098662"
            },
            "attachments": {}
        },
        {
            "cell_type": "code",
            "source": [
                "USE TSQLV4;\n",
                "SELECT custid, country, region, city,\n",
                "  country + COALESCE( N',' + region, N'') + N',' + city AS location\n",
                "FROM Sales.Customers;\n",
                ""
            ],
            "metadata": {
                "language": "sql",
                "azdata_cell_guid": "f36abe99-b910-4d00-bc67-5c63483d4b43"
            },
            "outputs": [],
            "execution_count": null
        },
        {
            "cell_type": "markdown",
            "source": [
                "***\n",
                "\n",
                "- Calculate the length in bytes of the Unicode string 'abcde'\n",
                "\n",
                "- Utilizing the DATALENGTH function in SQL Server\n",
                "\n",
                "- Tables involved: None (literal string)\n",
                "\n",
                "- 'abcde' is not prefixed with N'', indicating it's not being treated as Unicode. So, it should return 5, not 10\n",
                "\n",
                ""
            ],
            "metadata": {
                "language": "sql",
                "azdata_cell_guid": "60fa28b6-7751-401a-b888-563a225f1a30"
            },
            "attachments": {}
        },
        {
            "cell_type": "code",
            "source": [
                "SELECT DATALENGTH(N'abcde'); -- 10"
            ],
            "metadata": {
                "language": "sql",
                "azdata_cell_guid": "86c34052-8fb3-41cf-9753-96263f86ec07"
            },
            "outputs": [],
            "execution_count": null
        },
        {
            "cell_type": "markdown",
            "source": [
                "***\n",
                "\n",
                "- Trim leading and trailing spaces from the string ' abc ' to return 'abc'\n",
                "\n",
                "- Utilizing the LTRIM and RTRIM functions in SQL Server\n",
                "\n",
                "- Tables involved: None (literal string)\n",
                "\n",
                ""
            ],
            "metadata": {
                "language": "sql",
                "azdata_cell_guid": "52d2efb6-f359-46d0-97a0-5b79e445fee3"
            },
            "attachments": {}
        },
        {
            "cell_type": "code",
            "source": [
                "SELECT RTRIM(LTRIM(' abc ')); -- 'abc'"
            ],
            "metadata": {
                "language": "sql",
                "azdata_cell_guid": "148f3c84-49bb-467e-b224-0fb3fca98166"
            },
            "outputs": [],
            "execution_count": null
        },
        {
            "cell_type": "markdown",
            "source": [
                "***\n",
                "\n",
                "- Compress the given Unicode string 'This is my cv. Imagine it was much longer.' and then decompress it back to its original form\n",
                "\n",
                "- Utilizing the COMPRESS and DECOMPRESS functions in SQL Server\n",
                "\n",
                "- Casting the decompressed result to NVARCHAR(MAX) datatype\n",
                "\n",
                "- Tables involved: None (literal string)\n",
                "\n",
                ""
            ],
            "metadata": {
                "language": "sql",
                "azdata_cell_guid": "e3dc6e63-6f26-498f-8708-cddf9d7721ad"
            },
            "attachments": {}
        },
        {
            "cell_type": "code",
            "source": [
                "SELECT\n",
                "  CAST(\n",
                "    DECOMPRESS(COMPRESS(N'This is my cv. Imagine it was much longer.'))\n",
                "      AS NVARCHAR(MAX));\n",
                ""
            ],
            "metadata": {
                "language": "sql",
                "azdata_cell_guid": "e0bc4337-4878-40ed-8980-4fd5c6967272"
            },
            "outputs": [],
            "execution_count": null
        },
        {
            "cell_type": "markdown",
            "source": [
                "***\n",
                "\n",
                "- Retrieve employee IDs and last names from the HR.Employees table\n",
                "\n",
                "- Narrow down the results to employees whose last names start with the letters A, B, or C\n",
                "\n",
                "- Utilize the LIKE operator with a pattern matching condition\n",
                "\n",
                "- Tables involved: HR.Employees table\n",
                "\n",
                ""
            ],
            "metadata": {
                "language": "sql",
                "azdata_cell_guid": "4170e47e-5d35-4729-addc-6c22ff5e6f5a"
            },
            "attachments": {}
        },
        {
            "cell_type": "code",
            "source": [
                "USE TSQLV4;\n",
                "SELECT empid, lastname\n",
                "FROM HR.Employees\n",
                "WHERE lastname LIKE N'[ABC]%';\n",
                ""
            ],
            "metadata": {
                "language": "sql",
                "azdata_cell_guid": "e84b6e73-7d98-418f-9caf-d06db4df2a00"
            },
            "outputs": [],
            "execution_count": null
        },
        {
            "cell_type": "markdown",
            "source": [
                "***\n",
                "\n",
                "- Convert the string '02/12/2016' to the DATE datatype, interpreting it as a British/French style date (dd/mm/yyyy)\n",
                "\n",
                "- Utilize style code 103 for the conversion\n",
                "\n",
                "- Tables involved: None (literal string)\n",
                "\n",
                ""
            ],
            "metadata": {
                "language": "sql",
                "azdata_cell_guid": "29cfe842-1de1-4d50-a0f1-81c44da0f428"
            },
            "attachments": {}
        },
        {
            "cell_type": "code",
            "source": [
                "\n",
                "SELECT CONVERT(DATE, '02/12/2016', 103);\n",
                ""
            ],
            "metadata": {
                "language": "sql",
                "azdata_cell_guid": "3d015c16-9127-486b-8d72-c157a85925e5"
            },
            "outputs": [],
            "execution_count": null
        },
        {
            "cell_type": "markdown",
            "source": [
                "***\n",
                "\n",
                "- Retrieve order details including order ID, customer ID, employee ID, and order date\n",
                "\n",
                "- Filter the results to include only orders placed on February 12, 2016\n",
                "\n",
                "- Utilize the Sales.Orders2 table\n",
                "\n",
                "- Tables involved: Sales.Orders2 table\n",
                "\n",
                ""
            ],
            "metadata": {
                "language": "sql",
                "azdata_cell_guid": "cfb29d3a-3574-490c-ab55-0fb4e6ed01a3"
            },
            "attachments": {}
        },
        {
            "cell_type": "code",
            "source": [
                "/*\n",
                "USE TSQLV4;\n",
                "SELECT orderid, custid, empid, orderdate\n",
                "FROM Sales.Orders2\n",
                "WHERE orderdate = '20160212';\n",
                "*/"
            ],
            "metadata": {
                "language": "sql",
                "azdata_cell_guid": "1df137a0-b4e4-43ed-86cd-7e1f763655b1"
            },
            "outputs": [],
            "execution_count": null
        },
        {
            "cell_type": "markdown",
            "source": [
                "***\n",
                "\n",
                "- Retrieve order details including order ID, customer ID, employee ID, and order date\n",
                "\n",
                "- Narrow down the results to include only orders placed in the year 2015\n",
                "\n",
                "- Utilize the Sales.Orders table and extract the year from the orderdate column\n",
                "\n",
                "- Tables involved: Sales.Orders table\n",
                "\n",
                ""
            ],
            "metadata": {
                "language": "sql",
                "azdata_cell_guid": "4d2031f3-334f-4aac-b50e-74448e604ac0"
            },
            "attachments": {}
        },
        {
            "cell_type": "code",
            "source": [
                "USE TSQLV4;\n",
                "SELECT orderid, custid, empid, orderdate\n",
                "FROM Sales.Orders\n",
                "WHERE YEAR(orderdate) = 2015;\n",
                ""
            ],
            "metadata": {
                "language": "sql",
                "azdata_cell_guid": "dfced8d4-8172-463a-9981-695cc7e09747"
            },
            "outputs": [],
            "execution_count": null
        },
        {
            "cell_type": "markdown",
            "source": [
                "***\n",
                "\n",
                "- Retrieve the current date and time separately using the SYSDATETIME function\n",
                "\n",
                "- Cast the SYSDATETIME() value to DATE datatype to get the current date\n",
                "\n",
                "- Cast the SYSDATETIME() value to TIME datatype to get the current time\n",
                "\n",
                "- Tables involved: None (system function)\n",
                "\n",
                ""
            ],
            "metadata": {
                "language": "sql",
                "azdata_cell_guid": "7acb44fd-bfce-4d52-a23a-0da6c54fa394"
            },
            "attachments": {}
        },
        {
            "cell_type": "code",
            "source": [
                "SELECT\n",
                "  CAST(SYSDATETIME() AS DATE) AS [current_date],\n",
                "  CAST(SYSDATETIME() AS TIME) AS [current_time];\n",
                ""
            ],
            "metadata": {
                "language": "sql",
                "azdata_cell_guid": "a8985a3b-a89c-4be5-be75-b4bfdb0e100e"
            },
            "outputs": [],
            "execution_count": null
        },
        {
            "cell_type": "markdown",
            "source": [
                "***\n",
                "\n",
                "- Convert the current timestamp to a DATETIME datatype\n",
                "\n",
                "- Convert the current timestamp to a character string in the format YYYYMMDD using style 112\n",
                "\n",
                "- Convert the character string back to DATETIME datatype\n",
                "\n",
                "- Tables involved: None (system function)\n",
                "\n",
                ""
            ],
            "metadata": {
                "language": "sql",
                "azdata_cell_guid": "7086ed69-5903-4345-a95f-3bbf75f1a449"
            },
            "attachments": {}
        },
        {
            "cell_type": "code",
            "source": [
                "SELECT CONVERT(DATETIME, CONVERT(CHAR(8), CURRENT_TIMESTAMP, 112), 112);"
            ],
            "metadata": {
                "language": "sql",
                "azdata_cell_guid": "8d6a9a06-fb1e-4e75-af6f-681ec2aa2867"
            },
            "outputs": [],
            "execution_count": null
        },
        {
            "cell_type": "markdown",
            "source": [
                "***\n",
                "\n",
                "- Adjust the offset of the current system datetime with timezone information to UTC-05:00\n",
                "\n",
                "- Utilize the SWITCHOFFSET function to perform the offset adjustment\n",
                "\n",
                "- Tables involved: None (system function)\n",
                "\n",
                ""
            ],
            "metadata": {
                "language": "sql",
                "azdata_cell_guid": "356528c0-afff-4de0-9e4a-f93a257ec086"
            },
            "attachments": {}
        },
        {
            "cell_type": "code",
            "source": [
                "SELECT SWITCHOFFSET(SYSDATETIMEOFFSET(), '-05:00');"
            ],
            "metadata": {
                "language": "sql",
                "azdata_cell_guid": "2207cd7c-cf99-4ae2-a361-7ab2f17bda89"
            },
            "outputs": [],
            "execution_count": null
        },
        {
            "cell_type": "markdown",
            "source": [
                "***\n",
                "\n",
                "- Convert datetimeoffset values to Pacific Standard Time (PST)\n",
                "\n",
                "- Utilize the AT TIME ZONE clause to convert datetimeoffset values to the specified timezone\n",
                "\n",
                "- Tables involved: None (literal datetimeoffset values)\n",
                "\n",
                ""
            ],
            "metadata": {
                "language": "sql",
                "azdata_cell_guid": "a5007c98-7b28-4c2d-a12c-1edfadc7fda9"
            },
            "attachments": {}
        },
        {
            "cell_type": "code",
            "source": [
                "SELECT\n",
                "  CAST('20160212 12:00:00.0000000 -05:00' AS DATETIMEOFFSET)\n",
                "    AT TIME ZONE 'Pacific Standard Time' AS val1,\n",
                "  CAST('20160812 12:00:00.0000000 -04:00' AS DATETIMEOFFSET)\n",
                "    AT TIME ZONE 'Pacific Standard Time' AS val2;\n",
                ""
            ],
            "metadata": {
                "language": "sql",
                "azdata_cell_guid": "ef99b9c8-e07c-47f6-b524-6236fd646440"
            },
            "outputs": [],
            "execution_count": null
        },
        {
            "cell_type": "markdown",
            "source": [
                "***\n",
                "\n",
                "- Calculate the first day of the current month using SYSDATETIME function\n",
                "\n",
                "- Utilize the DATEDIFF function to calculate the difference in months between the given date '1900-01-01' and the current date\n",
                "\n",
                "- Utilize the DATEADD function to add the calculated months to the given date '1900-01-01' to obtain the first day of the current month\n",
                "\n",
                "- Tables involved: None (system function and literal date '1900-01-01')\n",
                "\n",
                ""
            ],
            "metadata": {
                "language": "sql",
                "azdata_cell_guid": "7ca8abc4-cdad-4dd3-94f5-1afb8fc72dbd"
            },
            "attachments": {}
        },
        {
            "cell_type": "code",
            "source": [
                "SELECT\n",
                "  DATEADD(\n",
                "    month, \n",
                "    DATEDIFF(month, '19000101', SYSDATETIME()), '19000101');\n",
                ""
            ],
            "metadata": {
                "language": "sql",
                "azdata_cell_guid": "2a315b60-e4ae-4b96-aea3-48f60c2bb817"
            },
            "outputs": [],
            "execution_count": null
        },
        {
            "cell_type": "markdown",
            "source": [
                "***\n",
                "\n",
                "- Extract the year component from the date '20160212'\n",
                "\n",
                "- Utilize the DATENAME function with the year parameter\n",
                "\n",
                "- Tables involved: None (literal date '20160212')\n",
                "\n",
                ""
            ],
            "metadata": {
                "language": "sql",
                "azdata_cell_guid": "1ac05652-1ed3-433d-9c00-12aa5837bfd7"
            },
            "attachments": {}
        },
        {
            "cell_type": "code",
            "source": [
                "SELECT DATENAME(year, '20160212');"
            ],
            "metadata": {
                "language": "sql",
                "azdata_cell_guid": "5fb9cb8a-3145-479c-927b-f4b641504164"
            },
            "outputs": [],
            "execution_count": null
        },
        {
            "cell_type": "markdown",
            "source": [
                "***\n",
                "\n",
                "- Retrieve order details including order ID, order date, customer ID, and employee ID\n",
                "\n",
                "- Filter the results to include only orders placed on the last day of the month\n",
                "\n",
                "- Utilize the EOMONTH function to obtain the last day of the month for each order date\n",
                "\n",
                "- Tables involved: Sales.Orders table\n",
                "\n",
                ""
            ],
            "metadata": {
                "language": "sql",
                "azdata_cell_guid": "5d782d8e-2112-4a78-a363-d0eab941eee2"
            },
            "attachments": {}
        },
        {
            "cell_type": "code",
            "source": [
                "USE TSQLV4;\n",
                "SELECT orderid, orderdate, custid, empid\n",
                "FROM Sales.Orders\n",
                "WHERE orderdate = EOMONTH(orderdate);\n",
                ""
            ],
            "metadata": {
                "language": "sql",
                "azdata_cell_guid": "a3c85345-c449-44c9-9fd5-6271840e7b5e"
            },
            "outputs": [],
            "execution_count": null
        },
        {
            "cell_type": "markdown",
            "source": [
                "***\n",
                "\n",
                "- Execute the system stored procedure sp_tables to retrieve information about tables and views in the current database\n",
                "\n",
                "- This procedure returns a result set with columns like TABLE_QUALIFIER, TABLE_OWNER, TABLE_NAME, and TABLE_TYPE\n",
                "\n",
                "- Tables involved: System tables containing metadata information\n",
                "\n",
                ""
            ],
            "metadata": {
                "language": "sql",
                "azdata_cell_guid": "aaffd713-05b8-42a1-9827-3c853e88156f"
            },
            "attachments": {}
        },
        {
            "cell_type": "code",
            "source": [
                "EXEC sys.sp_tables;"
            ],
            "metadata": {
                "language": "sql",
                "azdata_cell_guid": "2819aa60-87f0-46b7-9a4b-a6a738f6c3fb"
            },
            "outputs": [],
            "execution_count": null
        },
        {
            "cell_type": "markdown",
            "source": [
                "***\n",
                "\n",
                "- Retrieve the collation setting for the database named 'TSQLV4'\n",
                "\n",
                "- Utilize the DATABASEPROPERTYEX function with the 'Collation' property\n",
                "\n",
                "- Tables involved: None (database metadata)\n",
                "\n",
                ""
            ],
            "metadata": {
                "language": "sql",
                "azdata_cell_guid": "4d2b974a-e43e-4c3b-919c-eb93e3b8e6fe"
            },
            "attachments": {}
        },
        {
            "cell_type": "code",
            "source": [
                "SELECT DATABASEPROPERTYEX(N'TSQLV4', 'Collation');"
            ],
            "metadata": {
                "language": "sql",
                "azdata_cell_guid": "bd7b2bce-1923-4c0b-9dba-76a7f889e83b"
            },
            "outputs": [],
            "execution_count": null
        }
    ]
}