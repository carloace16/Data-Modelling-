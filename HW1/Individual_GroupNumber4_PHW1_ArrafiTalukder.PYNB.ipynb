{
    "metadata": {
        "kernelspec": {
            "name": "SQL",
            "display_name": "SQL",
            "language": "sql"
        },
        "language_info": {
            "name": "sql",
            "version": ""
        }
    },
    "nbformat_minor": 2,
    "nbformat": 4,
    "cells": [
        {
            "cell_type": "markdown",
            "source": [
                "# Top 5 Queries \n",
                "## A) Question 6 (Exercises) \n",
                "## Query 1\n",
                "selects EmployeeId and the count of orders from the 'sales.[Order]' table. \n",
                "The result of orders from the employees in terms of being outputted are restricted as the orderdate is set less than date May 1, 2016 \n",
                "(present in the WHERE clause). Then, the result of orders (numorders) is grouped by EmployeeId. \n",
                "## Query 2\n",
                "works very similarly, however,\n",
                "the result of orders(numorders) is grouped by EmployeeId before the filtering. Within the filtering, The HAVING clause \n",
                "is used here instead of the WHERE clause so the aggregate function MAX can be implemented. The result of orders(numorders) \n",
                "in account to the maximum orderdate of the employees before May 1, 2016 is only to be outputted in this query.  \n",
                "\n",
                "I found this question special because it displays how the ordering of lines within the queries make a difference to the output. \n",
                ""
            ],
            "metadata": {
                "azdata_cell_guid": "ff818e11-b6e8-4a99-ba81-57c690e82714"
            },
            "attachments": {}
        },
        {
            "cell_type": "code",
            "source": [
                "USE TSQLV4;\n",
                "\n",
                "-- Query 1\n",
                "SELECT empid, COUNT(*) AS numorders\n",
                "FROM Sales.Orders\n",
                "WHERE orderdate < '20160501'\n",
                "GROUP BY empid;\n",
                "\n",
                "-- Query 2\n",
                "SELECT empid, COUNT(*) AS numorders\n",
                "FROM Sales.Orders\n",
                "GROUP BY empid\n",
                "HAVING MAX(orderdate) < '20160501';\n",
                "\n",
                "\n",
                "USE Northwinds2022TSQLV7; \n",
                "\n",
                "\n",
                "-- Query 1\n",
                "SELECT EmployeeId, COUNT(*) AS numorders\n",
                "FROM sales.[Order]\n",
                "WHERE orderdate < '20160501'\n",
                "GROUP BY EmployeeId;\n",
                "\n",
                "-- Query 2\n",
                "SELECT EmployeeId, COUNT(*) AS numorders\n",
                "FROM sales.[Order]\n",
                "GROUP BY EmployeeId\n",
                "HAVING MAX(orderdate) < '20160501';"
            ],
            "metadata": {
                "azdata_cell_guid": "aafea384-063c-4d14-b9cc-ae97d6f8b642",
                "language": "sql",
                "tags": [
                    "hide_input"
                ]
            },
            "outputs": [],
            "execution_count": null
        },
        {
            "cell_type": "markdown",
            "source": [
                "## B) Question 7 (Exercises) - Query\n",
                " The query firstly uses the SELECT TOP clause with the number 3 in front, which is special of this query since it selects three countries\n",
                "from the column ShipToCountry specifically. Then, the aggregate function AVG is used to find the average of the freight (Freight) in regards to the top\n",
                "three countries and this is labeled as avgfreight. Then, the WHERE clause is used to filter the orders from the 'sales.[Order]' table\n",
                "by setting the orderdate to the year 2015, thus, the orders only within that year will be taken into account to in correlation to the top\n",
                "three countries with the highest average freight. We then group the avgfreight with each unique country of the top three\n",
                "within the ShipToCountry column. The ORDER BY clause orders the grouped results(averagefreight) in descending order based on the calculated\n",
                "average freight (avgfreight). The DESC keyword is special here as it specifies a descending order rather than a randomized manner within \n",
                "the column, so the highest average freight goes from highest to lowest while being being outputted. \n",
                "\n",
                "I found this query to be special because I was able to implement the AVG() function. It also implements the SELECT TOP clause and DESC keyword \n",
                ""
            ],
            "metadata": {
                "azdata_cell_guid": "69c307b2-d2cd-4efe-b09a-9203746fcd47"
            },
            "attachments": {}
        },
        {
            "cell_type": "code",
            "source": [
                "USE TSQLV4;\n",
                "\n",
                "SELECT TOP 3 shipcountry, AVG(freight) AS avgfreight\n",
                "FROM Sales.Orders\n",
                "WHERE YEAR(orderdate) = 2015\n",
                "GROUP BY shipcountry\n",
                "ORDER BY avgfreight DESC;\n",
                "\n",
                "USE Northwinds2022TSQLV7;\n",
                "\n",
                "SELECT TOP 3 ShipToCountry, AVG(Freight) AS avgfreight\n",
                "FROM sales.[ORDER]\n",
                "WHERE YEAR(orderdate) = 2015\n",
                "GROUP BY ShipToCountry\n",
                "ORDER BY avgfreight DESC;"
            ],
            "metadata": {
                "azdata_cell_guid": "ea5caac4-2c22-4fea-8ea5-3fda91bb450a",
                "language": "sql",
                "tags": [
                    "hide_input"
                ]
            },
            "outputs": [],
            "execution_count": null
        },
        {
            "cell_type": "markdown",
            "source": [
                "## C) (Queries) - Proposition\n",
                "\n",
                "Return the 5 highest orders along with it’s order ID, order date, customer ID, and employee ID. Ordered by order date in descending order. Tables involved: Sales.Orders table\n",
                "\n",
                "I found this query to be special because the select top clause and the desc clause were implemented here. \n",
                ""
            ],
            "metadata": {
                "azdata_cell_guid": "43648a3a-b54e-485d-8779-dfc880eb33e1"
            },
            "attachments": {}
        },
        {
            "cell_type": "code",
            "source": [
                "USE TSQLV4;\n",
                "\n",
                "SELECT TOP (5) orderid, orderdate, custid, empid\n",
                "FROM Sales.Orders\n",
                "ORDER BY orderdate DESC;\n",
                ""
            ],
            "metadata": {
                "azdata_cell_guid": "be4a98c6-7eb6-4216-a4bc-5481d470ad04",
                "language": "sql",
                "tags": [
                    "hide_input"
                ]
            },
            "outputs": [],
            "execution_count": null
        },
        {
            "cell_type": "markdown",
            "source": [
                "## D) (Queries) - Proposition\n",
                "\n",
                "Return the result of 36 using numbers 10 , 2 , and 3 using basic arithmetic operators\n",
                "\n",
                "I found this query to be special because it shows that SQL is not only able to return values in regards to databases but also can return number values and solve arithmetic just like other programming languages."
            ],
            "metadata": {
                "azdata_cell_guid": "5a6875ac-75d7-4daa-8e75-1d9d7b80005f"
            },
            "attachments": {}
        },
        {
            "cell_type": "code",
            "source": [
                "SELECT (10 + 2) * 3 "
            ],
            "metadata": {
                "azdata_cell_guid": "4d78dabe-9758-4262-85b7-4811baf631be",
                "language": "sql",
                "tags": [
                    "hide_input"
                ]
            },
            "outputs": [],
            "execution_count": null
        },
        {
            "cell_type": "markdown",
            "source": [
                "## E) (Queries) - Proposition\n",
                "Return employee details including employee IDs and their full names concatenated from the HR.Employees table. Tables involved: HR.Employees\n",
                "\n",
                "I found this query to be special for its use of concatenation to combine the first and last name columns into a single column labeled as 'fullname'. \n",
                ""
            ],
            "metadata": {
                "azdata_cell_guid": "a68f22ed-b5c7-43d3-a69d-13cf7acb7856"
            },
            "attachments": {}
        },
        {
            "cell_type": "code",
            "source": [
                "USE TSQLV4;\n",
                "\n",
                "SELECT empid, firstname + N' ' + lastname AS fullname\n",
                "FROM HR.Employees;\n",
                ""
            ],
            "metadata": {
                "azdata_cell_guid": "bb63f190-0ba1-4a58-b10f-ccdc447a72a4",
                "language": "sql",
                "tags": [
                    "hide_input"
                ]
            },
            "outputs": [],
            "execution_count": null
        },
        {
            "cell_type": "markdown",
            "source": [
                "# Chapter 02 - Exercises\n",
                "## Question 1 (Exercises) - Query\n",
                "In this query we want to retrieve order details in regards to the orders placed in June 2015 so we select all columns that relate to order details. They are OrderId, OrderDate, CustomerId, EmployeeId. Then we use the WHERE clause to restrict the orderdate after June 1st and before July 1st to return the orders made ONLY in June. \n",
                ""
            ],
            "metadata": {
                "azdata_cell_guid": "05fee7d0-2f21-47c9-9607-def7b73445d0"
            },
            "attachments": {}
        },
        {
            "cell_type": "code",
            "source": [
                "USE TSQLV4;\n",
                "\n",
                "SELECT orderid, orderdate, custid, empid\n",
                "FROM Sales.Orders\n",
                "WHERE orderdate >= '2015-06-01' AND orderdate < '2015-07-01';\n",
                "\n",
                "USE Northwinds2022TSQLV7;\n",
                "\n",
                "SELECT OrderId, OrderDate, CustomerId, EmployeeId\n",
                "FROM sales.[ORDER]\n",
                "WHERE OrderDate >= '2015-06-01' AND OrderDate < '2015-07-01';"
            ],
            "metadata": {
                "azdata_cell_guid": "b3efe799-f1fa-4558-9d30-d37e1596715b",
                "language": "sql",
                "tags": [
                    "hide_input"
                ]
            },
            "outputs": [],
            "execution_count": null
        },
        {
            "cell_type": "markdown",
            "source": [
                "## Question 2 (Exercises) - Query \n",
                "Firstly, the id of the order (OrderId), the date of the order (OrderDate), the id of the customer(CustomerId),\n",
                "and the id of the employee (EmployeeId) of employees are selected from a table named 'Order' within a schema named Sales. Day is a function as it extracts from the OrderDate column.\n",
                "EOMONTH is a function as it calculates the last day of a month\n",
                "from the OrderDate column.\n",
                ""
            ],
            "metadata": {
                "azdata_cell_guid": "9923233c-f8f9-4a3d-903c-8f8de4f95242"
            },
            "attachments": {}
        },
        {
            "cell_type": "code",
            "source": [
                "USE TSQLV4; \n",
                "\n",
                "SELECT orderid, orderdate, custid, empid\n",
                "FROM Sales.Orders\n",
                "WHERE DAY(orderdate) = DAY(EOMONTH(orderdate));\n",
                "\n",
                "\n",
                "\n",
                "USE Northwinds2022TSQLV7;\n",
                "\n",
                "SELECT OrderId, OrderDate, CustomerId, EmployeeId\n",
                "FROM Sales.[Order]\n",
                "WHERE DAY(OrderDate) = DAY(EOMONTH(OrderDate));"
            ],
            "metadata": {
                "azdata_cell_guid": "919f6816-545f-46a7-800a-ef0a8219ffd7",
                "language": "sql",
                "tags": [
                    "hide_input"
                ]
            },
            "outputs": [],
            "execution_count": null
        },
        {
            "cell_type": "markdown",
            "source": [
                "## Question 3 (Exercises) - Query\n",
                "Firstly, employee ID (EmployeeId), first name (EmployeeFirstName),\n",
                "and last name (EmployeeLastName) of employees are selected from a table named Employee\n",
                "within a schema named HumanResources. The LEN function is special\n",
                "here as it calculates the the length of the lastname column.\n",
                "The REPLACE function is special here as it replaces the e strings\n",
                "of lastname to empty strings.\n",
                ""
            ],
            "metadata": {
                "azdata_cell_guid": "81848050-9706-4248-9a2a-8c1f2a82f8f5"
            },
            "attachments": {}
        },
        {
            "cell_type": "code",
            "source": [
                "USE TSQLV4;\n",
                "\n",
                "SELECT empid, firstname, lastname\n",
                "FROM HR.Employees\n",
                "WHERE LEN(lastname) - LEN(REPLACE(lastname, 'e', '')) >= 2\n",
                "\n",
                "\n",
                "\n",
                "USE Northwinds2022TSQLV7;\n",
                "\n",
                "SELECT EmployeeId, EmployeeFirstName, EmployeeLastName\n",
                "FROM HumanResources.[Employee]\n",
                "WHERE LEN(EmployeeLastName) - LEN(REPLACE(EmployeeLastName, 'e', '')) >= 2"
            ],
            "metadata": {
                "azdata_cell_guid": "15166a84-ac2d-40fe-a9e3-1638ba23bd49",
                "language": "sql",
                "tags": [
                    "hide_input"
                ]
            },
            "outputs": [],
            "execution_count": null
        },
        {
            "cell_type": "markdown",
            "source": [
                "## Question 4 (Exercises) - Query\n",
                "This query is constructed to retrieve orders from a table named 'OrderDetail' within the schema 'sales', where the total value—computed by multiplying the quantity of items by their respective unit prices—exceeds $10,000. Initially, the query selects the Order ID (OrderId) and calculates the total value for each order using the expression SUM(Quantity * UnitPrice). These values are then grouped by OrderId to consolidate the calculation per order. Subsequently, the HAVING clause filters the grouped results to include only orders with a total value greater than $10,000. The ORDER BY clause is utilized to arrange the results in descending order of their total value. By employing DESC, the query ensures that orders with the highest total values appear first in the output.\n",
                ""
            ],
            "metadata": {
                "azdata_cell_guid": "68da80fa-9c24-4568-bcef-2e973bc04059"
            },
            "attachments": {}
        },
        {
            "cell_type": "code",
            "source": [
                "USE TSQLV4;\n",
                "\n",
                "SELECT orderid, SUM(qty * unitprice) AS totalvalue\n",
                "FROM Sales.OrderDetails\n",
                "GROUP BY orderid\n",
                "HAVING SUM(qty * unitprice) > 10000\n",
                "ORDER BY totalvalue DESC;\n",
                "\n",
                "USE Northwinds2022TSQLV7;\n",
                "\n",
                "SELECT OrderId, SUM(Quantity * UnitPrice) AS totalvalue\n",
                "FROM sales.[OrderDetail]\n",
                "GROUP BY OrderId\n",
                "HAVING SUM(Quantity * UnitPrice) > 10000"
            ],
            "metadata": {
                "azdata_cell_guid": "e31322ff-6239-45a0-90dd-46546eee3195",
                "language": "sql",
                "tags": [
                    "hide_input"
                ]
            },
            "outputs": [],
            "execution_count": null
        },
        {
            "cell_type": "markdown",
            "source": [
                "## Question 5 (Exercises) - Query\n",
                "This query aims to retrieve employees from a table named 'Employee' within the 'HumanResources' schema whose last names begin with a lowercase letter. Initially, the query selects the Employee ID (EmployeeId) and the last name (EmployeeLastName) of each employee. To filter out employees with last names starting with a lowercase letter, the query utilizes the WHERE clause along with the LEFT and ASCII functions. The LEFT(EmployeeLastName, 1) function extracts the first character (letter) from the EmployeeLastName column of each row, while the ASCII(..) function returns the ASCII value of any character passed through it. The expression ASCII(LEFT(EmployeeLastName, 1)) BETWEEN 97 AND 122 checks if the ASCII value of the first letter of the employee's last name falls within the range of lowercase letters from 'a' (ASCII value 97) to 'z' (ASCII value 122). This effectively filters and returns only those employees whose last names start with a lowercase letter.\n",
                ""
            ],
            "metadata": {
                "azdata_cell_guid": "a95c5eb8-fe5d-498a-a458-032ed8fe8aa6"
            },
            "attachments": {}
        },
        {
            "cell_type": "code",
            "source": [
                "USE TSQLV4;\n",
                "\n",
                "SELECT empid, lastname\n",
                "FROM HR.Employees\n",
                "WHERE ASCII(LEFT(lastname, 1)) BETWEEN 97 AND 122;\n",
                "\n",
                "\n",
                "USE Northwinds2022TSQLV7;\n",
                "\n",
                "SELECT EmployeeId, EmployeeLastName\n",
                "FROM HumanResources.[Employee]\n",
                "WHERE ASCII(LEFT(EmployeeLastName, 1)) BETWEEN 97 AND 122;"
            ],
            "metadata": {
                "azdata_cell_guid": "c2b2dfcc-6423-4480-b02f-f301f6c5f17d",
                "language": "sql",
                "tags": [
                    "hide_input"
                ]
            },
            "outputs": [],
            "execution_count": null
        },
        {
            "cell_type": "markdown",
            "source": [
                "## Question 8 (Exercises) - Query\n",
                "This query extracts data from the 'sales.[ORDER]' table, assigning a unique row number to each row within specific customer partitions ('CustomerId'). This row number is determined based on the order of 'OrderDate' and 'OrderId'. The resulting data is then sorted by 'CustomerId', 'OrderDate', and 'OrderId'.\n",
                "This process employs Row Number Assignment within Partitions, utilizing the 'ROW_NUMBER()' function with the 'PARTITION BY' clause. This function assigns a distinct row number to each row within a partition defined by the 'CustomerId' column. This approach proves useful when enumerating rows within distinct groups or categories. Furthermore, the query incorporates Ordering Within Partitions. Here, the row number is influenced by the specified order of columns, namely 'OrderDate' and 'OrderId'. Within each 'CustomerId' group, rows are organized based on the 'OrderDate' and 'OrderId', defined using the 'OVER' clause. Lastly, the query makes use of Window Function Usage. Specifically, the 'ROW_NUMBER()' function operates within a \"window\" of rows defined by the 'PARTITION BY' and 'ORDER BY' clauses. This allows for calculations across specific subsets of rows, offering more flexibility compared to traditional aggregate functions.\n",
                ""
            ],
            "metadata": {
                "azdata_cell_guid": "41b778b6-ffce-418a-94d8-12069ef4d0bb"
            },
            "attachments": {}
        },
        {
            "cell_type": "code",
            "source": [
                "USE TSQLV4;\n",
                "\n",
                "SELECT custid, orderdate, orderid,\n",
                "   ROW_NUMBER() OVER (PARTITION BY custid ORDER BY orderdate, orderid) AS rownum\n",
                "FROM Sales.Orders\n",
                "ORDER BY custid, orderdate, orderid;\n",
                "\n",
                "\n",
                "USE Northwinds2022TSQLV7;\n",
                "\n",
                "SELECT CustomerId, OrderDate, OrderId,\n",
                "  ROW_NUMBER() OVER (PARTITION BY CustomerId ORDER BY OrderDate, OrderId) AS rownum\n",
                "FROM sales.[ORDER]\n",
                "ORDER BY CustomerId, OrderDate, OrderId;\n",
                ""
            ],
            "metadata": {
                "azdata_cell_guid": "048b86ae-41e7-4368-848d-a92752a25401",
                "language": "sql",
                "tags": [
                    "hide_input"
                ]
            },
            "outputs": [],
            "execution_count": null
        },
        {
            "cell_type": "markdown",
            "source": [
                "## Question 9 (Exercises) - Query\n",
                "In this query we data from the ‘humanresources.[Employee]’ table to determine the gender of each employee using the ‘EmployeeTitleofCourtesy’and return the results. For instance where the gender cannot be determined by the ‘EmployeeTitleofCourtesy’, we return the gender as ‘Unknown’. To accomplish this, this query utilizes a CASE STATEMENT, which is a powerful feature of SQL that allows for conditional logic, in this case, the CASE statement checks the value in the ‘EmployeeTitleofCourtesy’ and assigns a corresponding gender value.\n",
                "Another feature of this query is its utilization of the CONDITIONAL CHECK/ WHEN/ELSE STATEMENT which is used to defined the conditions used to determine the gender of each employee based on the value store in the ‘EmployeeTitleofCourtesy.’\n",
                "Finally, this query demonstrates the use of SQL not just for retrieving data but also for transforming it. By introducing this derived column (gender), it makes the results more informative and user friendly.\n",
                ""
            ],
            "metadata": {
                "azdata_cell_guid": "28c62c40-4c53-4d02-bf2e-76333d4afc9e"
            },
            "attachments": {}
        },
        {
            "cell_type": "code",
            "source": [
                "USE TSQLV4;\n",
                "SELECT empid, firstname, lastname, titleofcourtesy,\n",
                "CASE\n",
                "       WHEN titleofcourtesy IN ('Ms.', 'Mrs.') THEN 'Female'\n",
                "       WHEN titleofcourtesy = 'Mr.' THEN 'Male'\n",
                "       ELSE 'Unknown'\n",
                "   END AS gender\n",
                "FROM\n",
                "   HR.Employees;\n",
                "\n",
                "\n",
                "\n",
                "USE Northwinds2022TSQLV7;\n",
                "\n",
                "SELECT EmployeeId, EmployeeFirstName, EmployeeLastName, EmployeeTitleofCourtesy,\n",
                "CASE\n",
                "      WHEN EmployeeTitleofCourtesy IN ('Ms.', 'Mrs.') THEN 'Female'\n",
                "      WHEN EmployeeTitleOfCourtesy= 'Mr.' THEN 'Male'\n",
                "      ELSE 'Unknown'\n",
                "  END AS gender\n",
                "FROM humanresources.[EMPLOYEE];"
            ],
            "metadata": {
                "azdata_cell_guid": "c561100b-2cff-4180-af19-3964ef9fd535",
                "language": "sql",
                "tags": [
                    "hide_input"
                ]
            },
            "outputs": [],
            "execution_count": null
        },
        {
            "cell_type": "markdown",
            "source": [
                "## Question 10 (Exercises) - Query\n",
                "This SQL script fetches customer IDs and their associated regions from a table named \"Customers\" within the \"Sales\" schema. The sorting of results is done in two steps: first, using a custom condition through the CASE statement. If a region is NULL, it's assigned a value of 1, ensuring these rows appear first in the sorted output. Otherwise, they're assigned a value of 0. Following this, the results are further sorted based on the actual region values, arranging them alphabetically. Essentially, the query organizes and presents customer data, giving priority to those without specified regions while arranging the rest alphabetically based on their regions."
            ],
            "metadata": {
                "azdata_cell_guid": "7745e4a3-59b8-475f-8aae-3754f91f58e3"
            },
            "attachments": {}
        },
        {
            "cell_type": "code",
            "source": [
                "USE TSQLV4;\n",
                "\n",
                "SELECT custid,region\n",
                "FROM Sales.Customers\n",
                "ORDER BY\n",
                "   CASE\n",
                "       WHEN region IS NULL THEN 1\n",
                "       ELSE 0\n",
                "   END,\n",
                "   region;\n",
                "\n",
                "\n",
                "USE Northwinds2022TSQLV7;\n",
                "\n",
                "SELECT CustomerId,CustomerRegion\n",
                "FROM Sales.Customer\n",
                "ORDER BY\n",
                "  CASE\n",
                "      WHEN CustomerRegion IS NULL THEN 1\n",
                "      ELSE 0\n",
                "  END,\n",
                "  CustomerRegion;\n",
                ""
            ],
            "metadata": {
                "azdata_cell_guid": "3ec805d8-c232-4beb-b424-ab685d285e50",
                "language": "sql",
                "tags": [
                    "hide_input"
                ]
            },
            "outputs": [],
            "execution_count": null
        },
        {
            "cell_type": "markdown",
            "source": [
                "# Chapter 02 - Queries\n",
                "## Question 1 (Proposition)\n",
                "Return order details including order ID, employee ID, order date, and freight cost. For orders made by customer with ID 71. Tables involved: Sales.Orders table\n",
                "\n",
                "\n",
                ""
            ],
            "metadata": {
                "azdata_cell_guid": "3363b116-26f6-49d8-908d-b70a0c2c79b4"
            },
            "attachments": {}
        },
        {
            "cell_type": "code",
            "source": [
                "USE TSQLV4;\n",
                "\n",
                "SELECT orderid, empid, orderdate, freight\n",
                "FROM Sales.Orders\n",
                "WHERE custid = 71;\n",
                ""
            ],
            "metadata": {
                "azdata_cell_guid": "cf5a0571-ac93-4b49-8ea9-f056958daa34",
                "language": "sql",
                "tags": [
                    "hide_input"
                ]
            },
            "outputs": [],
            "execution_count": null
        },
        {
            "cell_type": "markdown",
            "source": [
                "## Question 2 (Proposition)\n",
                "Return employee IDs and the corresponding years in which they have handled multiple orders. For customer with ID 71. Tables involved: Sales.Orders table\n",
                ""
            ],
            "metadata": {
                "azdata_cell_guid": "d7125954-41f7-4dd8-8f76-35e828b1b429"
            },
            "attachments": {}
        },
        {
            "cell_type": "code",
            "source": [
                "USE TSQLV4;\n",
                "\n",
                "SELECT empid, YEAR(orderdate) AS orderyear\n",
                "FROM Sales.Orders\n",
                "WHERE custid = 71\n",
                "GROUP BY empid, YEAR(orderdate)\n",
                "HAVING COUNT(*) > 1;\n",
                ""
            ],
            "metadata": {
                "azdata_cell_guid": "3f6f1924-0342-4a0a-b029-06c335bfc133",
                "language": "sql",
                "tags": [
                    "hide_input"
                ]
            },
            "outputs": [],
            "execution_count": null
        },
        {
            "cell_type": "markdown",
            "source": [
                "## Question 3 (Proposition)\n",
                "Return employee IDs, the corresponding years, and the count of orders they handled. For customer with ID 71, with orders made in multiple years. Tables involved: Sales.Orders table\n",
                ""
            ],
            "metadata": {
                "azdata_cell_guid": "4216deab-1f86-4f2b-a136-471d7edec6e7"
            },
            "attachments": {}
        },
        {
            "cell_type": "code",
            "source": [
                "/*\n",
                "SELECT empid, YEAR(orderdate) AS orderyear, COUNT(*) AS numorders\n",
                "FROM Sales.Orders\n",
                "WHERE custid = 71\n",
                "GROUP BY empid, YEAR(orderdate)\n",
                "HAVING numorders > 1;\n",
                "*/\n",
                ""
            ],
            "metadata": {
                "azdata_cell_guid": "0f764586-e853-417b-aa21-de630df2554a",
                "language": "sql",
                "tags": [
                    "hide_input"
                ]
            },
            "outputs": [],
            "execution_count": null
        },
        {
            "cell_type": "markdown",
            "source": [
                "## Question 4 (Proposition)\n",
                "Return order IDs along with the order year and the subsequent year for each order. Tables involved: Sales.Orders table\n",
                ""
            ],
            "metadata": {
                "azdata_cell_guid": "2d5c7ca4-db41-4697-b6a9-41f18817a460"
            },
            "attachments": {}
        },
        {
            "cell_type": "code",
            "source": [
                "/*\n",
                "SELECT orderid,\n",
                "  YEAR(orderdate) AS orderyear,\n",
                "  orderyear + 1 AS nextyear\n",
                "FROM Sales.Orders;\n",
                "*/\n",
                ""
            ],
            "metadata": {
                "azdata_cell_guid": "75dfd636-f340-42cd-b0ad-c6745562d662",
                "language": "sql",
                "tags": [
                    "hide_input"
                ]
            },
            "outputs": [],
            "execution_count": null
        },
        {
            "cell_type": "markdown",
            "source": [
                "## Question 5 (Proposition)\n",
                "Return order details including order ID, customer ID, and value, along with row numbers calculated for each customer separately based on the value. Tables involved: Sales.OrderValues table\n",
                ""
            ],
            "metadata": {
                "azdata_cell_guid": "77671c58-0cc1-4629-81cb-8ed2378a674c"
            },
            "attachments": {}
        },
        {
            "cell_type": "code",
            "source": [
                "USE TSQLV4;\n",
                "\n",
                "SELECT orderid, custid, val,\n",
                "  ROW_NUMBER() OVER(PARTITION BY custid\n",
                "                    ORDER BY val) AS rownum\n",
                "FROM Sales.OrderValues\n",
                "ORDER BY custid, val;\n",
                ""
            ],
            "metadata": {
                "azdata_cell_guid": "45129646-6123-49e8-be39-b5bae964a93c",
                "language": "sql",
                "tags": [
                    "hide_input"
                ]
            },
            "outputs": [],
            "execution_count": null
        },
        {
            "cell_type": "markdown",
            "source": [
                "## Question 6 (Proposition)\n",
                " Return order details including order ID, employee ID, and order date for orders made by specific employees after January 1, 2016. Tables involved: Sales.Orders table\n",
                ""
            ],
            "metadata": {
                "azdata_cell_guid": "568b3e98-3794-4b19-bc45-5fd6689fb71f"
            },
            "attachments": {}
        },
        {
            "cell_type": "code",
            "source": [
                "USE TSQLV4;\n",
                "\n",
                "SELECT orderid, empid, orderdate\n",
                "FROM Sales.Orders\n",
                "WHERE orderdate >= '20160101'\n",
                "  AND empid IN(1, 3, 5);\n",
                ""
            ],
            "metadata": {
                "azdata_cell_guid": "debfade7-829a-43d0-bb9b-0d10018229a8",
                "language": "sql",
                "tags": [
                    "hide_input"
                ]
            },
            "outputs": [],
            "execution_count": null
        },
        {
            "cell_type": "markdown",
            "source": [
                "## Question 7 (Proposition)\n",
                "Return customer details including customer ID, country, region, and city for customers with a region that doesn’t exist. Tables involved: Sales.Customers table\n",
                ""
            ],
            "metadata": {
                "azdata_cell_guid": "3460ce72-3f70-499e-8ec2-a9f0e99fc6f7"
            },
            "attachments": {}
        },
        {
            "cell_type": "code",
            "source": [
                "USE TSQLV4;\n",
                "\n",
                "SELECT custid, country, region, city\n",
                "FROM Sales.Customers\n",
                "WHERE region = NULL;\n",
                ""
            ],
            "metadata": {
                "azdata_cell_guid": "9a0beac4-592b-4615-8f2b-e41e664fd66e",
                "language": "sql",
                "tags": [
                    "hide_input"
                ]
            },
            "outputs": [],
            "execution_count": null
        },
        {
            "cell_type": "markdown",
            "source": [
                "## Question 8 (Proposition)\n",
                "Return values of columns col1 and col2 from table dbo.T1 where:If col1 equals 0, the row should not be included. If the result of col2 divided by col1 is more than 2, include the row\n",
                "\n",
                ""
            ],
            "metadata": {
                "azdata_cell_guid": "e7abd47a-b0a1-4677-aa93-d5aff0783d53"
            },
            "attachments": {}
        },
        {
            "cell_type": "code",
            "source": [
                "/*\n",
                "SELECT col1, col2\n",
                "FROM dbo.T1\n",
                "WHERE\n",
                "  CASE\n",
                "    WHEN col1 = 0 THEN 'no' -- or 'yes' if row should be returned\n",
                "    WHEN col2/col1 > 2 THEN 'yes'\n",
                "    ELSE 'no'\n",
                "  END = 'yes';\n",
                "*/\n",
                ""
            ],
            "metadata": {
                "azdata_cell_guid": "463864bf-89ae-4884-a842-fc1523bc1200",
                "language": "sql",
                "tags": [
                    "hide_input"
                ]
            },
            "outputs": [],
            "execution_count": null
        },
        {
            "cell_type": "markdown",
            "source": [
                "## Question 9 (Proposition)\n",
                "Return the rightmost 3 characters of the string 'abcde'\n",
                ""
            ],
            "metadata": {
                "azdata_cell_guid": "406d5cb1-fb92-4d98-a6ee-600d8980fddb"
            },
            "attachments": {}
        },
        {
            "cell_type": "code",
            "source": [
                "USE TSQLV4;\n",
                "\n",
                "SELECT RIGHT('abcde', 3); \n",
                ""
            ],
            "metadata": {
                "azdata_cell_guid": "a4c50e3e-853c-41ec-928f-e7fa52598a4e",
                "language": "sql",
                "tags": [
                    "hide_input"
                ]
            },
            "outputs": [],
            "execution_count": null
        },
        {
            "cell_type": "markdown",
            "source": [
                "## Question 10 (Proposition)\n",
                " Return a modified string  '1-a 2-b' in which the hyphens should be replaced with colons"
            ],
            "metadata": {
                "azdata_cell_guid": "20a2ff7e-a469-406a-82f6-9897f555a98b"
            },
            "attachments": {}
        },
        {
            "cell_type": "code",
            "source": [
                "USE TSQLV4;\n",
                "\n",
                "SELECT REPLACE('1-a 2-b', '-', ':')"
            ],
            "metadata": {
                "azdata_cell_guid": "dfd61955-bd39-4c11-81fc-78c33455834f",
                "language": "sql",
                "tags": [
                    "hide_input"
                ]
            },
            "outputs": [],
            "execution_count": null
        },
        {
            "cell_type": "markdown",
            "source": [
                "## Question 11 (Proposition)\n",
                " Return a modified string 'Itzik Ben-Gan' in which it is converted to uppercase"
            ],
            "metadata": {
                "azdata_cell_guid": "2239aa3c-ec13-4129-9026-35a41b09f05b"
            },
            "attachments": {}
        },
        {
            "cell_type": "code",
            "source": [
                "USE TSQLV4;\n",
                "\n",
                "SELECT UPPER('Itzik Ben-Gan'); \n",
                ""
            ],
            "metadata": {
                "azdata_cell_guid": "dcb7953b-56c7-4a7f-bc4f-c61b093343a9",
                "language": "sql",
                "tags": [
                    "hide_input"
                ]
            },
            "outputs": [],
            "execution_count": null
        },
        {
            "cell_type": "markdown",
            "source": [
                "## Question 12 (Proposition)\n",
                "Insert compressed CV data for a specific employee into the dbo.EmployeeCVs table"
            ],
            "metadata": {
                "azdata_cell_guid": "7c99c764-7201-4ccf-af51-c99b58b4e5a0"
            },
            "attachments": {}
        },
        {
            "cell_type": "code",
            "source": [
                "/*\n",
                "INSERT INTO dbo.EmployeeCVs( empid, cv )\n",
                "  VALUES( @empid, COMPRESS(@cv) );\n",
                "*/\n",
                ""
            ],
            "metadata": {
                "azdata_cell_guid": "26e459b7-8620-4e3f-b318-f457e5104a3f",
                "language": "sql",
                "tags": [
                    "hide_input"
                ]
            },
            "outputs": [],
            "execution_count": null
        },
        {
            "cell_type": "markdown",
            "source": [
                "## Question 13 (Proposition)\n",
                "Return employee details including employee IDs and last names from the HR.Employees table where the last name starts with 'D'"
            ],
            "metadata": {
                "azdata_cell_guid": "1b6028b7-7419-482a-8910-99395b4fbc04"
            },
            "attachments": {}
        },
        {
            "cell_type": "code",
            "source": [
                "USE TSQLV4;\n",
                "\n",
                "SELECT empid, lastname\n",
                "FROM HR.Employees\n",
                "WHERE lastname LIKE N'D%';\n",
                "\n",
                ""
            ],
            "metadata": {
                "azdata_cell_guid": "2ad44f34-65c0-485e-82e3-8566641e67d0",
                "language": "sql",
                "tags": [
                    "hide_input"
                ]
            },
            "outputs": [],
            "execution_count": null
        },
        {
            "cell_type": "markdown",
            "source": [
                "## Question 14 (Proposition)\n",
                "Return order details including order ID, customer ID, employee ID, and order date for orders made on February 12, 2016. Tables involved: Sales.Orders\n",
                ""
            ],
            "metadata": {
                "azdata_cell_guid": "e8cf8eaf-aa1c-41b7-8852-3686fe6dc8b6"
            },
            "attachments": {}
        },
        {
            "cell_type": "code",
            "source": [
                "USE TSQLV4;\n",
                "\n",
                "SELECT orderid, custid, empid, orderdate\n",
                "FROM Sales.Orders\n",
                "WHERE orderdate = '20160212';\n",
                ""
            ],
            "metadata": {
                "azdata_cell_guid": "c1ac885c-7fa6-4a6f-920b-88f92c054b5b",
                "language": "sql",
                "tags": [
                    "hide_input"
                ]
            },
            "outputs": [],
            "execution_count": null
        },
        {
            "cell_type": "markdown",
            "source": [
                "## Question 15 (Proposition)\n",
                "Convert a string '20160212' to a date data type using the 'us_english' language setting"
            ],
            "metadata": {
                "azdata_cell_guid": "597c88b4-37ed-4419-bf64-7916286f240d"
            },
            "attachments": {}
        },
        {
            "cell_type": "code",
            "source": [
                "SET LANGUAGE us_english;\n",
                "SELECT CAST('20160212' AS DATE);\n",
                ""
            ],
            "metadata": {
                "azdata_cell_guid": "a3206249-2142-47f9-a819-e4a07779afeb",
                "language": "sql",
                "tags": [
                    "hide_input"
                ]
            },
            "outputs": [],
            "execution_count": null
        },
        {
            "cell_type": "markdown",
            "source": [
                "## Question 16 (Proposition)\n",
                " Convert the string '12:30:15.123' to a DATETIME data type"
            ],
            "metadata": {
                "azdata_cell_guid": "291286bc-0520-4eb2-bc3a-e208170043ec"
            },
            "attachments": {}
        },
        {
            "cell_type": "code",
            "source": [
                "SELECT CAST('12:30:15.123' AS DATETIME);"
            ],
            "metadata": {
                "azdata_cell_guid": "d9dba645-d569-4cb4-a645-40d5a1f9e9c1",
                "language": "sql",
                "tags": [
                    "hide_input"
                ]
            },
            "outputs": [],
            "execution_count": null
        },
        {
            "cell_type": "markdown",
            "source": [
                "## Question 17 (Proposition)\n",
                "Return order details including order ID, customer ID, employee ID, and order date for orders made after February 1, 2016, but before March 1, 2016. Tables involved: Sales.Orders\n",
                ""
            ],
            "metadata": {
                "azdata_cell_guid": "551dd7d4-7ec4-46d7-bad0-7438b8b89b37"
            },
            "attachments": {}
        },
        {
            "cell_type": "code",
            "source": [
                "USE TSQLV4;\n",
                "\n",
                "SELECT orderid, custid, empid, orderdate\n",
                "FROM Sales.Orders\n",
                "WHERE orderdate >= '20160201' AND orderdate < '20160301';\n",
                ""
            ],
            "metadata": {
                "azdata_cell_guid": "15608f3a-8c8e-47c3-87c3-5f570dc0ac19",
                "language": "sql",
                "tags": [
                    "hide_input"
                ]
            },
            "outputs": [],
            "execution_count": null
        },
        {
            "cell_type": "markdown",
            "source": [
                "## Question 18 (Proposition)\n",
                "Return the current system time"
            ],
            "metadata": {
                "azdata_cell_guid": "692cc62b-32a4-4a66-8e08-7c953607c711"
            },
            "attachments": {}
        },
        {
            "cell_type": "code",
            "source": [
                "SELECT CAST(SYSDATETIME() AS TIME);"
            ],
            "metadata": {
                "azdata_cell_guid": "7012360e-a75a-4961-81d9-426d3d8e1d82",
                "language": "sql",
                "tags": [
                    "hide_input"
                ]
            },
            "outputs": [],
            "execution_count": null
        },
        {
            "cell_type": "markdown",
            "source": [
                "## Question 19 (Proposition)\n",
                "Convert the dataset string '02/12/2016' into proper DATETIME with the 'en-US' locale"
            ],
            "metadata": {
                "azdata_cell_guid": "01f4ef64-c88c-493a-8691-f7dd323f0579"
            },
            "attachments": {}
        },
        {
            "cell_type": "code",
            "source": [
                "\n",
                "/* SELECT PARSE('02/12/2016' AS DATETIME USING 'en-US'); */"
            ],
            "metadata": {
                "azdata_cell_guid": "b4928679-69f2-4a39-a30c-2a5951e5280b",
                "language": "sql",
                "tags": [
                    "hide_input"
                ]
            },
            "outputs": [],
            "execution_count": null
        },
        {
            "cell_type": "markdown",
            "source": [
                "## Question 20 (Proposition)\n",
                "Return information about time zones including name, current UTC offset, and whether it is currently observing daylight saving time. Tables involved: sys.time_zone_info\n",
                ""
            ],
            "metadata": {
                "azdata_cell_guid": "33b92ba9-fd4b-4afa-80b2-a6486302d982"
            },
            "attachments": {}
        },
        {
            "cell_type": "code",
            "source": [
                "/* SELECT name, current_utc_offset, is_currently_dst\n",
                "FROM sys.time_zone_info; */\n",
                ""
            ],
            "metadata": {
                "azdata_cell_guid": "5e96d34f-c20d-452f-88b8-466693632635",
                "language": "sql",
                "tags": [
                    "hide_input"
                ]
            },
            "outputs": [],
            "execution_count": null
        },
        {
            "cell_type": "markdown",
            "source": [
                "## Question 21 (Proposition)\n",
                "Calculate the difference in milliseconds between two dates, January 1st, 0001 and February 12th, 2016"
            ],
            "metadata": {
                "azdata_cell_guid": "e5a8e76e-92d5-4397-bd94-69d9ca7f0fcb"
            },
            "attachments": {}
        },
        {
            "cell_type": "code",
            "source": [
                "SELECT DATEDIFF_BIG(millisecond, '00010101', '20160212');"
            ],
            "metadata": {
                "azdata_cell_guid": "b016a98f-1b30-40ca-81b7-4c1de9254937",
                "language": "sql",
                "tags": [
                    "hide_input"
                ]
            },
            "outputs": [],
            "execution_count": null
        },
        {
            "cell_type": "markdown",
            "source": [
                "## Question 22 (Proposition)\n",
                "Return three separate values:  the day, the month, and the year extracted from the following date of February 12th, 2016"
            ],
            "metadata": {
                "azdata_cell_guid": "575d59b4-f988-44f8-992e-c6a172c37db2"
            },
            "attachments": {}
        },
        {
            "cell_type": "code",
            "source": [
                "SELECT\n",
                "  DAY('20160212') AS theday,\n",
                "  MONTH('20160212') AS themonth,\n",
                "  YEAR('20160212') AS theyear;\n",
                ""
            ],
            "metadata": {
                "azdata_cell_guid": "b9b6a5fc-7626-4fee-b752-37b1ff88d651",
                "language": "sql",
                "tags": [
                    "hide_input"
                ]
            },
            "outputs": [],
            "execution_count": null
        },
        {
            "cell_type": "markdown",
            "source": [
                "## Question 23 (Proposition)\n",
                "Return generated various date and time values using functions such as DATEFROMPARTS, DATETIME2FROMPARTS, DATETIMEFROMPARTS, DATETIMEOFFSETFROMPARTS, SMALLDATETIMEFROMPARTS, and TIMEFROMPARTS"
            ],
            "metadata": {
                "azdata_cell_guid": "06aa3b52-cfb0-498f-96c0-01992f433121"
            },
            "attachments": {}
        },
        {
            "cell_type": "code",
            "source": [
                "SELECT\n",
                "  DATEFROMPARTS(2016, 02, 12),\n",
                "  DATETIME2FROMPARTS(2016, 02, 12, 13, 30, 5, 1, 7),\n",
                "  DATETIMEFROMPARTS(2016, 02, 12, 13, 30, 5, 997),\n",
                "  DATETIMEOFFSETFROMPARTS(2016, 02, 12, 13, 30, 5, 1, -8, 0, 7),\n",
                "  SMALLDATETIMEFROMPARTS(2016, 02, 12, 13, 30),\n",
                "  TIMEFROMPARTS(13, 30, 5, 1, 7);\n",
                ""
            ],
            "metadata": {
                "azdata_cell_guid": "ffd55bd8-55dd-47fa-98db-3b1a09ea6daf",
                "language": "sql",
                "tags": [
                    "hide_input"
                ]
            },
            "outputs": [],
            "execution_count": null
        },
        {
            "cell_type": "markdown",
            "source": [
                "## Question 24 (Proposition)\n",
                " Return information about all base tables in the database, including their schema and name. Tables involved: INFORMATION_SCHEMA.TABLES\n",
                ""
            ],
            "metadata": {
                "azdata_cell_guid": "f104e3f9-23c8-4d62-a0c3-bd9bd2836d74"
            },
            "attachments": {}
        },
        {
            "cell_type": "code",
            "source": [
                "SELECT TABLE_SCHEMA, TABLE_NAME\n",
                "FROM INFORMATION_SCHEMA.TABLES\n",
                "WHERE TABLE_TYPE = N'BASE TABLE';\n",
                ""
            ],
            "metadata": {
                "azdata_cell_guid": "e2879770-3f1d-4fef-a2a0-c692723ce605",
                "language": "sql",
                "tags": [
                    "hide_input"
                ]
            },
            "outputs": [],
            "execution_count": null
        },
        {
            "cell_type": "markdown",
            "source": [
                "## Question 25 (Proposition)\n",
                "Return information about the constraints applied to the \"Sales.Orders\" table. Tables involved: sys.sp_helpconstraint\n",
                ""
            ],
            "metadata": {
                "azdata_cell_guid": "ccc90358-4175-4204-b1b7-e1c6a50aa930"
            },
            "attachments": {}
        },
        {
            "cell_type": "code",
            "source": [
                "EXEC sys.sp_helpconstraint\n",
                "  @objname = N'Sales.Orders';\n",
                ""
            ],
            "metadata": {
                "azdata_cell_guid": "1d6e6097-b45c-49ba-a659-9da694ed72c9",
                "language": "sql",
                "tags": [
                    "hide_input"
                ]
            },
            "outputs": [],
            "execution_count": null
        }
    ]
}