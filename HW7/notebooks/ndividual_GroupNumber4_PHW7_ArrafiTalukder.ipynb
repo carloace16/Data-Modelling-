{
    "metadata": {
        "kernelspec": {
            "name": "SQL",
            "display_name": "SQL",
            "language": "sql"
        },
        "language_info": {
            "name": "sql",
            "version": ""
        }
    },
    "nbformat_minor": 2,
    "nbformat": 4,
    "cells": [
        {
            "cell_type": "markdown",
            "source": [
                "# **Top 5 Queries** \n",
                "## **Question 5 - Chapter 7 (Exercises)**\n",
                "**Proposition**: Returns a query that transforms yearly order counts into individual records for each year where orders exist.\n",
                "\n",
                "**View**: The query retrieves data from the dbo.EmpYearOrders view.\n",
                "\n",
                "**Columns**: The columns in focus are EmployeeId, a transformed column OrderYear (which represents the years 2014, 2015, and 2016), and NumOrders, which indicates the number of orders for each year.\n",
                "\n",
                "**Predicate**: The query uses UNPIVOT to convert columns for yearly order counts from the dbo.EmpYearOrders table into rows, showing each employee's orders per year as individual records. It focuses only on years where orders were made by filtering out any instances where the order count is zero (WHERE NumOrders > 0), ensuring that the resulting list includes only active order years for each employee.\n",
                "\n",
                "*This query is special because it utilizes UNPIVOT to transform the result set into a different fashion.*\n",
                ""
            ],
            "metadata": {
                "azdata_cell_guid": "ce829b91-e612-4efa-a2a5-0add15fe96e5"
            },
            "attachments": {}
        },
        {
            "cell_type": "code",
            "source": [
                "USE TSQLV4;\n",
                "\n",
                "SELECT empid, orderyear, numorders\n",
                "FROM dbo.EmpYearOrders\n",
                "UNPIVOT\n",
                "(\n",
                "  numorders FOR orderyear IN (cnt2014, cnt2015, cnt2016)\n",
                ") AS up\n",
                "WHERE numorders > 0;\n",
                "\n",
                "\n",
                "\n",
                "USE Northwinds2022TSQLV7;\n",
                "\n",
                "SELECT EmployeeId, OrderYear, NumOrders\n",
                "FROM dbo.EmpYearOrders\n",
                "UNPIVOT\n",
                "(\n",
                "  NumOrders FOR OrderYear IN (Cnt2014, Cnt2015, Cnt2016)\n",
                ") AS up\n",
                "WHERE NumOrders > 0;\n",
                ""
            ],
            "metadata": {
                "language": "sql",
                "azdata_cell_guid": "b31ba34b-8138-49a4-9e3e-5c0a30bbcb9f"
            },
            "outputs": [],
            "execution_count": null
        },
        {
            "cell_type": "markdown",
            "source": [
                "## **Query (Non-Exercises)**\n",
                "**Proposition**: Returns the percentage of each order's value relative to the total value of all orders and the total value of orders for each customer.\n",
                "\n",
                "**View**: The query retrieves data from the Sales.OrderValues view.\n",
                "\n",
                "**Columns**: The columns involved are: OrderId, CustomerId, and Val. The query introduces two computed columns: PctAll, which represents the percentage of an individual order's value against the total value of all orders, and PctCust, which signifies the percentage of an individual order's value against the total value of orders for that specific customer.\n",
                "\n",
                "**Predicate**: The query calculates two percentages for each order. The first percentage, PctAll, shows how much each order contributes to the total value of all orders. It does this by dividing the value of each order by the sum of all orders' values and then multiplying by 100. The second percentage, PctCust, shows each order's share of the total orders for that particular customer. It's calculated similarly, but the sum is only for the orders of each specific customer, using a PARTITION BY customer ID.\n",
                "\n",
                "*This query is special because it utilizes the PARTITION BY for data division in regards to CustomerId within the result set.*\n",
                ""
            ],
            "metadata": {
                "azdata_cell_guid": "6fce2c95-874a-4750-b045-e373ff754be5"
            },
            "attachments": {}
        },
        {
            "cell_type": "code",
            "source": [
                "USE TSQLV4;\n",
                "\n",
                "SELECT orderid, custid, val,\n",
                "  100. * val / SUM(val) OVER() AS pctall,\n",
                "  100. * val / SUM(val) OVER(PARTITION BY custid) AS pctcust\n",
                "FROM Sales.OrderValues;\n",
                "\n",
                "\n",
                "USE Northwinds2022TSQLV7;\n",
                "\n",
                "SELECT Orderid, CustomerId, Val,\n",
                "  100. * val / SUM(Val) OVER() AS PctAll,\n",
                "  100. * val / SUM(Val) OVER(PARTITION BY CustomerId) AS PctCust\n",
                "FROM Sales.OrderValues;"
            ],
            "metadata": {
                "azdata_cell_guid": "4ac39ed7-3dca-47e8-8b0c-0c063263996d",
                "language": "sql"
            },
            "outputs": [],
            "execution_count": null
        },
        {
            "cell_type": "markdown",
            "source": [
                "## **Query (Non-Exercises)**\n",
                "**Proposition**: Returns the cumulative total of order values for each employee, month by month.\n",
                "\n",
                "**View**: The query retrieves data from the Sales.EmpOrders view.\n",
                "\n",
                "**Columns**: The involved columns are: EmployeeId, OrderMonth, and Val. The query also introduces a computed column, RunVal, which represents the running total of the Val column for each employee, accumulated over the months in ascending order.\n",
                "\n",
                "**Predicate**: The query employs a window function (SUM() OVER()) to compute the running total (RunVal) of order values (Val) for each employee (EmployeeId), segmented by month (OrderMonth). The running total is calculated by summing up the values from the start (unbounded preceding) up to the current row within each partition defined by EmployeeId, ordered by OrderMonth.\n",
                "\n",
                "*This query is special because it utilizes unbounded preceding which conveys the starting point of a window is in the first partition row.*"
            ],
            "metadata": {
                "azdata_cell_guid": "c5491ec9-7cce-4ea6-abd2-334eb781c4b2"
            },
            "attachments": {}
        },
        {
            "cell_type": "code",
            "source": [
                "USE TSQLV4;\n",
                "\n",
                "SELECT empid, ordermonth, val,\n",
                "  SUM(val) OVER(PARTITION BY empid\n",
                "                ORDER BY ordermonth\n",
                "                ROWS BETWEEN UNBOUNDED PRECEDING\n",
                "                         AND CURRENT ROW) AS runval\n",
                "FROM Sales.EmpOrders;\n",
                "\n",
                "\n",
                "\n",
                "USE Northwinds2022TSQLV7;\n",
                "\n",
                "SELECT EmployeeId, OrderMonth, Val,\n",
                "  SUM(Val) OVER(PARTITION BY EmployeeId\n",
                "                ORDER BY OrderMonth\n",
                "                ROWS BETWEEN UNBOUNDED PRECEDING\n",
                "                         AND CURRENT ROW) AS RunVal\n",
                "FROM Sales.EmpOrders;\n",
                ""
            ],
            "metadata": {
                "azdata_cell_guid": "fac769bd-20de-43fd-acbe-b066802de00a",
                "language": "sql"
            },
            "outputs": [],
            "execution_count": null
        },
        {
            "cell_type": "markdown",
            "source": [
                "## **Query (Non-Exercises)**\n",
                "**Proposition**: Returns an analysis of the order quantities by employee, by customer, both individually and in combination, as well as the total quantity of all orders.\n",
                "\n",
                "**Table**: The query retrieves data from the dbo.Orders table.\n",
                "\n",
                "**Columns**: The key columns are EmployeeId, CustomerId, and a computed column SumQty, which represents the total quantity of orders in various groupings.\n",
                "\n",
                "**Predicate**: This complex query is structured in four parts and each part is combined using the UNION ALL operator. The first part calculates the sum of order quantities (SumQty) for each unique combination of employee (EmployeeId) and customer (CustomerId), grouping by these two dimensions.The second part aggregates the total order quantity for each employee across all customers, indicated by grouping by EmployeeId and setting CustomerId as NULL to signify aggregation across all customers for that employee. The third part sums up the order quantities for each customer across all employees, achieved by grouping by CustomerId with EmployeeId set to NULL. The final part provides the total of all order quantities in the dbo.Orders table, with both EmployeeId and CustomerId set to NULL.\n",
                "\n",
                "*This query is special because it utilizes the UNION ALL operator to combine the result sets of multiple select statements.*\n",
                ""
            ],
            "metadata": {
                "azdata_cell_guid": "991a2911-0ffd-4d25-bde6-d8debf7436d6"
            },
            "attachments": {}
        },
        {
            "cell_type": "code",
            "source": [
                "USE TSQLV4;\n",
                "\n",
                "SELECT empid, custid, SUM(qty) AS sumqty\n",
                "FROM dbo.Orders\n",
                "GROUP BY empid, custid\n",
                "\n",
                "UNION ALL\n",
                "\n",
                "SELECT empid, NULL, SUM(qty) AS sumqty\n",
                "FROM dbo.Orders\n",
                "GROUP BY empid\n",
                "\n",
                "UNION ALL\n",
                "\n",
                "SELECT NULL, custid, SUM(qty) AS sumqty\n",
                "FROM dbo.Orders\n",
                "GROUP BY custid\n",
                "\n",
                "UNION ALL\n",
                "\n",
                "SELECT NULL, NULL, SUM(qty) AS sumqty\n",
                "FROM dbo.Orders;\n",
                "\n",
                "\n",
                "\n",
                "\n",
                "USE Northwinds2022TSQLV7;\n",
                "\n",
                "SELECT EmployeeId, CustomerId, SUM(Qty) AS SumQty\n",
                "FROM dbo.Orders\n",
                "GROUP BY EmployeeId, CustomerId\n",
                "\n",
                "UNION ALL\n",
                "\n",
                "SELECT EmployeeId, NULL, SUM(Qty) AS SumQty\n",
                "FROM dbo.Orders\n",
                "GROUP BY EmployeeId\n",
                "\n",
                "UNION ALL\n",
                "\n",
                "SELECT NULL, CustomerId, SUM(Qty) AS SumQty\n",
                "FROM dbo.Orders\n",
                "GROUP BY CustomerId\n",
                "\n",
                "UNION ALL\n",
                "\n",
                "SELECT NULL, NULL, SUM(Qty) AS SumQty\n",
                "FROM dbo.Orders;"
            ],
            "metadata": {
                "azdata_cell_guid": "d56c5347-aaca-42cf-b66b-f31e8b444914",
                "language": "sql"
            },
            "outputs": [],
            "execution_count": null
        },
        {
            "cell_type": "markdown",
            "source": [
                "## **Query (Non-Exercises)**\n",
                "**Proposition**: Returns an aggregation of total order quantities of each employee, each customer, each employee-customer combination, and for all orders together.\n",
                "\n",
                "**Table**: The query retrieves data from the dbo.Orders table.\n",
                "\n",
                "**Columns**: The main columns are EmployeeId, CustomerId, and a computed column SumQty, which accumulates the total quantity of orders.\n",
                "\n",
                "**Predicate**: The query employs the GROUP BY CUBE() clause to aggregate order quantities at various levels of detail (all possible combinations) within the dbo.Orders table. By doing so, it not only calculates the total quantity of orders for each unique employee-customer pair but also sums up orders for each individual employee across all customers, for each customer across all employees, and the grand total of all orders. \n",
                "\n",
                "*This query is special because it utilizes the GROUP BY CUBE to establish all possible combinations of the columns preserved inside the extension.*\n",
                ""
            ],
            "metadata": {
                "azdata_cell_guid": "d6cc3759-b038-47e1-bffb-606062677769"
            },
            "attachments": {}
        },
        {
            "cell_type": "code",
            "source": [
                "USE TSQLV4;\n",
                "\n",
                "SELECT empid, custid, SUM(qty) AS sumqty\n",
                "FROM dbo.Orders\n",
                "GROUP BY CUBE(empid, custid);\n",
                "\n",
                "\n",
                "USE Northwinds2022TSQLV7;\n",
                "\n",
                "SELECT EmployeeId, CustomerId, SUM(qty) AS SumQty\n",
                "FROM dbo.Orders\n",
                "GROUP BY CUBE(EmployeeId, CustomerId);"
            ],
            "metadata": {
                "azdata_cell_guid": "1cd5852e-cc05-4ecd-b168-2c7d20449778",
                "language": "sql"
            },
            "outputs": [],
            "execution_count": null
        },
        {
            "cell_type": "markdown",
            "source": [
                "# **Chapter 7 - Beyond the Fundamentals of Querying (Non-Exercise Queries)**\n",
                "## **Query**\n",
                "\n",
                "**Proposition**: Returns the total value of all orders and the total value of orders per customer.\n",
                "\n",
                "**View**: The query retrieves data from the Sales.OrderValues view.\n",
                "\n",
                "**Columns**: The columns involved are: OrderId, CustomerId, and Val. Additionally, two calculated columns are generated: TotalValue and CustTotalValue.\n",
                "\n",
                "**Predicate**: The query does two main things with the order values in the Sales.OrderValues table. First, it finds the total value of all orders put together, giving one grand total. Then, it also figures out the total order value for each customer separately, showing how much each customer's orders add up to. This is done by adding up values in two different ways: one without splitting the orders by customer, and another by grouping the orders by each customer.\n",
                "\n",
                ""
            ],
            "metadata": {
                "azdata_cell_guid": "b6cafb11-705a-4b63-9f55-f14f69f9edcb"
            },
            "attachments": {}
        },
        {
            "cell_type": "code",
            "source": [
                "USE TSQLV4; \n",
                "\n",
                "SELECT orderid, custid, val,\n",
                "  SUM(val) OVER() AS totalvalue,\n",
                "  SUM(val) OVER(PARTITION BY custid) AS custtotalvalue\n",
                "FROM Sales.OrderValues;\n",
                "\n",
                "\n",
                "USE Northwinds2022TSQLV7;\n",
                "\n",
                "SELECT OrderId, CustomerId, Val,\n",
                "  SUM(Val) OVER() AS TotalValue,\n",
                "  SUM(Val) OVER(PARTITION BY CustomerId) AS CustTotalValue\n",
                "FROM Sales.OrderValues;\n",
                ""
            ],
            "metadata": {
                "azdata_cell_guid": "df73e891-640f-42df-8885-c9c86176d88b",
                "language": "sql"
            },
            "outputs": [],
            "execution_count": null
        },
        {
            "cell_type": "markdown",
            "source": [
                "## **Query**\n",
                "**Proposition**: Returns the total quantity of orders for each combination of employee and customer.\n",
                "\n",
                "**Table**: The query retrieves data from the dbo.Orders table.\n",
                "\n",
                "**Columns**: The columns involved are: EmployeeId, CustomerId, and a calculated column, SumQty, which represents the sum of the quantity (qty) of orders for each employee-customer pair.\n",
                "\n",
                "**Predicate**: The query aggregates the total quantity of orders (SumQty) for each unique pair of employee (EmployeeId) and customer (CustomerId) in the dbo.Orders table. This is achieved by summing the quantity (qty) column for each grouping of EmployeeId and CustomerId, effectively providing a total order quantity for each employee-customer combination. The GROUP BY clause ensures that the sums are calculated for each distinct pair.\n",
                "\n",
                "\n",
                "\n",
                "\n",
                ""
            ],
            "metadata": {
                "azdata_cell_guid": "bccb67f7-cffa-42b5-89e5-a164529f076d"
            },
            "attachments": {}
        },
        {
            "cell_type": "code",
            "source": [
                "USE TSQLV4;\n",
                "\n",
                "SELECT empid, custid, SUM(qty) AS sumqty\n",
                "FROM dbo.Orders\n",
                "GROUP BY empid, custid;\n",
                "\n",
                "\n",
                "USE Northwinds2022TSQLV7;\n",
                "\n",
                "SELECT EmployeeId, CustomerId, SUM(qty) AS SumQty\n",
                "FROM dbo.Orders\n",
                "GROUP BY EmployeeId, CustomerId;"
            ],
            "metadata": {
                "azdata_cell_guid": "a681fdbc-af2a-4745-afff-34896af54e21",
                "language": "sql"
            },
            "outputs": [],
            "execution_count": null
        },
        {
            "cell_type": "markdown",
            "source": [
                "## **Query**\n",
                "**Proposition**: Returns the total quantity of orders for each employee.\n",
                "\n",
                "**Table**: The query retrieves data from the dbo.Orders table.\n",
                "\n",
                "**Columns**: The columns involved are: EmployeeId, and a calculated column, SumQty, which represents the sum of the quantity (Qty) of orders for each employee.\n",
                "\n",
                "**Predicate**: The query sums up the quantity of orders (Qty) for each employee (EmployeeId) in the dbo.Orders table. This aggregation is done by grouping the results by EmployeeId, which allows the query to calculate the total quantity of orders handled by each employee. The GROUP BY clause ensures that the sum (SumQty) is computed for each unique EmployeeId.\n",
                "\n",
                ""
            ],
            "metadata": {
                "azdata_cell_guid": "b5c8278e-e8a3-47fd-aaf1-81b9fe48d977"
            },
            "attachments": {}
        },
        {
            "cell_type": "code",
            "source": [
                "USE TSQLV4;\n",
                "\n",
                "SELECT empid, SUM(qty) AS sumqty\n",
                "FROM dbo.Orders\n",
                "GROUP BY empid;\n",
                "\n",
                "\n",
                "USE Northwinds2022TSQLV7;\n",
                "\n",
                "SELECT EmployeeId, SUM(Qty) AS SumQty\n",
                "FROM dbo.Orders\n",
                "GROUP BY EmployeeId;"
            ],
            "metadata": {
                "azdata_cell_guid": "f0e82047-6de1-4ffc-9afe-f9dfc4e7c508",
                "language": "sql"
            },
            "outputs": [],
            "execution_count": null
        },
        {
            "cell_type": "markdown",
            "source": [
                "## **Query**\n",
                "**Proposition**: Returns the total quantity of orders for each customer.\n",
                "\n",
                "**Table**: The query retrieves data from the dbo.Orders table.\n",
                "\n",
                "**Columns**: The key columns are: CustomerId, and a computed column, SumQty, which tallies the sum of the order quantities (Qty) per customer.\n",
                "\n",
                "**Predicate**: This query aggregates the total quantity of orders (represented by Qty) for every customer (CustomerId) listed in the dbo.Orders table. By grouping the data by CustomerId, the query computes the sum of order quantities for each unique customer, yielding SumQty. \n",
                ""
            ],
            "metadata": {
                "azdata_cell_guid": "4c8498e9-b0da-46f9-90f6-9baddc95ace0"
            },
            "attachments": {}
        },
        {
            "cell_type": "code",
            "source": [
                "USE TSQLV4;\n",
                "\n",
                "SELECT custid, SUM(qty) AS sumqty\n",
                "FROM dbo.Orders\n",
                "GROUP BY custid;\n",
                "\n",
                "\n",
                "USE Northwinds2022TSQLV7;\n",
                "\n",
                "SELECT CustomerId, SUM(Qty) AS SumQty\n",
                "FROM dbo.Orders\n",
                "GROUP BY CustomerId;"
            ],
            "metadata": {
                "azdata_cell_guid": "1fa339e5-d852-4fb0-9249-83f202122742",
                "language": "sql"
            },
            "outputs": [],
            "execution_count": null
        },
        {
            "cell_type": "markdown",
            "source": [
                "## **Query**\n",
                "**Proposition**: Returns the total quantity of all orders.\n",
                "\n",
                "**Table**: The query retrieves data from the dbo.Orders table.\n",
                "\n",
                "**Columns**: The key column utilized is Qty, with a calculated column, SumQty, which accumulates the total quantity across all orders.\n",
                "\n",
                "**Predicate**: This query aggregates the total quantity of all orders in the dbo.Orders table, producing a singular sum value, SumQty. It does this by summing up all values in the Qty column without any grouping, which results in the overall total quantity of orders. \n",
                ""
            ],
            "metadata": {
                "azdata_cell_guid": "62b8ac59-34fc-4af2-a0e9-ba4d6dc40914"
            },
            "attachments": {}
        },
        {
            "cell_type": "code",
            "source": [
                "USE TSQLV4;\n",
                "\n",
                "SELECT SUM(qty) AS sumqty\n",
                "FROM dbo.Orders;\n",
                "\n",
                "USE Northwinds2022TSQLV7;\n",
                "\n",
                "SELECT SUM(Qty) AS SumQty\n",
                "FROM dbo.Orders;"
            ],
            "metadata": {
                "azdata_cell_guid": "d0b35d6e-1ce2-4882-b1a5-917b947c175f",
                "language": "sql"
            },
            "outputs": [],
            "execution_count": null
        }
    ]
}