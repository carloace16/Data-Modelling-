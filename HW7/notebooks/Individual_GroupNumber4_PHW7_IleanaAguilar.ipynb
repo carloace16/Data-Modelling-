{
    "metadata": {
        "kernelspec": {
            "name": "SQL",
            "display_name": "SQL",
            "language": "sql"
        },
        "language_info": {
            "name": "sql",
            "version": ""
        }
    },
    "nbformat_minor": 2,
    "nbformat": 4,
    "cells": [
        {
            "cell_type": "markdown",
            "source": [
                "# Top 5"
            ],
            "metadata": {
                "language": "sql",
                "azdata_cell_guid": "ba173110-c610-4ac0-a247-076aad867dd2"
            },
            "attachments": {}
        },
        {
            "cell_type": "markdown",
            "source": [
                "# Excerise 2\n",
                "\n",
                "\\-- The following query against the Sales.OrderValues view returns\n",
                "\n",
                "\\-- distinct values and their associated row numbers\n",
                "\n",
                "```\n",
                "USE TSQLV4;\n",
                "\n",
                "SELECT val, ROW_NUMBER() OVER(ORDER BY val) AS rownum\n",
                "FROM Sales.OrderValues\n",
                "GROUP BY val;\n",
                "\n",
                "```\n",
                "\n",
                "\\-- Can you think of an alternative way to achieve the same task?\n",
                "\n",
                "\\-- Tables involved: TSQLV4 database, Sales.OrderValues view\n",
                "\n",
                "## My Answer\n",
                "\n",
                "**Proposition:** Write a query that assigns a unique row number to each distinct value of val from the Sales.OrderValues view, ordered by val.\n",
                "\n",
                "**View:** Sales.OrderValues\n",
                "\n",
                "**Columns:** val and a generated row number for each distinct val.\n",
                "\n",
                "**Predicate:**\n",
                "\n",
                "```\n",
                "WITH DistinctVals AS (\n",
                "    SELECT DISTINCT val\n",
                "    FROM Sales.OrderValues\n",
                ")\n",
                "\n",
                "```\n",
                "\n",
                "This CTE (Common Table Expression) named DistinctVals filters the Sales.OrderValues table to return only distinct values of val.\n",
                "\n",
                "**What's special?**\n",
                "\n",
                "**Common Table Expression:** A CTE that creates a temporary result set named DistinctVals returns non duplicate values from column val\n",
                "\n",
                "**ROW_NUMBER() OVER (ORDER BY val):** returns a unique sequential number for each unique val based on its order in the val sequence\n",
                ""
            ],
            "metadata": {
                "language": "sql",
                "azdata_cell_guid": "101de405-87dc-462f-9194-d19d3c5bb0d2"
            },
            "attachments": {}
        },
        {
            "cell_type": "code",
            "source": [
                "USE TSQLV4;\n",
                "USE Northwinds2022TSQLV7;\n",
                "WITH DistinctVals AS (\n",
                "    SELECT DISTINCT val\n",
                "    FROM Sales.OrderValues\n",
                ")\n",
                "SELECT val, ROW_NUMBER() OVER (ORDER BY val) AS rownum\n",
                "FROM DistinctVals;\n",
                "\n",
                "\n",
                "USE Northwinds2022TSQLV7;\n",
                "WITH DistinctVals AS (\n",
                "    SELECT DISTINCT val\n",
                "    FROM Sales.OrderValues\n",
                ")\n",
                "SELECT val, ROW_NUMBER() OVER (ORDER BY val) AS rownum\n",
                "FROM DistinctVals;"
            ],
            "metadata": {
                "azdata_cell_guid": "25edebcf-fd51-4904-8251-5062086aa559",
                "language": "sql"
            },
            "outputs": [],
            "execution_count": null
        },
        {
            "cell_type": "markdown",
            "source": [
                "**<u> 5.-- Pivoting Data</u>**\n",
                "\n",
                "**Proposition:** Drop the dbo.Orders table, create a new dbo.Orders table, insert data into the table then write a query that selects all records from the Orders table.\n",
                "\n",
                "**Table:** dbo.Orders\n",
                "\n",
                "**Columns:**  OrderId, OrderDate, EmployeeId, CustomerId, Qty     \n",
                "\n",
                "**Predicate:** no predicate\n",
                "\n",
                "**What special?** \n",
                "\n",
                "Inorder for the table to be created in Northwinds, I had to alter the contraint name."
            ],
            "metadata": {
                "language": "sql",
                "azdata_cell_guid": "697240f4-a409-43d7-ba51-4affb377fecd"
            },
            "attachments": {}
        },
        {
            "cell_type": "code",
            "source": [
                "-- Listing 1: Code to Create and Populate the Orders Table\n",
                "USE TSQLV4;\n",
                "\n",
                "DROP TABLE IF EXISTS dbo.Orders;\n",
                "GO\n",
                "\n",
                "CREATE TABLE dbo.Orders\n",
                "(\n",
                "  orderid   INT        NOT NULL,\n",
                "  orderdate DATE       NOT NULL,\n",
                "  empid     INT        NOT NULL,\n",
                "  custid    VARCHAR(5) NOT NULL,\n",
                "  qty       INT        NOT NULL,\n",
                "  CONSTRAINT PK_Orders PRIMARY KEY(orderid)\n",
                ");\n",
                "\n",
                "INSERT INTO dbo.Orders(orderid, orderdate, empid, custid, qty)\n",
                "VALUES\n",
                "  (30001, '20140802', 3, 'A', 10),\n",
                "  (10001, '20141224', 2, 'A', 12),\n",
                "  (10005, '20141224', 1, 'B', 20),\n",
                "  (40001, '20150109', 2, 'A', 40),\n",
                "  (10006, '20150118', 1, 'C', 14),\n",
                "  (20001, '20150212', 2, 'B', 12),\n",
                "  (40005, '20160212', 3, 'A', 10),\n",
                "  (20002, '20160216', 1, 'C', 20),\n",
                "  (30003, '20160418', 2, 'B', 15),\n",
                "  (30004, '20140418', 3, 'C', 22),\n",
                "  (30007, '20160907', 3, 'D', 30);\n",
                "\n",
                "SELECT * FROM dbo.Orders;\n",
                "\n",
                "\n",
                "\n",
                "USE Northwinds2022TSQLV7;\n",
                "\n",
                "DROP TABLE IF EXISTS dbo.Orders;\n",
                "GO\n",
                "\n",
                "CREATE TABLE dbo.Orders\n",
                "(\n",
                "  OrderId       INT        NOT NULL,\n",
                "  OrderDate     DATE       NOT NULL,\n",
                "  EmployeeId    INT        NOT NULL,\n",
                "  CustomerId    VARCHAR(5) NOT NULL,\n",
                "  Qty           INT        NOT NULL,\n",
                "  CONSTRAINT PK_Orders_New PRIMARY KEY(OrderId)\n",
                ");\n",
                "\n",
                "INSERT INTO dbo.Orders(OrderId, OrderDate, EmployeeId, CustomerId, Qty)\n",
                "VALUES\n",
                "  (30001, '20140802', 3, 'A', 10),\n",
                "  (10001, '20141224', 2, 'A', 12),\n",
                "  (10005, '20141224', 1, 'B', 20),\n",
                "  (40001, '20150109', 2, 'A', 40),\n",
                "  (10006, '20150118', 1, 'C', 14),\n",
                "  (20001, '20150212', 2, 'B', 12),\n",
                "  (40005, '20160212', 3, 'A', 10),\n",
                "  (20002, '20160216', 1, 'C', 20),\n",
                "  (30003, '20160418', 2, 'B', 15),\n",
                "  (30004, '20140418', 3, 'C', 22),\n",
                "  (30007, '20160907', 3, 'D', 30);\n",
                "\n",
                "SELECT * FROM dbo.Orders;"
            ],
            "metadata": {
                "language": "sql",
                "azdata_cell_guid": "fbcaf2d4-5fd3-4d0e-b163-38ff8a1e81b3"
            },
            "outputs": [],
            "execution_count": null
        },
        {
            "cell_type": "markdown",
            "source": [
                "**<u>5.<mark>\\-</mark><mark>\\-</mark> Pivoting Data</u>**\n",
                "\n",
                "**Proposition:** Write a query that aggregates order quantities by employee and customer from the Orders table.\n",
                "\n",
                "**Table:** dbo.Orders\n",
                "\n",
                "**Columns:** EmployeeId, CustomerId, SUM(Qty) as SumQty from the dbo.Orders table.\n",
                "\n",
                "**Predicate:**\n",
                "\n",
                "```\n",
                "GROUP BY EmployeeId, CustomerId\n",
                "\n",
                "```\n",
                "\n",
                "This GROUP BY clause organizes the rows into groups by the combination of EmployeeId and CustomerId, which allows for the aggregation function (SUM(Qty)) to calculate the total quantity of orders for each unique employee customer pair.\n",
                "\n",
                "**What special?**\n",
                "\n",
                "There is an aggreate function as one of the columns in the result set. It is aliased as SumQty\n",
                "\n",
                "There is a Group by clause due to the aggreate function in the query. It is needed because SUM(Qty) AS SumQty calculates the total quantity of orders (Qty) for each unique combination of EmployeeId and CustomerId. Without GROUP BY, you wouldn't be able to calculate this sum for each group you'd only get a single total sum for all rows in the table."
            ],
            "metadata": {
                "language": "sql",
                "azdata_cell_guid": "b9847bfc-e1cf-449a-bf79-f6a915db359e"
            },
            "attachments": {}
        },
        {
            "cell_type": "code",
            "source": [
                "use TSQLV4;\n",
                "-- Query against Orders, grouping by employee and customer\n",
                "SELECT empid, custid, SUM(qty) AS sumqty\n",
                "FROM dbo.Orders\n",
                "GROUP BY empid, custid;\n",
                "\n",
                "use Northwinds2022TSQLV7;\n",
                "-- Query against Orders, grouping by employee and customer\n",
                "SELECT EmployeeId, CustomerId, SUM(Qty) AS SumQty\n",
                "FROM dbo.Orders\n",
                "GROUP BY EmployeeId, CustomerId;"
            ],
            "metadata": {
                "language": "sql",
                "azdata_cell_guid": "5f970421-36db-4b66-8be6-70cfe92a6c42"
            },
            "outputs": [],
            "execution_count": null
        },
        {
            "cell_type": "markdown",
            "source": [
                "**<u> 6.-- Pivoting with a Grouped Query</u>**\n",
                "\n",
                "**Proposition:** Write a query that aggregates order quantities by employee, broken down by specific customers (A, B, C, D), using a pivot-like structure.\n",
                "\n",
                "**Table:** dbo.Orders\n",
                "\n",
                "**Columns:** EmployeeId, and SUM(Qty) for each CustomerId ('A', 'B', 'C', 'D') as separate columns from the dbo.Orders table.\n",
                "\n",
                "**Predicate:** \n",
                "\n",
                "```\n",
                "GROUP BY EmployeeId\n",
                "```\n",
                "\n",
                "This GROUP BY clause organizes the data by EmployeeId, allowing for the aggregation of order quantities (Qty) separately for each specified customer (A, B, C, D) within the same row for each employee.\n",
                "\n",
                "**What's special?**\n",
                "\n",
                "**Conditional Aggregation:** Selectively sum the quantities of orders based on the customer ID. This approach allows for the aggregation of data based on specific conditions within the same column, showcasing a flexible method to summarize data differently in parallel.\n",
                "\n",
                "**Pivoting with a Grouped:** Using conditional aggregation, it pivots the data by transforming the CustomerId values ('A', 'B', 'C', 'D') into separate columns in the output. Each of these columns represents the total quantity of orders for that customer ID, as handled by each employee.\n",
                ""
            ],
            "metadata": {
                "language": "sql",
                "azdata_cell_guid": "f77a24b7-73a6-4897-9ff4-0df70bc95620"
            },
            "attachments": {}
        },
        {
            "cell_type": "code",
            "source": [
                "USE TSQLV4;\n",
                "-- Query against Orders, grouping by employee, pivoting customers,\n",
                "-- aggregating sum of quantity\n",
                "SELECT empid,\n",
                "  SUM(CASE WHEN custid = 'A' THEN qty END) AS A,\n",
                "  SUM(CASE WHEN custid = 'B' THEN qty END) AS B,\n",
                "  SUM(CASE WHEN custid = 'C' THEN qty END) AS C,\n",
                "  SUM(CASE WHEN custid = 'D' THEN qty END) AS D  \n",
                "FROM dbo.Orders\n",
                "GROUP BY empid;\n",
                "\n",
                "use Northwinds2022TSQLV7;\n",
                "-- Query against Orders, grouping by employee, pivoting customers,\n",
                "-- aggregating sum of quantity\n",
                "SELECT EmployeeId,\n",
                "  SUM(CASE WHEN CustomerId = 'A' THEN Qty END) AS A,\n",
                "  SUM(CASE WHEN CustomerId = 'B' THEN Qty END) AS B,\n",
                "  SUM(CASE WHEN CustomerId = 'C' THEN Qty END) AS C,\n",
                "  SUM(CASE WHEN CustomerId = 'D' THEN Qty END) AS D  \n",
                "FROM dbo.Orders\n",
                "GROUP BY EmployeeId;\n",
                ""
            ],
            "metadata": {
                "language": "sql",
                "azdata_cell_guid": "762ef9cc-7df1-4a95-9482-4e7dc7d30bea"
            },
            "outputs": [],
            "execution_count": null
        },
        {
            "cell_type": "markdown",
            "source": [
                "**<u>9.<mark>\\-</mark><mark>\\-</mark> Unpivoting with the APPLY Operator</u>**\n",
                "\n",
                "**Proposition:** Generate a dataset that includes all combinations of records from the dbo.<mark>EmpCustOrders</mark> table and a set of specified customer IDs ('A', 'B', 'C', 'D').\n",
                "\n",
                "**Table:** dbo.<mark>EmpCustOrders</mark>\n",
                "\n",
                "**Columns:** All columns from the dbo.<mark>EmpCustOrders</mark> table and the CustomerId from the cross joined table.\n",
                "\n",
                "**Predicate:**\n",
                "\n",
                "```\n",
                "CROSS JOIN (VALUES('A'),('B'),('C'),('D')) AS C(CustomerId)\n",
                "\n",
                "```\n",
                "\n",
                "This CROSS JOIN operation creates a Cartesian product between every row in the dbo.<mark>EmpCustOrders</mark> table and a derived table containing four rows for Customer IDs 'A', 'B', 'C', and 'D'. As a result, for each record in the dbo.<mark>EmpCustOrders</mark> table, there are four copies, each associated with one of the customer IDs 'A', 'B', 'C', or 'D'.\n",
                "\n",
                "**What's special?**\n",
                "\n",
                "**(VALUES('A'),('B'),('C'),('D')) AS C(CustomerId):** This part creates a derived table on<mark>\\-</mark>the<mark>\\-</mark>fly containing a single column (CustomerId) with four rows ('A', 'B', 'C', 'D'). This derived table is then aliased as C for reference in the query.\n",
                "\n",
                "**CROSS JOIN:** Cartesian product between every row in the dbo.<mark>EmpCustOrders</mark> table and a derived table"
            ],
            "metadata": {
                "language": "sql",
                "azdata_cell_guid": "ad9811dd-f963-4dac-9721-7f5f3be2c873"
            },
            "attachments": {}
        },
        {
            "cell_type": "code",
            "source": [
                "USE TSQLV4;\n",
                "-- Unpivot Step 1: generate copies\n",
                "SELECT *\n",
                "FROM dbo.EmpCustOrders\n",
                "  CROSS JOIN (VALUES('A'),('B'),('C'),('D')) AS C(custid);\n",
                "\n",
                "USE Northwinds2022TSQLV7;\n",
                "-- Unpivot Step 1: generate copies\n",
                "SELECT *\n",
                "FROM dbo.EmpCustOrders\n",
                "  CROSS JOIN (VALUES('A'),('B'),('C'),('D')) AS C(CustomerId);\n",
                ""
            ],
            "metadata": {
                "language": "sql",
                "azdata_cell_guid": "72c9018f-32e6-4697-828f-4564e5aaf4ab",
                "tags": []
            },
            "outputs": [],
            "execution_count": null
        },
        {
            "cell_type": "markdown",
            "source": [
                "# Other Queries"
            ],
            "metadata": {
                "language": "sql",
                "azdata_cell_guid": "c7f62c74-9da6-4950-8b48-37b9c3538edf"
            },
            "attachments": {}
        },
        {
            "cell_type": "markdown",
            "source": [
                "**<u>9.-- Unpivoting with the APPLY Operator</u>**\n",
                "\n",
                "**Proposition:** Transform and represent quantities for specific customers (A, B, C, D) from columns to rows for each employee in the dbo.EmpCustOrders table. The goal is to convert quantities stored in separate columns for each customer ('A', 'B', 'C', 'D') into a row-based format, with each row representing a quantity for a specific customer associated with an employee.\n",
                "\n",
                "**Table:** dbo.EmpCustOrders\n",
                "\n",
                "**Columns:** EmployeeId, CustomerId, and Qty.\n",
                "\n",
                "**Predicate:**\n",
                "\n",
                "```\n",
                "CROSS JOIN (VALUES('A', A),('B', B),('C', C),('D', D)) AS C(CustomerId, Qty)\n",
                "\n",
                "```\n",
                "\n",
                "**why doesn't it run?**\n",
                "\n",
                "The attempt to reference columns 'A', 'B', 'C', 'D' within the VALUES clause of a CROSS JOIN operation is invalid. This is because the VALUES clause expects constants or variables that are defined outside the CROSS JOIN context, and it cannot directly reference column names from the table being joined.\n",
                "\n",
                "**The correct approach**\n",
                "\n",
                "```\n",
                "-- Unpivot Step 3: eliminate NULLs\n",
                "SELECT EmployeeId, CustomerId, Qty\n",
                "FROM dbo.EmpCustOrders\n",
                "  CROSS APPLY (VALUES('A', A),('B', B),('C', C),('D', D)) AS C(CustomerId, Qty)\n",
                "WHERE Qty IS NOT NULL;\n",
                "\n",
                "```"
            ],
            "metadata": {
                "language": "sql",
                "azdata_cell_guid": "44ed8fe7-e9ad-41f8-beb9-1e26da97e681"
            },
            "attachments": {}
        },
        {
            "cell_type": "code",
            "source": [
                "USE TSQLV4;\n",
                "-- Unpivot Step 2: extract elements\n",
                "/*\n",
                "SELECT empid, custid, qty\n",
                "FROM dbo.EmpCustOrders\n",
                "  CROSS JOIN (VALUES('A', A),('B', B),('C', C),('D', D)) AS C(custid, qty);\n",
                "*/\n",
                "\n",
                "\n",
                "USE Northwinds2022TSQLV7;\n",
                "-- Unpivot Step 2: extract elements\n",
                "/*\n",
                "SELECT EmployeeId, CustomerId, Qty\n",
                "FROM dbo.EmpCustOrders\n",
                "  CROSS JOIN (VALUES('A', A),('B', B),('C', C),('D', D)) AS C(CustomerId, Qty);\n",
                "*/"
            ],
            "metadata": {
                "language": "sql",
                "azdata_cell_guid": "9d8a33a8-1a44-4c19-a109-1f9ed5ef54d3",
                "tags": []
            },
            "outputs": [],
            "execution_count": null
        },
        {
            "cell_type": "markdown",
            "source": [
                "**<u> 9.-- Unpivoting with the APPLY Operator</u>**\n",
                "\n",
                "**Proposition:** Transform and retrieve employee and customer specific order quantities from the dbo.EmpCustOrders table, where customer order quantities are stored in separate columns ('A', 'B', 'C', 'D').\n",
                "\n",
                "Table: dbo.EmpCustOrders\n",
                "\n",
                "**Columns:** EmployeeId, CustomerId, Qty. The EmployeeId comes directly from the dbo.EmpCustOrders table, while CustomerId and Qty are derived from applying a transformation to pivot customer-specific quantities into rows.\n",
                "\n",
                "**Predicate:**\n",
                "\n",
                "```\n",
                "CROSS APPLY (VALUES('A', A),('B', B),('C', C),('D', D)) AS C(CustomerId, Qty)\n",
                "```\n",
                "\n",
                "This operation uses CROSS APPLY to transform columns into rows, creating a new row for each customer (A, B, C, D) along with the respective quantity for that customer. Each original row in dbo.EmpCustOrders is expanded into four rows, one for each customer, with the corresponding quantities pivoted from columns into these rows."
            ],
            "metadata": {
                "language": "sql",
                "azdata_cell_guid": "f2399a23-bb74-4f13-8344-068caafc0b47"
            },
            "attachments": {}
        },
        {
            "cell_type": "code",
            "source": [
                "USE TSQLV4;\n",
                "-- Unpivot Step 2: extract elements\n",
                "SELECT empid, custid, qty\n",
                "FROM dbo.EmpCustOrders\n",
                "  CROSS APPLY (VALUES('A', A),('B', B),('C', C),('D', D)) AS C(custid, qty);\n",
                "\n",
                "\n",
                "\n",
                "USE Northwinds2022TSQLV7;\n",
                "-- Unpivot Step 2: extract elements\n",
                "SELECT EmployeeId, CustomerId, Qty\n",
                "FROM dbo.EmpCustOrders\n",
                "  CROSS APPLY (VALUES('A', A),('B', B),('C', C),('D', D)) AS C(CustomerId, Qty);\n",
                ""
            ],
            "metadata": {
                "language": "sql",
                "azdata_cell_guid": "8a1efb8b-5fb7-40e7-bb3b-365f60699657",
                "tags": []
            },
            "outputs": [],
            "execution_count": null
        },
        {
            "cell_type": "markdown",
            "source": [
                "**<u> 9.-- Unpivoting with the APPLY Operator</u>**\n",
                "\n",
                "**Proposition:** Filter and retrieve non-null employee and customer-specific order quantities from the dbo.EmpCustOrders table, transforming customer order quantities stored in separate columns into rows.\n",
                "\n",
                "**Table:** dbo.EmpCustOrders\n",
                "\n",
                "**Columns:** EmployeeId, CustomerId, Qty. EmployeeId is directly from the dbo.EmpCustOrders table, while CustomerId and Qty are generated through a transformation that pivots customer-specific quantities from columns to rows, excluding any null quantities.\n",
                "\n",
                "**Predicate:**\n",
                "\n",
                "```\n",
                "WHERE Qty IS NOT NULL\n",
                "```\n",
                "This WHERE clause is applied to the result of the CROSS APPLY operation, which expands each original row in the dbo.EmpCustOrders table into rows for each customer (A, B, C, D) along with their respective quantities. The WHERE Qty IS NOT NULL filter excludes any rows where the quantity is null, ensuring that only rows with a valid quantity for a customer are returned.\n",
                ""
            ],
            "metadata": {
                "language": "sql",
                "azdata_cell_guid": "a098179f-f720-4c1e-81ad-56d71014a07b"
            },
            "attachments": {}
        },
        {
            "cell_type": "code",
            "source": [
                "USE TSQLV4;\n",
                "-- Unpivot Step 3: eliminate NULLs\n",
                "SELECT empid, custid, qty\n",
                "FROM dbo.EmpCustOrders\n",
                "  CROSS APPLY (VALUES('A', A),('B', B),('C', C),('D', D)) AS C(custid, qty)\n",
                "WHERE qty IS NOT NULL;\n",
                "\n",
                "\n",
                "USE Northwinds2022TSQLV7;\n",
                "-- Unpivot Step 3: eliminate NULLs\n",
                "SELECT EmployeeId, CustomerId, Qty\n",
                "FROM dbo.EmpCustOrders\n",
                "  CROSS APPLY (VALUES('A', A),('B', B),('C', C),('D', D)) AS C(CustomerId, Qty)\n",
                "WHERE Qty IS NOT NULL;"
            ],
            "metadata": {
                "language": "sql",
                "azdata_cell_guid": "704e37ca-f417-4d43-b519-f274eaa73212"
            },
            "outputs": [],
            "execution_count": null
        }
    ]
}