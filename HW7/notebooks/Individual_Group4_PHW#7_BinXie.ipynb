{
    "metadata": {
        "kernelspec": {
            "name": "SQL",
            "display_name": "SQL",
            "language": "sql"
        },
        "language_info": {
            "name": "sql",
            "version": ""
        }
    },
    "nbformat_minor": 2,
    "nbformat": 4,
    "cells": [
        {
            "cell_type": "markdown",
            "source": [
                "# **Top 5 Queries**\r\n",
                "## **Query 1 (Chapter 7 Exercise 1)**\r\n",
                "\r\n",
                "### Proposition: Write a query that computes for each customer order, both a rank and a dense rank\r\n",
                "### Table: dbo.Orders\r\n",
                "### Columns: CustomerId, OrderId, QTY, RANK() OVER (PARTITION BY CustomerId ORDER BY QTY) AS rnk, DENSE_RANK() OVER (PARTITION BY CustomerId ORDER BY QTY) AS drnk\r\n",
                "### Predicate: This query provides the rank and dense rank of each order's quantity within the orders of each customer by RANK() and DENSE_RANK()\r\n",
                "\r\n",
                "### *What I think is special is that for this query, it shows us the difference between RANK() and DENSE_RANK().*\r\n",
                "\r\n",
                ""
            ],
            "metadata": {
                "azdata_cell_guid": "f94a480a-d18d-47fa-bb33-dbdeedb56a1e"
            },
            "attachments": {}
        },
        {
            "cell_type": "code",
            "source": [
                "USE TSQLV4\r\n",
                "SELECT custid, orderid, qty, \r\n",
                "    RANK() OVER (PARTITION BY custid ORDER BY qty) AS rnk,\r\n",
                "    DENSE_RANK() OVER (PARTITION BY custid ORDER BY qty) AS drnk\r\n",
                "FROM dbo.Orders;\r\n",
                "\r\n",
                "USE Northwinds2022TSQLV7;\r\n",
                "SELECT CustomerId, OrderId, QTY, \r\n",
                "    RANK() OVER (PARTITION BY CustomerId ORDER BY QTY) AS rnk,\r\n",
                "    DENSE_RANK() OVER (PARTITION BY CustomerId ORDER BY QTY) AS drnk\r\n",
                "FROM dbo.Orders;\r\n",
                "\r\n",
                "\r\n",
                ""
            ],
            "metadata": {
                "azdata_cell_guid": "ef7a0ca8-b335-4a8c-ab53-f6819e4eb444",
                "language": "sql"
            },
            "outputs": [],
            "execution_count": null
        },
        {
            "cell_type": "markdown",
            "source": [
                "## **Query 2 (Chapter 7 Exercise 3)**\r\n",
                "\r\n",
                "### Proposition: Write a query that computes difference for each customer order with previous and next order\r\n",
                "### Table: dbo.Orders\r\n",
                "### Columns: CustomerId, OrderId, QTY, QTY - LAG(QTY) OVER (PARTITION BY CustomerId ORDER BY OrderDate) AS diffprev, QTY - LEAD(QTY) OVER (PARTITION BY CustomerId ORDER BY OrderDate) AS diffnext\r\n",
                "### Predicate: This query uses LAG() and LEAD() to find the previous and next order of current order, then substract it from the current order to find the difference\r\n",
                "\r\n",
                "### *What I think is special is that for this query, it shows us the function of LAG() and LEAD().*"
            ],
            "metadata": {
                "azdata_cell_guid": "cf7a6f60-55cf-4024-9f4c-ecc0225eafc4"
            },
            "attachments": {}
        },
        {
            "cell_type": "code",
            "source": [
                "USE TSQLV4\r\n",
                "SELECT custid, orderid, qty,\r\n",
                "    qty - LAG(qty) OVER (PARTITION BY custid ORDER BY orderdate) AS diffprev,\r\n",
                "    qty - LEAD(qty) OVER (PARTITION BY custid ORDER BY orderdate) AS diffnext\r\n",
                "FROM dbo.Orders\r\n",
                "\r\n",
                "USE Northwinds2022TSQLV7\r\n",
                "SELECT CustomerId, OrderId, QTY,\r\n",
                "    QTY - LAG(QTY) OVER (PARTITION BY CustomerId ORDER BY OrderDate) AS diffprev,\r\n",
                "    QTY - LEAD(QTY) OVER (PARTITION BY CustomerId ORDER BY OrderDate) AS diffnext\r\n",
                "FROM dbo.Orders\r\n",
                "\r\n",
                ""
            ],
            "metadata": {
                "azdata_cell_guid": "209a8055-64cb-450b-817a-f89b807d5a22",
                "language": "sql"
            },
            "outputs": [],
            "execution_count": null
        },
        {
            "cell_type": "markdown",
            "source": [
                "## **Query 3**\r\n",
                "\r\n",
                "### Proposition: Show the employee with their order month, value, and runval\r\n",
                "### Table: Sales.EmpOrders\r\n",
                "### Columns: EmployeeId, ordermonth, val, SUM(val)... AS runval\r\n",
                "### Predicate: This query computes the cumulative sum of sales for each employee over different months\r\n",
                "\r\n",
                "### *What I think is special is that for this query, it shows us how to generate runval.*"
            ],
            "metadata": {
                "azdata_cell_guid": "7908720a-22d0-4f29-80bc-43d727de670d"
            },
            "attachments": {}
        },
        {
            "cell_type": "code",
            "source": [
                "USE TSQLV4;\r\n",
                "\r\n",
                "SELECT empid, ordermonth, val,\r\n",
                "  SUM(val) OVER(PARTITION BY empid\r\n",
                "                ORDER BY ordermonth\r\n",
                "                ROWS BETWEEN UNBOUNDED PRECEDING\r\n",
                "                         AND CURRENT ROW) AS runval\r\n",
                "FROM Sales.EmpOrders;\r\n",
                "\r\n",
                "USE Northwinds2022TSQLV7;\r\n",
                "\r\n",
                "SELECT EmployeeId, ordermonth, val,\r\n",
                "  SUM(val) OVER(PARTITION BY EmployeeId\r\n",
                "                ORDER BY ordermonth\r\n",
                "                ROWS BETWEEN UNBOUNDED PRECEDING\r\n",
                "                         AND CURRENT ROW) AS runval\r\n",
                "FROM Sales.EmpOrders;\r\n",
                ""
            ],
            "metadata": {
                "azdata_cell_guid": "21acbb02-d913-47b1-995b-f167370c021b",
                "language": "sql"
            },
            "outputs": [],
            "execution_count": null
        },
        {
            "cell_type": "markdown",
            "source": [
                "## **Query 4**\r\n",
                "\r\n",
                "### Proposition: Creating a table named EmpCustOrders and populating it with data using a PIVOT operation, and finally selecting all rows from the created table\r\n",
                "### Table: dbo.Orders\r\n",
                "### Columns: EmployeeId, A, B, C, D\r\n",
                "### Predicate: It transforms the data from a normalized form into a pivoted form where each employee has columns representing the quantities ordered by different customers \r\n",
                "\r\n",
                "### *What I think is special is that for this query, it shows us how to transform the data from a normalized form into a pivoted form.*"
            ],
            "metadata": {
                "language": "sql",
                "azdata_cell_guid": "cf433de7-7061-463d-b2ef-949ad5f85253"
            },
            "attachments": {}
        },
        {
            "cell_type": "code",
            "source": [
                "USE TSQLV4;\r\n",
                "DROP TABLE IF EXISTS dbo.EmpCustOrders;\r\n",
                "CREATE TABLE dbo.EmpCustOrders\r\n",
                "(\r\n",
                "  empid INT NOT NULL\r\n",
                "    CONSTRAINT PK_EmpCustOrders PRIMARY KEY,\r\n",
                "  A VARCHAR(5) NULL,\r\n",
                "  B VARCHAR(5) NULL,\r\n",
                "  C VARCHAR(5) NULL,\r\n",
                "  D VARCHAR(5) NULL\r\n",
                ");\r\n",
                "\r\n",
                "INSERT INTO dbo.EmpCustOrders(empid, A, B, C, D)\r\n",
                "  SELECT empid, A, B, C, D\r\n",
                "  FROM (SELECT empid, custid, qty\r\n",
                "        FROM dbo.Orders) AS D\r\n",
                "    PIVOT(SUM(qty) FOR custid IN(A, B, C, D)) AS P;\r\n",
                "\r\n",
                "SELECT * FROM dbo.EmpCustOrders;\r\n",
                "\r\n",
                "\r\n",
                "USE Northwinds2022TSQLV7;\r\n",
                "DROP TABLE IF EXISTS dbo.EmpCustOrders;\r\n",
                "CREATE TABLE dbo.EmpCustOrders\r\n",
                "(\r\n",
                "  empid INT NOT NULL\r\n",
                "    CONSTRAINT PK_EmpCustOrders PRIMARY KEY,\r\n",
                "  A VARCHAR(5) NULL,\r\n",
                "  B VARCHAR(5) NULL,\r\n",
                "  C VARCHAR(5) NULL,\r\n",
                "  D VARCHAR(5) NULL\r\n",
                ");\r\n",
                "\r\n",
                "INSERT INTO dbo.EmpCustOrders(empid, A, B, C, D)\r\n",
                "  SELECT EmployeeId, A, B, C, D\r\n",
                "  FROM (SELECT EmployeeId, CustomerId, QTY\r\n",
                "        FROM dbo.Orders) AS D\r\n",
                "    PIVOT(SUM(QTY) FOR CustomerId IN(A, B, C, D)) AS P;\r\n",
                "\r\n",
                "SELECT * FROM dbo.EmpCustOrders;\r\n",
                "\r\n",
                ""
            ],
            "metadata": {
                "language": "sql",
                "azdata_cell_guid": "0b64beb5-49b3-4be3-9476-8480469c6214"
            },
            "outputs": [],
            "execution_count": null
        },
        {
            "cell_type": "markdown",
            "source": [
                "## **Query 5**\r\n",
                "\r\n",
                "### Proposition: Display the employee, customer, and quantity\r\n",
                "### Table: dbo.EmpCustOrders\r\n",
                "### Columns: empid, custid, qty\r\n",
                "### Predicate: It reverses the previous PIVOT operation and presents the data in its normalized form\r\n",
                "\r\n",
                "### *What I think is special is that for this query, it shows us how to reverse the data from a pivoted form back into a normalized form.*"
            ],
            "metadata": {
                "language": "sql",
                "azdata_cell_guid": "fdad47bb-0434-44d0-b7fd-c8c3f954253f"
            },
            "attachments": {}
        },
        {
            "cell_type": "code",
            "source": [
                "USE TSQLV4\r\n",
                "SELECT empid, custid, qty\r\n",
                "FROM dbo.EmpCustOrders\r\n",
                "  UNPIVOT(qty FOR custid IN(A, B, C, D)) AS U;\r\n",
                "\r\n",
                "USE Northwinds2022TSQLV7\r\n",
                "SELECT empid, custid, qty\r\n",
                "FROM dbo.EmpCustOrders\r\n",
                "  UNPIVOT(qty FOR custid IN(A, B, C, D)) AS U;\r\n",
                ""
            ],
            "metadata": {
                "language": "sql",
                "azdata_cell_guid": "47c8e44a-a61f-4dcc-81b4-c5cf153ab7c8"
            },
            "outputs": [],
            "execution_count": null
        }
    ]
}