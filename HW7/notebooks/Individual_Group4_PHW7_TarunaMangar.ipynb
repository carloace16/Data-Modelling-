{
    "metadata": {
        "kernelspec": {
            "name": "SQL",
            "display_name": "SQL",
            "language": "sql"
        },
        "language_info": {
            "name": "sql",
            "version": ""
        }
    },
    "nbformat_minor": 2,
    "nbformat": 4,
    "cells": [
        {
            "cell_type": "markdown",
            "source": [
                "# HOME-WORK SEVEN\r\n",
                "## Taruna Mangar"
            ],
            "metadata": {
                "azdata_cell_guid": "314d31a8-cd32-4b35-9c3f-20552a14b2e6"
            },
            "attachments": {}
        },
        {
            "cell_type": "markdown",
            "source": [
                "# TOP QUERY (1)\n",
                "\n",
                "## Exercise\n",
                "\n",
                "- Write a query against the dbo.Orders table that returns the\n",
                "- total quantities for each:\n",
                "- employee, customer, and order year\n",
                "- employee and order year\n",
                "- customer and order year\n",
                "- Include a result column in the output that uniquely identifies\n",
                "- the grouping set with which the current row is associated\n",
                "- Tables involved: TSQLV4 database, dbo.Orders table\n",
                "\n",
                "**PROPOSITION**: Create a query to sum order quantities in the dbo.Orders table across dimensions of EmployeeId, CustomerId, and OrderYear, using `GROUPING SETS` for detailed combinations: by both employee and customer annually, by employee across years, and by customer across years. Incorporate `GROUPING_ID` to uniquely identify each grouping set, allowing for an intricate analysis that clearly separates aggregation levels.\n",
                "\n",
                "**DATABASE**: Northwinds2022TSQLV7 Database\n",
                "\n",
                "**TABLES**: dbo.Orders\n",
                "\n",
                "**COLUMNS**: EmployeeId, CustomerId, OrderDate, Qty\n",
                "\n",
                "**PREDICATE**: This query leverages `GROUPING SETS` and `GROUPING_ID` for detailed multi-dimensional analysis of order volumes by employee, customer, and year in the Northwinds2022TSQLV7 database. It aggregates data across various combinations, offering a nuanced view of sales trends, employee performance, and customer engagement. This approach provides valuable insights for strategic planning and performance evaluation.\n",
                "\n",
                "**WHAT'S SPECIAL**: Using `GROUPING SETS` and `GROUPING_ID`, this query uniquely aggregates order quantities across different dimensions—employee, customer, and year. It creates a comprehensive analysis that spans from specific interactions to broader summaries, all within a single execution. This showcases SQL's ability to efficiently present data from multiple angles, enabling detailed strategic insights."
            ],
            "metadata": {
                "azdata_cell_guid": "9bc7873d-aeda-4678-818b-c87eda2356c7"
            },
            "attachments": {}
        },
        {
            "cell_type": "code",
            "source": [
                "Use TSQLV4\r\n",
                "SELECT\r\n",
                "  GROUPING_ID(empid, custid, YEAR(Orderdate)) AS groupingset,\r\n",
                "  empid, custid, YEAR(Orderdate) AS orderyear, SUM(qty) AS sumqty\r\n",
                "FROM dbo.Orders\r\n",
                "GROUP BY\r\n",
                "  GROUPING SETS\r\n",
                "  (\r\n",
                "    (empid, custid, YEAR(orderdate)),\r\n",
                "    (empid, YEAR(orderdate)),\r\n",
                "    (custid, YEAR(orderdate))\r\n",
                "  );\r\n",
                "\r\n",
                "Use Northwinds2022TSQLV7\r\n",
                "SELECT\r\n",
                "  GROUPING_ID(EmployeeId, CustomerId, YEAR(Orderdate)) AS GroupingSet,\r\n",
                "  EmployeeId, CustomerId, YEAR(Orderdate) AS OrderYear, SUM(Qty) AS SumQty\r\n",
                "FROM dbo.Orders\r\n",
                "GROUP BY\r\n",
                "  GROUPING SETS\r\n",
                "  (\r\n",
                "    (EmployeeId, CustomerId, YEAR(OrderDate)),\r\n",
                "    (EmployeeId, YEAR(OrderDate)),\r\n",
                "    (CustomerId, YEAR(orderdate))\r\n",
                "  );"
            ],
            "metadata": {
                "azdata_cell_guid": "76d45818-21e1-47c9-9d33-3279db1ef08a",
                "language": "sql"
            },
            "outputs": [],
            "execution_count": null
        },
        {
            "cell_type": "markdown",
            "source": [
                "# Offset Window Functions\n",
                "\n",
                "# TOP QUERY (2)\n",
                "\n",
                "### Query #1\n",
                "\n",
                "**PROPOSITION**: Write a query to select the CustomerId, OrderId, and Val, along with the previous and next values of Val for each order per customer. The previous value (PrevVal) should be determined by looking at the preceding order for the same customer, and the next value (NextVal) should be determined by looking at the subsequent order for the same customer. This should be accomplished using window functions.\n",
                "\n",
                "**DATABASE**: Northwinds2022TSQLV7 Database\n",
                "\n",
                "**VIEW**: Sales.OrderValues\n",
                "\n",
                "**ATTRIBUTES**: CustomerId, OrderId, OrderDate, Val\n",
                "\n",
                "**PREDICATE**: This query uses `Sales.OrderValues` to track order value changes over time for each customer by employing the `LAG` and `LEAD` window functions. It calculates previous and next order values (PrevVal and NextVal) by partitioning orders by `CustomerId` and ordering them by `OrderDate` and `OrderId`. This approach ensures each order's value is contextualized within its customer's purchase history, providing a sequential view of value changes.\n",
                "\n",
                "**WHAT'S SPECIAL**: Demonstrating SQL's window functions, `LAG` and `LEAD`, this query offers insights into the sales dynamics of the database by analyzing order values over time for each customer. Partitioning by `CustomerId` and sequencing by `OrderDate` and `OrderId` allows for detailed examination of value fluctuations across orders. This method efficiently uncovers sales trends and customer behaviors, showcasing the power of SQL for in-depth data analysis and strategic decision-making in a single query execution."
            ],
            "metadata": {
                "azdata_cell_guid": "3ff1dae6-1b47-43ff-9ef8-9d1102bfeb55"
            },
            "attachments": {}
        },
        {
            "cell_type": "code",
            "source": [
                "-- LAG and LEAD\r\n",
                "Use TSQLV4\r\n",
                "SELECT custid, orderid, val,\r\n",
                "  LAG(val)  OVER(PARTITION BY custid\r\n",
                "                 ORDER BY orderdate, orderid) AS prevval,\r\n",
                "  LEAD(val) OVER(PARTITION BY custid\r\n",
                "                 ORDER BY orderdate, orderid) AS nextval\r\n",
                "FROM Sales.OrderValues\r\n",
                "ORDER BY custid, orderdate, orderid;\r\n",
                "\r\n",
                "Use Northwinds2022TSQLV7\r\n",
                "SELECT CustomerId, OrderId, Val,\r\n",
                "  LAG(Val)  OVER(PARTITION BY CustomerId\r\n",
                "                 ORDER BY OrderDate, OrderId) AS PrevVal,\r\n",
                "  LEAD(Val) OVER(PARTITION BY CustomerId\r\n",
                "                 ORDER BY OrderDate, OrderId) AS NextVal\r\n",
                "FROM Sales.OrderValues\r\n",
                "ORDER BY CustomerId, OrderDate, OrderId;"
            ],
            "metadata": {
                "azdata_cell_guid": "387b8c79-095c-4b5c-9e98-2c66ad6947ba",
                "language": "sql"
            },
            "outputs": [],
            "execution_count": null
        },
        {
            "cell_type": "markdown",
            "source": [
                "# TOP QUERY (3)\r\n",
                "### Query #2\r\n",
                "\r\n",
                "**PROPOSITION**: Develop a query to calculate the running total of Val for each customer's orders, along with the percentage this total represents out of the customer's overall order values. This calculation should be based on the chronological order of their purchases, identified by OrderDate and OrderId.\r\n",
                "\r\n",
                "**DATABASE**: Northwinds2022TSQLV7 Database\r\n",
                "\r\n",
                "**TABLES**: Sales.OrderValues\r\n",
                "\r\n",
                "**COLUMNS**: CustomerId, OrderId, OrderDate, Val\r\n",
                "\r\n",
                "**PREDICATE**: The query calculates a running total and percentage of each order's value for customers from the Sales.OrderValues table, using the SUM window function ordered by OrderDate and OrderId. It assesses the significance of individual orders by comparing their cumulative value to the total value of all orders per customer, providing insights into customer purchasing patterns.\r\n",
                "\r\n",
                "**WHAT'S SPECIAL:** This query uniquely harnesses the `FIRST_VALUE` and `LAST_VALUE` window functions within the Northwinds2022TSQLV7 database to capture the initial and final values of orders for each customer, organized by order date and ID. By partitioning the data by `CustomerId`, it ensures each segment is analyzed independently, offering a clear view from the first to the last transaction. "
            ],
            "metadata": {
                "language": "sql",
                "azdata_cell_guid": "62dbfc22-5d6c-4d75-a977-b310cc177977"
            },
            "attachments": {}
        },
        {
            "cell_type": "code",
            "source": [
                "-- FIRST_VALUE and LAST_VALUE\r\n",
                "Use TSQLV4\r\n",
                "SELECT custid, orderid, val,\r\n",
                "  FIRST_VALUE(val) OVER(PARTITION BY custid\r\n",
                "                        ORDER BY orderdate, orderid\r\n",
                "                        ROWS BETWEEN UNBOUNDED PRECEDING\r\n",
                "                                 AND CURRENT ROW) AS firstval,\r\n",
                "  LAST_VALUE(val)  OVER(PARTITION BY custid\r\n",
                "                        ORDER BY orderdate, orderid\r\n",
                "                        ROWS BETWEEN CURRENT ROW\r\n",
                "                                 AND UNBOUNDED FOLLOWING) AS lastval\r\n",
                "FROM Sales.OrderValues\r\n",
                "ORDER BY custid, orderdate, orderid;\r\n",
                "\r\n",
                "Use Northwinds2022TSQLV7\r\n",
                "SELECT CustomerId, OrderId, Val,\r\n",
                "  FIRST_VALUE(Val) OVER(PARTITION BY CustomerId\r\n",
                "                        ORDER BY OrderDate, OrderId\r\n",
                "                        ROWS BETWEEN UNBOUNDED PRECEDING\r\n",
                "                                 AND CURRENT ROW) AS firstval,\r\n",
                "  LAST_VALUE(Val)  OVER(PARTITION BY CustomerId\r\n",
                "                        ORDER BY OrderDate, OrderId\r\n",
                "                        ROWS BETWEEN CURRENT ROW\r\n",
                "                                 AND UNBOUNDED FOLLOWING) AS LastVal\r\n",
                "FROM Sales.OrderValues\r\n",
                "ORDER BY CustomerId, OrderDate, OrderId;\r\n",
                "\r\n",
                ""
            ],
            "metadata": {
                "language": "sql",
                "azdata_cell_guid": "f5d736ae-9bcf-43be-a510-9c69910f8030"
            },
            "outputs": [],
            "execution_count": null
        },
        {
            "cell_type": "markdown",
            "source": [
                "# Pivoting with the PIVOT Operator\n",
                "\n",
                "# TOP QUERY (4)\n",
                "\n",
                "### Query #1\n",
                "**PROPOSITION**: Construct a query to transform the order data into a pivoted format, showing the total quantity of orders for specific customers (identified as A, B, C, D) per employee. This transformation should result in a table where each row represents an employee and columns A, B, C, and D display the total quantities ordered by customers A, B, C, and D, respectively, as processed by that employee.\n",
                "\n",
                "**DATABASE**: Northwinds2022TSQLV7 Database\n",
                "\n",
                "**TABLES**: dbo.Orders\n",
                "\n",
                "**COLUMNS**: EmployeeId, CustomerId, Qty\n",
                "\n",
                "**PREDICATE**: This query rearranges the dbo.Orders table data to analyze the volume of orders processed by each employee for specific customers (A, B, C, and D) using a PIVOT operation. It sums the order quantities (Qty) per customer and pivots these totals into columns by CustomerId, making it easier to see the quantity of orders handled by each employee for these selected customers.\n",
                "\n",
                "**WHAT'S SPECIAL:** This query distinctively employs a PIVOT operation to transform order quantities from the `dbo.Orders` table into a structured format that aligns employee efforts with specific customers (A, B, C, D). By pivoting on `CustomerId` and summarizing the quantities (`Qty`), it directly maps out how many orders each employee has managed for these selected customers. "
            ],
            "metadata": {
                "language": "sql",
                "azdata_cell_guid": "858b143a-520a-4951-b4b2-e592f1acd6bd"
            },
            "attachments": {}
        },
        {
            "cell_type": "code",
            "source": [
                "-- Logical equivalent of previous query using the native PIVOT operator\r\n",
                "Use TSQLV4\r\n",
                "SELECT empid, A, B, C, D\r\n",
                "FROM (SELECT empid, custid, qty\r\n",
                "      FROM dbo.Orders) AS D\r\n",
                "  PIVOT(SUM(qty) FOR custid IN(A, B, C, D)) AS P;\r\n",
                "\r\n",
                "Use Northwinds2022TSQLV7\r\n",
                "SELECT EmployeeId, A, B, C, D\r\n",
                "FROM (SELECT EmployeeId, CustomerId, Qty\r\n",
                "      FROM dbo.Orders) AS D\r\n",
                "  PIVOT(SUM(Qty) FOR CustomerId IN(A, B, C, D)) AS P;\r\n",
                "\r\n",
                ""
            ],
            "metadata": {
                "language": "sql",
                "azdata_cell_guid": "2f3723ec-22b8-44ad-a59c-477d2c9d855a",
                "tags": []
            },
            "outputs": [],
            "execution_count": null
        },
        {
            "cell_type": "markdown",
            "source": [
                "# TOP QUERY (5)\r\n",
                "### Query #2\r\n",
                "**PROPOSITION**: Create a query that transforms the raw order data into a pivoted table format, focusing on summarizing the quantities of orders managed by each employee for four specific customers labeled as A, B, C, and D. The goal is to pivot the quantities (qty) based on the CustomerId, resulting in a structured table where each row corresponds to an EmployeeId and the columns A, B, C, and D represent the total order quantities for each of these specified customers.\r\n",
                "\r\n",
                "**DATABASE**: Northwinds2022TSQLV7 Database\r\n",
                "\r\n",
                "**TABLES**: dbo.Orders\r\n",
                "\r\n",
                "**COLUMNS**: EmployeeId, CustomerId, qty\r\n",
                "\r\n",
                "**PREDICATE**: This query seeks to aggregate and pivot the order quantities from the dbo.Orders table to efficiently display how each employee's orders are distributed across customers A, B, C, and D. By leveraging the SQL PIVOT function, it aggregates the qty field for orders corresponding to each of the four specified customers, pivoting on the CustomerId. \r\n",
                "\r\n",
                "**WHAT'S SPECIAL**:What's special about this query is its ability to transform complex transactional data into a clear, organized format that highlights employee engagement with key customers. By pivoting order quantities into columns per customer, it offers immediate insights into workload distribution and performance, making it an invaluable tool for understanding customer service dynamics and optimizing sales strategies."
            ],
            "metadata": {
                "language": "sql",
                "azdata_cell_guid": "680d159f-fa47-4160-b0e3-5950d932a9f9"
            },
            "attachments": {}
        },
        {
            "cell_type": "code",
            "source": [
                "-- Query demonstrating the problem with implicit grouping\r\n",
                "Use TSQLV4\r\n",
                "SELECT empid, A, B, C, D\r\n",
                "FROM dbo.Orders\r\n",
                "  PIVOT(SUM(qty) FOR custid IN(A, B, C, D)) AS P;\r\n",
                "\r\n",
                "Use Northwinds2022TSQLV7\r\n",
                "SELECT EmployeeId, A, B, C, D\r\n",
                "FROM dbo.Orders\r\n",
                "  PIVOT(SUM(qty) FOR CustomerId IN(A, B, C, D)) AS P;"
            ],
            "metadata": {
                "language": "sql",
                "azdata_cell_guid": "0ece1309-4726-4da8-965a-46dc8508d7e1",
                "tags": []
            },
            "outputs": [],
            "execution_count": null
        },
        {
            "cell_type": "markdown",
            "source": [
                "### Query #3 \r\n",
                "**PROPOSITION**: Create a query in the Northwinds2022TSQLV7 database to calculate how many orders each employee has processed for selected customers (A, B, C, D) from the dbo.Orders table. This involves using conditional aggregation to sum order quantities (`qty`) by employee for these specific customers.\r\n",
                "\r\n",
                "**DATABASE**: Northwinds2022TSQLV7\r\n",
                "\r\n",
                "**TABLES**: dbo.Orders\r\n",
                "\r\n",
                "**COLUMNS**: EmployeeId, CustomerId, qty\r\n",
                "\r\n",
                "**PREDICATE**: This approach aggregates order quantities by both employee and customer, focusing on customers A, B, C, and D. It cleverly utilizes conditional aggregation to tally orders for each employee-customer combination, providing a nuanced look at order volume and employee engagement with key accounts, all without pivoting. This strategy highlights workload distribution among employees and their interaction with significant customers, offering valuable insights for business strategy and operations."
            ],
            "metadata": {
                "language": "sql",
                "azdata_cell_guid": "73e2056c-5720-4387-896c-b546fa142180"
            },
            "attachments": {}
        },
        {
            "cell_type": "code",
            "source": [
                "-- Logical equivalent of previous query\r\n",
                "Use TSQLV4\r\n",
                "SELECT empid,\r\n",
                "  SUM(CASE WHEN custid = 'A' THEN qty END) AS A,\r\n",
                "  SUM(CASE WHEN custid = 'B' THEN qty END) AS B,\r\n",
                "  SUM(CASE WHEN custid = 'C' THEN qty END) AS C,\r\n",
                "  SUM(CASE WHEN custid = 'D' THEN qty END) AS D  \r\n",
                "FROM dbo.Orders\r\n",
                "GROUP BY orderid, orderdate, empid;\r\n",
                "\r\n",
                "Use Northwinds2022TSQLV7\r\n",
                "SELECT EmployeeId,\r\n",
                "  SUM(CASE WHEN CustomerId = 'A' THEN qty END) AS A,\r\n",
                "  SUM(CASE WHEN CustomerId = 'B' THEN qty END) AS B,\r\n",
                "  SUM(CASE WHEN CustomerId = 'C' THEN qty END) AS C,\r\n",
                "  SUM(CASE WHEN CustomerId = 'D' THEN qty END) AS D  \r\n",
                "FROM dbo.Orders\r\n",
                "GROUP BY OrderId, OrderDate, EmployeeId;"
            ],
            "metadata": {
                "language": "sql",
                "azdata_cell_guid": "d9664e2e-8e21-49ca-9301-3385d404b67f",
                "tags": []
            },
            "outputs": [],
            "execution_count": null
        },
        {
            "cell_type": "markdown",
            "source": [
                "### Query #4\r\n",
                "**PROPOSITION**: Craft a query in the Northwinds2022TSQLV7 database to pivot the dbo.Orders table's order quantities, targeting the performance of employees 1, 2, and 3 across all customers. The objective is to organize this data into a clear format where each customer is represented by a row, and the columns labeled [1], [2], and [3] indicate total orders handled by these employees, respectively.\r\n",
                "\r\n",
                "**DATABASE**: Northwinds2022TSQLV7\r\n",
                "\r\n",
                "**TABLES**: dbo.Orders\r\n",
                "\r\n",
                "**COLUMNS**: EmployeeId, CustomerId, Qty\r\n",
                "\r\n",
                "**PREDICATE**: By leveraging the PIVOT function, this query aims to aggregate order quantities based on specific employees' contributions to serving customers, transforming EmployeeId values into column headers to display the summed quantities directly. This approach not only simplifies viewing the data but also offers a direct measure of how key employees are performing in customer service, providing valuable insights for assessing employee distribution and effectiveness in order fulfillment."
            ],
            "metadata": {
                "language": "sql",
                "azdata_cell_guid": "b7a233b6-07c8-4453-9d1e-24106ad514c8"
            },
            "attachments": {}
        },
        {
            "cell_type": "code",
            "source": [
                "-- Query against Orders, grouping by customer, pivoting employees,\r\n",
                "-- aggregating sum of quantity\r\n",
                "Use TSQLV4\r\n",
                "SELECT custid, [1], [2], [3]\r\n",
                "FROM (SELECT empid, custid, qty\r\n",
                "      FROM dbo.Orders) AS D\r\n",
                "  PIVOT(SUM(qty) FOR empid IN([1], [2], [3])) AS P;\r\n",
                "\r\n",
                "Use Northwinds2022TSQLV7\r\n",
                "SELECT CustomerId, [1], [2], [3]\r\n",
                "FROM (SELECT EmployeeId, CustomerId, Qty\r\n",
                "      FROM dbo.Orders) AS D\r\n",
                "  PIVOT(SUM(Qty) FOR EmployeeId IN([1], [2], [3])) AS P;"
            ],
            "metadata": {
                "language": "sql",
                "azdata_cell_guid": "eb4b6534-2a7c-47db-97ca-96a3e65499c8",
                "tags": []
            },
            "outputs": [],
            "execution_count": null
        },
        {
            "cell_type": "markdown",
            "source": [
                "# GROUPING and GROUPING_ID Function\r\n",
                "\r\n",
                "### Query #1\r\n",
                "**PROPOSITION**: Create a query for the Northwinds2022TSQLV7 database to comprehensively summarize order quantities in the dbo.Orders table by EmployeeId and CustomerId, using the CUBE operator. This will allow for a thorough multidimensional analysis, producing subtotals for each employee and customer, along with a grand total for all orders. \r\n",
                "\r\n",
                "**DATABASE**: Northwinds2022TSQLV7\r\n",
                "\r\n",
                "**TABLES**: dbo.Orders\r\n",
                "\r\n",
                "**COLUMNS**: EmployeeId, CustomerId, Qty\r\n",
                "\r\n",
                "**PREDICATE**: Aimed at exploring order quantities across varying dimensions of EmployeeId and CustomerId, this query employs the CUBE operator to cover all possible combinations, enabling both detailed and overarching analyses. It generates both specific subtotals and a comprehensive grand total, offering a deep dive into sales distribution and performance. This approach illuminates patterns and trends, aiding in strategic planning and optimization of sales and customer service efforts."
            ],
            "metadata": {
                "language": "sql",
                "azdata_cell_guid": "5512be0c-10a3-48d0-acf1-02a33b38db7d"
            },
            "attachments": {}
        },
        {
            "cell_type": "code",
            "source": [
                "Use TSQLV4\r\n",
                "SELECT empid, custid, SUM(qty) AS sumqty\r\n",
                "FROM dbo.Orders\r\n",
                "GROUP BY CUBE(empid, custid);\r\n",
                "\r\n",
                "Use Northwinds2022TSQLV7\r\n",
                "SELECT EmployeeId, CustomerId, SUM(Qty) AS SumQty\r\n",
                "FROM dbo.Orders\r\n",
                "GROUP BY CUBE(EmployeeId, CustomerId);"
            ],
            "metadata": {
                "language": "sql",
                "azdata_cell_guid": "d082fa83-af46-4c85-810f-8c3a66b394b6",
                "tags": []
            },
            "outputs": [],
            "execution_count": null
        },
        {
            "cell_type": "markdown",
            "source": [
                "### Query #2\r\n",
                "\r\n",
                "**PROPOSITION:** Create a query for the dbo.Orders table in the Northwinds2022TSQLV7 database to aggregate order quantities using the CUBE operator, allowing for a multi-dimensional analysis by EmployeeId and CustomerId. Incorporate the GROUPING function to mark rows with indicators for their aggregation level, distinguishing between detailed entries, subtotals, and the overall total.\r\n",
                "\r\n",
                "**DATABASE**: Northwinds2022TSQLV7\r\n",
                "\r\n",
                "**TABLES**: dbo.Orders\r\n",
                "\r\n",
                "**COLUMNS:** EmployeeId, CustomerId, Qty\r\n",
                "\r\n",
                "**PREDICATE:** This query aggregates orders by every possible EmployeeId and CustomerId combination through the CUBE function, achieving a thorough multidimensional analysis. The GROUPING function adds clarity by signaling whether rows are detailed records, subtotals by employee or customer, or the grand total, using additional columns as flags. This approach delivers a layered view of order data, enhancing insights into sales dynamics and customer relationships.\r\n",
                "\r\n",
                "\r\n",
                "\r\n",
                "\r\n",
                "\r\n",
                "\r\n",
                ""
            ],
            "metadata": {
                "language": "sql",
                "azdata_cell_guid": "1d39b275-69cc-423b-9691-3f75ec947fa1"
            },
            "attachments": {}
        },
        {
            "cell_type": "code",
            "source": [
                "Use TSQLV4\r\n",
                "SELECT\r\n",
                "  GROUPING(empid) AS grpemp,\r\n",
                "  GROUPING(custid) AS grpcust,\r\n",
                "  empid, custid, SUM(qty) AS sumqty\r\n",
                "FROM dbo.Orders\r\n",
                "GROUP BY CUBE(empid, custid);\r\n",
                "\r\n",
                "Use Northwinds2022TSQLV7\r\n",
                "SELECT\r\n",
                "  GROUPING(EmployeeId) AS GrpEmp,\r\n",
                "  GROUPING(CustomerId) AS GrpCust,\r\n",
                "  EmployeeId, CustomerId, SUM(Qty) AS SumQty\r\n",
                "FROM dbo.Orders\r\n",
                "GROUP BY CUBE(EmployeeId, CustomerId);"
            ],
            "metadata": {
                "language": "sql",
                "azdata_cell_guid": "e78fa5e1-42f5-4405-9f40-21a2bd3d7c8f"
            },
            "outputs": [],
            "execution_count": null
        },
        {
            "cell_type": "markdown",
            "source": [
                "### QUERY #3\r\n",
                "**PROPOSITION**: Create a query to sum up order quantities in the dbo.Orders table by both EmployeeId and CustomerId using the CUBE operator for in-depth analysis. Add the GROUPING_ID function to mark each result with a unique code, distinguishing between detailed records, subtotals, and the overall total.\r\n",
                "\r\n",
                "**DATABASE**: Northwinds2022TSQLV7\r\n",
                "\r\n",
                "**TABLES**: dbo.Orders\r\n",
                "\r\n",
                "**COLUMNS**: EmployeeId, CustomerId, Qty\r\n",
                "\r\n",
                "**PREDICATE**: By using the CUBE function, this query aggregates order quantities across every possible combination of EmployeeId and CustomerId, plus a grand total. GROUPING_ID enhances this by giving each result a unique identifier, clarifying whether it's a detailed entry, a subtotal, or a total. This setup provides a comprehensive view of sales by employee and customer."
            ],
            "metadata": {
                "language": "sql",
                "azdata_cell_guid": "f6559f83-5ad3-4ca1-af2b-a55d2cedc827"
            },
            "attachments": {}
        },
        {
            "cell_type": "code",
            "source": [
                "Use TSQLV4\r\n",
                "SELECT\r\n",
                "  GROUPING_ID(empid, custid) AS groupingset,\r\n",
                "  empid, custid, SUM(qty) AS sumqty\r\n",
                "FROM dbo.Orders\r\n",
                "GROUP BY CUBE(empid, custid);\r\n",
                "\r\n",
                "Use Northwinds2022TSQLV7\r\n",
                "SELECT\r\n",
                "  GROUPING_ID(EmployeeId, CustomerId) AS groupingset,\r\n",
                "  EmployeeId, CustomerId, SUM(Qty) AS SumQty\r\n",
                "FROM dbo.Orders\r\n",
                "GROUP BY CUBE(EmployeeId, CustomerId);\r\n",
                ""
            ],
            "metadata": {
                "language": "sql",
                "azdata_cell_guid": "5d01e263-db86-4da9-8a5f-3dc5dfe6b590"
            },
            "outputs": [],
            "execution_count": null
        }
    ]
}