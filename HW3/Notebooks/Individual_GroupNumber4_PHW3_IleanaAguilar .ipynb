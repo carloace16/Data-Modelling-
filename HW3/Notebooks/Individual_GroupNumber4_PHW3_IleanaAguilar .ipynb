{
    "metadata": {
        "kernelspec": {
            "name": "SQL",
            "display_name": "SQL",
            "language": "sql"
        },
        "language_info": {
            "name": "sql",
            "version": ""
        }
    },
    "nbformat_minor": 2,
    "nbformat": 4,
    "cells": [
        {
            "cell_type": "markdown",
            "source": [
                "# MY TOP 5 "
            ],
            "metadata": {
                "azdata_cell_guid": "ced22f9d-0d42-4eeb-8e77-27d3df54da3c"
            },
            "attachments": {}
        },
        {
            "cell_type": "markdown",
            "source": [
                "# CHAP 4 Exercise 1\n",
                "\n",
                "\\-- Write a query that returns all orders placed on the last day of\n",
                "\n",
                "\\-- activity that can be found in the Orders table\n",
                "\n",
                "\\-- Tables involved: TSQLV6 database, Orders table\n",
                "\n",
                "## My Answer:\n",
                "\n",
                "**Proposition:** Write a query that retrieves orders with the latest order date ordered by OrderId in descending order.\n",
                "\n",
                "**Table:** Sales.\\[Order\\]\n",
                "\n",
                "**Columns:** OrderId, OrderDate, CustomerId, and EmployeeId from the Sales.\\[Order\\] table.\n",
                "\n",
                "**Predicate:** \n",
                "```\n",
                "WHERE OrderDate = (SELECT MAX(O.OrderDate) FROM Sales.[Order] AS O)\n",
                "```\n",
                "This WHERE clause filters the Sales.\\[Order\\] table to only return rows where the OrderDate matches the maximum OrderDate value in the subquery.\n",
                "\n",
                "**What's special:**\n",
                "\n",
                "Subquery with aggregate function:\n",
                "\n",
                "```\n",
                "WHERE OrderDate =\n",
                "    (SELECT MAX (O.OrderDate) FROM Sales.[Order] AS O)\n",
                "\n",
                "```\n",
                "\n",
                "The MAX() aggregate function finds the maximum order date from the Sales.\\[Order\\] table. This subquery helps identify the most recent order date."
            ],
            "metadata": {
                "azdata_cell_guid": "c653fced-aca5-4541-9dbb-4d4a4aa83f73"
            },
            "attachments": {}
        },
        {
            "cell_type": "code",
            "source": [
                "USE TSQLV6;\n",
                "SELECT orderid, orderdate, custid, empid\n",
                "FROM Sales.Orders\n",
                "WHERE orderdate =\n",
                "  (SELECT MAX(O.orderdate) FROM Sales.Orders AS O)\n",
                "  ORDER BY orderid DESC;\n",
                "\n",
                "USE Northwinds2022TSQLV7;\n",
                "SELECT OrderId, OrderDate, CustomerId, EmployeeId\n",
                "FROM Sales.[Order]\n",
                "WHERE OrderDate =\n",
                "    (SELECT MAX (O.OrderDate) FROM Sales.[Order] AS O)\n",
                "    ORDER BY OrderId DESC;\n"
            ],
            "metadata": {
                "azdata_cell_guid": "3908ad1f-91a1-409b-994a-42aadd0f2533",
                "language": "sql",
                "tags": []
            },
            "outputs": [],
            "execution_count": null
        },
        {
            "cell_type": "markdown",
            "source": [
                "# CHAP 5 Exercise 6-1\n",
                "\n",
                "\\-- Create an inline function that accepts as inputs\n",
                "\n",
                "\\-- a supplier id (@supid AS INT),\n",
                "\n",
                "\\-- and a requested number of products (@n AS INT)\n",
                "\n",
                "\\-- The function should return @n products with the highest unit prices\n",
                "\n",
                "\\-- that are supplied by the given supplier id\n",
                "\n",
                "\\-- Tables involved: Production.Products\n",
                "\n",
                "## My Answer:\n",
                "\n",
                "**Proposition:** Create a user-defined function named TopProduct that retrieves the top N products based on unit price for a given supplier.\n",
                "\n",
                "**Function:** Production.TopProduct\n",
                "\n",
                "**Parameters:** @supid (SupplierId) as INT, @n (Number of products) as INT\n",
                "\n",
                "**Returns:** ProductId, ProductName, and UnitPrice\n",
                "\n",
                "**Predicate:** WHERE SupplierId = @supid. This WHERE clause filters the Production.Product table to only return rows where the SupplierId matches the input parameter.\n",
                "\n",
                "**What's special:**\n",
                "\n",
                "Function Creation with parameters: \n",
                "\n",
                "This function takes two parameters (@supid and @n) and returns a table with columns ProductId, ProductName, and \n",
                "\n",
                "UnitPrice. It selects the top @n products based on their UnitPrice from the Production.Product table where the SupplierId matches the @supid \n",
                "\n",
                "parameter. The results are ordered by UnitPrice in descending order.\n",
                ""
            ],
            "metadata": {
                "azdata_cell_guid": "97b194a6-e47a-4e52-9013-7fe314f815c9",
                "language": "sql"
            },
            "attachments": {}
        },
        {
            "cell_type": "code",
            "source": [
                "USE TSQLV6;\n",
                "DROP FUNCTION IF EXISTS Production.TopProducts;\n",
                "GO\n",
                "CREATE FUNCTION Production.TopProducts\n",
                "  (@supid AS INT, @n AS INT)\n",
                "  RETURNS TABLE\n",
                "AS\n",
                "RETURN\n",
                "  SELECT TOP (@n) productid, productname, unitprice\n",
                "  FROM Production.Products\n",
                "  WHERE supplierid = @supid\n",
                "  ORDER BY unitprice DESC;\n",
                "GO\n",
                "-- added this to show the output of Production.TopProducts function\n",
                "SELECT * FROM Production.TopProducts(5, 2);\n",
                "\n",
                "\n",
                "\n",
                "USE Northwinds2022TSQLV7;\n",
                "DROP FUNCTION IF EXISTS Production.TopProduct;\n",
                "GO\n",
                "CREATE FUNCTION Production.TopProduct\n",
                "  (@supid AS INT, @n AS INT)\n",
                "  RETURNS TABLE\n",
                "AS\n",
                "RETURN\n",
                "  SELECT TOP (@n) ProductId, ProductName, UnitPrice\n",
                "  FROM Production.Product\n",
                "  WHERE SupplierId = @supid\n",
                "  ORDER BY UnitPrice DESC;\n",
                "GO\n",
                "-- added this to show the output of Production.TopProducts function\n",
                "SELECT * FROM Production.TopProduct(5, 2);\n"
            ],
            "metadata": {
                "azdata_cell_guid": "8e38190b-5d61-40bf-9b3e-175d9b2623e7",
                "language": "sql",
                "tags": []
            },
            "outputs": [],
            "execution_count": null
        },
        {
            "cell_type": "markdown",
            "source": [
                "# CHAP 4 -- Multi-Valued Subqueries\n",
                "\n",
                "## My Answer:\n",
                "\n",
                "**Proposition:** Write a query that retrieves orders placed by employees whose last names start with the letter 'D'.\n",
                "\n",
                "**Table:** Sales.\\[Order\\] and HumanResources.\\[Employee\\]\n",
                "\n",
                "**Columns:** OrderId from the Sales.\\[Order\\] table, <span style=\"color: rgb(33, 33, 33); font-family: Menlo, Monaco, &quot;Courier New&quot;, monospace; font-size: 12px; white-space: pre;\">EmployeeId from the </span> <span style=\"font-family: -apple-system, BlinkMacSystemFont, sans-serif; color: var(--vscode-foreground);\">HumanResources.[Employee] table</span>\n",
                "\n",
                "**Predicate:** WHERE EmployeeId IN (SELECT E.EmployeeId FROM HumanResources.\\[Employee\\] AS E WHERE E.EmployeeLastName LIKE N'D%'). This WHERE clause filters the Sales.\\[Order\\] table to only return rows where the EmployeeId matches an EmployeeId whose last name starts with 'D'.\n",
                "\n",
                "**What's special:**\n",
                "\n",
                "Subquery:\n",
                "\n",
                "```\n",
                "(SELECT E.EmployeeId\n",
                "   FROM HumanResources.[Employee] AS E\n",
                "   WHERE E.EmployeeLastName LIKE N'D%')\n",
                "\n",
                "```\n",
                "\n",
                "This subquery selects the EmployeeId from the HumanResources.\\[Employee\\] table where the EmployeeLastName starts with the letter 'D'. It uses the LIKE operator with the pattern 'D%' to match such last names.\n",
                "\n",
                "LIKE operator:\n",
                "\n",
                "```\n",
                "E.EmployeeLastName LIKE N'D%'\n",
                "\n",
                "```\n",
                "\n",
                "A Like operator is used to search a specified pattern within a string column. In this case, the query uses the pattern 'D%' to find the EmployeeLastName starts with the letter 'D'.\n",
                "\n",
                "IN operator:\n",
                "\n",
                "```\n",
                "WHERE EmployeeId IN -- then subquery\n",
                "\n",
                "```\n",
                "\n",
                "A IN operator is used to specify multiple values in a WHERE clause, allowing you to filter rows based on whether a specified value matches any value in a list or a subquery. In this case, the main query filters rows from the Sales.\\[Order\\] table where the EmployeeId matches any of the EmployeeId values returned by the subquery."
            ],
            "metadata": {
                "azdata_cell_guid": "ef06e55c-a308-4cc8-a673-4f01a9aa96ff",
                "language": "sql"
            },
            "attachments": {}
        },
        {
            "cell_type": "code",
            "source": [
                "USE TSQLV6;\n",
                "SELECT orderid\n",
                "FROM Sales.Orders\n",
                "WHERE empid IN\n",
                "  (SELECT E.empid\n",
                "   FROM HR.Employees AS E\n",
                "   WHERE E.lastname LIKE N'D%')\n",
                "   ORDER BY orderid;\n",
                "\n",
                "\n",
                "USE Northwinds2022TSQLV7;\n",
                "SELECT OrderId\n",
                "FROM Sales.[Order]\n",
                "WHERE EmployeeId IN\n",
                "  (SELECT E.EmployeeId\n",
                "   FROM HumanResources.[Employee] AS E\n",
                "   WHERE E.EmployeeLastName LIKE N'D%')\n",
                "   ORDER BY OrderId;\n"
            ],
            "metadata": {
                "azdata_cell_guid": "b8289d15-d818-447e-803e-b560973f8c1b",
                "language": "sql"
            },
            "outputs": [],
            "execution_count": null
        },
        {
            "cell_type": "markdown",
            "source": [
                "# CHAP 5 -- Common Table Expressions\n",
                "\n",
                "## My Answer:\n",
                "\n",
                "**Proposition:** Write a query that selects all customers located in the USA.\n",
                "\n",
                "**Table:** Sales.Customer\n",
                "\n",
                "**Columns:** CustomerId and CustomerCompanyName\n",
                "\n",
                "**Predicate:**\n",
                "\n",
                "```\n",
                "WHERE CustomerCountry = N'USA'\n",
                "\n",
                "```\n",
                "\n",
                "This WHERE clause filters the Sales.Customer table to only return rows where the CustomerCountry is 'USA'.\n",
                "\n",
                "**What's special:**\n",
                "\n",
                "Common Table Expression:\n",
                "\n",
                "The keyword \"WITH\" signals the declaration of a CTE. In this case, named \"USACusts\". Inside the Common Table Expression, it selects specific columns (CustomerId, \n",
                "\n",
                "CustomerCompanyName) from the Sales.Customer table, filtering for customers located in the USA (CustomerCountry = N'USA').\n",
                "\n",
                "The Common Table Expression serves as a temporary result set that can be referenced within the subsequent query (SELECT * FROM USACusts;)."
            ],
            "metadata": {
                "azdata_cell_guid": "54cfa321-515d-421e-b868-9b49de151a81",
                "language": "sql"
            },
            "attachments": {}
        },
        {
            "cell_type": "code",
            "source": [
                "USE TSQLV6;\n",
                "WITH USACusts AS\n",
                "(\n",
                "  SELECT custid, companyname\n",
                "  FROM Sales.Customers\n",
                "  WHERE country = N'USA'\n",
                ")\n",
                "SELECT * FROM USACusts;\n",
                "\n",
                "\n",
                "USE Northwinds2022TSQLV7;\n",
                "WITH USACusts AS\n",
                "(\n",
                "  SELECT CustomerId, CustomerCompanyName\n",
                "  FROM Sales.Customer\n",
                "  WHERE CustomerCountry = N'USA'\n",
                ")\n",
                "SELECT * FROM USACusts;\n"
            ],
            "metadata": {
                "azdata_cell_guid": "f6fd04df-acdd-45ca-8b6c-448e84bf4f3b",
                "language": "sql"
            },
            "outputs": [],
            "execution_count": null
        },
        {
            "cell_type": "markdown",
            "source": [
                "# CHAP 5 -- APPLY\n",
                "\n",
                "## My Answer:\n",
                "**Proposition:** Write a query that retrieves customer information along with the most recent orders for each customer.\n",
                "\n",
                "**Table:** Sales.Customer and Sales.[Order]\n",
                "\n",
                "**Columns:** CustomerId from Sales.Customer table, and OrderId, OrderDate from the most recent orders for each customer.\n",
                "\n",
                "**Predicate:** The query uses OUTER APPLY to join the Sales.Customer table with a subquery that retrieves the top 3 most recent orders for each customer.\n",
                "\n",
                "**What's special:**\n",
                "\n",
                "OUTTER APPLY:\n",
                "```\n",
                "OUTER APPLY\n",
                "    (SELECT TOP (3) orderid, EmployeeId, OrderDate, requireddate \n",
                "     FROM Sales.[Order] AS O\n",
                "     WHERE O.CustomerId = C.CustomerId\n",
                "     ORDER BY OrderDate DESC, OrderId DESC) AS A;\n",
                "```\n",
                "The OUTER APPLY clause works like a join but allows you to use a correlated subquery to retrieve additional columns from another table for each row in the outer table, in this case the Sales.Customer table.\n",
                "\n",
                "Top (N):\n",
                "```\n",
                "SELECT TOP (3) orderid, empid, orderdate, requireddate\n",
                "```\n",
                "In the subquery, TOP (N) is used to select the top N rows from column. In this case, TOP (N) is used with the ORDER BY clause in descending order to select the top three most recent orders for each customer.\n",
                "\n",
                "GO:\n",
                "\n",
                "GO allows you to separate different parts of your script into logical groups or batches.\n",
                "\n",
                "\n",
                "<img src=\"https://static.vecteezy.com/system/resources/previews/022/841/114/non_2x/chatgpt-logo-transparent-background-free-png.png\" alt=\"AI\" width=\"20\" height=\"20\"> ChatGPT from OpenAI assisted me with explaination of operations to further understand this query"
            ],
            "metadata": {
                "azdata_cell_guid": "b9df1e06-49a9-4a2c-b872-a9777d7e22a7",
                "language": "sql"
            },
            "attachments": {}
        },
        {
            "cell_type": "code",
            "source": [
                "USE TSQLV6;\n",
                "-- 3 most recent orders for each customer, preserve all customers\n",
                "SELECT C.custid, A.orderid, A.orderdate\n",
                "FROM Sales.Customers AS C\n",
                "  OUTER APPLY\n",
                "    (SELECT TOP (3) orderid, empid, orderdate, requireddate \n",
                "     FROM Sales.Orders AS O\n",
                "     WHERE O.custid = C.custid\n",
                "     ORDER BY orderdate DESC, orderid DESC) AS A;\n",
                "GO\n",
                "\n",
                "USE Northwinds2022TSQLV7;\n",
                "SELECT C.CustomerId, A.OrderId, A.OrderDate\n",
                "FROM Sales.Customer AS C\n",
                "  OUTER APPLY\n",
                "    (SELECT TOP (3) orderid, EmployeeId, OrderDate, requireddate \n",
                "     FROM Sales.[Order] AS O\n",
                "     WHERE O.CustomerId = C.CustomerId\n",
                "     ORDER BY OrderDate DESC, OrderId DESC) AS A;\n",
                "GO\n"
            ],
            "metadata": {
                "azdata_cell_guid": "4a556c31-33ec-4187-9a89-60c1a37b2a51",
                "language": "sql"
            },
            "outputs": [],
            "execution_count": null
        },
        {
            "cell_type": "markdown",
            "source": [
                "***\n",
                "# Rest of My Queries\n",
                "***"
            ],
            "metadata": {
                "azdata_cell_guid": "28a97950-7645-4ff6-92bf-0f3efd755fb3"
            }
        },
        {
            "cell_type": "markdown",
            "source": [
                "# CHAP 4 Exercise 7\n",
                "\n",
                "\\-- Write a query that returns customers\n",
                "\n",
                "\\-- who ordered product 12\n",
                "\n",
                "\\-- Tables involved: TSQLV6 database,\n",
                "\n",
                "\\-- Customers, Orders and OrderDetails tables\n",
                "\n",
                "## My Answer:\n",
                "\n",
                "**Proposition:** Write a query that retrieves customer information for customers who have placed orders containing a specific product (ProductID = 12).\n",
                "\n",
                "**Table:** Sales.\\[Customer\\], Sales.\\[Order\\], and Sales.\\[OrderDetail\\]\n",
                "\n",
                "**Columns:** CustomerId and CustomerCompanyName from the Sales.\\[Customer\\] table.\n",
                "\n",
                "**Predicate:** \n",
                "\n",
                " ``` \n",
                " WHERE EXISTS \n",
                "    (SELECT * \n",
                "    FROM Sales.[Order] AS O \n",
                "    WHERE O.CustomerId = C.CustomerId \n",
                "    AND EXISTS \n",
                "    (SELECT * FROM Sales.[OrderDetail] AS OD \n",
                "    WHERE OD.OrderId = O.OrderId \n",
                "        AND OD.ProductID = 12))\n",
                " ```\n",
                "\n",
                "This WHERE clause ensures that the query returns rows from the Sales.\\[Customer\\] table only if there exists an order placed by that customer containing the specified product."
            ],
            "metadata": {
                "azdata_cell_guid": "3b9c670e-74bd-424a-ad83-e50205df8a65",
                "language": "sql"
            },
            "attachments": {}
        },
        {
            "cell_type": "code",
            "source": [
                "USE TSQLV6;\n",
                "SELECT custid, companyname\n",
                "FROM Sales.Customers AS C\n",
                "WHERE EXISTS\n",
                "  (SELECT *\n",
                "   FROM Sales.Orders AS O\n",
                "   WHERE O.custid = C.custid\n",
                "     AND EXISTS\n",
                "       (SELECT *\n",
                "        FROM Sales.OrderDetails AS OD\n",
                "        WHERE OD.orderid = O.orderid\n",
                "          AND OD.productid = 12));\n",
                "\n",
                "\n",
                "USE Northwinds2022TSQLV7;\n",
                "SELECT CustomerId, CustomerCompanyName\n",
                "FROM Sales.[Customer] AS C\n",
                "WHERE EXISTS\n",
                "  (SELECT *\n",
                "   FROM Sales.[Order] AS O\n",
                "   WHERE O.CustomerId = C.CustomerId\n",
                "     AND EXISTS\n",
                "       (SELECT *\n",
                "        FROM Sales.[OrderDetail] AS OD\n",
                "        WHERE OD.OrderId = O.OrderId\n",
                "          AND OD.ProductID = 12))\n",
                "          ORDER BY CustomerCompanyName;\n",
                "\n"
            ],
            "metadata": {
                "azdata_cell_guid": "a7b762cc-cc7f-4b1b-a6db-cbe6f4fd79c8",
                "language": "sql"
            },
            "outputs": [],
            "execution_count": null
        },
        {
            "cell_type": "markdown",
            "source": [
                "# CHAP 4 -- Multi-Valued Subqueries\n",
                "\n",
                "## My Answer:\n",
                "\n",
                "**Proposition:** Write a query that returns a list of numbers within a specified range that are not present as OrderId values in the dbo.\\[Order\\] table.\n",
                "\n",
                "**Table:** dbo.Nums,  <span style=\"font-family: -apple-system, BlinkMacSystemFont, sans-serif; color: var(--vscode-foreground);\">dbo.[Order]</span> <span style=\"font-family: -apple-system, BlinkMacSystemFont, sans-serif; color: var(--vscode-foreground);\">referred as 0</span>\n",
                "\n",
                "**Columns:** N\n",
                "\n",
                "**Predicate:**\n",
                "\n",
                "```\n",
                "WHERE N BETWEEN (SELECT MIN(O.OrderId) FROM dbo.[Order] AS O)\n",
                "            AND (SELECT MAX(O.OrderId) FROM dbo.[Order] AS O)\n",
                "  AND N NOT IN (SELECT O.OrderId FROM dbo.[Order] AS O);\n",
                "\n",
                "```\n",
                "\n",
                "The WHERE clause filters rows where the value of N is between the minimum and maximum OrderId values present in the dbo.\\[Order\\] table. Additionally, it excludes values of N that match existing OrderId values in the dbo.\\[Order\\] table."
            ],
            "metadata": {
                "azdata_cell_guid": "6f2e8874-7a08-4623-957a-c2e77a076243",
                "language": "sql"
            },
            "attachments": {}
        },
        {
            "cell_type": "code",
            "source": [
                "USE TSQLV6;\n",
                "GO\n",
                "SELECT n\n",
                "FROM dbo.Nums\n",
                "WHERE n BETWEEN (SELECT MIN(O.orderid) FROM dbo.Orders AS O)\n",
                "            AND (SELECT MAX(O.orderid) FROM dbo.Orders AS O)\n",
                "  AND n NOT IN (SELECT O.orderid FROM dbo.Orders AS O);\n",
                "\n",
                "\n",
                "\n",
                "USE Northwinds2022TSQLV7;\n",
                "SELECT N\n",
                "FROM dbo.Nums\n",
                "WHERE N BETWEEN (SELECT MIN(O.OrderId) FROM dbo.[Order] AS O)\n",
                "            AND (SELECT MAX(O.OrderId) FROM dbo.[Order] AS O)\n",
                "  AND N NOT IN (SELECT O.OrderId FROM dbo.[Order] AS O);"
            ],
            "metadata": {
                "azdata_cell_guid": "b50acac5-93e1-4e68-89b6-aeda8008dd66",
                "language": "sql",
                "tags": []
            },
            "outputs": [],
            "execution_count": null
        },
        {
            "cell_type": "markdown",
            "source": [
                "# CHAP 4 -- EXISTS\n",
                "\n",
                "## My Answer:\n",
                "**Proposition:** Write a query that retrieves customer information for customers in Spain who have not placed any orders.\n",
                "\n",
                "**Table:** Sales.Customer and Sales.[Order]\n",
                "\n",
                "**Columns:** CustomerId and CustomerCompanyName from the Sales.Customer table.\n",
                "\n",
                "**Predicate:**  \n",
                "```\n",
                "WHERE CustomerCountry = N'Spain' \n",
                "    AND NOT EXISTS \n",
                "    (SELECT * FROM Sales.[Order] AS O \n",
                "    WHERE O.CustomerId = C.CustomerId);\n",
                "```\n",
                "\n",
                "This WHERE clause ensures that the query returns rows from the Sales.Customer table only for customers in Spain who have no corresponding orders in the Sales.[Order] table."
            ],
            "metadata": {
                "azdata_cell_guid": "432b5e30-4d55-4c07-940e-82f02c393f6c",
                "language": "sql"
            },
            "attachments": {}
        },
        {
            "cell_type": "code",
            "source": [
                "USE TSQLV6;\n",
                "-- Customers from Spain who didn't place Orders\n",
                "SELECT custid, companyname\n",
                "FROM Sales.Customers AS C\n",
                "WHERE country = N'Spain'\n",
                "  AND NOT EXISTS\n",
                "    (SELECT * FROM Sales.Orders AS O\n",
                "     WHERE O.custid = C.custid);\n",
                "\n",
                "\n",
                "USE Northwinds2022TSQLV7;\n",
                "SELECT CustomerId, CustomerCompanyName\n",
                "FROM Sales.Customer AS C\n",
                "WHERE CustomerCountry = N'Spain'\n",
                "  AND NOT EXISTS\n",
                "    (SELECT * FROM Sales.[Order] AS O\n",
                "     WHERE O.CustomerId = C.CustomerId);\n"
            ],
            "metadata": {
                "azdata_cell_guid": "56652cc2-8196-4c62-a5b3-02014b636784",
                "language": "sql"
            },
            "outputs": [],
            "execution_count": null
        },
        {
            "cell_type": "markdown",
            "source": [
                "# CHAP 4 -- NULL Trouble\n",
                "\n",
                "## My Answer:\n",
                "\n",
                "**Proposition:** Write a query that returns customers who have not placed any orders.\n",
                "\n",
                "**Table:** Sales.Customer, Sales.[Order] referred as O\n",
                "\n",
                "**Columns:** CustomerId and CustomerCompanyName from the Sales.Customer table, CustomerId from Sales.[Order].\n",
                "\n",
                "**Predicate:**\n",
                "\n",
                "```\n",
                "WHERE CustomerId NOT IN (SELECT O.CustomerId FROM Sales.[Order] AS O)\n",
                "```\n",
                "This WHERE clause filters the Sales.Customer table to only return rows whose CustomerId does not match any values returned by the subquery, which retrieves CustomerId values from the Sales.Order table."
            ],
            "metadata": {
                "azdata_cell_guid": "d0aeccfa-c148-4558-b80b-05b4ddfc3ab0",
                "language": "sql"
            },
            "attachments": {}
        },
        {
            "cell_type": "code",
            "source": [
                "\n",
                "-- Customers who didn't place orders\n",
                "\n",
                "-- Using NOT IN\n",
                "USE TSQLV6;\n",
                "SELECT custid, companyname\n",
                "FROM Sales.Customers\n",
                "WHERE custid NOT IN(SELECT O.custid\n",
                "                    FROM Sales.Orders AS O);\n",
                "\n",
                "\n",
                "USE Northwinds2022TSQLV7;\n",
                "SELECT CustomerId, CustomerCompanyName\n",
                "FROM Sales.Customer\n",
                "WHERE CustomerId NOT IN(SELECT O.CustomerId\n",
                "                    FROM Sales.[Order] AS O);\n"
            ],
            "metadata": {
                "azdata_cell_guid": "6e06ecff-8beb-4508-94b1-926b597aa00e",
                "language": "sql"
            },
            "outputs": [],
            "execution_count": null
        },
        {
            "cell_type": "markdown",
            "source": [
                "# CHAP 4 -- NULL Trouble\n",
                "\n",
                "## My Answer:\n",
                "**Proposition:** Perform a deletion operation on the Sales.[Order] table to remove any orders where the CustomerId is NULL.\n",
                "\n",
                "**Table:** Sales.[Order]\n",
                "\n",
                "**Column:** CustomerId\n",
                "\n",
                "**Predicate:** \n",
                "```\n",
                "DELETE FROM Sales.[Order] WHERE CustomerId IS NULL;\n",
                "```\n",
                " This command deletes rows from the Sales.[Order] table where the CustomerId column is NULL.\n",
                "\n",
                ""
            ],
            "metadata": {
                "azdata_cell_guid": "a6085ebd-8553-450b-b4a2-d5e5cf180ca4",
                "language": "sql"
            },
            "attachments": {}
        },
        {
            "cell_type": "code",
            "source": [
                "-- Cleanup\n",
                "USE TSQLV6;\n",
                "DELETE FROM Sales.Orders WHERE custid IS NULL;\n",
                "SELECT custid from sales.orders\n",
                "ORDER By custid;\n",
                "\n",
                "USE Northwinds2022TSQLV7;\n",
                "DELETE FROM Sales.[Order] WHERE CustomerId IS NULL;\n",
                "-- Added this to show this are no CustomerId with NULL\n",
                "SELECT CustomerId from sales.[Order]\n",
                "ORDER By CustomerId;\n"
            ],
            "metadata": {
                "azdata_cell_guid": "770bc35f-773e-4ccb-9bd0-d731a56c02a0",
                "language": "sql"
            },
            "outputs": [],
            "execution_count": null
        },
        {
            "cell_type": "markdown",
            "source": [
                "# CHAP 4 -- Substitution Error in a Subquery Column Name\n",
                "\n",
                "## My Answer:\n",
                "**Proposition:** Create a table named 'MyShippers' in the Sales schema to store shipper information.\n",
                "\n",
                "**Table:** Sales.MyShippers\n",
                "\n",
                "**Columns:** ShipperId (INT, PRIMARY KEY), CompanyName (NVARCHAR(40)), Phone (NVARCHAR(24))\n",
                "\n",
                "**Predicate:** This script uses SQL statements to drop the 'MyShippers' table if it exists, then creates the table with specified columns and constraints, and finally inserts data into the table.\n"
            ],
            "metadata": {
                "azdata_cell_guid": "0de73abb-d0bc-4ad7-9ec1-eb294e3e93fe",
                "language": "sql"
            },
            "attachments": {}
        },
        {
            "cell_type": "code",
            "source": [
                "-- Create and populate table Sales.MyShippers\n",
                "\n",
                "USE TSQLV6;\n",
                "DROP TABLE IF EXISTS Sales.MyShippers;\n",
                "\n",
                "CREATE TABLE Sales.MyShippers\n",
                "(\n",
                "  shipper_id  INT          NOT NULL,\n",
                "  companyname NVARCHAR(40) NOT NULL,\n",
                "  phone       NVARCHAR(24) NOT NULL,\n",
                "  CONSTRAINT PK_MyShippers PRIMARY KEY(shipper_id)\n",
                ");\n",
                "\n",
                "INSERT INTO Sales.MyShippers(shipper_id, companyname, phone)\n",
                "  VALUES(1, N'Shipper GVSUA', N'(503) 555-0137'),\n",
                "\t      (2, N'Shipper ETYNR', N'(425) 555-0136'),\n",
                "\t\t\t\t(3, N'Shipper ZHISN', N'(415) 555-0138');\n",
                "\n",
                "Select shipper_id, companyname, phone\n",
                "FROM Sales.MyShippers;\n",
                "\n",
                "\n",
                "USE Northwinds2022TSQLV7;\n",
                "DROP TABLE IF EXISTS Sales.MyShippers;\n",
                "\n",
                "CREATE TABLE Sales.MyShippers\n",
                "(\n",
                "  ShipperId  INT          NOT NULL,\n",
                "  CompanyName NVARCHAR(40) NOT NULL,\n",
                "  Phone       NVARCHAR(24) NOT NULL,\n",
                "  CONSTRAINT PK_MyShippers PRIMARY KEY(ShipperId)\n",
                ");\n",
                "\n",
                "INSERT INTO Sales.MyShippers(ShipperId, CompanyName, Phone)\n",
                "  VALUES(1, N'Shipper GVSUA', N'(503) 555-0137'),\n",
                "\t      (2, N'Shipper ETYNR', N'(425) 555-0136'),\n",
                "\t\t\t\t(3, N'Shipper ZHISN', N'(415) 555-0138');\n",
                "-- Added this to show the ShipperId, CompanyName and Phone columns\n",
                "Select ShipperId, CompanyName, Phone\n",
                "FROM Sales.MyShippers;"
            ],
            "metadata": {
                "azdata_cell_guid": "2f07227d-36e5-47ec-8d46-abef9473faea",
                "language": "sql"
            },
            "outputs": [],
            "execution_count": null
        },
        {
            "cell_type": "markdown",
            "source": [
                "# CHAP 5 Exercise 5-2\n",
                "\n",
                "\\-- Write a query against Sales.VEmpOrders\n",
                "\n",
                "\\-- that returns the running qty for each employee and year\n",
                "\n",
                "\\-- Tables involved: TSQLV6 database, Sales.VEmpOrders view\n",
                "\n",
                "## My Answer:\n",
                "\n",
                "**Proposition:** Write a query that calculates the running total quantity (RunQty) for each employee's orders using the Sales.VEmpOrders view.\n",
                "\n",
                "**View:** Sales.VEmpOrders\n",
                "\n",
                "**Attributes:** EmployeeId, OrderYear, Qty from the Sales.VEmpOrders view.\n",
                "\n",
                "**Predicates:** This query has a subquery to calculate the running total quantity (RunQty) for each employee."
            ],
            "metadata": {
                "azdata_cell_guid": "b8007d56-e136-4f63-80e3-3d00a5eeeeda",
                "language": "sql"
            },
            "attachments": {}
        },
        {
            "cell_type": "code",
            "source": [
                "USE TSQLV6;\n",
                "SELECT empid, orderyear, qty,\n",
                "  (SELECT SUM(qty)\n",
                "   FROM  Sales.VEmpOrders AS V2\n",
                "   WHERE V2.empid = V1.empid\n",
                "     AND V2.orderyear <= V1.orderyear) AS runqty\n",
                "FROM  Sales.VEmpOrders AS V1\n",
                "ORDER BY empid;\n",
                "\n",
                "USE Northwinds2022TSQLV7;\n",
                "SELECT EmployeeId, OrderYear, Qty,\n",
                "  (SELECT SUM(Qty)\n",
                "   FROM  Sales.VEmpOrders AS V2\n",
                "   WHERE V2.EmployeeId = V1.EmployeeId\n",
                "     AND V2.OrderYear <= V1.OrderYear) AS RunQty\n",
                "FROM  Sales.VEmpOrders AS V1\n",
                "ORDER BY EmployeeId;\n",
                "\n",
                "\n"
            ],
            "metadata": {
                "azdata_cell_guid": "730ce8e8-d85e-418d-9dc4-01e0863447c8",
                "language": "sql"
            },
            "outputs": [],
            "execution_count": null
        },
        {
            "cell_type": "markdown",
            "source": [
                "# CHAP 5 -- Assigning Column Aliases\n",
                "\n",
                "## My Answer:\n",
                "**Proposition:** Write a query that counts the number of distinct customers for each year orders were placed.\n",
                "\n",
                "**Table:** Sales.[Order]\n",
                "\n",
                "**Columns:** OrderYear (derived from OrderDate), NumCusts (count of distinct CustomerId)\n",
                "\n",
                "**Predicate:** This query first extracts the year from the OrderDate column, then counts the distinct CustomerId for each year.\n",
                "\n",
                "<img src=\"https://static.vecteezy.com/system/resources/previews/022/841/114/non_2x/chatgpt-logo-transparent-background-free-png.png\" alt=\"AI\" width=\"20\" height=\"20\"> ChatGPT from OpenAI assisted me with explaination of operations to further understand this query"
            ],
            "metadata": {
                "azdata_cell_guid": "eb15e6b1-44bc-42ad-b32e-6eff0365773e",
                "language": "sql"
            },
            "attachments": {}
        },
        {
            "cell_type": "code",
            "source": [
                "Use TSQLV6;\n",
                "-- External column aliasing\n",
                "SELECT orderyear, COUNT(DISTINCT custid) AS numcusts\n",
                "FROM (SELECT YEAR(orderdate), custid\n",
                "      FROM Sales.Orders) AS D(orderyear, custid)\n",
                "GROUP BY orderyear;\n",
                "GO\n",
                "\n",
                "\n",
                "USE Northwinds2022TSQLV7;\n",
                "SELECT OrderYear, COUNT(DISTINCT CustomerId) AS NumCusts\n",
                "FROM (SELECT YEAR(OrderDate), CustomerId\n",
                "      FROM Sales.[Order]) AS D(OrderYear, CustomerId)\n",
                "GROUP BY OrderYear;\n",
                "GO\n"
            ],
            "metadata": {
                "azdata_cell_guid": "4f34f1c5-ebc7-4974-abd1-8abf244963a8",
                "language": "sql"
            },
            "outputs": [],
            "execution_count": null
        },
        {
            "cell_type": "markdown",
            "source": [
                "# CHAP 5 -- Multiple References\n",
                "\n",
                "## My Answer:\n",
                "\n",
                "**Proposition:** Write a query that compares the number of customers in each year to the previous year, showing the growth in the number of customers.\n",
                "\n",
                "\n",
                "**Table:** Sales.\\[Order\\]\n",
                "\n",
                "**Columns:** OrderYear (derived from OrderDate), CurNumCustomers (current year's count of distinct customers), PrvNumCustomers (previous year's count of distinct customers), and Growth (the difference in customer count between the current year and the previous year).\n",
                "\n",
                "**Predicate:** \n",
                "\n",
                "The CTE (Common Table Expression) named \"YearlyCount\" calculates the count of distinct customers for each year by extracting the year from the OrderDate and then counting the distinct CustomerId values.\n",
                "\n",
                "The main query joins the YearlyCount CTE with itself using a LEFT OUTER JOIN to compare the number of customers in the current year with the number in the previous year.\n",
                "\n",
                "\n",
                "<img src=\"https://static.vecteezy.com/system/resources/previews/022/841/114/non_2x/chatgpt-logo-transparent-background-free-png.png\" alt=\"AI\" width=\"20\" height=\"20\"> ChatGPT from OpenAI assisted me with explaination to further understand this query"
            ],
            "metadata": {
                "azdata_cell_guid": "cf7fd2ac-f608-49e3-a770-4b47e7a5506a",
                "language": "sql"
            },
            "attachments": {}
        },
        {
            "cell_type": "code",
            "source": [
                "USE TSQLV6;\n",
                "WITH YearlyCount AS\n",
                "(\n",
                "  SELECT YEAR(orderdate) AS orderyear,\n",
                "    COUNT(DISTINCT custid) AS numcusts\n",
                "  FROM Sales.Orders\n",
                "  GROUP BY YEAR(orderdate)\n",
                ")\n",
                "SELECT Cur.orderyear, \n",
                "  Cur.numcusts AS curnumcusts, Prv.numcusts AS prvnumcusts,\n",
                "  Cur.numcusts - Prv.numcusts AS growth\n",
                "FROM YearlyCount AS Cur\n",
                "  LEFT OUTER JOIN YearlyCount AS Prv\n",
                "    ON Cur.orderyear = Prv.orderyear + 1;\n",
                "\n",
                "\n",
                "USE Northwinds2022TSQLV7;\n",
                "WITH YearlyCount AS\n",
                "(\n",
                "  SELECT YEAR(OrderDate) AS OrderYear,\n",
                "    COUNT(DISTINCT CustomerId) AS NumCusts\n",
                "  FROM Sales.[Order]\n",
                "  GROUP BY YEAR(OrderDate)\n",
                ")\n",
                "SELECT Cur.OrderYear, \n",
                "  Cur.NumCusts AS CurNumCustomers, Prv.NumCusts AS PrvNumCustomers,\n",
                "  Cur.NumCusts - Prv.NumCusts AS Growth\n",
                "FROM YearlyCount AS Cur\n",
                "  LEFT OUTER JOIN YearlyCount AS Prv\n",
                "    ON Cur.OrderYear = Prv.OrderYear + 1;\n"
            ],
            "metadata": {
                "azdata_cell_guid": "e714fd65-8b7e-4dd7-94f1-156abf8f318e",
                "language": "sql"
            },
            "outputs": [],
            "execution_count": null
        },
        {
            "cell_type": "markdown",
            "source": [
                "# CHAP 5 -- Views and ORDER BY\n",
                "\n",
                "## My Answer:\n",
                "**Proposition:** Write a query that selects all customers located in the USA, ordered by region.\n",
                "\n",
                "**Table:** Sales.Customer\n",
                "\n",
                "**Columns:** CustomerId, CustomerCompanyName, CustomerContactName, CustomerContactTitle, CustomerAddress, CustomerCity, CustomerRegion, CustomerPostalCode, CustomerCountry, CustomerPhoneNumber, CustomerFaxNumber\n",
                "\n",
                "**Predicate:** \n",
                "```\n",
                "WHERE CustomerCountry = N'USA'\n",
                "```\n",
                "\n",
                "This WHERE clause filters the Sales.Customer table to only return rows where the CustomerCountry is 'USA'."
            ],
            "metadata": {
                "azdata_cell_guid": "b21bad8d-71f0-49ea-ad0d-8609c56a3347",
                "language": "sql"
            },
            "attachments": {}
        },
        {
            "cell_type": "code",
            "source": [
                "USE TSQLV6;\n",
                "SELECT TOP (100) PERCENT\n",
                "  custid, companyname, contactname, contacttitle,\n",
                "  city, region, postalcode, country, phone, fax\n",
                "FROM Sales.Customers\n",
                "WHERE country = N'USA'\n",
                "ORDER BY region;\n",
                "GO\n",
                "\n",
                "\n",
                "USE Northwinds2022TSQLV7;\n",
                "SELECT TOP (100) PERCENT\n",
                "  CustomerId, CustomerCompanyName, CustomerContactName, CustomerContactTitle, CustomerAddress,\n",
                "  CustomerCity, CustomerRegion, CustomerPostalCode, CustomerCountry, CustomerPhoneNumber, CustomerFaxNumber\n",
                "FROM Sales.Customer\n",
                "WHERE CustomerCountry = N'USA'\n",
                "ORDER BY CustomerRegion;\n",
                "GO\n",
                ""
            ],
            "metadata": {
                "azdata_cell_guid": "33c121a1-7c69-4254-8935-ade108dbd578",
                "language": "sql"
            },
            "outputs": [],
            "execution_count": null
        },
        {
            "cell_type": "markdown",
            "source": [
                "# CHAP 5 -- ENCRYPTION\n",
                "\n",
                "## My Answer:\n",
                "\n",
                "**Proposition:** Retrieve the definition of the 'USACusts' view in the Sales schema.\n",
                "\n",
                "**View:** Sales.USACusts \n",
                "\n",
                "**Columns:** None referenced\n",
                "\n",
                "**Predicate:** OBJECT\\_DEFINITION(OBJECT\\_ID('Sales.USACusts')). This retrieves the definition of the view named 'USACusts' in the Sales schema.\n",
                "\n",
                "<img src=\"https://static.vecteezy.com/system/resources/previews/022/841/114/non_2x/chatgpt-logo-transparent-background-free-png.png\" alt=\"AI\" width=\"20\" height=\"20\"> ChatGPT from OpenAI assisted me with explaination of operations to further understand this query"
            ],
            "metadata": {
                "azdata_cell_guid": "eca05e36-a7bd-493e-8dc7-ee642faaba4b",
                "language": "sql"
            },
            "attachments": {}
        },
        {
            "cell_type": "code",
            "source": [
                "USE TSQLV6;\n",
                "SELECT OBJECT_DEFINITION(OBJECT_ID('Sales.USACusts'));\n",
                "GO\n",
                "\n",
                "\n",
                "USE Northwinds2022TSQLV7;\n",
                "SELECT OBJECT_DEFINITION(OBJECT_ID('Sales.USACusts'));\n",
                "GO\n"
            ],
            "metadata": {
                "azdata_cell_guid": "3add1ccf-573a-4446-9fd9-fbf35321bb29",
                "language": "sql"
            },
            "outputs": [],
            "execution_count": null
        },
        {
            "cell_type": "markdown",
            "source": [
                "# CHAP 5 -- SCHEMABINDING\n",
                "\n",
                "## My Answer:\n",
                "\n",
                "**Proposition:** Drop the column CustomerAddress from the Sales.Customer table.\n",
                "\n",
                "**Table:** Sales.Customer\n",
                "\n",
                "**Predicate:** The DROP operation intends to remove the CustomerAddress column from the Sales.Customer table.\n",
                "\n",
                "**Trying the schema change:**\n",
                "\n",
                "I am able to drop the TSQLV6 Database column named address in table Sales.Customers but I am not able to drop the Northwinds2022TSQLV7 Database column named CustomerAddress in table Sales.Customer because the object 'USACusts' is dependent on column 'CustomerAddress' and ALTER TABLE DROP COLUMN CustomerAddress failed because one or more objects access this column."
            ],
            "metadata": {
                "azdata_cell_guid": "5c1c10d9-7476-4e92-98a0-c2a934894e85",
                "language": "sql"
            },
            "attachments": {}
        },
        {
            "cell_type": "code",
            "source": [
                "\n",
                "USE TSQLV6;\n",
                "\n",
                "-- Try a schema change\n",
                "\n",
                "ALTER TABLE Sales.Customers DROP COLUMN address;\n",
                "\n",
                "GO\n",
                "\n",
                "\n",
                "USE Northwinds2022TSQLV7;\n",
                "ALTER TABLE Sales.Customer DROP COLUMN CustomerAddress;\n",
                "\n",
                "GO"
            ],
            "metadata": {
                "azdata_cell_guid": "cda2e8d4-d7e3-4cf0-ba36-17e9c923243b",
                "language": "sql",
                "tags": []
            },
            "outputs": [],
            "execution_count": null
        },
        {
            "cell_type": "markdown",
            "source": [
                "# CHAP 5 -- CHECK OPTION\n",
                "\n",
                "## My Answer:\n",
                "\n",
                "**TSQLV6:** I can't insert a row through the view because the column address doesn't exist in Sales.Customers table. Views display data from one or more tables. Depending on the view definition it may not include all the columns from the table. In this case, the View Sales.USACusts definition does include address but the column adress was dropped in Sales.Customers.\n",
                "\n",
                "Instead of inserting in the view you can insert it in the table itself with out using the column address:\n",
                "\n",
                "```\n",
                "INSERT INTO Sales.Customers (companyname, contactname, contacttitle, address, city, region, postalcode, country, phone, fax)\n",
                "VALUES (N'Customer FGHIJ', N'Contact FGHIJ', N'Title FGHIJ', N'Address FGHIJ', N'London', NULL, N'12345', N'UK', N'012-3456789', N'012-3456789');\n",
                "\n",
                "```\n",
                "\n",
                "**Northwinds2022TSQLV7:**\n",
                "\n",
                "**Proposition:** Insert a row into the Sales.USACusts view with specified values for customer-related columns.\n",
                "\n",
                "**View:** Sales.USACusts\n",
                "\n",
                "**Columns:** CustomerCompanyName, CustomerContactName, CustomerContactTitle, CustomerAddress, CustomerCity, CustomerRegion, CustomerPostalCode, CustomerCountry, CustomerPhoneNumber, CustomerFaxNumber\n",
                "\n",
                "**Predicate:** The INSERT INTO operation aims to insert a new row into the Sales.USACusts view with specific values for customer-related columns.\n",
                "\n",
                "Since CustomerAddress still exists in table Sales.Customer from view Sales.USACusts due to not being able to drop the Northwinds2022TSQLV7 Database column named CustomerAddress in table Sales.Customer because the object 'USACusts' is dependent on column 'CustomerAddress' and ALTER TABLE DROP COLUMN CustomerAddress failed because one or more objects access this column. So I am able to insert a row through the view."
            ],
            "metadata": {
                "azdata_cell_guid": "08142adf-32f9-4c10-b74b-1a1bda693f8b",
                "language": "sql"
            },
            "attachments": {}
        },
        {
            "cell_type": "code",
            "source": [
                "/*USE TSQLV6;\n",
                "-- Notice that you can't insert a row through the view\n",
                "\n",
                "INSERT INTO Sales.USACusts(\n",
                "  companyname, contactname, contacttitle,\n",
                "  city, region, postalcode, country, phone, fax)\n",
                " VALUES(\n",
                "  N'Customer FGHIJ', N'Contact FGHIJ', N'Title FGHIJ', \n",
                "  N'London', NULL, N'12345', N'UK', N'012-3456789', N'012-3456789');\n",
                "\n",
                "GO\n",
                "*/\n",
                "\n",
                "USE Northwinds2022TSQLV7;\n",
                "INSERT INTO Sales.USACusts(\n",
                "  CustomerCompanyName, CustomerContactName, CustomerContactTitle, CustomerAddress,\n",
                "  CustomerCity, CustomerRegion, CustomerPostalCode, CustomerCountry, CustomerPhoneNumber, CustomerFaxNumber)\n",
                " VALUES(\n",
                "  N'Customer FGHIJ', N'Contact FGHIJ', N'Title FGHIJ', N'Address FGHIJ',\n",
                "  N'London', NULL, N'12345', N'UK', N'012-3456789', N'012-3456789');\n",
                "\n",
                "GO\n",
                ""
            ],
            "metadata": {
                "azdata_cell_guid": "5a927ba7-1bdd-4cbd-935c-1c45d5c1d6f3",
                "language": "sql",
                "tags": []
            },
            "outputs": [],
            "execution_count": null
        },
        {
            "cell_type": "markdown",
            "source": [
                "# CHAP 5 -- Inline User Defined Functions\n",
                "\n",
                "## My Answer:\n",
                "**Proposition:** Drop the function named 'GetCustOrders' if it exists in the dbo schema.\n",
                "\n",
                "**Function:** dbo.GetCustOrders\n",
                "\n",
                "**Columns:** None referenced\n",
                "\n",
                "**Predicate:** DROP FUNCTION IF EXISTS dbo.GetCustOrders. This command drops the function named 'GetCustOrders' from the dbo schema if it exists."
            ],
            "metadata": {
                "azdata_cell_guid": "3fab7ea6-3bdb-40ba-9d69-1ca25d8e629f",
                "language": "sql"
            },
            "attachments": {}
        },
        {
            "cell_type": "code",
            "source": [
                "-- cleans up function dbo.GetCustOrders\n",
                "\n",
                "USE TSQLV6;\n",
                "DROP FUNCTION IF EXISTS dbo.GetCustOrders;\n",
                "GO\n",
                "\n",
                "\n",
                "USE Northwinds2022TSQLV7;\n",
                "DROP FUNCTION IF EXISTS dbo.GetCustOrders;\n",
                "GO\n"
            ],
            "metadata": {
                "azdata_cell_guid": "29638172-2107-44d4-abc2-64d23152e2f1",
                "language": "sql"
            },
            "outputs": [],
            "execution_count": null
        }
    ]
}