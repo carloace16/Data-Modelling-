{
    "metadata": {
        "kernelspec": {
            "name": "SQL",
            "display_name": "SQL",
            "language": "sql"
        },
        "language_info": {
            "name": "sql",
            "version": ""
        }
    },
    "nbformat_minor": 2,
    "nbformat": 4,
    "cells": [
        {
            "cell_type": "markdown",
            "source": [
                "# **Top 5 Queries**\n",
                "## **Question 5 (Chapter 04 - Subqueries - Exercises)**\n",
                "\n",
                "PROPOSITION: Returns the latest order details for each customer.\n",
                "\n",
                "TABLES: This query uses the table Sales.Order table. \n",
                "\n",
                "COLUMNS: CustomerId, OrderId, OrderDate, EmployeeId are columns used from the Sales.Order table in this query.\n",
                "\n",
                "PREDICATE: \n",
                " The WHERE clause filters rows based on the condition that the OrderDate matches the maximum order date for each customer, determined by the subquery. This subquery correlates with the outer query by referencing CustomerId and selects the maximum OrderDate for each customer. By doing so, it ensures that only orders with the latest OrderDate for each customer are included in the result set.\n",
                "\n",
                "*This query is special because it uses the MAX () aggregate function within a subquery for filtering the order dates.*\n",
                ""
            ],
            "metadata": {
                "azdata_cell_guid": "931815fb-4852-490d-a8f5-2ba6c45157da"
            },
            "attachments": {}
        },
        {
            "cell_type": "code",
            "source": [
                "USE TSQLV6;\n",
                "\n",
                "SELECT custid, orderid, orderdate, empid\n",
                "FROM Sales.Orders AS O1\n",
                "WHERE orderdate =\n",
                "  (SELECT MAX(O2.orderdate)\n",
                "   FROM Sales.Orders AS O2\n",
                "   WHERE O2.custid = O1.custid)\n",
                "ORDER BY custid;\n",
                "\n",
                "USE Northwinds2022TSQLV7;\n",
                "\n",
                "SELECT CustomerId, OrderId, OrderDate, EmployeeId\n",
                "FROM Sales.[Order] AS O1\n",
                "WHERE OrderDate =\n",
                "  (SELECT MAX(O2.OrderDate)\n",
                "   FROM Sales.[Order] AS O2\n",
                "   WHERE O2.CustomerId = O1.CustomerId)\n",
                "ORDER BY CustomerId;"
            ],
            "metadata": {
                "azdata_cell_guid": "fbd67838-f1b6-43d4-9400-0308bee66afb",
                "language": "sql"
            },
            "outputs": [],
            "execution_count": null
        },
        {
            "cell_type": "markdown",
            "source": [
                "## **Question 2-2 (Chapter 05 - Table Expressions - Exercises)**\n",
                "\n",
                "PROPOSITION: Returns the latest order details for each employee.\n",
                "\n",
                "TABLES: This query uses the Sales.Order table.\n",
                "\n",
                "COLUMNS: EmployeeId, OrderDate, OrderId, CustomerId columns from Sales.Order table.\n",
                "\n",
                "PREDICATE: The query employs an inner join operation with a derived table (as D) that calculates the maximum order date (maxorderdate) for each employee. This derived table is obtained by grouping orders by EmployeeId and computing the maximum order date for each group. Then, the main query joins the Sales.Order table with this derived table on EmployeeId and OrderDate, so that only the rows corresponding to the latest order placed by each employee are included in the result set. \n",
                "\n",
                "*This query is special because it implements an inner join for a subquery.*"
            ],
            "metadata": {
                "azdata_cell_guid": "f730051a-0d5b-4b7d-ab2b-082e63a3bd44"
            },
            "attachments": {}
        },
        {
            "cell_type": "code",
            "source": [
                "USE TSQLV6;\n",
                "\n",
                "SELECT O.empid, O.orderdate, O.orderid, O.custid\n",
                "FROM Sales.Orders AS O\n",
                "  INNER JOIN (SELECT empid, MAX(orderdate) AS maxorderdate\n",
                "              FROM Sales.Orders\n",
                "              GROUP BY empid) AS D\n",
                "    ON O.empid = D.empid\n",
                "    AND O.orderdate = D.maxorderdate;\n",
                "\n",
                "\n",
                "USE Northwinds2022TSQLV7;\n",
                "\n",
                "SELECT O.EmployeeId, O.OrderDate, O.OrderId, O.CustomerId\n",
                "FROM Sales.[Order] AS O\n",
                "  INNER JOIN (SELECT EmployeeId, MAX(OrderDate) AS maxorderdate\n",
                "              FROM Sales.[Order]\n",
                "              GROUP BY EmployeeId) AS D\n",
                "    ON O.EmployeeId = D.EmployeeId\n",
                "    AND O.OrderDate = D.maxorderdate;\n",
                ""
            ],
            "metadata": {
                "azdata_cell_guid": "51be627e-7d31-4638-bfb7-599e53766fa8",
                "language": "sql"
            },
            "outputs": [],
            "execution_count": null
        },
        {
            "cell_type": "markdown",
            "source": [
                "## **Query (Chapter 04 - Subqueries)**\n",
                "\n",
                "PROPOSITION: Returns the total quantity of orders per year.\n",
                "\n",
                "TABLES/VIEWS: This query uses the Sales.OrderTotalsByYear view. This view extracts data from the Sales.Order table and joins with the Sales.OrderDetail table.\n",
                "\n",
                "COLUMNS: OrderYear and Quantity columns from the Sales.OrderTotalsByYear view.\n",
                "\n",
                "PREDICATE: The query directly retrieves data regarding the total quantity of orders placed per year from the Sales.OrderTotalsByYear table. The ORDER BY clause orders the year of the order in ascending order.\n",
                "\n",
                "*This query is special because the Sales.OrderTotalsByYear view is a presentation of data as two tables as shown above is joined together.*"
            ],
            "metadata": {
                "azdata_cell_guid": "e63227ee-903b-4778-82da-b7ef2a64c491"
            },
            "attachments": {}
        },
        {
            "cell_type": "code",
            "source": [
                "USE TSQLV6;\n",
                "\n",
                "SELECT orderyear, qty\n",
                "FROM Sales.OrderTotalsByYear\n",
                "ORDER BY orderyear;\n",
                "\n",
                "USE Northwinds2022TSQLV7;\n",
                "\n",
                "SELECT OrderYear, Quantity\n",
                "FROM Sales.OrderTotalsByYear\n",
                "ORDER BY OrderYear;"
            ],
            "metadata": {
                "azdata_cell_guid": "b8bc0618-7179-4d7b-8240-e5011da0e7d2",
                "language": "sql"
            },
            "outputs": [],
            "execution_count": null
        },
        {
            "cell_type": "markdown",
            "source": [
                "## **Query (Chapter 05 - Table Expressions)**\n",
                "\n",
                "PROPOSITION: Returns customers details from the Sales.USACusts view.\n",
                "\n",
                "TABLES/VIEWS: This query uses the Sales.USACusts view. This view extracts data from the Sales.Customer table. \n",
                "\n",
                "COLUMNS: CustomerId, CustomerCompanyName, and CustomerRegion columns from the Sales.USACusts view.\n",
                "\n",
                "PREDICATE: This query simply retrieves data from the Sales.USACusts table regarding customers without applying any conditions or filters since Sales.USACusts view already filters the customers from the Sales.Customer table to be only from USA.\n",
                "\n",
                "*This query is special because Sales.USACusts view already filters the customers from the Sales.Customer table to be only from USA so no filtering is needed in this code. This simplification of code within the query by implementing the view was fascinating to me.*\n",
                "\n",
                "*<img src=\"https://static.vecteezy.com/system/resources/previews/022/841/114/non_2x/chatgpt-logo-transparent-background-free-png.png\" alt=\"AI\" width=\"20\" height=\"20\"> Written in collaboration with ChatGPT from OpenAI to improve understanding and assist with the explanation of the query*"
            ],
            "metadata": {
                "azdata_cell_guid": "a7428171-2836-4bad-b0fe-5b2dc2a7d670"
            },
            "attachments": {}
        },
        {
            "cell_type": "code",
            "source": [
                "USE TSQLV6;\n",
                "\n",
                "SELECT custid, companyname, region\n",
                "FROM Sales.USACusts;\n",
                "GO\n",
                "\n",
                "\n",
                "USE Northwinds2022TSQLV7;\n",
                "\n",
                "SELECT CustomerId, CustomerCompanyName, CustomerRegion\n",
                "FROM Sales.USACusts;\n",
                "GO "
            ],
            "metadata": {
                "azdata_cell_guid": "03a679da-69d9-483c-b6bd-690f5ad93498",
                "language": "sql"
            },
            "outputs": [],
            "execution_count": null
        },
        {
            "cell_type": "markdown",
            "source": [
                "## **Query (Chapter 05- Table Expressions)**\n",
                "\n",
                "PROPOSITION: Returns customer information for a specific customer company.\n",
                "\n",
                "TABLES: The query uses the Sales.Customer table.\n",
                "\n",
                "COLUMNS: The columns used are CustomerId, CustomerCompanyName, and CustomerCountry from the Sales.Customer table.\n",
                "\n",
                "PREDICATE: The SELECT statement retrieves the CustomerId, CustomerCompanyName, and CustomerCountry columns from the rows that meet the specified condition in the WHERE clause. This WHERE clause is used filtering for a specific customer company (CustomerCompanyName) with the name 'Customer EEALV'.\n",
                "\n",
                "NOTE: Original query imposed Customer ABCDE, however, that does exist in the Sales.Customer table. However, Customer EEALV does exist within the Sales.Customer table so it shows an output of the given Customer(CustomerId), the name of the company (CustomerCompanyName), and the country of the customer (CustomerCountry).\n",
                "\n",
                "*This code is special because it can return customer information of any customer within the Sales.Customer table.*"
            ],
            "metadata": {
                "azdata_cell_guid": "56613ad9-c6cf-4515-b502-d763556f259b"
            },
            "attachments": {}
        },
        {
            "cell_type": "code",
            "source": [
                "USE TSQLV6;\n",
                "\n",
                "SELECT custid, companyname, country\n",
                "FROM Sales.Customers\n",
                "WHERE companyname = N'Customer EEALV';\n",
                "GO\n",
                "\n",
                "\n",
                "USE Northwinds2022TSQLV7;\n",
                "\n",
                "SELECT CustomerId, CustomerCompanyName, CustomerCountry\n",
                "FROM Sales.Customer\n",
                "WHERE CustomerCompanyName = N'Customer EEALV';\n",
                "GO"
            ],
            "metadata": {
                "azdata_cell_guid": "ea6a5c8b-ab89-4723-a327-8bd9f1790a82",
                "language": "sql"
            },
            "outputs": [],
            "execution_count": null
        },
        {
            "cell_type": "markdown",
            "source": [
                "# **Chapter 04 - Subqueries - Exercises**\n",
                "## **Question 8**\n",
                "\n",
                "PROPOSITION: Creates or updates a query to retrieve cumulative quantity ordered by customers over time.\n",
                "\n",
                "TABLES/VIEWS: This query is using the Sales.CustOrders view. This view extracts data from the Sales.Order table and joins with the Sales.OrderDetail table.\n",
                "\n",
                "COLUMNS: CustomerId, OrderMonth, Quantity are columns used from the Sales.CustOrders view in this query.\n",
                "\n",
                "PREDICATE: In this query, the primary clause is a correlated subquery, which is nested within the main SELECT statement. This subquery serves to compute the cumulative quantity of orders (RunQuantity) for each row in the outer query. Within the subquery, the condition O2.CustomerId = O1.CustomerId establishes a correlation between the outer and inner queries, ensuring that the cumulative sum is calculated specifically for the corresponding customer. Additionally, the clause O2.OrderMonth <= O1.OrderMonth restricts the summation to include only those orders that occurred on or before the current OrderMonth in the outer query.\n",
                "\n",
                "*<img src=\"https://static.vecteezy.com/system/resources/previews/022/841/114/non_2x/chatgpt-logo-transparent-background-free-png.png\" alt=\"AI\" width=\"20\" height=\"20\"> Written in collaboration with ChatGPT from OpenAI to improve understanding and assist with the explanation of the query*\n",
                ""
            ],
            "metadata": {
                "azdata_cell_guid": "59ca7684-26d1-4c4a-9850-7319f3eede22"
            },
            "attachments": {}
        },
        {
            "cell_type": "code",
            "source": [
                "USE TSQLV6;\n",
                "\n",
                "SELECT custid, ordermonth, qty,\n",
                "  (SELECT SUM(O2.qty)\n",
                "   FROM Sales.CustOrders AS O2\n",
                "   WHERE O2.custid = O1.custid\n",
                "     AND O2.ordermonth <= O1.ordermonth) AS runqty\n",
                "FROM Sales.CustOrders AS O1\n",
                "ORDER BY custid, ordermonth;\n",
                "\n",
                "\n",
                "USE Northwinds2022TSQLV7;\n",
                "\n",
                "SELECT CustomerId, OrderMonth, Quantity,\n",
                "  (SELECT SUM(O2.Quantity)\n",
                "   FROM Sales.CustOrders AS O2\n",
                "   WHERE O2.CustomerId = O1.CustomerId\n",
                "     AND O2.OrderMonth <= O1.OrderMonth) AS RunQuantity\n",
                "FROM Sales.CustOrders AS O1\n",
                "ORDER BY CustomerId, OrderMonth; \n",
                "\n",
                ""
            ],
            "metadata": {
                "azdata_cell_guid": "db04c8fb-395c-49a6-99e7-4bda0ca3ffce",
                "language": "sql",
                "tags": []
            },
            "outputs": [],
            "execution_count": null
        },
        {
            "cell_type": "markdown",
            "source": [
                "# **Chapter 04 - Subqueries**\n",
                "\n",
                "## **Query**\n",
                "\n",
                "PROPOSITION: Returns the OrderId for orders handled by employees whose last names start with 'C'.\n",
                "\n",
                "TABLES: This query uses the Sales.Order and HumanResources.Employee tables.\n",
                "\n",
                "COLUMNS: OrderId column from Sales.Order table. EmployeeId and EmployeeLastName columns from the HumanResources.Employee table.\n",
                "\n",
                "PREDICATE: In this query, within the Sales.Order table, the OrderId field is selected. Then a subquery is employed which is facilitated by the WHERE clause. The WHERE clause is used to filter for the HumanResources.Employee table. This subquery isolates relevant EmployeeIds based on the condition that their last names start with 'C'. The main query uses a WHERE clause to match the EmployeeId field from the Sales.Order table against the set of filtered EmployeeIds obtained from the subquery.\n",
                "\n",
                "NOTE: There is no employee with a last name that contains D as presented in the initial query , thus, I have swapped it with C. I can see the following OrderIds for the employees that contain the letter C in their last name."
            ],
            "metadata": {
                "azdata_cell_guid": "05de0f1d-7ff7-43a7-814a-305da1a240f9"
            },
            "attachments": {}
        },
        {
            "cell_type": "code",
            "source": [
                "USE TSQLV6;\n",
                "\n",
                "SELECT orderid\n",
                "FROM Sales.Orders\n",
                "WHERE empid = \n",
                "  (SELECT E.empid\n",
                "   FROM HR.Employees AS E\n",
                "   WHERE E.lastname LIKE N'C%');\n",
                "\n",
                "USE Northwinds2022TSQLV7;\n",
                "\n",
                "SELECT OrderId\n",
                "FROM Sales.[Order]\n",
                "WHERE EmployeeId = \n",
                "  (SELECT E.EmployeeId\n",
                "   FROM HumanResources.Employee AS E\n",
                "   WHERE E.EmployeeLastName LIKE N'C%');"
            ],
            "metadata": {
                "azdata_cell_guid": "75cb3e0c-46d0-476f-bb7a-bc63b169d723",
                "language": "sql"
            },
            "outputs": [],
            "execution_count": null
        },
        {
            "cell_type": "markdown",
            "source": [
                "## **Query**\n",
                "\n",
                "PROPOSITION: Returns a list of customers who have not placed any orders with their respective company name.\n",
                "\n",
                "TABLES: This query uses the Sales.Customer and Sales.Order tables.\n",
                "\n",
                "COLUMNS: CustomerId, CustomerCompanyName columns from Sales.Customer table. CustomerId column from Sales.Order table. \n",
                "\n",
                "PREDICATE: In this query, the main query selects CustomerId and CustomerCompanyName from the Sales.Customer table. The WHERE clause contains a subquery that selects CustomerId entries from the Sales.Order table. This subquery identifies customers who have placed orders. By using the NOT IN operator, the main query filters out CustomerIds returned by the subquery, in which a list of customers who have not placed any orders is retrieved.\n",
                "\n",
                "*<img src=\"https://static.vecteezy.com/system/resources/previews/022/841/114/non_2x/chatgpt-logo-transparent-background-free-png.png\" alt=\"AI\" width=\"20\" height=\"20\"> Written in collaboration with ChatGPT from OpenAI to improve understanding and assist with the explanation of the query*"
            ],
            "metadata": {
                "azdata_cell_guid": "131ee244-ba22-4336-a895-fc00ade630a6"
            },
            "attachments": {}
        },
        {
            "cell_type": "code",
            "source": [
                "USE TSQLV6;\n",
                "\n",
                "SELECT custid, companyname\n",
                "FROM Sales.Customers\n",
                "WHERE custid NOT IN\n",
                "  (SELECT O.custid\n",
                "   FROM Sales.Orders AS O);\n",
                "\n",
                "USE Northwinds2022TSQLV7;\n",
                "\n",
                "SELECT CustomerId, CustomerCompanyName\n",
                "FROM Sales.Customer\n",
                "WHERE CustomerId NOT IN\n",
                "  (SELECT O.CustomerId\n",
                "   FROM Sales.[Order] AS O);\n",
                ""
            ],
            "metadata": {
                "azdata_cell_guid": "74c6ca52-43da-4f3b-822e-af736fb20077",
                "language": "sql"
            },
            "outputs": [],
            "execution_count": null
        },
        {
            "cell_type": "markdown",
            "source": [
                "## **Query** \n",
                "\n",
                "PROPOSITION: Returns the orders, customers, and their percentage contribution to total order values.\n",
                "\n",
                "TABLES/VIEWS: This query uses the view Sales.OrderValues. This view extracts data from the Sales.Order table and joins with the Sales.OrderDetail table.\n",
                "\n",
                "COLUMNS: OrderId, CustomerId, Val, Pct are columns from Sales.OrderValues view. \n",
                "\n",
                "PREDICATE: The main query divides the order value (Val) by the total order values for the corresponding customer and multiplies by 100 to get the percentage. The result is then rounded to two decimal places using the NUMERIC(5,2) data type. Then, the main query uses a subquery to compute the total order values per customer. The WHERE clause in the subquery is used for filtering as only rows where the CustomerId (as O2.CustomerId) matches the CustomerId of the current row being processed in the main query (as O1.CustomerId) are considered. Finally, the results are ordered by CustomerId and then by OrderId.\n",
                "\n",
                "*<img src=\"https://static.vecteezy.com/system/resources/previews/022/841/114/non_2x/chatgpt-logo-transparent-background-free-png.png\" alt=\"AI\" width=\"20\" height=\"20\"> Written in collaboration with ChatGPT from OpenAI to improve understanding and assist with the explanation of the query*"
            ],
            "metadata": {
                "azdata_cell_guid": "7fc075e2-4b79-4edb-90e0-836d6a2a4e01"
            },
            "attachments": {}
        },
        {
            "cell_type": "code",
            "source": [
                "USE TSQLV6;\n",
                "\n",
                "SELECT orderid, custid, val,\n",
                "  CAST(100. * val / (SELECT SUM(O2.val)\n",
                "                     FROM Sales.OrderValues AS O2\n",
                "                     WHERE O2.custid = O1.custid)\n",
                "       AS NUMERIC(5,2)) AS pct\n",
                "FROM Sales.OrderValues AS O1\n",
                "ORDER BY custid, orderid;\n",
                "\n",
                "\n",
                "USE Northwinds2022TSQLV7;\n",
                "\n",
                "SELECT OrderId, CustomerId, Val,\n",
                "  CAST(100. * Val / (SELECT SUM(O2.Val)\n",
                "                     FROM Sales.OrderValues AS O2\n",
                "                     WHERE O2.CustomerId = O1.CustomerId)\n",
                "       AS NUMERIC(5,2)) AS Pct\n",
                "FROM Sales.OrderValues AS O1\n",
                "ORDER BY CustomerId, OrderId; \n",
                "\n",
                ""
            ],
            "metadata": {
                "azdata_cell_guid": "623a7fac-c411-435e-aa2f-7038b2f1506c",
                "language": "sql"
            },
            "outputs": [],
            "execution_count": null
        },
        {
            "cell_type": "markdown",
            "source": [
                "## **Query**\n",
                "\n",
                "PROPOSITION: Returns a list of customers who have not placed any orders with their respective company name.\n",
                "\n",
                "TABLES: This query uses Sales.Customer and Sales.Order tables.\n",
                "\n",
                "COLUMNS: CustomerId and CustomerCompanyName columns from Sales.Customer table. CustomerId column from Sales.Order table\n",
                "\n",
                "PREDICATE: The main query selects CustomerId and CustomerCompanyName from the Sales.Customer table. The WHERE clause contains a subquery that selects CustomerId entries from the Sales. Order table where the CustomerId is not NULL. This subquery identifies customers who have placed orders so the NOT IN operator is used in the main query to filter out CustomerIds returned by the subquery, in which a list of customers who have not placed any orders are retrieved. \n",
                ""
            ],
            "metadata": {
                "azdata_cell_guid": "6d4192e8-5054-4fd5-8b02-9b1deb621fea"
            },
            "attachments": {}
        },
        {
            "cell_type": "code",
            "source": [
                "USE TSQLV6;\n",
                "\n",
                "SELECT custid, companyname\n",
                "FROM Sales.Customers\n",
                "WHERE custid NOT IN(SELECT O.custid \n",
                "                    FROM Sales.Orders AS O\n",
                "                    WHERE O.custid IS NOT NULL);\n",
                "\n",
                "\n",
                "USE Northwinds2022TSQLV7;\n",
                "\n",
                "SELECT CustomerId, CustomerCompanyName\n",
                "FROM Sales.Customer\n",
                "WHERE CustomerId NOT IN(SELECT O.CustomerId \n",
                "                    FROM Sales.[Order] AS O\n",
                "                    WHERE O.CustomerId IS NOT NULL);\n",
                ""
            ],
            "metadata": {
                "azdata_cell_guid": "610baded-5ad0-47ae-a5ce-f35efe3f4ff0",
                "language": "sql"
            },
            "outputs": [],
            "execution_count": null
        },
        {
            "cell_type": "markdown",
            "source": [
                "## **Query** \n",
                "\n",
                "PROPOSITION: Returns a list of shippers associated with orders placed by a specific customer.\n",
                "\n",
                "TABLES: This query uses the Sales.Shipper and Sales.Order tables.\n",
                "\n",
                "COLUMNS: ShipperId and ShipperCompanyName columns from Sales.Shipper table. ShipperId and CustomerId columns from Sales.Order table. \n",
                "\n",
                "PREDICATE: The main query selects ShipperId and ShipperCompanyName from the Sales.Shipper table. The WHERE clause contains a subquery that selects ShipperId entries from the Sales.Order table, filtered by orders where the CustomerId equals 43. This subquery identifies shippers associated with orders placed by a specific customer. The main query then retrieves shippers whose ShipperId matches any ShipperId returned by the subquery.\n",
                ""
            ],
            "metadata": {
                "azdata_cell_guid": "0560af38-42c9-47c9-bac5-55f84e02dfbf"
            },
            "attachments": {}
        },
        {
            "cell_type": "code",
            "source": [
                "USE TSQLV6;\n",
                "\n",
                "SELECT shipperid, companyname\n",
                "FROM Sales.Shippers\n",
                "WHERE shipperid IN\n",
                "  (SELECT O.shipperid\n",
                "   FROM Sales.Orders AS O\n",
                "   WHERE O.custid = 43);\n",
                "\n",
                "\n",
                "USE Northwinds2022TSQLV7;\n",
                "\n",
                "SELECT ShipperId, ShipperCompanyName\n",
                "FROM Sales.Shipper\n",
                "WHERE ShipperId IN\n",
                "  (SELECT O.ShipperId\n",
                "   FROM Sales.[Order] AS O\n",
                "   WHERE O.CustomerId = 43);\n",
                ""
            ],
            "metadata": {
                "azdata_cell_guid": "d59f646c-cbd5-499e-a4b1-004e986dab06",
                "language": "sql"
            },
            "outputs": [],
            "execution_count": null
        },
        {
            "cell_type": "markdown",
            "source": [
                "# **Chapter 05 - Table Expressions - Exercises**\n",
                "## **Question 2-1**\n",
                "\n",
                "PROPOSITION: Returns the most recent order date for each employee.\n",
                "\n",
                "TABLES: This query uses the Sales.Order table.\n",
                "\n",
                "COLUMNS: EmployeeId column from the Sales.Order table. MaxOrderDate is aliased from the aggregate max function of  the OrderDate column which is from the Sales.Order table. \n",
                "\n",
                "PREDICATE: This query uses the GROUP BY clause to group the orders by EmployeeId. By applying the MAX() function to the OrderDate column, it determines the maximum order date for each employee. \n",
                ""
            ],
            "metadata": {
                "azdata_cell_guid": "afd7bf29-44f5-407a-8469-44620e19a581"
            },
            "attachments": {}
        },
        {
            "cell_type": "code",
            "source": [
                "USE TSQLV6;\n",
                "\n",
                "SELECT empid, MAX(orderdate) AS maxorderdate\n",
                "FROM Sales.Orders\n",
                "GROUP BY empid;\n",
                "\n",
                "\n",
                "USE Northwinds2022TSQLV7;\n",
                "\n",
                "SELECT EmployeeId, MAX(OrderDate) AS MaxOrderDate\n",
                "FROM Sales.[Order]\n",
                "GROUP BY EmployeeId;\n",
                ""
            ],
            "metadata": {
                "azdata_cell_guid": "f2bbdbb1-521d-4bc5-81d7-6c3a4108ee2e",
                "language": "sql"
            },
            "outputs": [],
            "execution_count": null
        },
        {
            "cell_type": "markdown",
            "source": [
                "# **Chapter 05 - Table Expressions**\n",
                "## **Query** \n",
                "\n",
                "PROPOSITION: Returns the number of distinct customers per year for orders placed.\n",
                "\n",
                "TABLES: This query uses the Sales.Order table.\n",
                "\n",
                "COLUMNS: OrderYear and NumCusts columns.\n",
                "\n",
                "PREDICATE: The query begins by selecting the order year which is extracted using the YEAR() function) and the corresponding customer ID from the Sales.Order table, creating a derived dataset named \"D\". This dataset contains the order year and customer IDs for each order. Next, the query applies a GROUP BY clause on the OrderYear column within the derived dataset to group the orders by year. Within each group, it calculates the count of distinct customer IDs (NumCusts). \n",
                ""
            ],
            "metadata": {
                "azdata_cell_guid": "64fadb56-8d79-4335-aa2b-e89ad5baa336"
            },
            "attachments": {}
        },
        {
            "cell_type": "code",
            "source": [
                "USE TSQLV6;\n",
                "\n",
                "SELECT orderyear, COUNT(DISTINCT custid) AS numcusts\n",
                "FROM (SELECT YEAR(orderdate) AS orderyear, custid\n",
                "      FROM Sales.Orders) AS D\n",
                "GROUP BY orderyear;\n",
                "\n",
                "USE Northwinds2022TSQLV7;\n",
                "\n",
                "SELECT OrderYear, COUNT(DISTINCT CustomerId) AS NumCusts\n",
                "FROM (SELECT YEAR(OrderDate) AS OrderYear, CustomerId\n",
                "      FROM Sales.[Order]) AS D\n",
                "GROUP BY OrderYear; \n",
                "\n",
                "\n",
                "\n",
                ""
            ],
            "metadata": {
                "azdata_cell_guid": "4d6ff7ad-02fd-4291-8882-ab8a4415d934",
                "language": "sql"
            },
            "outputs": [],
            "execution_count": null
        },
        {
            "cell_type": "markdown",
            "source": [
                "## **Query**\n",
                "\n",
                "PROPOSITION: Returns the number of unique customers per year, focusing on years where the count exceeds 70 distinct customers.\n",
                "\n",
                "TABLES: The query uses the Sales.Order table.\n",
                "\n",
                "COLUMNS: The query selects the year extracted from the OrderDate column as OrderYear and calculates the count of distinct CustomerId values as NumCusts.\n",
                "\n",
                "PREDICATE: The query uses a GROUP BY clause to group the orders by year, then filters the results using the HAVING clause to include only those years where the count of distinct customers is greater than 70."
            ],
            "metadata": {
                "azdata_cell_guid": "31b21ad1-d325-4f54-af87-a9881e3fcd45"
            },
            "attachments": {}
        },
        {
            "cell_type": "code",
            "source": [
                "USE TSQLV6;\n",
                "\n",
                "SELECT YEAR(orderdate) AS orderyear, COUNT(DISTINCT custid) AS numcusts\n",
                "FROM Sales.Orders\n",
                "GROUP BY YEAR(orderdate)\n",
                "HAVING COUNT(DISTINCT custid) > 70;\n",
                "\n",
                "\n",
                "USE Northwinds2022TSQLV7;\n",
                "\n",
                "SELECT YEAR(OrderDate) AS OrderYear, COUNT(DISTINCT CustomerId) AS NumCusts\n",
                "FROM Sales.[Order]\n",
                "GROUP BY YEAR(OrderDate)\n",
                "HAVING COUNT(DISTINCT CustomerId) > 70; "
            ],
            "metadata": {
                "azdata_cell_guid": "372b87b7-5166-4e31-8274-e439af55b751",
                "language": "sql"
            },
            "outputs": [],
            "execution_count": null
        },
        {
            "cell_type": "markdown",
            "source": [
                "## **Query** \n",
                "\n",
                "PROPOSITION: Returns the count of distinct customers served by a particular employee for each year.\n",
                "\n",
                "TABLES: This query uses the Sales.Order table.\n",
                "\n",
                " COLUMNS: The query selects the year extracted from the OrderDate column as OrderYear and the CustomerId column. NumCusts column is aliased from calculation of the count of distinct CustomerId.\n",
                "\n",
                "PREDICATE: The main query  uses a Common Table Expression named C (also subquery) to retrieve the OrderYear and CustomerId for the selected employee. The WHERE clause within the subquery filters orders to include only those handled by the specified employee, identified by the @EmployeeId parameter. Then, the main query uses the results of this subquery (as C) and  uses this data by counting the distinct customers for each year which is aliased as NumCusts. Finally, it groups the results by the OrderYear using the GROUP BY clause.\n",
                "\n",
                "*<img src=\"https://static.vecteezy.com/system/resources/previews/022/841/114/non_2x/chatgpt-logo-transparent-background-free-png.png\" alt=\"AI\" width=\"20\" height=\"20\"> Written in collaboration with ChatGPT from OpenAI to improve understanding and assist with the explanation of the query*\n",
                ""
            ],
            "metadata": {
                "azdata_cell_guid": "2b7a4510-d139-4b02-b2c4-d15309039f53"
            },
            "attachments": {}
        },
        {
            "cell_type": "code",
            "source": [
                "USE TSQLV6;\n",
                "\n",
                "DECLARE @empid AS INT = 3;\n",
                "\n",
                "WITH C AS\n",
                "(\n",
                "  SELECT YEAR(orderdate) AS orderyear, custid\n",
                "  FROM Sales.Orders\n",
                "  WHERE empid = @empid\n",
                ")\n",
                "SELECT orderyear, COUNT(DISTINCT custid) AS numcusts\n",
                "FROM C\n",
                "GROUP BY orderyear;\n",
                "GO\n",
                "\n",
                "\n",
                "USE Northwinds2022TSQLV7;\n",
                "\n",
                "DECLARE @EmployeeId AS INT = 3;\n",
                "\n",
                "WITH C AS\n",
                "(\n",
                "  SELECT YEAR(OrderDate) AS OrderYear, CustomerId\n",
                "  FROM Sales.[Order]\n",
                "  WHERE EmployeeId = @EmployeeId\n",
                ")\n",
                "SELECT OrderYear, COUNT(DISTINCT CustomerId) AS NumCusts\n",
                "FROM C\n",
                "GROUP BY OrderYear;\n",
                "GO \n",
                ""
            ],
            "metadata": {
                "azdata_cell_guid": "ec857e89-4b66-4a6f-9611-affe7a1abdd6",
                "language": "sql"
            },
            "outputs": [],
            "execution_count": null
        },
        {
            "cell_type": "markdown",
            "source": [
                "## **Query** \n",
                "\n",
                "PROPOSITION : Creates a view in which the view compiles customer information from the Sales.Customer table, focusing exclusively on customers located in the USA.\n",
                "\n",
                "TABLES/VIEWS:  This query uses the Sales.Customer table so the data from its columns as selected can be retrieved to the Sales.USACusts view. \n",
                "\n",
                "COLUMNS: In creation of the view, the columns that are selected are CustomerId, CustomerCompanyName, CustomerContactName, CustomerContactTitle, CustomerAddress,\n",
                "CustomerCity, CustomerRegion, CustomerPostalCode, CustomerCountry, CustomerPhoneNumber, and CustomerFaxNumber from the Sales.Customer table. \n",
                "\n",
                "\n",
                "PREDICATE: The query filters the Sales.Customer table to only include customers located in the USA by using a WHERE clause with the condition CustomerCountry = N'USA'.\n",
                "\n",
                "\n",
                "NOTE: Including a sorting mechanism such as the ORDER BY clause in a view limits its flexibility and reusability, as it imposes a fixed sorting order that may not be suitable for all contexts where the view is used.\n",
                ""
            ],
            "metadata": {
                "azdata_cell_guid": "7d3a1475-e727-42e6-b9f6-c114b8891fc1"
            },
            "attachments": {}
        },
        {
            "cell_type": "code",
            "source": [
                "/*\n",
                "-- TSQLV6 Version\n",
                "\n",
                "CREATE OR ALTER VIEW Sales.USACusts\n",
                "AS\n",
                "\n",
                "SELECT\n",
                "  custid, companyname, contactname, contacttitle, address,\n",
                "  city, region, postalcode, country, phone, fax\n",
                "FROM Sales.Customers\n",
                "WHERE country = N'USA'\n",
                "ORDER BY region;\n",
                "GO\n",
                "\n",
                "\n",
                "-- Northwinds2022TSQLV7 Version\n",
                "\n",
                "CREATE OR ALTER VIEW Sales.USACusts\n",
                "AS\n",
                "SELECT\n",
                "  CustomerId, CustomerCompanyName, CustomerContactName, CustomerContactTitle, CustomerAddress,\n",
                "  CustomerCity, CustomerRegion, CustomerPostalCode, CustomerCountry, CustomerPhoneNumber, CustomerFaxNumber\n",
                "FROM Sales.Customer\n",
                "WHERE CustomerCountry = N'USA'\n",
                "ORDER BY CustomerRegion;\n",
                "GO\n",
                "*/"
            ],
            "metadata": {
                "azdata_cell_guid": "38113cf5-8ad7-4443-9091-df731c491cdf",
                "language": "sql"
            },
            "outputs": [],
            "execution_count": null
        },
        {
            "cell_type": "markdown",
            "source": [
                "## **Query** \n",
                "\n",
                "PROPOSITION: Returns the text definition used to create the Sales.USACusts view.\n",
                "\n",
                "TABLES/VIEWS: This query uses the Sales.USACusts view. \n",
                "\n",
                "COLUMNS: The aim of this query is not to output rows specific to columns.\n",
                "\n",
                "PREDICATE: This query does not involve any predicate as it only retrieves the text definition of Sales.USACusts using the EXEC sp_helptext command.\n",
                "\n",
                "*<img src=\"https://static.vecteezy.com/system/resources/previews/022/841/114/non_2x/chatgpt-logo-transparent-background-free-png.png\" alt=\"AI\" width=\"20\" height=\"20\"> Written in collaboration with ChatGPT from OpenAI to improve understanding and assist with the explanation of the query*\n",
                ""
            ],
            "metadata": {
                "azdata_cell_guid": "f4e8d516-f287-4c95-ab50-f94309c0fadd"
            },
            "attachments": {}
        },
        {
            "cell_type": "code",
            "source": [
                "USE TSQLV6;\n",
                "\n",
                "EXEC sp_helptext 'Sales.USACusts';\n",
                "GO\n",
                "\n",
                "USE Northwinds2022TSQLV7;\n",
                "\n",
                "EXEC sp_helptext 'Sales.USACusts';\n",
                "GO"
            ],
            "metadata": {
                "azdata_cell_guid": "73509ce3-af26-4b43-af7b-d5a99fa23fde",
                "language": "sql"
            },
            "outputs": [],
            "execution_count": null
        },
        {
            "cell_type": "markdown",
            "source": [
                "## **Query** \n",
                "\n",
                "PROPOSITION: Returns the orders and customers for orders placed by a specific customer.\n",
                "\n",
                "TABLES: This query uses the Sales.Order table as the function selects the columns and its data from there.\n",
                "\n",
                "COLUMNS: The columns used are OrderID and CustomerID from the Sales.Order table.\n",
                "\n",
                "PREDICATE: This query uses a function called dbo.GetCustOrders, which takes a parameter @cid (CustomerID) and returns a table containing order details for the specified customer. The function filters the orders based on the customer id provided which is 1 in this case.\n",
                "\n",
                "*<img src=\"https://static.vecteezy.com/system/resources/previews/022/841/114/non_2x/chatgpt-logo-transparent-background-free-png.png\" alt=\"AI\" width=\"20\" height=\"20\"> Written in collaboration with ChatGPT from OpenAI to improve understanding and assist with the explanation of the query*"
            ],
            "metadata": {
                "azdata_cell_guid": "4c1d1c48-df36-4fc4-89bd-6b1b26323270"
            },
            "attachments": {}
        },
        {
            "cell_type": "code",
            "source": [
                "USE TSQLV6;\n",
                "\n",
                "SELECT orderid, custid\n",
                "FROM dbo.GetCustOrders(1) AS O;\n",
                "\n",
                "\n",
                "\n",
                "USE Northwinds2022TSQLV7;\n",
                "\n",
                "SELECT OrderId, CustomerId\n",
                "FROM dbo.GetCustOrders(1) AS O; \n",
                "\n",
                ""
            ],
            "metadata": {
                "azdata_cell_guid": "adb3cffe-de2b-4d8a-b1d6-461ac8d2dd1f",
                "language": "sql"
            },
            "outputs": [],
            "execution_count": null
        },
        {
            "cell_type": "markdown",
            "source": [
                "## **Query** \n",
                "\n",
                "PROPOSITION: Returns the three most recent orders for each customer, along with corresponding order details.\n",
                "\n",
                "TABLES: This query operates on the Sales.Customer and Sales.Order tables.\n",
                "\n",
                "COLUMNS: The main query selects the CustomerId column from Sales.Customer table. OrderId and OrderDate columns from Sales.Order table in descending order. The subquery selects the OrderId, EmployeeId, OrderData and RequiredDate columns from the Sales.Order table, however, this is not shown in the result set but is data used for the main query. \n",
                "\n",
                "PREDICATE: This query uses a CROSS APPLY operation to integrate the Sales.Customer table with a subquery originating from the Sales.Order table. Beginning with the selection of data from the Sales.Customer table (as C), the query applies the subquery to each customer row. Within this subquery, a precise selection of OrderId, EmployeeId, OrderDate, and RequiredDate is made, filtering orders by the corresponding CustomerId. Using the SELECT TOP (3) clause ensures that only the latest three orders are retrieved for each customer. The ORDER BY clause deals with the sorting of orders primarily by OrderDate in descending order.\n",
                "\n",
                "*<img src=\"https://static.vecteezy.com/system/resources/previews/022/841/114/non_2x/chatgpt-logo-transparent-background-free-png.png\" alt=\"AI\" width=\"20\" height=\"20\"> Written in collaboration with ChatGPT from OpenAI to improve understanding and assist with the explanation of the query*\n",
                ""
            ],
            "metadata": {
                "azdata_cell_guid": "a5768969-14c0-44ab-8f9c-a56956bf2320"
            },
            "attachments": {}
        },
        {
            "cell_type": "code",
            "source": [
                "USE TSQLV6;\n",
                "\n",
                "SELECT C.custid, A.orderid, A.orderdate\n",
                "FROM Sales.Customers AS C\n",
                "  CROSS APPLY\n",
                "    (SELECT TOP (3) orderid, empid, orderdate, requireddate \n",
                "     FROM Sales.Orders AS O\n",
                "     WHERE O.custid = C.custid\n",
                "     ORDER BY orderdate DESC, orderid DESC) AS A;\n",
                "\n",
                "\n",
                "USE Northwinds2022TSQLV7;\n",
                "\n",
                "SELECT C.CustomerId, A.OrderId, A.OrderDate\n",
                "FROM Sales.Customer AS C\n",
                "  CROSS APPLY\n",
                "    (SELECT TOP (3) OrderId, EmployeeId, OrderDate, RequiredDate \n",
                "     FROM Sales.[Order] AS O\n",
                "     WHERE O.CustomerId = C.CustomerId\n",
                "     ORDER BY OrderDate DESC, OrderId DESC) AS A; "
            ],
            "metadata": {
                "azdata_cell_guid": "4d18ca17-9746-45a2-9bb2-c05cb29bb6ca",
                "language": "sql"
            },
            "outputs": [],
            "execution_count": null
        }
    ]
}