{
    "metadata": {
        "kernelspec": {
            "name": "SQL",
            "display_name": "SQL",
            "language": "sql"
        },
        "language_info": {
            "name": "sql",
            "version": ""
        }
    },
    "nbformat_minor": 2,
    "nbformat": 4,
    "cells": [
        {
            "cell_type": "markdown",
            "source": [
                "# **Taruna Mangar**\n",
                "\n",
                "## **Home-Work 3**\n",
                "\n",
                "# **TOP FIVE*:*\n",
                "\n",
                "## CHAPTER FOUR- Excerises"
            ],
            "metadata": {
                "azdata_cell_guid": "01d7f74a-7890-460b-b875-053458ff29a2"
            },
            "attachments": {}
        },
        {
            "cell_type": "markdown",
            "source": [
                "## **Excerise Two**\n",
                "\n",
                "- Write a query that returns all orders placed by the customer(s) who placed the highest number of orders\n",
                "- Note: there may be more than one customer with the same number of orders\n",
                "- Tables involved: TSQLV6 database, Orders table\n",
                "\n",
                "### **ANSWER**\n",
                "\n",
                "**PROPOSITION:** Write a query that returns the CustomerId, OrderId, OrderDate, and EmployeeId from the Sales.[Order] table for the customer(s) with the highest number of orders.\n",
                "\n",
                "**TABLES:** Northwinds2022TSQLV7 Database, Sales.[Order] as alias O\n",
                "\n",
                "**COLUMN:** CustomerId, OrderId, OrderDate and EmployeeId from Sales.[Order].\n",
                "\n",
                "**PREDICATE:** The query filters the rows from the Sales.[Order] table based on the condition that the CustomerId is included in the subquery's result set. The subquery selects the top CustomerId values (using TOP (1) WITH TIES) based on the count of orders for each customer (GROUP BY O.CustomerId) and orders them in descending order of the count of orders (ORDER BY COUNT(*) DESC). This effectively selects the customer(s) with the highest number of orders.\n",
                "\n",
                "**WHAT'S SPECIAL: The special aspect of the query lies in its focus on identifying the customer(s) with the highest number of orders. This is achieved through the use of a subquery to calculate the count of orders for each customer and then selecting the top customer(s) with the highest count of orders, ensuring that ties are included. By doing so, the query efficiently identifies the most active customers in terms of order frequency.**\n",
                "\n",
                "\n",
                ""
            ],
            "metadata": {
                "azdata_cell_guid": "075a6c44-b706-47cd-930a-8b6f319d7de4"
            },
            "attachments": {}
        },
        {
            "cell_type": "code",
            "source": [
                "Use TSQLV6\r\n",
                "SELECT custid, orderid, orderdate, empid\r\n",
                "FROM Sales.Orders\r\n",
                "WHERE custid IN\r\n",
                "  (SELECT TOP (1) WITH TIES O.custid\r\n",
                "   FROM Sales.Orders AS O\r\n",
                "   GROUP BY O.custid\r\n",
                "   ORDER BY COUNT(*) DESC);\r\n",
                "\r\n",
                "Use Northwinds2022TSQLV7\r\n",
                "SELECT CustomerId, OrderId, OrderDate, EmployeeId\r\n",
                "FROM Sales.[Order]\r\n",
                "WHERE CustomerId IN\r\n",
                "  (SELECT TOP (1) WITH TIES O.CustomerId\r\n",
                "   FROM Sales.[Order] AS O\r\n",
                "   GROUP BY O.CustomerId\r\n",
                "   ORDER BY COUNT(*) DESC);"
            ],
            "metadata": {
                "azdata_cell_guid": "b90b4e28-c8ed-4b3a-89f4-07cffc1a006f",
                "language": "sql"
            },
            "outputs": [],
            "execution_count": null
        },
        {
            "cell_type": "markdown",
            "source": [
                "# CHAPTER FOUR- Subueries\n",
                "\n",
                "### Question 1- Scalar subquery expected to return one value\n",
                "\n",
                "<img src=\"https://static.vecteezy.com/system/resources/previews/022/841/114/non_2x/chatgpt-logo-transparent-background-free-png.png\" alt=\"AI\" width=\"20\" height=\"20\"> *Written in collaboration with ChatGPT from OpenAI to improve understanding and assist with the explanation of the query.*\n",
                "\n",
                "**PROPOSITION:** Write a query that returns the order IDs for orders handled by employees whose last name starts with 'C'.\n",
                "\n",
                "**TABLES:** Northwinds2022TSQLV7 Database, Sales.[Order] and HumanResources.Employee as alias E\n",
                "\n",
                "**COLUMN:** OrderId from Sales.[Order] table and EmployeeId and EmployeeLastName from HumanResources.Employee table.\n",
                "\n",
                "**PREDICATE:** The query filters the rows from the Sales.[Order] table based on the condition that the EmployeeId matches the EmployeeId returned by the subquery. The subquery selects the EmployeeId from the HumanResources.Employee table where the EmployeeLastName starts with 'C'.\n",
                "\n",
                "**WHAT'S SPECIAL: The query is special because it filters orders based on the last names of employees. It finds employees whose last names start with 'C' using a subquery and then selects orders handled by those employees. This method allows for specific selection of orders based on employee attributes.**\n",
                ""
            ],
            "metadata": {
                "language": "sql",
                "azdata_cell_guid": "f9bfdd30-1caf-4a97-920d-662bfd560351"
            },
            "attachments": {}
        },
        {
            "cell_type": "code",
            "source": [
                "Use TSQLV6\r\n",
                "SELECT orderid\r\n",
                "FROM Sales.Orders\r\n",
                "WHERE empid = \r\n",
                "  (SELECT E.empid\r\n",
                "   FROM HR.Employees AS E\r\n",
                "   WHERE E.lastname LIKE N'C%');\r\n",
                "\r\n",
                "Use Northwinds2022TSQLV7\r\n",
                "SELECT OrderId\r\n",
                "FROM Sales.[Order]\r\n",
                "WHERE  EmployeeId= \r\n",
                "  (SELECT E.EmployeeId\r\n",
                "   FROM HumanResources.Employee AS E\r\n",
                "   WHERE E.EmployeeLastName LIKE N'C%');\r\n",
                ""
            ],
            "metadata": {
                "language": "sql",
                "azdata_cell_guid": "7b228765-17f9-4538-ae24-7776eaa7cc76"
            },
            "outputs": [],
            "execution_count": null
        },
        {
            "cell_type": "markdown",
            "source": [
                "### QUESTION 4- Returning \"Previous\" or \"Next\" Value\r\n",
                "\r\n",
                "<img src=\"https://static.vecteezy.com/system/resources/previews/022/841/114/non_2x/chatgpt-logo-transparent-background-free-png.png\" alt=\"AI\" width=\"20\" height=\"20\"> *Written in collaboration with ChatGPT from OpenAI to improve understanding and assist with the explanation of the query.*\r\n",
                "\r\n",
                "**PROPOSITION:** Write a query that returns OrderId, OrderDate, EmployeeId, and CustomerId from the Sales.[Order] table, along with the OrderId of the next order for each record.\r\n",
                "\r\n",
                "**TABLES:** Northwinds2022TSQLV7 Database, Sales.[Order] as alias O2 and Sales.[Order] as alias O1.\r\n",
                "\r\n",
                "**COLUMN:**  OrderId, OrderDate, EmployeeId, and CustomerId from the Sales.[Order] table.\r\n",
                "\r\n",
                "**PREDICATE:** The WHERE clause with the predicate O2.OrderId > O1.OrderId ensures that only orders with OrderId values higher than the current order being processed (O1) are considered in the subquery, thereby determining the next OrderId for each record in the Sales.[Order] table.\r\n",
                "\r\n",
                "**WHAT'S SPECIAL: This query stands out because it uses a special method to find the next OrderId for each order in the Sales.[Order] table. By looking at each OrderId and comparing it with the following ones, the query figures out the next order. This makes it easier to understand the sequence of orders in the dataset, helping with the analysis of order data.**"
            ],
            "metadata": {
                "language": "sql",
                "azdata_cell_guid": "e6abf0f2-e12a-4d25-aa99-a3d6d1b06c17"
            },
            "attachments": {}
        },
        {
            "cell_type": "code",
            "source": [
                "Use TSQLV6\r\n",
                "SELECT orderid, orderdate, empid, custid,\r\n",
                "  (SELECT MIN(O2.orderid)\r\n",
                "   FROM Sales.Orders AS O2\r\n",
                "   WHERE O2.orderid > O1.orderid) AS nextorderid\r\n",
                "FROM Sales.Orders AS O1;\r\n",
                "\r\n",
                "Use Northwinds2022TSQLV7\r\n",
                "SELECT OrderId, OrderDate, EmployeeId, CustomerId,\r\n",
                "  (SELECT MIN(O2.OrderId)\r\n",
                "   FROM Sales.[Order] AS O2\r\n",
                "   WHERE O2.OrderId > O1.OrderId) AS NextOrderId\r\n",
                "FROM Sales.[Order] AS O1;"
            ],
            "metadata": {
                "language": "sql",
                "azdata_cell_guid": "1b754613-358a-4c76-a06c-11a5fd1fea13"
            },
            "outputs": [],
            "execution_count": null
        },
        {
            "cell_type": "markdown",
            "source": [
                "# CHATPER 5- Exercises\r\n",
                "\r\n",
                "### Question 4\r\n",
                "\r\n",
                "Write a solution using a recursive CTE that returns the management chain leading to Patricia Doyle (employee ID 9) Tables involved: HR.Employees\r\n",
                "\r\n",
                "**PROPOSITION:** Write a query that returns the EmployeeId, EmployeeManagerId, EmployeeFirstName, and EmployeeLastName for the employee with EmployeeId 9 and their direct and indirect subordinates from the HumanResources.Employee table.\r\n",
                "\r\n",
                "**TABLES:** Northwinds2022TSQLV7 Database and HumanResources table.\r\n",
                "\r\n",
                "**COLUMN:** EmployeeId, EmployeeManagerId, EmployeeFirstName, and EmployeeLastName from the HumanResources.Employee table.\r\n",
                "\r\n",
                "**PREDICATE:** Select rows from the HumanResources.Employee table where the EmployeeId is equal to 9 and recursively retrieve rows where the EmployeeManagerId matches the EmployeeId of the previously selected rows, forming a hierarchical structure.\r\n",
                "\r\n",
                "**WHAT'S SPECIAL: This query employs a recursive common table expression (CTE) to retrieve hierarchical data representing the reporting structure within the employee table. It starts with a specific employee (EmployeeId = 9) and recursively retrieves their direct and indirect subordinates. This approach simplifies the process of navigating hierarchical data within the employee table, making it easier to analyze the organizational structure.**"
            ],
            "metadata": {
                "language": "sql",
                "azdata_cell_guid": "0fa75f4a-d18f-42df-aa88-c79c71c9dfd4"
            },
            "attachments": {}
        },
        {
            "cell_type": "code",
            "source": [
                "USE TSQLV6;\r\n",
                "WITH EmpsCTE AS\r\n",
                "(\r\n",
                "  SELECT empid, mgrid, firstname, lastname\r\n",
                "  FROM HR.Employees\r\n",
                "  WHERE empid = 9\r\n",
                "  \r\n",
                "  UNION ALL\r\n",
                "  \r\n",
                "  SELECT P.empid, P.mgrid, P.firstname, P.lastname\r\n",
                "  FROM EmpsCTE AS C\r\n",
                "    INNER JOIN HR.Employees AS P\r\n",
                "      ON C.mgrid = P.empid\r\n",
                ")\r\n",
                "SELECT empid, mgrid, firstname, lastname\r\n",
                "FROM EmpsCTE;\r\n",
                "\r\n",
                "USE Northwinds2022TSQLV7;\r\n",
                "WITH EmpsCTE AS\r\n",
                "(\r\n",
                "  SELECT EmployeeId, EmployeeManagerId, EmployeeFirstName, EmployeeLastName\r\n",
                "  FROM HumanResources.Employee\r\n",
                "  WHERE EmployeeId= 9\r\n",
                "  \r\n",
                "  UNION ALL\r\n",
                "  \r\n",
                "  SELECT P.EmployeeId, P.EmployeeManagerId, P.EmployeeFirstName, P.EmployeeLastName\r\n",
                "  FROM EmpsCTE AS C\r\n",
                "    INNER JOIN HumanResources.Employee AS P\r\n",
                "      ON C.EmployeeManagerId = P.EmployeeId\r\n",
                ")\r\n",
                "SELECT EmployeeId, EmployeeManagerId, EmployeeFirstName, EmployeeLastName\r\n",
                "FROM EmpsCTE;"
            ],
            "metadata": {
                "language": "sql",
                "azdata_cell_guid": "3b67b3fc-f4b4-4f91-9609-fb47927174ae"
            },
            "outputs": [],
            "execution_count": null
        },
        {
            "cell_type": "markdown",
            "source": [
                "# Chapter Five- Table Expressions\n",
                "\n",
                "### QUESTION 5-DO NOT rely on OFFSET-FETCH, even if for now the engine does return rows in order\n",
                "\n",
                "PROPOSITION: Create or update a view named Sales.USACusts to store details of customers located in the USA, including CustomerId, CustomerCompanyName, CustomerContactName, CustomerContactTitle, CustomerAddress, CustomerRegion, CustomerPostalCode, CustomerCountry, CustomerPhoneNumber, and CustomerFaxNumber, retrieved from the Sales.Customer table filtered by the USA.\n",
                "\n",
                "**TABLES:** Northwinds2022TSQLV7 Database and Sales.Customer table.\n",
                "\n",
                "**COLUMN:** CustomerId, CustomerCompanyName, CustomerContactName, CustomerContactTitle, CustomerAddress, CustomerRegion, CustomerPostalCode, CustomerCountry, CustomerPhoneNumber, and CustomerFaxNumber from the Sales.Customer.\n",
                "\n",
                "**VIEW:** Sales.USACusts view\n",
                "\n",
                "**ATTRIBUTES:** CustomerId, CustomerCompanyName, CustomerContactName, CustomerContactTitle, CustomerAddress, CustomerRegion, CustomerPostalCode, CustomerCountry, CustomerPhoneNumber, and CustomerFaxNumber are extracted from the Sales.USACusts view\n",
                "\n",
                "**PREDICATE:** Select rows from the Sales.Customer table where the value of the CustomerCountry column is 'USA', and then create or update a view named Sales.USACusts to store these rows.\n",
                "\n",
                "**WHAT'S SPECIAL: This query is special because it utilizes a view called Sales.USACusts, which acts like a filtered version of the Sales.Customer table, showing only customers from the USA. Views are useful as they provide a simplified way to access data without directly interacting with the underlying tables, making data management easier.**"
            ],
            "metadata": {
                "language": "sql",
                "azdata_cell_guid": "aa114a78-9d29-49bb-9765-cac8f777d2f5"
            },
            "attachments": {}
        },
        {
            "cell_type": "code",
            "source": [
                "Use TSQLV6\r\n",
                "GO\r\n",
                "CREATE OR ALTER VIEW Sales.USACusts\r\n",
                "AS\r\n",
                "SELECT \r\n",
                "  custid, companyname, contactname, contacttitle, address,\r\n",
                "  city, region, postalcode, country, phone, fax\r\n",
                "FROM Sales.Customers\r\n",
                "WHERE country = N'USA';\r\n",
                "GO\r\n",
                "\r\n",
                "Use Northwinds2022TSQLV7\r\n",
                "GO\r\n",
                "CREATE OR ALTER VIEW Sales.USACusts\r\n",
                "AS\r\n",
                "SELECT \r\n",
                "  CustomerId, CustomerCompanyName, CustomerContactName, CustomerContactTitle, CustomerAddress,\r\n",
                "  CustomerRegion, CustomerPostalCode, CustomerCountry, CustomerPhoneNumber, CustomerFaxNumber\r\n",
                "FROM Sales.Customer\r\n",
                "WHERE CustomerCountry = N'USA';\r\n",
                "GO"
            ],
            "metadata": {
                "language": "sql",
                "azdata_cell_guid": "6adf79f9-76fd-43a3-be3c-029d07288694"
            },
            "outputs": [],
            "execution_count": null
        },
        {
            "cell_type": "markdown",
            "source": [
                "# CHAPTER FOUR- Subueries\n",
                "## **EXERCISE NINE**\n",
                "\n",
                "Explain the difference between IN and EXISTS\n",
                "\n",
                "### **ANSWER**\n",
                "\n",
                "**IN Operator:**\n",
                "\n",
                "- The IN operator is used to check if a value matches any value in a list of values or the result set of a subquery.\n",
                "- It is typically used with a static list of values or a subquery that returns a list of values.\n",
                "- It returns true if the value being evaluated matches any value in the list or the result set, and false otherwise."
            ],
            "metadata": {
                "azdata_cell_guid": "69a53387-83b5-498c-88e6-6c260bfb7c22"
            },
            "attachments": {}
        },
        {
            "cell_type": "markdown",
            "source": [
                "### **EXISTS Operator:**\n",
                "\n",
                "- The EXISTS operator is used to check if a subquery returns any rows.\n",
                "- It is typically used to check for the existence of rows in a correlated or uncorrelated subquery.\n",
                "- It returns true if the subquery returns at least one row, and false otherwise.\n",
                "- It can be used with correlated subqueries, where the inner subquery references columns from the outer query."
            ],
            "metadata": {
                "language": "sql",
                "azdata_cell_guid": "bdd44cc0-2a23-4f4e-ac40-ce48e63881fc"
            },
            "attachments": {}
        },
        {
            "cell_type": "markdown",
            "source": [
                "# CHAPTER FOUR- Subueries\r\n",
                "\r\n",
                "### QUESTION 2- Orders placed by US customers\r\n",
                "\r\n",
                "\r\n",
                "**PROPOSITION:** Write a query that returns the CustomerId, OrderId, OrderDate, and EmployeeId for orders placed by customers located in the USA.\r\n",
                "\r\n",
                "**TABLES:** Northwinds2022TSQLV7 Database, Sales.[Order] and Sales.Customer as alias C.\r\n",
                "\r\n",
                "**COLUMN:** CustomerId, OrderId, OrderDate and EmployeeId from Sales.[Order] table and CustomerId and CustomerCountry from Sales.Customer table\r\n",
                "\r\n",
                "**PREDICATE:** The query filters rows from the Sales.[Order] table based on the condition that the CustomerId is included in the result set returned by the subquery. The subquery selects CustomerId from the Sales.Customer table where the CustomerCountry is 'USA'.\r\n",
                "\r\n",
                "**WHAT'S SPECIAL: The special aspect of this query is its ability to retrieve orders from customers located specifically in the USA by using a subquery to filter based on customer country.**\r\n",
                ""
            ],
            "metadata": {
                "language": "sql",
                "azdata_cell_guid": "69138523-141a-4029-b4cc-d0170157a615"
            },
            "attachments": {}
        },
        {
            "cell_type": "code",
            "source": [
                "Use TSQLV6\r\n",
                "SELECT custid, orderid, orderdate, empid\r\n",
                "FROM Sales.Orders\r\n",
                "WHERE custid IN\r\n",
                "  (SELECT C.custid\r\n",
                "   FROM Sales.Customers AS C\r\n",
                "   WHERE C.country = N'USA');\r\n",
                "\r\n",
                "Use Northwinds2022TSQLV7\r\n",
                "SELECT CustomerId, OrderId, OrderDate, EmployeeId\r\n",
                "FROM Sales.[Order]\r\n",
                "WHERE CustomerId IN\r\n",
                "  (SELECT C.CustomerId\r\n",
                "   FROM Sales.Customer AS C\r\n",
                "   WHERE C.CustomerCountry = N'USA');"
            ],
            "metadata": {
                "language": "sql",
                "azdata_cell_guid": "25ff9c1a-0fca-45db-b312-8a53acdafe84"
            },
            "outputs": [],
            "execution_count": null
        },
        {
            "cell_type": "markdown",
            "source": [
                "### QUESTION 3- Orders with maximum order ID for each customer\r\n",
                "\r\n",
                "<img src=\"https://static.vecteezy.com/system/resources/previews/022/841/114/non_2x/chatgpt-logo-transparent-background-free-png.png\" alt=\"AI\" width=\"20\" height=\"20\"> *Written in collaboration with ChatGPT from OpenAI to improve understanding and assist with the explanation of the query.*\r\n",
                "\r\n",
                "**PROPOSITION:** Write a query that returns the highest OrderId for the customer with CustomerId 85.\r\n",
                "\r\n",
                "**TABLES:** Northwinds2022TSQLV7 Database, Sales.[Order] as alias O2.\r\n",
                "\r\n",
                "**COLUMN:** CustomerId and OrderId from Sales.[Order] table.\r\n",
                "\r\n",
                "**PREDICATE:** The query filters the rows from the Sales.[Order] table (aliased as O2) based on the condition that the CustomerId is equal to 85.\r\n",
                "\r\n",
                "**WHAT'S SPECIAL: This query efficiently finds the highest OrderId for a specific customer (CustomerId 85) by using the MAX function. It simplifies the process of determining the latest or most recent order for that customer.**"
            ],
            "metadata": {
                "language": "sql",
                "azdata_cell_guid": "3f171f96-b291-4249-8204-84fd3a5bee50"
            },
            "attachments": {}
        },
        {
            "cell_type": "code",
            "source": [
                "Use TSQLV6\r\n",
                "SELECT MAX(O2.orderid)\r\n",
                "FROM Sales.Orders AS O2\r\n",
                "WHERE O2.custid = 85;\r\n",
                "\r\n",
                "Use Northwinds2022TSQLV7\r\n",
                "SELECT MAX(O2.OrderId)\r\n",
                "FROM Sales.[Order] AS O2\r\n",
                "WHERE O2.CustomerId = 85;\r\n",
                ""
            ],
            "metadata": {
                "language": "sql",
                "azdata_cell_guid": "f9605a7f-3c01-41a8-aad2-b602896774ab"
            },
            "outputs": [],
            "execution_count": null
        },
        {
            "cell_type": "markdown",
            "source": [
                "### QUESTION 5- Following returns an empty set\r\n",
                "\r\n",
                "\r\n",
                "**PROPOSITION:** Write a query that returns the CustomerId and CustomerCompanyName for customers who have not placed any orders.\r\n",
                "\r\n",
                "**TABLES:** Northwinds2022TSQLV7 Database, Sales.Customer and Sales.[Order] as alias O.\r\n",
                "\r\n",
                "**COLUMN:** CustomerId and CustomerCompanyName from the Sales.Customer table and CustomerId from the Sales.[Order] table.\r\n",
                "\r\n",
                "**PREDICATE:** The NOT IN function is used to compare each CustomerId from the Sales.Customer table with the CustomerId column from the Sales.[Order] table obtained via the subquery. \r\n",
                "\r\n",
                ""
            ],
            "metadata": {
                "language": "sql",
                "azdata_cell_guid": "ed2433c2-b53a-42bc-bed5-8630a62d41d6"
            },
            "attachments": {}
        },
        {
            "cell_type": "code",
            "source": [
                "use TSQLV6\r\n",
                "SELECT custid, companyname\r\n",
                "FROM Sales.Customers\r\n",
                "WHERE custid NOT IN(SELECT O.custid\r\n",
                "                    FROM Sales.Orders AS O);\r\n",
                "\r\n",
                "Use Northwinds2022TSQLV7\r\n",
                "SELECT CustomerId, CustomerCompanyName\r\n",
                "FROM Sales.Customer\r\n",
                "WHERE CustomerId NOT IN(SELECT O.CustomerId\r\n",
                "                    FROM Sales.[Order] AS O);\r\n",
                ""
            ],
            "metadata": {
                "language": "sql",
                "azdata_cell_guid": "9f21949c-e822-4885-aed5-f6c35bdc0b23"
            },
            "outputs": [],
            "execution_count": null
        },
        {
            "cell_type": "markdown",
            "source": [
                "### QUESTION 6- Shippers who shipped orders to customer 43\n",
                "\n",
                "##3 Bug\n",
                "\n",
                "```\n",
                "SELECT shipper_id, companyname\n",
                "FROM Sales.MyShippers\n",
                "WHERE shipper_id IN\n",
                "  (SELECT shipper_id\n",
                "   FROM Sales.Orders\n",
                "   WHERE custid = 43); \n",
                "\n",
                "```\n",
                "\n",
                "**For this exercise the code provided contains a bug, in the sense that it uses Sales.MyShippers table which does not exist. In the corrected version the query uses Sales.Shippers which is the name of the table to be applied to this query that exist in the database**\n",
                "\n",
                "**PROPOSITION:** Write a query that returns the ShipperID and CompanyName for shippers linked to orders made by customer 43.\n",
                "\n",
                "**TABLES:** Northwinds2022TSQLV7 Database, Sales.Shipper and Sales.[Order] table.\n",
                "\n",
                "**COLUMN:** ShipperId and ShipperCompanyName from Sales.Shipper table and CustomerId from Sales.[Order].\n",
                "\n",
                "**PREDICATE:** Select shippers from the Sales.Shipper table where the ShipperId is found in the list of ShipperIds associated with orders placed by customer 43 in the Sales.[Order] table.\n",
                ""
            ],
            "metadata": {
                "language": "sql",
                "azdata_cell_guid": "4e081f38-d1c2-424d-84d2-1c6cfcc8098b"
            },
            "attachments": {}
        },
        {
            "cell_type": "code",
            "source": [
                "Use TSQLV6\r\n",
                "SELECT shipperid, companyname\r\n",
                "FROM Sales.Shippers\r\n",
                "WHERE shipperid IN\r\n",
                "  (SELECT shipperid\r\n",
                "   FROM Sales.Orders\r\n",
                "   WHERE custid = 43);\r\n",
                "\r\n",
                "Use Northwinds2022TSQLV7\r\n",
                "SELECT ShipperId, ShipperCompanyName\r\n",
                "FROM Sales.Shipper\r\n",
                "WHERE ShipperId IN\r\n",
                "  (SELECT ShipperId\r\n",
                "   FROM Sales.[Order]\r\n",
                "   WHERE CustomerId = 43);"
            ],
            "metadata": {
                "language": "sql",
                "azdata_cell_guid": "5f810b0c-8417-448d-adbd-19c1f8f1e155"
            },
            "outputs": [],
            "execution_count": null
        },
        {
            "cell_type": "markdown",
            "source": [
                "# CHATPER 5- Exercises\r\n",
                "\r\n",
                "<img src=\"https://static.vecteezy.com/system/resources/previews/022/841/114/non_2x/chatgpt-logo-transparent-background-free-png.png\" alt=\"AI\" width=\"20\" height=\"20\"> *Written in collaboration with ChatGPT from OpenAI to improve understanding and assist with the explanation of the query.*\r\n",
                "\r\n",
                "## Question 6-2\r\n",
                "Using the CROSS APPLY operatorand the function you created in exercise 6-1, return, for each supplier, the two most expensive products\r\n",
                "\r\n",
                "**PROPOSITION:** Write a query that returns the SupplierId, CategoryId, ProductId, ProductName, and UnitPrice for the top 2 products by unit price supplied by each supplier, as determined by the Production.TopProduct function in the Production.Product table.\r\n",
                "\r\n",
                "**TABLES:** Northwinds2022TSQLV7 Database and Production.Product table.\r\n",
                "\r\n",
                "**COLUMN:** SupplierId, CategoryId, ProductId, ProductName, and UnitPrice from the Production.Product table.\r\n",
                "\r\n",
                "**TABLE- VALUED FUNCTION:** Production.TopProduct\r\n",
                "\r\n",
                "**PARAMETERS:** @supid, which represents the SupplierId, and @n, indicating the number of top products to retrieve.\r\n",
                "\r\n",
                "**PREDICATE:** Select rows from the Production.Product table and apply the Production.TopProduct function using CROSS APPLY, passing the SupplierId from each row and specifying 2 as the number of top products to retrieve, thus obtaining the SupplierId, CategoryId, ProductId, ProductName, and UnitPrice for the top 2 products by unit price supplied by each supplier.\r\n",
                "\r\n",
                ""
            ],
            "metadata": {
                "language": "sql",
                "azdata_cell_guid": "4e61cec6-f23c-4bc1-a993-00abe5bf3ad7"
            },
            "attachments": {}
        },
        {
            "cell_type": "code",
            "source": [
                "USE TSQLV6;\r\n",
                "DROP FUNCTION IF EXISTS Production.TopProducts;\r\n",
                "GO\r\n",
                "CREATE FUNCTION Production.TopProducts\r\n",
                "  (@supid AS INT, @n AS INT)\r\n",
                "  RETURNS TABLE\r\n",
                "AS\r\n",
                "RETURN\r\n",
                "  SELECT TOP (@n) productid, productname, unitprice\r\n",
                "  FROM Production.Products\r\n",
                "  WHERE supplierid = @supid\r\n",
                "  ORDER BY unitprice DESC;\r\n",
                "GO\r\n",
                "SELECT S.supplierid, S.companyname, P.productid, P.productname, P.unitprice\r\n",
                "FROM Production.Suppliers AS S\r\n",
                "CROSS APPLY Production.TopProducts(S.supplierid, 2) AS P;\r\n",
                "\r\n",
                "\r\n",
                "\r\n",
                "USE Northwinds2022TSQLV7;\r\n",
                "DROP FUNCTION IF EXISTS Production.TopProduct;\r\n",
                "GO\r\n",
                "CREATE FUNCTION Production.TopProduct\r\n",
                "  (@supid AS INT, @n AS INT)\r\n",
                "  RETURNS TABLE\r\n",
                "AS\r\n",
                "RETURN\r\n",
                "  SELECT TOP (@n) ProductId, ProductName, UnitPrice\r\n",
                "  FROM Production.Product\r\n",
                "  WHERE SupplierId = @supid\r\n",
                "  ORDER BY UnitPrice DESC;\r\n",
                "GO\r\n",
                "SELECT S.SupplierId, S.CategoryId, P.ProductId, P.ProductName, P.UnitPrice\r\n",
                "FROM Production.Product AS S\r\n",
                "CROSS APPLY Production.TopProduct(S.SupplierId, 2) AS P;\r\n",
                "\r\n",
                "-- When you’re done, run the following code for cleanup:\r\n",
                "DROP VIEW IF EXISTS Sales.VEmpOrders;\r\n",
                "DROP FUNCTION IF EXISTS Production.TopProducts;\r\n",
                ""
            ],
            "metadata": {
                "language": "sql",
                "azdata_cell_guid": "373a62f6-fef6-403a-b5ea-6e40d5f36fe0"
            },
            "outputs": [],
            "execution_count": null
        },
        {
            "cell_type": "markdown",
            "source": [
                "# CHAPTER FIVE- Table Expressions\n",
                "\n",
                "### QUESTION 1- Assigning Column Aliases\n",
                "\n",
                "\\-- Following fails\n",
                "\n",
                "```\n",
                "SELECT\n",
                "  YEAR(orderdate) AS orderyear,\n",
                "  COUNT(DISTINCT custid) AS numcusts\n",
                "FROM Sales.Orders\n",
                "GROUP BY orderyear;\n",
                "\n",
                "```\n",
                "\n",
                "**This query contains an error where YEAR function was excluded frim the GROUP BY Clause resulting in a syntax error.**\n",
                "\n",
                "**PROPOSITION:** Write a query that returns the  the count of distinct customers per year, obtained by grouping orders from the Sales.[Order] table by the year of their order date.\n",
                "\n",
                "**TABLES:** Northwinds2022TSQLV7 Database and Sales.[Order] table.\n",
                "\n",
                "**COLUMN:** OrderDate and CustomerId from the Sales.[Order] table.\n",
                "\n",
                "**PREDICATE:** Select rows from the Sales.[Order] table, group them by the year extracted from the OrderDate column using the YEAR() function, and calculate the count of distinct CustomerId values for each year."
            ],
            "metadata": {
                "language": "sql",
                "azdata_cell_guid": "dd812a5a-36db-41e9-99c1-f1a14e3ca92d"
            },
            "attachments": {}
        },
        {
            "cell_type": "code",
            "source": [
                "USE TSQLV6\r\n",
                "SELECT\r\n",
                "  YEAR(orderdate) AS orderyear,\r\n",
                "  COUNT(DISTINCT custid) AS numcusts\r\n",
                "FROM Sales.Orders\r\n",
                "GROUP BY YEAR (orderdate);\r\n",
                "\r\n",
                "USE Northwinds2022TSQLV7\r\n",
                "SELECT\r\n",
                "  YEAR(OrderDate) AS OrderYear,\r\n",
                "  COUNT(DISTINCT CustomerId) AS NumCusts\r\n",
                "FROM Sales.[Order]\r\n",
                "GROUP BY YEAR (OrderDate);\r\n",
                "\r\n",
                ""
            ],
            "metadata": {
                "language": "sql",
                "azdata_cell_guid": "e34b23c5-72e4-45e3-854d-ca19c5f21e10"
            },
            "outputs": [],
            "execution_count": null
        },
        {
            "cell_type": "markdown",
            "source": [
                "### QUESTION 2- Query with Nested Derived Tables\r\n",
                "\r\n",
                "**PROPOSITION:** Write a query that returns the order years and the corresponding count of distinct customers, where the count exceeds 70, derived from the Sales.[Order] table.\r\n",
                "\r\n",
                "**TABLES:** Northwinds2022TSQLV7 Database and Sales.[Order] table.\r\n",
                "\r\n",
                "**COLUMN:** OrderDate and CustomerId from the Sales.[Order] table.\r\n",
                "\r\n",
                "**PREDICATE:** Select rows from the Sales.[Order] table, pair each order's year extracted from the OrderDate column using the YEAR() function with its corresponding CustomerId values to construct a derived table D1. Then, within the derived table D2, group the results by year, and filter to retrieve only those rows where the count of distinct customers exceeds 70."
            ],
            "metadata": {
                "language": "sql",
                "azdata_cell_guid": "4df13fbd-0ba7-42c4-bb00-b8a5f57ba0f9"
            },
            "attachments": {}
        },
        {
            "cell_type": "code",
            "source": [
                "USE TSQLV6\r\n",
                "SELECT orderyear, numcusts\r\n",
                "FROM (SELECT orderyear, COUNT(DISTINCT custid) AS numcusts\r\n",
                "      FROM (SELECT YEAR(orderdate) AS orderyear, custid\r\n",
                "            FROM Sales.Orders) AS D1\r\n",
                "      GROUP BY orderyear) AS D2\r\n",
                "WHERE numcusts > 70;\r\n",
                "\r\n",
                "USE Northwinds2022TSQLV7\r\n",
                "SELECT OrderYear, NumCusts\r\n",
                "FROM (SELECT OrderYear, COUNT(DISTINCT CustomerId) AS NumCusts\r\n",
                "      FROM (SELECT YEAR(OrderDate) AS OrderYear, CustomerId\r\n",
                "            FROM Sales.[Order]) AS D1\r\n",
                "      GROUP BY OrderYear) AS D2\r\n",
                "WHERE NumCusts > 70;\r\n",
                ""
            ],
            "metadata": {
                "language": "sql",
                "azdata_cell_guid": "e5988e28-04f3-439e-986b-ad47239404e9"
            },
            "outputs": [],
            "execution_count": null
        },
        {
            "cell_type": "markdown",
            "source": [
                "### QUESTION 3- External column aliasing\r\n",
                "\r\n",
                "**PROPOSITION:** Write a query that returns the count of distinct customers per year by extracting the year from order dates in the Sales.[Order] table and grouping the results by year.\"\r\n",
                "\r\n",
                "**TABLES:** Northwinds2022TSQLV7 Database and Sales.[Order] table.\r\n",
                "\r\n",
                "**COLUMN:** OrderDate and CustomerId from the Sales.[Order] table.\r\n",
                "\r\n",
                "**PREDICATE:** Select rows from the Sales.[Order] table, group them by the year extracted from the OrderDate column using the YEAR() function, and calculate the count of distinct CustomerId values for each year."
            ],
            "metadata": {
                "language": "sql",
                "azdata_cell_guid": "87d0a33b-a19f-42d2-9d9f-a05ac73e3fc3"
            },
            "attachments": {}
        },
        {
            "cell_type": "code",
            "source": [
                "USE TSQLV6;\r\n",
                "WITH C(orderyear, custid) AS\r\n",
                "(\r\n",
                "  SELECT YEAR(orderdate), custid\r\n",
                "  FROM Sales.Orders\r\n",
                ")\r\n",
                "SELECT orderyear, COUNT(DISTINCT custid) AS numcusts\r\n",
                "FROM C\r\n",
                "GROUP BY orderyear;\r\n",
                "GO\r\n",
                "\r\n",
                "USE Northwinds2022TSQLV7;\r\n",
                "WITH C(OrderYear, CustomerId) AS\r\n",
                "(\r\n",
                "  SELECT YEAR(OrderDate), CustomerId\r\n",
                "  FROM Sales.[Order]\r\n",
                ")\r\n",
                "SELECT OrderYear, COUNT(DISTINCT CustomerId ) AS NumCusts\r\n",
                "FROM C\r\n",
                "GROUP BY OrderYear;\r\n",
                "GO\r\n",
                "\r\n",
                ""
            ],
            "metadata": {
                "language": "sql",
                "azdata_cell_guid": "d5f0817b-992c-4996-b668-d0e916540e4e",
                "tags": []
            },
            "outputs": [],
            "execution_count": null
        },
        {
            "cell_type": "markdown",
            "source": [
                "### QUESTION 4- Creating USACusts View\r\n",
                "\r\n",
                "**PROPOSITION:** Create or update a view named Sales.USACusts to store details of customers from the USA, including their CustomerId and CompanyName. Then, display CustomerId and CustomerCompanyName from the Sales.USACusts view.\r\n",
                "\r\n",
                "**TABLES:** Northwinds2022TSQLV7 Database and Sales.Customer table.\r\n",
                "\r\n",
                "**COLUMN:** CustomerId and CustomerCompanyName from the Sales.Customer table.\r\n",
                "\r\n",
                "**VIEW:** Sales.USACusts view\r\n",
                "\r\n",
                "**ATTRIBUTES:** CustomerId and CustomerCompanyName are extracted from the Sales.USACusts view.\r\n",
                "\r\n",
                "**PREDICATE:** Select rows from the Sales.USACusts view, where Customer Country is USA.\r\n",
                ""
            ],
            "metadata": {
                "language": "sql",
                "azdata_cell_guid": "45c88c1e-d2c4-4182-97dd-e8a90d7608f3"
            },
            "attachments": {}
        },
        {
            "cell_type": "code",
            "source": [
                "USE TSQLV6;\r\n",
                "GO\r\n",
                "CREATE OR ALTER VIEW Sales.USACusts\r\n",
                "AS\r\n",
                "SELECT\r\n",
                "  custid, companyname, contactname, contacttitle, address,\r\n",
                "  city, region, postalcode, country, phone, fax\r\n",
                "FROM Sales.Customers\r\n",
                "WHERE country = N'USA';\r\n",
                "GO\r\n",
                "\r\n",
                "SELECT custid, companyname\r\n",
                "FROM Sales.USACusts;\r\n",
                "GO\r\n",
                "\r\n",
                "USE Northwinds2022TSQLV7\r\n",
                "GO\r\n",
                "CREATE OR ALTER VIEW Sales.USACusts\r\n",
                "AS\r\n",
                "SELECT\r\n",
                "  CustomerId, CustomerCompanyName, CustomerContactName, CustomerContactTitle, CustomerAddress,\r\n",
                "  CustomerCity, CustomerRegion, CustomerPostalCode, CustomerCountry, CustomerPhoneNumber, CustomerFaxNumber\r\n",
                "FROM Sales.Customer\r\n",
                "WHERE CustomerCountry = N'USA';\r\n",
                "GO\r\n",
                "\r\n",
                "SELECT CustomerId, CustomerCompanyName\r\n",
                "FROM Sales.USACusts;\r\n",
                "GO\r\n",
                ""
            ],
            "metadata": {
                "language": "sql",
                "azdata_cell_guid": "f51dcf41-9c29-40ca-9ff1-efc2f408b96c",
                "tags": []
            },
            "outputs": [],
            "execution_count": null
        },
        {
            "cell_type": "markdown",
            "source": [
                "### QUESTION 6- ENCRYPTION\n",
                "\n",
                "**PROPOSITION:** Write a query that returns the definition of the Sales.USACusts view, which contains the details of customers located in the USA.\n",
                "\n",
                "**TABLES:** Northwinds2022TSQLV7 Database. No tables were used.\n",
                "\n",
                "**COLUMN:** n/a\n",
                "\n",
                "**VIEW:** Sales.USACusts view\n",
                "\n",
                "**ATTRIBUTES:** CustomerId, CustomerCompanyName, CustomerContactName, CustomerContactTitle, CustomerAddress, CustomerRegion, CustomerPostalCode, CustomerCountry, CustomerPhoneNumber, and CustomerFaxNumber are extracted from the Sales.USACusts view\n",
                "\n",
                "**PREDICATE:** Select the definition of the Sales.USACusts view from the database by querying its object definition using the OBJECT_DEFINITION function with the object ID parameter OBJECT_ID('Sales.USACusts')."
            ],
            "metadata": {
                "language": "sql",
                "azdata_cell_guid": "24fee8e6-0900-48fd-b82b-c85d68bb7254"
            },
            "attachments": {}
        },
        {
            "cell_type": "code",
            "source": [
                "Use TSQLV6\r\n",
                "SELECT OBJECT_DEFINITION(OBJECT_ID('Sales.USACusts'));\r\n",
                "\r\n",
                "Use Northwinds2022TSQLV7\r\n",
                "SELECT OBJECT_DEFINITION(OBJECT_ID('Sales.USACusts'));"
            ],
            "metadata": {
                "language": "sql",
                "azdata_cell_guid": "b32fa92b-8736-4480-ab9b-6546189f94b7"
            },
            "outputs": [],
            "execution_count": null
        },
        {
            "cell_type": "markdown",
            "source": [
                "### QUESTION 7- But when you query the view, you won't see it\r\n",
                "\r\n",
                "**PROPOSITION:** Create or update a view named Sales.USACusts to store details of USA-based customers from the Sales.Customer table. Then, select and display CustomerId, CustomerCompanyName, and CustomerCountry for the customer named 'Customer ABCDE' from the Sales.USACusts view.\r\n",
                "\r\n",
                "**TABLES:** Northwinds2022TSQLV7 Database, Sales.Customer table.\r\n",
                "\r\n",
                "**COLUMN:** CustomerId, CustomerCompanyName, CustomerContactName, CustomerContactTitle, CustomerAddress, CustomerCity, CustomerRegion, CustomerPostalCode, CustomerCountry, CustomerPhoneNumber, and CustomerFaxNumber from the Sales.Customer table.\r\n",
                "\r\n",
                "**VIEW:** Sales.USACusts view\r\n",
                "\r\n",
                "**ATTRIBUTES:** CustomerId, CustomerCompanyName, CustomerContactName, CustomerContactTitle, CustomerAddress, CustomerRegion, CustomerPostalCode, CustomerCountry, CustomerPhoneNumber, and CustomerFaxNumber are extracted from the Sales.USACusts view\r\n",
                "\r\n",
                "**PREDICATE:** Select rows from the Sales.Customer table where the CustomerCountry column equals 'USA', and using this filtered data to create or alter the Sales.USACusts view. Then, the query selects CustomerId, CustomerCompanyName, and CustomerCountry columns from the Sales.USACusts view.\r\n",
                ""
            ],
            "metadata": {
                "language": "sql",
                "azdata_cell_guid": "b26f5aad-a104-48e4-8d96-7be53f73d707"
            },
            "attachments": {}
        },
        {
            "cell_type": "code",
            "source": [
                "USE TSQLV6;\r\n",
                "GO\r\n",
                "CREATE OR ALTER VIEW Sales.USACusts\r\n",
                "AS\r\n",
                "SELECT\r\n",
                "  custid, companyname, contactname, contacttitle, address,\r\n",
                "  city, region, postalcode, country, phone, fax\r\n",
                "FROM Sales.Customers\r\n",
                "WHERE country = N'USA';\r\n",
                "GO\r\n",
                "\r\n",
                "SELECT custid, companyname, country\r\n",
                "FROM Sales.USACusts\r\n",
                "WHERE companyname = N'Customer ABCDE';\r\n",
                "\r\n",
                "USE Northwinds2022TSQLV7\r\n",
                "GO\r\n",
                "CREATE OR ALTER VIEW Sales.USACusts\r\n",
                "AS\r\n",
                "SELECT\r\n",
                "  CustomerId, CustomerCompanyName, CustomerContactName, CustomerContactTitle, CustomerAddress,\r\n",
                "  CustomerCity, CustomerRegion, CustomerPostalCode, CustomerCountry, CustomerPhoneNumber, CustomerFaxNumber\r\n",
                "FROM Sales.Customer\r\n",
                "WHERE CustomerCountry = N'USA';\r\n",
                "GO\r\n",
                "SELECT CustomerId, CustomerCompanyName, CustomerCountry\r\n",
                "FROM Sales.USACusts\r\n",
                "WHERE CustomerCompanyName= N'Customer ABCDE';\r\n",
                ""
            ],
            "metadata": {
                "language": "sql",
                "azdata_cell_guid": "c1f1cfbe-834e-40d5-bf15-2c9c74253ccb"
            },
            "outputs": [],
            "execution_count": null
        },
        {
            "cell_type": "markdown",
            "source": [
                "### QUESTION 8- Creating GetCustOrders function\r\n",
                "\r\n",
                "<img src=\"https://static.vecteezy.com/system/resources/previews/022/841/114/non_2x/chatgpt-logo-transparent-background-free-png.png\" alt=\"AI\" width=\"20\" height=\"20\"> *Written in collaboration with ChatGPT from OpenAI to improve understanding and assist with the explanation of the query.*\r\n",
                "\r\n",
                "**PROPOSITION:** Create or update a function named dbo.GetCustOrders in the Northwinds2022TSQLV7 database. The function takes an input parameter @cid representing a CustomerId and returns a table containing columns orderid, CustomerId, EmployeeId, OrderDate, RequiredDate, ShipToDate, ShipperId, Freight, ShipToName, ShipToAddress, ShipToCity, ShipToRegion, ShipToPostalCode, and ShipToCountry from the Sales.[Order] table, filtered to only include rows where the CustomerId matches the input parameter @cid.\r\n",
                "\r\n",
                "**TABLES:** Northwinds2022TSQLV7 Database, Sales.[Order] table.\r\n",
                "\r\n",
                "**COLUMN:** Orderid, CustomerId, EmployeeId, OrderDate, RequiredDate, ShipToDate, ShipperId, Freight, ShipToName, ShipToAddress, ShipToCity, ShipToRegion, ShipToPostalCode, and ShipToCountry are selected from the Sales.[Order] table.\r\n",
                "\r\n",
                "**VIEW:** Sales.USACusts view\r\n",
                "\r\n",
                "**ATTRIBUTES:** Orderid, CustomerId, EmployeeId, OrderDate, RequiredDate, ShipToDate, ShipperId, Freight, ShipToName, ShipToAddress, ShipToCity, ShipToRegion, ShipToPostalCode, and ShipToCountry are extracted from the Sales.[Order] table to be included in the dbo.GetCustOrders view.\r\n",
                "\r\n",
                "**TABLE-VALUED FUNCTION:** dbo.GetCustOrders\r\n",
                "\r\n",
                "**PARAMETER:** @cid is used in the dbo.GetCustOrders function\r\n",
                "\r\n",
                "**PREDICATE:** Select the rows from the Sales.[Order] table where the CustomerId column matches the input parameter @cid specified in the dbo.GetCustOrders function."
            ],
            "metadata": {
                "language": "sql",
                "azdata_cell_guid": "60a019c1-9893-4d2b-aacd-2095ce02b749"
            },
            "attachments": {}
        },
        {
            "cell_type": "code",
            "source": [
                "USE TSQLV6;\r\n",
                "GO\r\n",
                "CREATE OR ALTER FUNCTION dbo.GetCustOrders\r\n",
                "  (@cid AS INT) RETURNS TABLE\r\n",
                "AS\r\n",
                "RETURN\r\n",
                "  SELECT orderid, custid, empid, orderdate, requireddate,\r\n",
                "    shippeddate, shipperid, freight, shipname, shipaddress, shipcity,\r\n",
                "    shipregion, shippostalcode, shipcountry\r\n",
                "  FROM Sales.Orders\r\n",
                "  WHERE custid = @cid;\r\n",
                "GO\r\n",
                "\r\n",
                "USE Northwinds2022TSQLV7;\r\n",
                "GO\r\n",
                "CREATE OR ALTER FUNCTION dbo.GetCustOrders\r\n",
                "  (@cid AS INT) RETURNS TABLE\r\n",
                "AS\r\n",
                "RETURN\r\n",
                "  SELECT Orderid, CustomerId, EmployeeId, OrderDate, RequiredDate,\r\n",
                "    ShipToDate, ShipperId, Freight, ShipToName, ShipToAddress, ShipToCity,\r\n",
                "    ShipToRegion, ShipToPostalCode, ShipToCountry\r\n",
                "  FROM Sales.[Order]\r\n",
                "  WHERE CustomerId = @cid;\r\n",
                "GO\r\n",
                ""
            ],
            "metadata": {
                "language": "sql",
                "azdata_cell_guid": "59f96fbc-9397-4a93-b0fc-3aaab1b222a9",
                "tags": []
            },
            "outputs": [],
            "execution_count": null
        },
        {
            "cell_type": "markdown",
            "source": [
                "### QUESTION 9- Apply\r\n",
                "\r\n",
                "**PROPOSITION:** Write a query that returns the ShipperId from the Sales.Shipper table and pairs it with the EmployeeId from the HumanResources.Employee table using the CROSS APPLY operator.\r\n",
                "\r\n",
                "**TABLES:** Northwinds2022TSQLV7 Database, Sales.Shipper and HumanResources.Employee\r\n",
                "\r\n",
                "**COLUMN:** ShipperId is selected from the Sales.Shipper table and paired with the EmployeeId column from the HumanResources.Employee table.\r\n",
                "\r\n",
                "**PREDICATE:** Select the ShipperId column from the Sales.Shipper table and pairi it with the EmployeeId column from the HumanResources.Employee table using the CROSS APPLY operator.\""
            ],
            "metadata": {
                "language": "sql",
                "azdata_cell_guid": "f9dd65a0-1f70-4529-9725-4e7b94ca4545"
            },
            "attachments": {}
        },
        {
            "cell_type": "code",
            "source": [
                "USE TSQLV6\r\n",
                "SELECT S.shipperid, E.empid\r\n",
                "FROM Sales.Shippers AS S\r\n",
                "  CROSS APPLY HR.Employees AS E;\r\n",
                "\r\n",
                "USE Northwinds2022TSQLV7\r\n",
                "SELECT S.ShipperId, E.EmployeeId\r\n",
                "FROM Sales.Shipper AS S\r\n",
                "  CROSS APPLY HumanResources.Employee AS E;\r\n",
                ""
            ],
            "metadata": {
                "language": "sql",
                "azdata_cell_guid": "d704df54-d556-4d8d-a67a-e0098da3ec39",
                "tags": []
            },
            "outputs": [],
            "execution_count": null
        },
        {
            "cell_type": "markdown",
            "source": [
                "### Question 10- Creation Script for the Function TopOrders\r\n",
                "\r\n",
                "**PROPOSITION:** Write a query that returns the CustomerId, CustomerCompanyName, OrderId, EmployeeId, OrderDate, and RequiredDate from the Sales.Customer table, paired with the top 3 orders for each customer obtained through the dbo.TopOrders function.\r\n",
                "\r\n",
                "**TABLES:** Northwinds2022TSQLV7 Database and Sales.Customer table \r\n",
                "\r\n",
                "**COLUMN:** CustomerId and CustomerCompanyName from the Sales.Customer table\r\n",
                "\r\n",
                "**VIEW:**  Sales.USACusts\r\n",
                "\r\n",
                "**ATTRIBUTES** CustomerId, CustomerCompanyName, CustomerContactName, CustomerContactTitle, CustomerAddress, CustomerCity, CustomerRegion, CustomerPostalCode, CustomerCountry, CustomerPhoneNumber, and CustomerFaxNumber are included in the Sales.USACusts view\r\n",
                "\r\n",
                "**PREDICATE:** Select rows from the Sales.Customer table where the CustomerCountry attribute is equal to 'USA', thus filtering customers based on their country of origin to populate the Sales.USACusts view."
            ],
            "metadata": {
                "language": "sql",
                "azdata_cell_guid": "c556e779-84c6-45e0-bcd0-d55fc3290ede"
            },
            "attachments": {}
        },
        {
            "cell_type": "code",
            "source": [
                "USE TSQLV6\r\n",
                "SELECT\r\n",
                "  C.custid, C.companyname,\r\n",
                "  A.orderid, A.empid, A.orderdate, A.requireddate \r\n",
                "FROM Sales.Customers AS C\r\n",
                "  CROSS APPLY dbo.TopOrders(C.custid, 3) AS A;\r\n",
                "\r\n",
                "USE Northwinds2022TSQLV7;\r\n",
                "SELECT\r\n",
                "  C.CustomerId, C.CustomerCompanyName,\r\n",
                "  A.OrderId, A.EmployeeId, A.OrderDate, A.RequiredDate \r\n",
                "FROM Sales.Customer AS C\r\n",
                "  CROSS APPLY dbo.TopOrders(C.CustomerId, 3) AS A;"
            ],
            "metadata": {
                "language": "sql",
                "azdata_cell_guid": "f953c25c-926b-4972-aaa2-e94b664e8c7e",
                "tags": []
            },
            "outputs": [],
            "execution_count": null
        },
        {
            "cell_type": "markdown",
            "source": [
                "##"
            ],
            "metadata": {
                "language": "sql",
                "azdata_cell_guid": "3a8e73fc-3a0f-4263-a581-7f59d455bc18"
            },
            "attachments": {}
        }
    ]
}