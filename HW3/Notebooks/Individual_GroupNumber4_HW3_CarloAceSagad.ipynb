{
    "metadata": {
        "kernelspec": {
            "name": "SQL",
            "display_name": "SQL",
            "language": "sql"
        },
        "language_info": {
            "name": "sql",
            "version": ""
        }
    },
    "nbformat_minor": 2,
    "nbformat": 4,
    "cells": [
        {
            "cell_type": "markdown",
            "source": [
                "# <u>**My Top 5 Queries**</u>"
            ],
            "metadata": {
                "azdata_cell_guid": "30db2357-b796-4d40-a7e0-5f04f953936b"
            },
            "attachments": {}
        },
        {
            "cell_type": "markdown",
            "source": [
                "## **Chapter 4 Query 6**\r\n",
                "<img src=\"https://static.vecteezy.com/system/resources/previews/022/841/114/non_2x/chatgpt-logo-transparent-background-free-png.png\" alt=\"AI\" width=\"20\" height=\"20\"> _Written in collaboration with ChatGPT from OpenAI to improve understanding and assist with the explanation of the query_\r\n",
                "- Proposition: Retrieves distinct customers who placed orders in 2021 but not in 2022, leveraging the Sales.Customer and Sales.[Order] tables.\r\n",
                "- Tables: The query interacts with the Sales.Customer and Sales.[Order] tables.\r\n",
                "- Columns: The selected columns include CustomerId and CustomerCompanyName from the Sales.Customer table.\r\n",
                "- Predicate: The query employs JOIN operations on the Sales.Customer and Sales.[Order] tables, filtering orders based on the order year. It uses a subquery to identify customers who placed orders in 2022, ensuring that only those who did not place orders in that year are included.\r\n",
                "- The SQL query efficiently identifies distinct customers who made purchases in 2021 but not in 2022 by utilizing JOIN operations between Sales.Customer and Sales.[Order] tables, connecting them based on CustomerId. With a concise WHERE clause filtering orders from 2021 and a subquery excluding customers with 2022 orders using NOT IN, the query provides a succinct and readable solution to this common scenario.\r\n",
                ""
            ],
            "metadata": {
                "azdata_cell_guid": "b63987a3-fa4f-4ffe-a691-4d020dd81c09"
            },
            "attachments": {}
        },
        {
            "cell_type": "code",
            "source": [
                "USE TSQLV6;\r\n",
                "SELECT DISTINCT\r\n",
                "    C.custid AS custid,\r\n",
                "    C.CompanyName\r\n",
                "FROM\r\n",
                "    Sales.Customers AS C\r\n",
                "JOIN\r\n",
                "    Sales.Orders AS O1 ON C.custid = O1.custid\r\n",
                "WHERE\r\n",
                "    YEAR(O1.OrderDate) = 2021\r\n",
                "    AND C.custid NOT IN (\r\n",
                "        SELECT\r\n",
                "            C2.custid\r\n",
                "        FROM\r\n",
                "            Sales.Customers AS C2\r\n",
                "        JOIN\r\n",
                "            Sales.Orders AS O2 ON C2.custid = O2.custid\r\n",
                "        WHERE\r\n",
                "            YEAR(O2.OrderDate) = 2022\r\n",
                "    );\r\n",
                "--no result here because there are no customers \r\n",
                "-- who placed orders in 2021 and did not place any orders in 2022 in NorthWinds2022TSQLV7 database\r\n",
                "USE Northwinds2022TSQLV7;\r\n",
                "SELECT DISTINCT\r\n",
                "    C.CustomerId AS custid,\r\n",
                "    C.CustomerCompanyName\r\n",
                "FROM\r\n",
                "    Sales.Customer AS C\r\n",
                "JOIN\r\n",
                "    Sales.[Order] AS O1 ON C.CustomerId = O1.CustomerId\r\n",
                "WHERE\r\n",
                "    YEAR(O1.OrderDate) = 2021\r\n",
                "    AND C.CustomerId NOT IN (\r\n",
                "        SELECT\r\n",
                "            C2.CustomerId\r\n",
                "        FROM\r\n",
                "            Sales.Customer AS C2\r\n",
                "        JOIN\r\n",
                "            Sales.[Order] AS O2 ON C2.CustomerId = O2.CustomerId\r\n",
                "        WHERE\r\n",
                "            YEAR(O2.OrderDate) = 2022\r\n",
                "    );"
            ],
            "metadata": {
                "azdata_cell_guid": "4121efb4-dc8a-486b-9462-e0461a3ee4d5",
                "language": "sql"
            },
            "outputs": [],
            "execution_count": null
        },
        {
            "cell_type": "markdown",
            "source": [
                "## **Chapter 4 Query 10**\r\n",
                "- Proposition: Retrieves a list of all customers' orders, providing the OrderId, OrderDate, and the difference in days between each order and the customer's previous order.\r\n",
                "- Tables: The query interacts with the Sales.[Order] table.\r\n",
                "- Columns: The SELECT clause includes CustomerId, OrderDate, OrderID, and the calculated difference in days (diff).\r\n",
                "- Predicate: The query employs the LAG function within a Common Table Expression (CTE) named OrderedOrders. This function is used to retrieve the previous order date for each customer, partitioned by CustomerId and ordered by OrderDate and OrderID. The main SELECT statement then calculates the difference in days between the current order and the previous order for each customer.\r\n",
                "- This SQL code is special because it efficiently calculates the time difference in days between each customer's consecutive orders using the LAG window function, providing a concise analysis of order recency in the Sales.[Order] table.\r\n",
                ""
            ],
            "metadata": {
                "language": "sql",
                "azdata_cell_guid": "b070667c-1a25-4496-806a-9f26f6174e83"
            },
            "attachments": {}
        },
        {
            "cell_type": "code",
            "source": [
                "USE TSQLV6; \r\n",
                "\r\n",
                "WITH OrderedOrders AS (\r\n",
                "    SELECT \r\n",
                "        custid,\r\n",
                "        OrderID,\r\n",
                "        OrderDate,\r\n",
                "        LAG(OrderDate) OVER (PARTITION BY custid ORDER BY OrderDate, OrderID) AS PrevOrderDate\r\n",
                "    FROM \r\n",
                "        Sales.Orders\r\n",
                ")\r\n",
                "\r\n",
                "SELECT \r\n",
                "    custid AS custid,\r\n",
                "    OrderDate,\r\n",
                "    OrderID,\r\n",
                "    DATEDIFF(day, PrevOrderDate, OrderDate) AS diff\r\n",
                "FROM \r\n",
                "    OrderedOrders\r\n",
                "ORDER BY \r\n",
                "    custid, OrderDate;\r\n",
                "\r\n",
                "USE Northwinds2022TSQLV7;\r\n",
                "WITH OrderedOrders AS (\r\n",
                "    SELECT \r\n",
                "        CustomerId,\r\n",
                "        OrderId,\r\n",
                "        OrderDate,\r\n",
                "        LAG(OrderDate) OVER (PARTITION BY CustomerId ORDER BY OrderDate, OrderID) AS PrevOrderDate\r\n",
                "    FROM \r\n",
                "        Sales.[Order]\r\n",
                ")\r\n",
                "\r\n",
                "SELECT \r\n",
                "    CustomerId AS CustomerId,\r\n",
                "    OrderDate,\r\n",
                "    OrderID,\r\n",
                "    DATEDIFF(day, PrevOrderDate, OrderDate) AS diff\r\n",
                "FROM \r\n",
                "    OrderedOrders\r\n",
                "ORDER BY \r\n",
                "    CustomerId, OrderDate;\r\n",
                ""
            ],
            "metadata": {
                "language": "sql",
                "azdata_cell_guid": "723724d5-dda5-4c71-935e-8cf313b49cef"
            },
            "outputs": [],
            "execution_count": null
        },
        {
            "cell_type": "markdown",
            "source": [
                "## **Query**\r\n",
                "\r\n",
                "- Proposition: Retrieves the order IDs associated with employees whose last names start with the letter 'D' from the HumanResources.Employee and Sales.Order tables.\r\n",
                "- Tables: The query interacts with both the HumanResources.Employee and Sales.Order tables.\r\n",
                "- Columns: The selected column is O.orderid.\r\n",
                "- Predicate: The query employs an INNER JOIN clause to link the HumanResources.Employee table (aliased as E) with the Sales.Order table (aliased as O) based on the common EmployeeId column. The WHERE clause further filters the results to include only those rows where the employee's last name starts with 'D'.\r\n",
                "- This SQL code is special because it retrieves order IDs from the Sales.[Order] table where the associated employees' last names start with 'D'. It showcases the concise use of an INNER JOIN and a WHERE clause for targeted data extraction."
            ],
            "metadata": {
                "language": "sql",
                "azdata_cell_guid": "d7a7f275-b4cd-40f6-8741-455c13dd0fc8"
            },
            "attachments": {}
        },
        {
            "cell_type": "code",
            "source": [
                "USE TSQLV6;\r\n",
                "SELECT O.orderid\r\n",
                "FROM HR.Employees AS E\r\n",
                "  INNER JOIN Sales.Orders AS O\r\n",
                "    ON E.empid = O.empid\r\n",
                "WHERE E.lastname LIKE N'D%';\r\n",
                "\r\n",
                "USE Northwinds2022TSQLV7;\r\n",
                "SELECT O.orderid\r\n",
                "FROM HumanResources.Employee AS E\r\n",
                "  INNER JOIN Sales.[Order] AS O\r\n",
                "    ON E.EmployeeId = O.EmployeeId\r\n",
                "WHERE E.EmployeeLastName LIKE N'D%';"
            ],
            "metadata": {
                "language": "sql",
                "azdata_cell_guid": "18d10df3-0ca5-41f3-b33e-b46fd062463d"
            },
            "outputs": [],
            "execution_count": null
        },
        {
            "cell_type": "markdown",
            "source": [
                "## **Query**\r\n",
                "\r\n",
                "- Proposition: Retrieves a list of all customers with their corresponding CustomerId, CustomerCompanyName, and CustomerRegion information from the Sales.USACusts View then extracts data from Sales.Customer table.\r\n",
                "- Tables/Views: The query interacts with the Sales.USACusts view. This view extracts data from the Sales.Customer table\r\n",
                "- Columns: The selected columns include CustomerId, CustomerCompanyName, and CustomerRegion.\r\n",
                "- Predicate: The query does not apply any specific predicate or filtering condition to restrict the results, thus fetching all records from the Sales.Customer table.\r\n",
                "- This code is special because it retrieves customer information from the \"Sales.USACusts\" view, which filters customers based on the 'USA' condition. This streamlined query simplifies access to data for USA-based customers, enhancing code readability and reusability."
            ],
            "metadata": {
                "language": "sql",
                "azdata_cell_guid": "10b5240d-6d4d-42aa-b605-227f9f839154"
            },
            "attachments": {}
        },
        {
            "cell_type": "code",
            "source": [
                "-- Query USACusts\r\n",
                "USE TSQLV6;\r\n",
                "SELECT custid, companyname, region\r\n",
                "FROM Sales.USACusts;\r\n",
                "GO\r\n",
                "\r\n",
                "USE Northwinds2022TSQLV7;\r\n",
                "SELECT CustomerId, CustomerCompanyName, CustomerRegion\r\n",
                "FROM Sales.USACusts;\r\n",
                "GO\r\n",
                ""
            ],
            "metadata": {
                "language": "sql",
                "azdata_cell_guid": "15d4f065-337f-4ab1-b1bc-4dc328021830"
            },
            "outputs": [],
            "execution_count": null
        },
        {
            "cell_type": "markdown",
            "source": [
                "## **Query**\r\n",
                "\r\n",
                "- Proposition: Retrieves all possible combinations of pairs between shippers and employees, utilizing a CROSS JOIN clause to generate a Cartesian product between the Sales.Shipper and HumanResources.Employee tables.\r\n",
                "- Tables: The query interacts with the Sales.Shipper and HumanResources.Employee tables.\r\n",
                "- Columns: The selected columns include ShipperId from the Sales.Shipper table and EmployeeId from the HumanResources.Employee table.\r\n",
                "- Predicate: The query employs a CROSS JOIN clause to combine every row from the Sales.Shipper table (as S) with every row from the HumanResources.Employee table (as E), resulting in all possible combinations of shippers and employees.\r\n",
                "- This SQL code is notable for employing a CROSS JOIN between the Sales.Shipper and HumanResources.Employee tables, resulting in a Cartesian product of all possible combinations of shippers and employees. This type of join generates a set where each row from the first table is combined with every row from the second table, producing a comprehensive list of pairings. The query provides a concise way to explore all potential combinations between shippers and employees in the specified tables.\r\n",
                ""
            ],
            "metadata": {
                "language": "sql",
                "azdata_cell_guid": "2e11e15e-44a8-459d-add4-fda018ef1a61"
            },
            "attachments": {}
        },
        {
            "cell_type": "code",
            "source": [
                "-- APPLY\r\n",
                "USE TSQLV6;\r\n",
                "SELECT S.shipperid, E.empid\r\n",
                "FROM Sales.Shippers AS S\r\n",
                "  CROSS JOIN HR.Employees AS E;\r\n",
                "\r\n",
                "USE Northwinds2022TSQLV7;\r\n",
                "SELECT S.ShipperId, E.EmployeeId\r\n",
                "FROM Sales.Shipper AS S\r\n",
                "  CROSS JOIN HumanResources.Employee AS E;"
            ],
            "metadata": {
                "language": "sql",
                "azdata_cell_guid": "2063dd88-c600-422b-8442-8a517d507e3c"
            },
            "outputs": [],
            "execution_count": null
        },
        {
            "cell_type": "markdown",
            "source": [
                "# <u>**Chapter 04 - Subqueries**</u>"
            ],
            "metadata": {
                "language": "sql",
                "azdata_cell_guid": "ed064839-70eb-41d7-8fe0-ce91e7819ff5"
            },
            "attachments": {}
        },
        {
            "cell_type": "markdown",
            "source": [
                "<img src=\"https://static.vecteezy.com/system/resources/previews/022/841/114/non_2x/chatgpt-logo-transparent-background-free-png.png\" alt=\"AI\" width=\"20\" height=\"20\"> _Written in collaboration with ChatGPT from OpenAI to improve understanding and assist with the explanation of the query_\r\n",
                "- Proposition: Retrieves the details of the latest order along with its associated employee and customer information from the Sales.Order table.\r\n",
                "- Table: The query interacts with the Sales.Order table.\r\n",
                "- Columns: The selected columns include OrderId, OrderDate, EmployeeId, and CustomerId.\r\n",
                "- Predicate: The WHERE clause filters the results to only include the order with the highest OrderId value, effectively retrieving the latest order placed.\r\n",
                ""
            ],
            "metadata": {
                "language": "sql",
                "azdata_cell_guid": "b2281180-4eeb-458c-b256-7a290c5359d4"
            },
            "attachments": {}
        },
        {
            "cell_type": "code",
            "source": [
                "-- Order with the maximum order ID\r\n",
                "USE TSQLV6;\r\n",
                "\r\n",
                "DECLARE @maxid AS INT = (SELECT MAX(orderid)\r\n",
                "                         FROM Sales.Orders);\r\n",
                "\r\n",
                "SELECT orderid, orderdate, empid, custid\r\n",
                "FROM Sales.Orders\r\n",
                "WHERE orderid = @maxid;\r\n",
                "\r\n",
                "SELECT orderid, orderdate, empid, custid\r\n",
                "FROM Sales.Orders\r\n",
                "WHERE orderid = (SELECT MAX(O.orderid)\r\n",
                "                 FROM Sales.Orders AS O);\r\n",
                "\r\n",
                "\r\n",
                "USE Northwinds2022TSQLV7;\r\n",
                "DECLARE @maxid2 AS INT = (SELECT MAX(orderid)\r\n",
                "                         FROM Sales.[Order]);\r\n",
                "\r\n",
                "SELECT OrderId, OrderDate, EmployeeId, CustomerId\r\n",
                "FROM Sales.[Order]\r\n",
                "WHERE OrderId = @maxid2;\r\n",
                "\r\n",
                "SELECT OrderId, OrderDate, EmployeeId, CustomerId\r\n",
                "FROM Sales.[Order]\r\n",
                "WHERE OrderId = (SELECT MAX(O.OrderId)\r\n",
                "                 FROM Sales.[Order] AS O);"
            ],
            "metadata": {
                "language": "sql",
                "azdata_cell_guid": "02f18cb8-a230-40b2-97e4-d8163ff6e7f5",
                "tags": []
            },
            "outputs": [],
            "execution_count": null
        },
        {
            "cell_type": "markdown",
            "source": [
                "\r\n",
                "- Proposition: Retrieves the order IDs associated with employees whose last names start with the letter 'D' from the HumanResources.Employee and Sales.Order tables.\r\n",
                "- Tables: The query interacts with both the HumanResources.Employee and Sales.Order tables.\r\n",
                "- Columns: The selected column is O.orderid.\r\n",
                "- Predicate: The query employs an INNER JOIN clause to link the HumanResources.Employee table (aliased as E) with the Sales.Order table (aliased as O) based on the common EmployeeId column. The WHERE clause further filters the results to include only those rows where the employee's last name starts with 'D'.\r\n",
                ""
            ],
            "metadata": {
                "language": "sql",
                "azdata_cell_guid": "b52483f1-0c46-45a5-b593-7a7a9a2e183e"
            },
            "attachments": {}
        },
        {
            "cell_type": "code",
            "source": [
                "USE TSQLV6;\r\n",
                "SELECT O.orderid\r\n",
                "FROM HR.Employees AS E\r\n",
                "  INNER JOIN Sales.Orders AS O\r\n",
                "    ON E.empid = O.empid\r\n",
                "WHERE E.lastname LIKE N'D%';\r\n",
                "\r\n",
                "USE Northwinds2022TSQLV7;\r\n",
                "SELECT O.orderid\r\n",
                "FROM HumanResources.Employee AS E\r\n",
                "  INNER JOIN Sales.[Order] AS O\r\n",
                "    ON E.EmployeeId = O.EmployeeId\r\n",
                "WHERE E.EmployeeLastName LIKE N'D%';"
            ],
            "metadata": {
                "language": "sql",
                "azdata_cell_guid": "1c555fbd-d253-49bf-a5f5-23ef816d4f2e"
            },
            "outputs": [],
            "execution_count": null
        },
        {
            "cell_type": "markdown",
            "source": [
                "\r\n",
                "- Proposition: Retrieves order details, including CustomerId, OrderId, OrderDate, and EmployeeId, where the OrderId corresponds to the maximum OrderId for each unique CustomerId in the Sales.Order table.\r\n",
                "- Tables: The query interacts with the Sales.Order table, aliasing it as O1 in the main query and O2 in the subquery.\r\n",
                "- Columns: The selected columns are CustomerId, OrderId, OrderDate, and EmployeeId from the Sales.Order table.\r\n",
                "- Predicate: The main query employs a correlated subquery in the WHERE clause, comparing the OrderId of the main query (O1) with the maximum OrderId for the corresponding CustomerId from the subquery (O2). This ensures that only rows with the maximum OrderId for each unique CustomerId are included in the result set.\r\n",
                ""
            ],
            "metadata": {
                "language": "sql",
                "azdata_cell_guid": "bba562a6-c930-4fbb-b69b-3cf432dac2a5"
            },
            "attachments": {}
        },
        {
            "cell_type": "code",
            "source": [
                "USE TSQLV6;\r\n",
                "SELECT custid, orderid, orderdate, empid\r\n",
                "FROM Sales.Orders AS O1\r\n",
                "WHERE orderid =\r\n",
                "  (SELECT MAX(O2.orderid)\r\n",
                "   FROM Sales.Orders AS O2\r\n",
                "   WHERE O2.custid = O1.custid);\r\n",
                "\r\n",
                "USE Northwinds2022TSQLV7;\r\n",
                "SELECT CustomerId, OrderId, OrderDate, EmployeeId\r\n",
                "FROM Sales.[Order] AS O1\r\n",
                "WHERE OrderId =\r\n",
                "  (SELECT MAX(O2.OrderId)\r\n",
                "   FROM Sales.[Order] AS O2\r\n",
                "   WHERE O2.CustomerId = O1.CustomerId);\r\n",
                ""
            ],
            "metadata": {
                "language": "sql",
                "azdata_cell_guid": "b350e890-f3c2-4464-b92d-322f69de4983"
            },
            "outputs": [],
            "execution_count": null
        },
        {
            "cell_type": "markdown",
            "source": [
                "\r\n",
                "- Proposition: Retrieves order details, including OrderId, OrderDate, EmployeeId, CustomerId, and the maximum OrderId preceding each order, from the Sales.Order table.\r\n",
                "- Tables: The query interacts with the Sales.Order table, aliasing it as O1 in the main query and O2 in the correlated subquery.\r\n",
                "- Columns: The selected columns are OrderId, OrderDate, EmployeeId, CustomerId, and a calculated column named prevorderid representing the maximum OrderId that occurred before each order.\r\n",
                "- Predicate: The correlated subquery within the SELECT clause compares the OrderId of the main query (O1) with the OrderId of the subquery (O2) and retrieves the maximum OrderId (prevorderid) where the OrderId is less than that of the main query. This provides the maximum OrderId that precedes each order in the result set.\r\n",
                ""
            ],
            "metadata": {
                "language": "sql",
                "azdata_cell_guid": "d2470c3b-fd0e-42f3-bb99-36229175a034"
            },
            "attachments": {}
        },
        {
            "cell_type": "code",
            "source": [
                "USE TSQLV6;\r\n",
                "SELECT orderid, orderdate, empid, custid,\r\n",
                "  (SELECT MAX(O2.orderid)\r\n",
                "   FROM Sales.Orders AS O2\r\n",
                "   WHERE O2.orderid < O1.orderid) AS prevorderid\r\n",
                "FROM Sales.Orders AS O1;\r\n",
                "\r\n",
                "USE Northwinds2022TSQLV7;\r\n",
                "SELECT OrderId, OrderDate, EmployeeId, CustomerId,\r\n",
                "  (SELECT MAX(O2.orderid)\r\n",
                "   FROM Sales.[Order] AS O2\r\n",
                "   WHERE O2.OrderId < O1.OrderId) AS prevorderid\r\n",
                "FROM Sales.[Order] AS O1;"
            ],
            "metadata": {
                "language": "sql",
                "azdata_cell_guid": "5f160036-d50b-495b-a0b2-8bd09f604fe6"
            },
            "outputs": [],
            "execution_count": null
        },
        {
            "cell_type": "markdown",
            "source": [
                "\r\n",
                "- Proposition: Inserts a new order record into the Sales.Order table with specified values for various columns.\r\n",
                "- Table: The query interacts with the Sales.Order table.\r\n",
                "- Columns: The specified columns for the insertion include CustomerId, EmployeeId, OrderDate, RequiredDate, ShipToDate, ShipperId, freight, ShipToName, ShipToAddress, ShipToCity, ShipToRegion, ShipToPostalCode, and ShipToCountry.\r\n",
                "- Values: The VALUES clause provides the specific values to be inserted into the corresponding columns of the Sales.Order table for the new order record.\r\n",
                ""
            ],
            "metadata": {
                "language": "sql",
                "azdata_cell_guid": "01efa728-7c0f-4e80-8ac2-d58663afc76b"
            },
            "attachments": {}
        },
        {
            "cell_type": "code",
            "source": [
                "USE TSQLV6;\r\n",
                "INSERT INTO Sales.Orders\r\n",
                "  (custid, empid, orderdate, requireddate, shippeddate, shipperid,\r\n",
                "   freight, shipname, shipaddress, shipcity, shipregion,\r\n",
                "   shippostalcode, shipcountry)\r\n",
                "VALUES\r\n",
                "  (NULL, 1, '20220212', '20220212', '20220212', 1, 123.00, N'abc', N'abc', N'abc',N'abc', N'abc', N'abc');\r\n",
                "\r\n",
                "\r\n",
                "USE Northwinds2022TSQLV7;\r\n",
                "INSERT INTO Sales.[Order]\r\n",
                "  (CustomerId, EmployeeId, OrderDate, RequiredDate, ShipToDate, ShipperId,\r\n",
                "   freight, ShipToName, ShipToAddress, ShipToCity, ShipToRegion,\r\n",
                "   ShipToPostalCode, ShipToCountry)\r\n",
                "VALUES\r\n",
                "  (NULL, 1, '20220212', '20220212', '20220212', 1, 123.00, N'abc', N'abc', N'abc',N'abc', N'abc', N'abc');\r\n",
                "\r\n",
                ""
            ],
            "metadata": {
                "language": "sql",
                "azdata_cell_guid": "1182b7af-0d0b-49d5-a1d5-790de9d62ff1",
                "tags": []
            },
            "outputs": [],
            "execution_count": null
        },
        {
            "cell_type": "markdown",
            "source": [
                "# <u>**Chapter 5 Exercises**</u>"
            ],
            "metadata": {
                "language": "sql",
                "azdata_cell_guid": "40322b90-d8e2-4a98-b6ee-118095f8ec26"
            },
            "attachments": {}
        },
        {
            "cell_type": "markdown",
            "source": [
                "## **Query 1**\r\n",
                "- The issue in your query is that you are trying to reference the alias endofyear in the WHERE clause, but the WHERE clause is processed before the SELECT clause, so the alias is not recognized at that point. You cannot use an alias in the WHERE clause.\r\n",
                "- To achieve the desired result, you can either repeat the expression in the WHERE clause or use a common table expression (CTE) or a subquery"
            ],
            "metadata": {
                "language": "sql",
                "azdata_cell_guid": "357064e6-09e0-46e0-b518-dacd086a1870"
            },
            "attachments": {}
        },
        {
            "cell_type": "code",
            "source": [
                "-- 1\r\n",
                "-- The following query attempts to filter orders that were not placed on the last day of the year.\r\n",
                "/*\r\n",
                "USE TSQLV6;\r\n",
                "GO\r\n",
                "\r\n",
                "SELECT orderid, orderdate, custid, empid,\r\n",
                "  DATEFROMPARTS(YEAR(orderdate), 12, 31) AS endofyear\r\n",
                "FROM Sales.Orders\r\n",
                "WHERE orderdate <> endofyear;\r\n",
                "*/\r\n",
                "\r\n",
                "-- When you try to run this query you get the following error.\r\n",
                "/*\r\n",
                "Msg 207, Level 16, State 1, Line 17\r\n",
                "Invalid column name 'endofyear'.\r\n",
                "*/\r\n",
                "-- Explain what the problem is and suggest a valid solution.\r\n",
                "\r\n",
                "--This is the valid solution\r\n",
                "USE TSQLV6;\r\n",
                "GO\r\n",
                "\r\n",
                "SELECT orderid, orderdate, custid, empid, endofyear\r\n",
                "FROM (\r\n",
                "  SELECT orderid, orderdate, custid, empid, DATEFROMPARTS(YEAR(orderdate), 12, 31) AS endofyear\r\n",
                "  FROM Sales.Orders\r\n",
                ") AS Subquery\r\n",
                "WHERE orderdate <> endofyear;\r\n",
                "\r\n",
                "USE Northwinds2022TSQLV7;\r\n",
                "GO\r\n",
                "\r\n",
                "SELECT OrderId, OrderDate, CustomerId, EmployeeId, endofyear\r\n",
                "FROM (\r\n",
                "  SELECT orderid, orderdate, CustomerId, EmployeeId, DATEFROMPARTS(YEAR(orderdate), 12, 31) AS endofyear\r\n",
                "  FROM Sales.[Order]\r\n",
                ") AS Subquery\r\n",
                "WHERE OrderDate <> endofyear;"
            ],
            "metadata": {
                "language": "sql",
                "azdata_cell_guid": "17a458f4-1967-4400-a8c0-1c9bb092d557"
            },
            "outputs": [],
            "execution_count": null
        },
        {
            "cell_type": "markdown",
            "source": [
                "## **Query 3-2**\r\n",
                "<img src=\"https://static.vecteezy.com/system/resources/previews/022/841/114/non_2x/chatgpt-logo-transparent-background-free-png.png\" alt=\"AI\" width=\"20\" height=\"20\"> _Written in collaboration with ChatGPT from OpenAI to improve understanding and assist with the explanation of the query_\r\n",
                "- Proposition: Retrieves a subset of ordered records from the Sales.Order table, incorporating row numbers based on ascending order of OrderDate and OrderId, and subsequently selects records falling within a specified row number range.\r\n",
                "- Tables: The query interacts with the Sales.Order table, utilizing a Common Table Expression (CTE) named OrderedOrders.\r\n",
                "- Columns: The selected columns include OrderId, OrderDate, CustomerId, EmployeeId, and a calculated column named rownum representing the row number assigned based on the specified ordering in the CTE.\r\n",
                "- Predicate: The CTE, OrderedOrders, employs the ROW_NUMBER() function to assign row numbers to each record in the Sales.Order table, ordered by OrderDate and OrderId. The main query then filters the results to include only the records with row numbers falling within the range of 11 to 20.\r\n",
                ""
            ],
            "metadata": {
                "language": "sql",
                "azdata_cell_guid": "6942b71f-1c77-4ff8-957d-410e71484215"
            },
            "attachments": {}
        },
        {
            "cell_type": "code",
            "source": [
                "USE TSQLV6;\r\n",
                "WITH OrderedOrders AS (\r\n",
                "  SELECT\r\n",
                "    orderid,\r\n",
                "    orderdate,\r\n",
                "    custid,\r\n",
                "    empid,\r\n",
                "    ROW_NUMBER() OVER (ORDER BY orderdate, orderid) AS rownum\r\n",
                "  FROM\r\n",
                "    Sales.Orders\r\n",
                ")\r\n",
                "\r\n",
                "SELECT\r\n",
                "  orderid,\r\n",
                "  orderdate,\r\n",
                "  custid,\r\n",
                "  empid,\r\n",
                "  rownum\r\n",
                "FROM\r\n",
                "  OrderedOrders\r\n",
                "WHERE\r\n",
                "  rownum BETWEEN 11 AND 20;\r\n",
                "\r\n",
                "  USE Northwinds2022TSQLV7;\r\n",
                "  WITH OrderedOrders AS (\r\n",
                "  SELECT\r\n",
                "    OrderId,\r\n",
                "    OrderDate,\r\n",
                "    CustomerId,\r\n",
                "    EmployeeId,\r\n",
                "    ROW_NUMBER() OVER (ORDER BY orderdate, orderid) AS rownum\r\n",
                "  FROM\r\n",
                "    Sales.[Order]\r\n",
                ")\r\n",
                "\r\n",
                "SELECT\r\n",
                "  OrderId,\r\n",
                "  OrderDate,\r\n",
                "  CustomerId,\r\n",
                "  EmployeeId,\r\n",
                "  rownum\r\n",
                "FROM\r\n",
                "  OrderedOrders\r\n",
                "WHERE\r\n",
                "  rownum BETWEEN 11 AND 20;"
            ],
            "metadata": {
                "language": "sql",
                "azdata_cell_guid": "9ef69b6b-c8fb-4ad4-a29d-2e7731b6aaba"
            },
            "outputs": [],
            "execution_count": null
        },
        {
            "cell_type": "markdown",
            "source": [
                "# <u>**Chapter 05 - Table Expressions**</u>"
            ],
            "metadata": {
                "language": "sql",
                "azdata_cell_guid": "f6114084-8b57-4a44-bc84-ec2458b67229"
            },
            "attachments": {}
        },
        {
            "cell_type": "markdown",
            "source": [
                "\r\n",
                "- Proposition: Retrieves all columns from a subset of records in the Sales.Customer table, specifically those with CustomerCountry equal to 'USA'.\r\n",
                "- Tables: The query interacts with the Sales.Customer table, aliasing the subset of records as USACusts.\r\n",
                "- Columns: The SELECT * statement is used to retrieve all columns from the subset, which includes CustomerId and CustomerCompanyName.\r\n",
                "- Predicate: The WHERE clause filters the records from the Sales.Customer table, selecting only those where the CustomerCountry is equal to 'USA'.\r\n",
                ""
            ],
            "metadata": {
                "language": "sql",
                "azdata_cell_guid": "e2e91ab7-1b77-4534-8a0a-4090d42f5023"
            },
            "attachments": {}
        },
        {
            "cell_type": "code",
            "source": [
                "USE TSQLV6;\r\n",
                "SELECT *\r\n",
                "FROM (SELECT custid, companyname\r\n",
                "      FROM Sales.Customers\r\n",
                "      WHERE country = N'USA') AS USACusts;\r\n",
                "\r\n",
                "USE Northwinds2022TSQLV7;\r\n",
                "SELECT *\r\n",
                "FROM (SELECT CustomerId, CustomerCompanyName\r\n",
                "      FROM Sales.Customer\r\n",
                "      WHERE CustomerCountry = N'USA') AS USACusts;\r\n",
                ""
            ],
            "metadata": {
                "language": "sql",
                "azdata_cell_guid": "b2e17e2a-264c-44f3-b1ca-006ba280962c"
            },
            "outputs": [],
            "execution_count": null
        },
        {
            "cell_type": "markdown",
            "source": [
                "<img src=\"https://static.vecteezy.com/system/resources/previews/022/841/114/non_2x/chatgpt-logo-transparent-background-free-png.png\" alt=\"AI\" width=\"20\" height=\"20\"> _Written in collaboration with ChatGPT from OpenAI to improve understanding and assist with the explanation of the query_\r\n",
                "- Proposition: Retrieves the count of distinct customers for each order year associated with a specific employee from the Sales.Order table.\r\n",
                "- Tables: The query interacts with the Sales.Order table, aliasing a subset of records as D.\r\n",
                "- Columns: The selected columns include orderyear (derived from the OrderDate), and the count of distinct CustomerId values as numcusts.\r\n",
                "- Predicate: The WHERE clause filters records from the Sales.Order table, focusing on those with EmployeeId matching the parameter @empid. The final query groups the results by orderyear, providing the count of distinct customers for each order year.\r\n",
                ""
            ],
            "metadata": {
                "language": "sql",
                "azdata_cell_guid": "484ce8ce-97cb-4bbe-a2dd-e117a32ebb64"
            },
            "attachments": {}
        },
        {
            "cell_type": "code",
            "source": [
                "-- Yearly Count of Customers handled by Employee 3\r\n",
                "USE TSQLV6;\r\n",
                "DECLARE @empid AS INT = 3;\r\n",
                "\r\n",
                "SELECT orderyear, COUNT(DISTINCT custid) AS numcusts\r\n",
                "FROM (SELECT YEAR(orderdate) AS orderyear, custid\r\n",
                "      FROM Sales.Orders\r\n",
                "      WHERE empid = @empid) AS D\r\n",
                "GROUP BY orderyear;\r\n",
                "GO\r\n",
                "\r\n",
                "USE Northwinds2022TSQLV7;\r\n",
                "DECLARE @empid AS INT = 3;\r\n",
                "\r\n",
                "SELECT orderyear, COUNT(DISTINCT CustomerId) AS numcusts\r\n",
                "FROM (SELECT YEAR(OrderDate) AS orderyear, CustomerId\r\n",
                "      FROM Sales.[Order]\r\n",
                "      WHERE EmployeeId = @empid) AS D\r\n",
                "GROUP BY orderyear;\r\n",
                "GO\r\n",
                ""
            ],
            "metadata": {
                "language": "sql",
                "azdata_cell_guid": "3396b8b3-7b18-4c68-a471-573e46606e8c"
            },
            "outputs": [],
            "execution_count": null
        },
        {
            "cell_type": "markdown",
            "source": [
                "\r\n",
                "- Proposition: Analyzes the count of distinct customers for each order year from the Sales.Order table, utilizing a Common Table Expression (CTE) named C to extract and preprocess relevant data.\r\n",
                "- Tables: The query interacts with the Sales.Order table, using a CTE named C to extract and transform data.\r\n",
                "- Columns: The selected columns include orderyear (derived from the OrderDate), and the count of distinct CustomerId values as numcusts.\r\n",
                "- Predicate: The CTE (C) selects the order year (orderyear) and CustomerId from the Sales.Order table. The final query then utilizes the CTE to group the results by orderyear, providing the count of distinct customers for each order year.\r\n",
                ""
            ],
            "metadata": {
                "language": "sql",
                "azdata_cell_guid": "c6f59982-4efa-44c3-b0ac-1e44084ebddc"
            },
            "attachments": {}
        },
        {
            "cell_type": "code",
            "source": [
                "-- Inline column aliasing\r\n",
                "USE TSQLV6;\r\n",
                "WITH C AS\r\n",
                "(\r\n",
                "  SELECT YEAR(orderdate) AS orderyear, custid\r\n",
                "  FROM Sales.Orders\r\n",
                ")\r\n",
                "SELECT orderyear, COUNT(DISTINCT custid) AS numcusts\r\n",
                "FROM C\r\n",
                "GROUP BY orderyear;\r\n",
                "\r\n",
                "USE Northwinds2022TSQLV7;\r\n",
                "WITH C AS\r\n",
                "(\r\n",
                "  SELECT YEAR(OrderDate) AS orderyear, CustomerId\r\n",
                "  FROM Sales.[Order]\r\n",
                ")\r\n",
                "SELECT orderyear, COUNT(DISTINCT CustomerId) AS numcusts\r\n",
                "FROM C\r\n",
                "GROUP BY orderyear;"
            ],
            "metadata": {
                "language": "sql",
                "azdata_cell_guid": "300f6f10-b452-406e-b26a-a440278d09dc"
            },
            "outputs": [],
            "execution_count": null
        },
        {
            "cell_type": "markdown",
            "source": [
                "<img src=\"https://static.vecteezy.com/system/resources/previews/022/841/114/non_2x/chatgpt-logo-transparent-background-free-png.png\" alt=\"AI\" width=\"20\" height=\"20\"> _Written in collaboration with ChatGPT from OpenAI to improve understanding and assist with the explanation of the query_\r\n",
                "- Proposition: Retrieves a hierarchical representation of employees and their managers, starting from a specified employee (EmployeeId = 2) and traversing the organizational structure using a recursive Common Table Expression (CTE).\r\n",
                "- Tables: The query interacts with the HumanResources.Employee table, using it in both the base and recursive parts of the CTE.\r\n",
                "- Columns: The selected columns include EmployeeId, EmployeeManagerId, EmployeeFirstName, and EmployeeLastName.\r\n",
                "- Predicate: The CTE (EmpsCTE) employs a UNION ALL to combine the base case, which selects information about the specified employee (EmployeeId = 2), with the recursive case, which iteratively joins employees with their respective managers based on the EmployeeManagerId. The final query then retrieves the hierarchical representation of employees and their managers from the CTE.\r\n",
                ""
            ],
            "metadata": {
                "language": "sql",
                "azdata_cell_guid": "62b8bbf2-8917-40ad-b413-33c997a93f9d"
            },
            "attachments": {}
        },
        {
            "cell_type": "code",
            "source": [
                "-- Recursive CTEs\r\n",
                "USE TSQLV6;\r\n",
                "WITH EmpsCTE AS\r\n",
                "(\r\n",
                "  SELECT empid, mgrid, firstname, lastname\r\n",
                "  FROM HR.Employees\r\n",
                "  WHERE empid = 2\r\n",
                "  \r\n",
                "  UNION ALL\r\n",
                "  \r\n",
                "  SELECT C.empid, C.mgrid, C.firstname, C.lastname\r\n",
                "  FROM EmpsCTE AS P\r\n",
                "    INNER JOIN HR.Employees AS C\r\n",
                "      ON C.mgrid = P.empid\r\n",
                ")\r\n",
                "SELECT empid, mgrid, firstname, lastname\r\n",
                "FROM EmpsCTE;\r\n",
                "GO\r\n",
                "\r\n",
                "USE Northwinds2022TSQLV7;\r\n",
                "WITH EmpsCTE AS\r\n",
                "(\r\n",
                "  SELECT EmployeeId, EmployeeManagerId, EmployeeFirstName, EmployeeLastName\r\n",
                "  FROM HumanResources.Employee\r\n",
                "  WHERE EmployeeId = 2\r\n",
                "  \r\n",
                "  UNION ALL\r\n",
                "  \r\n",
                "  SELECT C.EmployeeId, C.EmployeeManagerId, C.EmployeeFirstName, C.EmployeeLastName\r\n",
                "  FROM EmpsCTE AS P\r\n",
                "    INNER JOIN HumanResources.Employee AS C\r\n",
                "      ON C.EmployeeManagerId = P.EmployeeId\r\n",
                ")\r\n",
                "SELECT EmployeeId, EmployeeManagerId, EmployeeFirstName, EmployeeLastName\r\n",
                "FROM EmpsCTE;\r\n",
                "GO"
            ],
            "metadata": {
                "language": "sql",
                "azdata_cell_guid": "1eba5432-5859-4636-b6c5-2c9f20c584d5"
            },
            "outputs": [],
            "execution_count": null
        },
        {
            "cell_type": "markdown",
            "source": [
                "- Proposition: Creates or alters a view named \"Sales.USACusts\" with encryption, encapsulating customer information from the Sales.Customer table. The view specifically filters customers based on the condition where the CustomerCountry is 'USA', providing a focused subset of data. This proposition streamlines access to information for USA-based customers, enhancing query efficiency and facilitating targeted analysis.\r\n",
                "- Tables/View: Sales.Customer, Sales.USACusts (view)\r\n",
                "- Columns: CustomerId, CustomerCompanyName, CustomerContactName, CustomerContactTitle, CustomerAddress, CustomerCity, CustomerRegion, CustomerPostalCode, CustomerCountry, CustomerPhoneNumber, CustomerFaxNumber\r\n",
                "- Predicate: The view includes a WHERE clause filtering customers from the Sales.Customer table based on the condition CustomerCountry = N'USA'.\r\n",
                ""
            ],
            "metadata": {
                "language": "sql",
                "azdata_cell_guid": "2476f405-0e6d-4c5b-8a90-8c4982b2700c"
            },
            "attachments": {}
        },
        {
            "cell_type": "code",
            "source": [
                "USE TSQLV6;\r\n",
                "GO\r\n",
                "CREATE OR ALTER VIEW Sales.USACusts WITH ENCRYPTION\r\n",
                "AS\r\n",
                "\r\n",
                "SELECT\r\n",
                "  custid, companyname, contactname, contacttitle, address,\r\n",
                "  city, region, postalcode, country, phone, fax\r\n",
                "FROM Sales.Customers\r\n",
                "WHERE country = N'USA';\r\n",
                "GO\r\n",
                "\r\n",
                "USE Northwinds2022TSQLV7;\r\n",
                "GO\r\n",
                "CREATE OR ALTER VIEW Sales.USACusts WITH ENCRYPTION\r\n",
                "AS\r\n",
                "\r\n",
                "SELECT\r\n",
                "  CustomerId, CustomerCompanyName, CustomerContactName, CustomerContactTitle, CustomerAddress,\r\n",
                "  CustomerCity, CustomerRegion, CustomerPostalCode, CustomerCountry, CustomerPhoneNumber, CustomerFaxNumber\r\n",
                "FROM Sales.Customer\r\n",
                "WHERE CustomerCountry = N'USA';\r\n",
                "GO\r\n",
                "\r\n",
                "\r\n",
                "\r\n",
                ""
            ],
            "metadata": {
                "language": "sql",
                "azdata_cell_guid": "2f09ef8f-fd81-4fe5-a4cf-9ab802ded339"
            },
            "outputs": [],
            "execution_count": null
        },
        {
            "cell_type": "markdown",
            "source": [
                "\r\n",
                "- Proposition: Retrieves a list of all customers with their corresponding CustomerId, CustomerCompanyName, and CustomerRegion information from the Sales.Customer table.\r\n",
                "- Tables/Views: The query interacts with the Sales.USACusts view. This view extracts data from the Sales.Customer table\r\n",
                "- Columns: The selected columns include CustomerId, CustomerCompanyName, and CustomerRegion.\r\n",
                "- Predicate: The query does not apply any specific predicate or filtering condition to restrict the results, thus fetching all records from the Sales.Customer table.\r\n",
                ""
            ],
            "metadata": {
                "language": "sql",
                "azdata_cell_guid": "61fa1cce-8bc9-4cef-9e4b-932ed2c11f95"
            },
            "attachments": {}
        },
        {
            "cell_type": "code",
            "source": [
                "-- Query USACusts\r\n",
                "USE TSQLV6;\r\n",
                "SELECT custid, companyname, region\r\n",
                "FROM Sales.USACusts;\r\n",
                "GO\r\n",
                "\r\n",
                "USE Northwinds2022TSQLV7;\r\n",
                "SELECT CustomerId, CustomerCompanyName, CustomerRegion\r\n",
                "FROM Sales.USACusts;\r\n",
                "GO\r\n",
                ""
            ],
            "metadata": {
                "language": "sql",
                "azdata_cell_guid": "3715086a-dbc0-45b6-b2b1-104be354db83",
                "tags": []
            },
            "outputs": [],
            "execution_count": null
        },
        {
            "cell_type": "markdown",
            "source": [
                "\r\n",
                "- Proposition: Inserts a new customer record into the Sales.Customer table with specified values for various columns.\r\n",
                "- Table/View: The query interacts with the Sales.USACusts view. This data extracts Sales.Customer table.\r\n",
                "- Columns: The specified columns for the insertion include CustomerCompanyName, CustomerContactName, CustomerContactTitle, CustomerAddress, CustomerCity, CustomerRegion, CustomerPostalCode, CustomerCountry, CustomerPhoneNumber, and CustomerFaxNumber.\r\n",
                "- Values: The VALUES clause provides the specific values to be inserted into the corresponding columns of the Sales.Customer table for the new customer record.\r\n",
                ""
            ],
            "metadata": {
                "language": "sql",
                "azdata_cell_guid": "f13afef2-67e2-437e-a5bc-4a83ce3ab920"
            },
            "attachments": {}
        },
        {
            "cell_type": "code",
            "source": [
                "-- Notice that you can insert a row through the view\r\n",
                "USE TSQLV6;\r\n",
                "INSERT INTO Sales.USACusts(\r\n",
                "  companyname, contactname, contacttitle, address,\r\n",
                "  city, region, postalcode, country, phone, fax)\r\n",
                " VALUES(\r\n",
                "  N'Customer ABCDE', N'Contact ABCDE', N'Title ABCDE', N'Address ABCDE',\r\n",
                "  N'London', NULL, N'12345', N'UK', N'012-3456789', N'012-3456789');\r\n",
                "\r\n",
                "USE Northwinds2022TSQLV7;\r\n",
                "INSERT INTO Sales.USACusts(\r\n",
                "  CustomerCompanyName, CustomerContactName, CustomerContactTitle, CustomerAddress,\r\n",
                "  CustomerCity, CustomerRegion, CustomerPostalCode, CustomerCountry, CustomerPhoneNumber, CustomerFaxNumber)\r\n",
                " VALUES(\r\n",
                "  N'Customer ABCDE', N'Contact ABCDE', N'Title ABCDE', N'Address ABCDE',\r\n",
                "  N'London', NULL, N'12345', N'UK', N'012-3456789', N'012-3456789');\r\n",
                ""
            ],
            "metadata": {
                "language": "sql",
                "azdata_cell_guid": "99ed6a64-479b-4ef5-a125-b7b34624b0cf"
            },
            "outputs": [],
            "execution_count": null
        },
        {
            "cell_type": "markdown",
            "source": [
                "\r\n",
                "- Proposition: Deletes customer records from the Sales.Customer table with CustomerId greater than 91 and drops a view named Sales.USACusts if it exists.\r\n",
                "- Tables: The query interacts with the Sales.Customer table.\r\n",
                "- Columns: The DELETE statement affects the entire row, and the DROP VIEW statement does not involve specific columns.\r\n",
                "- View: Sales.USACusts\r\n",
                "- Attributes: N/A\r\n",
                "- Predicate: The DELETE statement has a WHERE clause specifying the condition to delete customer records where CustomerId is greater than 91. The DROP VIEW statement checks for the existence of the Sales.USACusts view and drops it if it exists.\r\n",
                ""
            ],
            "metadata": {
                "language": "sql",
                "azdata_cell_guid": "5cffc028-0bf6-4914-b775-44594c048764"
            },
            "attachments": {}
        },
        {
            "cell_type": "code",
            "source": [
                "-- Cleanup\r\n",
                "USE TSQLV6;\r\n",
                "DELETE FROM Sales.Customers\r\n",
                "WHERE custid > 91;\r\n",
                "\r\n",
                "DROP VIEW IF EXISTS Sales.USACusts;\r\n",
                "GO\r\n",
                "\r\n",
                "USE Northwinds2022TSQLV7;\r\n",
                "DELETE FROM Sales.Customer\r\n",
                "WHERE CustomerId > 91;\r\n",
                "\r\n",
                "DROP VIEW IF EXISTS Sales.USACusts;\r\n",
                "GO\r\n",
                ""
            ],
            "metadata": {
                "language": "sql",
                "azdata_cell_guid": "3493eaf1-fc24-4fd5-80e2-a80fbbac9152"
            },
            "outputs": [],
            "execution_count": null
        },
        {
            "cell_type": "markdown",
            "source": [
                "\r\n",
                "- Proposition: Retrieves all possible combinations of pairs between shippers and employees, utilizing a CROSS JOIN clause to generate a Cartesian product between the Sales.Shipper and HumanResources.Employee tables.\r\n",
                "- Tables: The query interacts with the Sales.Shipper and HumanResources.Employee tables.\r\n",
                "- Columns: The selected columns include ShipperId from the Sales.Shipper table and EmployeeId from the HumanResources.Employee table.\r\n",
                "- Predicate: The query employs a CROSS JOIN clause to combine every row from the Sales.Shipper table (as S) with every row from the HumanResources.Employee table (as E), resulting in all possible combinations of shippers and employees.\r\n",
                ""
            ],
            "metadata": {
                "language": "sql",
                "azdata_cell_guid": "1f5e2377-5187-4bd1-942c-0a3f73abf293"
            },
            "attachments": {}
        },
        {
            "cell_type": "code",
            "source": [
                "-- APPLY\r\n",
                "USE TSQLV6;\r\n",
                "SELECT S.shipperid, E.empid\r\n",
                "FROM Sales.Shippers AS S\r\n",
                "  CROSS JOIN HR.Employees AS E;\r\n",
                "\r\n",
                "USE Northwinds2022TSQLV7;\r\n",
                "SELECT S.ShipperId, E.EmployeeId\r\n",
                "FROM Sales.Shipper AS S\r\n",
                "  CROSS JOIN HumanResources.Employee AS E;\r\n",
                ""
            ],
            "metadata": {
                "language": "sql",
                "azdata_cell_guid": "fafce281-6cf2-46ca-8981-9e248574bf7f"
            },
            "outputs": [],
            "execution_count": null
        }
    ]
}