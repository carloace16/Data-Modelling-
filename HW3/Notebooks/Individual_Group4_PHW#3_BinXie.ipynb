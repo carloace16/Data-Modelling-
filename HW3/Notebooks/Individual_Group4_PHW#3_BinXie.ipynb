{
    "metadata": {
        "kernelspec": {
            "name": "SQL",
            "display_name": "SQL",
            "language": "sql"
        },
        "language_info": {
            "name": "sql",
            "version": ""
        }
    },
    "nbformat_minor": 2,
    "nbformat": 4,
    "cells": [
        {
            "cell_type": "markdown",
            "source": [
                "# **Top 5 Queries**\r\n",
                "## **Query 1 (Chapter 4 Exercise 3)**\r\n",
                "*<img src=\"https://static.vecteezy.com/system/resources/previews/022/841/114/non_2x/chatgpt-logo-transparent-background-free-png.png\" alt=\"AI\" width=\"20\" height=\"20\">\r\n",
                "Written in collaboration with ChatGPT from OpenAI to improve understanding and assist with the explanation of the query*\r\n",
                "\r\n",
                "### Proposition: Returns a list of employees who have not placed any orders on or after May 1st, 2022.\r\n",
                "### Table: The query uses HumanResources.Employee and Sales.[Order] tables.\r\n",
                "### Columns: The columns selected are EmployeeId, EmployeeFirstName, EmployeeLastName from HumanResources.Employee.\r\n",
                "### Predicate: It utilizes a subquery to find distinct EmployeeId values from the Sales.[Order] table (aliased as O) where the OrderDate is greater than '2022-05-01'. The main query filters the employees from the HumanResources.Employee table where the EmployeeId is not present in the list of EmployeeIds who have placed orders after May 1st, 2022. Then use the NOT IN to find the opposite side which is the answer.\r\n",
                "\r\n",
                "### *What I think is special is that for this query, it shows us how to use NOT IN to find the opposite side of the result as our answer.*\r\n",
                ""
            ],
            "metadata": {
                "azdata_cell_guid": "39af34d0-7108-4f33-9750-6718b80219e7"
            },
            "attachments": {}
        },
        {
            "cell_type": "code",
            "source": [
                "USE TSQLV6\r\n",
                "SELECT e.empid, e.firstname, e.lastname\r\n",
                "FROM HR.Employees e\r\n",
                "WHERE e.empid NOT IN (\r\n",
                "    SELECT DISTINCT o.empid\r\n",
                "    FROM Sales.Orders o\r\n",
                "    WHERE o.orderdate > '2022-05-01'\r\n",
                ")\r\n",
                "\r\n",
                "USE Northwinds2022TSQLV7\r\n",
                "SELECT E.EmployeeId, E.EmployeeFirstName, E.EmployeeLastName\r\n",
                "FROM HumanResources.Employee E\r\n",
                "WHERE E.EmployeeId NOT IN (\r\n",
                "    SELECT DISTINCT O.EmployeeId\r\n",
                "    FROM Sales.[Order] O\r\n",
                "    WHERE O.OrderDate > '2022-05-01'\r\n",
                ")"
            ],
            "metadata": {
                "azdata_cell_guid": "4f536c20-912d-4ef3-8d9e-fef8040816f3",
                "language": "sql",
                "tags": [
                    "hide_input"
                ]
            },
            "outputs": [],
            "execution_count": null
        },
        {
            "cell_type": "markdown",
            "source": [
                "## **Query 2 (Chapter 5 Exercise 3-1)**\r\n",
                "\r\n",
                "### Proposition: Returns a list of orders assigning a row number to each order based on order date and order ID ordering.\r\n",
                "### Table: The query uses Sales.[Order] table.\r\n",
                "### Columns: The columns selected are OrderId, OrderDate, CustomerId, EmployeeId, ROW_NUMBER() OVER (ORDER BY OrderDate, OrderId) AS RowNumber\r\n",
                "### Predicate: It utilizes the ROW_NUMBER() function to assign a sequential integer to each row within the result set. The ORDER BY clause within the OVER() function specifies the ordering criteria for assigning the row numbers, first by OrderDate and then by OrderId.\r\n",
                "\r\n",
                "### *What I think is special for this query is that it shows us how to use the combination of ORDER BY and OVER function to specifies the ordering criteria with row number.*\r\n",
                "\r\n",
                "\r\n",
                ""
            ],
            "metadata": {
                "language": "sql",
                "azdata_cell_guid": "95ef1214-74b2-4ae1-8b55-3a7acc02aeb3"
            },
            "attachments": {}
        },
        {
            "cell_type": "code",
            "source": [
                "USE TSQLV6\r\n",
                "SELECT \r\n",
                "    orderid,\r\n",
                "    orderdate,\r\n",
                "    custid,\r\n",
                "    empid,\r\n",
                "    ROW_NUMBER() OVER (ORDER BY orderdate, orderid) AS RowNumber\r\n",
                "FROM \r\n",
                "    Sales.Orders;\r\n",
                "\r\n",
                "\r\n",
                "USE Northwinds2022TSQLV7\r\n",
                "SELECT \r\n",
                "    OrderId,\r\n",
                "    OrderDate,\r\n",
                "    CustomerId,\r\n",
                "    EmployeeId,\r\n",
                "    ROW_NUMBER() OVER (ORDER BY OrderDate, OrderId) AS RowNumber\r\n",
                "FROM \r\n",
                "    Sales.[Order];"
            ],
            "metadata": {
                "language": "sql",
                "azdata_cell_guid": "1f09805a-4d88-47a8-8bc7-46676cb2673e",
                "tags": [
                    "hide_input"
                ]
            },
            "outputs": [],
            "execution_count": null
        },
        {
            "cell_type": "markdown",
            "source": [
                "## **Query 3**\r\n",
                "*<img src=\"https://static.vecteezy.com/system/resources/previews/022/841/114/non_2x/chatgpt-logo-transparent-background-free-png.png\" alt=\"AI\" width=\"20\" height=\"20\">\r\n",
                "Written in collaboration with ChatGPT from OpenAI to improve understanding and assist with the explanation of the query*\r\n",
                "\r\n",
                "### Proposition: Returns OrderId for orders placed by employees whose last names start with the letter 'A'.\r\n",
                "### Table: The query uses Sales.[Order] and HumanResources.Employee tables.\r\n",
                "### Columns: The columns selected is OrderId from Sales.[Order].\r\n",
                "### Predicate: It utilizes a subquery to find the EmployeeId of employees from the HumanResources.Employee table (aliased as E) whose last names start with the letter 'A'. The LIKE operator with the pattern 'A%' is used to match last names that start with 'A'. The main query then filters the orders from the Sales.[Order] table where the EmployeeId matches the result of the subquery.\r\n",
                "### *What is special for this query is that it is so convenience to find specified employee.*"
            ],
            "metadata": {
                "language": "sql",
                "azdata_cell_guid": "5fdb8b65-cd85-4e58-9574-37f1bd247427"
            },
            "attachments": {}
        },
        {
            "cell_type": "code",
            "source": [
                "USE TSQLV6\r\n",
                "SELECT orderid\r\n",
                "FROM Sales.Orders\r\n",
                "WHERE empid = \r\n",
                "  (SELECT E.empid\r\n",
                "   FROM HR.Employees AS E\r\n",
                "   WHERE E.lastname LIKE N'A%');\r\n",
                "\r\n",
                "\r\n",
                "USE Northwinds2022TSQLV7\r\n",
                "SELECT OrderId\r\n",
                "FROM Sales.[Order]\r\n",
                "WHERE EmployeeId = \r\n",
                "  (SELECT E.EmployeeId\r\n",
                "   FROM HumanResources.Employee AS E\r\n",
                "   WHERE E.EmployeeLastName LIKE N'A%');\r\n",
                ""
            ],
            "metadata": {
                "language": "sql",
                "azdata_cell_guid": "37695c0a-2c7f-438c-aa3f-f95677e4716a",
                "tags": [
                    "hide_input"
                ]
            },
            "outputs": [],
            "execution_count": null
        },
        {
            "cell_type": "markdown",
            "source": [
                "## **Query 4**\r\n",
                "\r\n",
                "### Proposition: Returns the count of distinct customers for each year based on order dates.\r\n",
                "### Table: The query uses Sales.[Order] table.\r\n",
                "### Columns: The columns selected are YEAR(OrderDate) AS orderyear, COUNT(DISTINCT CustomerId) AS numcusts.\r\n",
                "### Predicate: It calculates the count of distinct CustomerId values for each year. This is achieved by using the COUNT() function with the DISTINCT keyword on the CustomerId column. The results are grouped by the year extracted from the OrderDate using the GROUP BY clause.\r\n",
                "### *The special part for this query is that it will return the number of customers for each year.*\r\n",
                ""
            ],
            "metadata": {
                "language": "sql",
                "azdata_cell_guid": "f6c4305d-09bf-4635-94d6-12cee6151e78"
            },
            "attachments": {}
        },
        {
            "cell_type": "code",
            "source": [
                "USE TSQLV6\r\n",
                "SELECT YEAR(orderdate) AS orderyear, COUNT(DISTINCT custid) AS numcusts\r\n",
                "FROM Sales.Orders\r\n",
                "GROUP BY YEAR(orderdate);\r\n",
                "\r\n",
                "\r\n",
                "USE Northwinds2022TSQLV7\r\n",
                "SELECT YEAR(OrderDate) AS orderyear, COUNT(DISTINCT CustomerId) AS numcusts\r\n",
                "FROM Sales.[Order]\r\n",
                "GROUP BY YEAR(OrderDate);"
            ],
            "metadata": {
                "language": "sql",
                "azdata_cell_guid": "f9188750-9130-4006-a48e-f5207310fe24",
                "tags": [
                    "hide_input"
                ]
            },
            "outputs": [],
            "execution_count": null
        },
        {
            "cell_type": "markdown",
            "source": [
                "## **Query 5**\r\n",
                "\r\n",
                "### Proposition: Retrieves the customer, order id, and order date for the top 3 most recent orders placed by each customer.\r\n",
                "### Table: The query uses Sales.[Order] and Sales.Customer.\r\n",
                "### Columns: The columns selected are C.CustomerId, A.OrderId, A.OrderDate.\r\n",
                "### Predicate: The query retrieves data from the Sales.Customer table aliased as C and performs a CROSS APPLY operation with a subquery aliased as A. The subquery selects the top 3 most recent orders for each customer from the Sales.[Order] table based on OrderDate and OrderId in descending order. It uses the OFFSET-FETCH clause to limit the result set to the first 3 rows. The selected columns CustomerId, OrderId, and OrderDate are then returned in the result set.\r\n",
                "### *What is special here is that it will only return 3 most recent orders for each customer to make the result short.*\r\n",
                "\r\n",
                "\r\n",
                ""
            ],
            "metadata": {
                "language": "sql",
                "azdata_cell_guid": "9edbd9f0-dc8f-464d-8dec-bc2632e3f2a8"
            },
            "attachments": {}
        },
        {
            "cell_type": "code",
            "source": [
                "USE TSQLV6\r\n",
                "SELECT C.custid, A.orderid, A.orderdate\r\n",
                "FROM Sales.Customers AS C\r\n",
                "  CROSS APPLY\r\n",
                "    (SELECT orderid, empid, orderdate, requireddate \r\n",
                "     FROM Sales.Orders AS O\r\n",
                "     WHERE O.custid = C.custid\r\n",
                "     ORDER BY orderdate DESC, orderid DESC\r\n",
                "     OFFSET 0 ROWS FETCH NEXT 3 ROWS ONLY) AS A;\r\n",
                "\r\n",
                "\r\n",
                "\r\n",
                "USE Northwinds2022TSQLV7\r\n",
                "SELECT C.CustomerId, A.OrderId, A.OrderDate\r\n",
                "FROM Sales.Customer AS C\r\n",
                "  CROSS APPLY\r\n",
                "    (SELECT OrderId, EmployeeId, OrderDate, RequiredDate \r\n",
                "     FROM Sales.[Order] AS O\r\n",
                "     WHERE O.CustomerId = C.CustomerId\r\n",
                "     ORDER BY OrderDate DESC, OrderId DESC\r\n",
                "     OFFSET 0 ROWS FETCH NEXT 3 ROWS ONLY) AS A;"
            ],
            "metadata": {
                "language": "sql",
                "azdata_cell_guid": "9c1a00a5-e676-4010-902c-7612966e1dba",
                "tags": [
                    "hide_input"
                ]
            },
            "outputs": [],
            "execution_count": null
        },
        {
            "cell_type": "markdown",
            "source": [
                "# **Chapter 4-5 Query & Exercises**\n",
                "\n",
                "## **Exercises**\n",
                "\n",
                "### Chapter 4 Exercise 4\n",
                "### Proposition: Returns a list of distinct customer countries where there are customers but no corresponding employees based on the country.\n",
                "### Table: The query uses Sales.Customer and HumanResources.Employee tables.\n",
                "### Columns: The columns selected are CustomerCountry from Sales.Customer.\n",
                "### Predicate: It performs a LEFT JOIN between the Sales.Customer table (aliased as C) and the HumanResources.Employee table (aliased as E) based on the EmployeeCountry and CustomerCountry columns, respectively. The LEFT JOIN ensures that all rows from the Sales.Customer table are included in the result set, regardless of whether there is a matching row in the HumanResources.Employee table. The WHERE clause filters the result set to only include rows where there are customers but no corresponding employees (EmployeeId is NULL), indicating that there are customers in certain countries where no employees are located.\n",
                "\n",
                ""
            ],
            "metadata": {
                "azdata_cell_guid": "11559c11-4a7c-42f0-a43a-de45be78eeb9"
            },
            "attachments": {}
        },
        {
            "cell_type": "code",
            "source": [
                "USE TSQLV6\r\n",
                "SELECT DISTINCT c.country\r\n",
                "FROM Sales.Customers c\r\n",
                "LEFT JOIN HR.Employees e ON c.country = e.country\r\n",
                "WHERE e.empid IS NULL\r\n",
                "\r\n",
                "\r\n",
                "USE Northwinds2022TSQLV7\r\n",
                "SELECT DISTINCT C.CustomerCountry\r\n",
                "FROM Sales.Customer C\r\n",
                "LEFT JOIN HumanResources.Employee E ON C.CustomerCountry = E.EmployeeCountry\r\n",
                "WHERE E.EmployeeId IS NULL"
            ],
            "metadata": {
                "azdata_cell_guid": "9d5ff3a5-3a05-468f-9fd5-dba4e297594e",
                "language": "sql",
                "tags": [
                    "hide_input"
                ]
            },
            "outputs": [],
            "execution_count": null
        },
        {
            "cell_type": "markdown",
            "source": [
                "### Chapter 5 Exercise 5-1\r\n",
                "\r\n",
                "### Proposition: Returns a view named VEmpOrders which provides a summary of the total quantity ordered by each employee for each year.\r\n",
                "### Table: The query uses Sales.[Order] and Sales.OrderDetail tables.\r\n",
                "### Columns: The columns selected are O.EmployeeId AS empid, YEAR(O.OrderDate) AS orderyear, SUM(OD.Quantity) AS qty\r\n",
                "### Predicate: It retrieves data from the Sales.[Order] and Sales.OrderDetail tables to calculate the total quantity (qty) ordered by each employee (EmployeeId) for each year (extracted using the YEAR() function on the OrderDate). The results are grouped by EmployeeId and the year extracted from the OrderDate. The view provides a summary of the total quantity ordered by each employee for each year."
            ],
            "metadata": {
                "language": "sql",
                "azdata_cell_guid": "659c2cd6-a98d-47aa-85e5-3760fdbfcf94"
            },
            "attachments": {}
        },
        {
            "cell_type": "code",
            "source": [
                "USE TSQLV6\r\n",
                "GO\r\n",
                "CREATE VIEW VEmpOrders AS\r\n",
                "SELECT \r\n",
                "    o.empid AS empid,\r\n",
                "    YEAR(o.orderdate) AS orderyear,\r\n",
                "    SUM(od.qty) AS qty\r\n",
                "FROM \r\n",
                "    Sales.Orders o\r\n",
                "JOIN \r\n",
                "    Sales.OrderDetails od ON o.orderid = od.orderid\r\n",
                "GROUP BY \r\n",
                "    o.empid,\r\n",
                "    YEAR(o.orderdate);\r\n",
                "GO\r\n",
                "SELECT * FROM  VEmpOrders ORDER BY empid, orderyear\r\n",
                "\r\n",
                "\r\n",
                "\r\n",
                "USE Northwinds2022TSQLV7;\r\n",
                "GO\r\n",
                "DROP VIEW IF EXISTS [dbo].[vEmpOrders];\r\n",
                "DROP VIEW IF EXISTS [Sales].[VEmpOrders];\r\n",
                "GO\r\n",
                "\r\n",
                "CREATE VIEW [Sales].[VEmpOrders] AS\r\n",
                "SELECT \r\n",
                "    O.EmployeeId AS EmpId,\r\n",
                "    YEAR(O.OrderDate) AS OrderYear,\r\n",
                "    SUM(OD.Quantity) AS Qty\r\n",
                "FROM \r\n",
                "    Sales.[Order] O\r\n",
                "JOIN \r\n",
                "    Sales.OrderDetail OD ON O.OrderId = OD.OrderId\r\n",
                "GROUP BY \r\n",
                "    O.EmployeeId,\r\n",
                "    YEAR(O.OrderDate);\r\n",
                "GO\r\n",
                "SELECT * FROM  [Sales].[VEmpOrders] ORDER BY EmpId, OrderYear; \r\n",
                ""
            ],
            "metadata": {
                "language": "sql",
                "azdata_cell_guid": "33bac416-e467-4092-a541-d34c3d3c756c",
                "tags": [
                    "hide_input"
                ]
            },
            "outputs": [],
            "execution_count": null
        },
        {
            "cell_type": "markdown",
            "source": [
                "## **Queries**\r\n",
                "\r\n",
                "### Chapter 4 Queries:\r\n",
                ""
            ],
            "metadata": {
                "language": "sql",
                "azdata_cell_guid": "3ce541a4-81fa-44a0-9954-ea9149dc9241"
            },
            "attachments": {}
        },
        {
            "cell_type": "markdown",
            "source": [
                "### Proposition: Creates a table named \"Orders\" populating it with OrderId where the OrderId is an even number.\r\n",
                "### Table: The query uses Sales.[Order] table.\r\n",
                "### Columns: The columns selected is OrderId from Sales.[Order].\r\n",
                "### Predicate: The query starts by ensuring that any existing table named \"Orders\" is dropped from the database to avoid conflicts. It then creates a new table named \"Orders\" with a single column named \"orderid\" of type INT. The \"orderid\" column is set as the primary key of the table using the CONSTRAINT PK_Orders PRIMARY KEY syntax. The INSERT INTO statement is used to populate the \"orderid\" column of the \"Orders\" table. The SELECT statement retrieves OrderId values from the Sales.[Order] table where the OrderId is an even number."
            ],
            "metadata": {
                "language": "sql",
                "azdata_cell_guid": "24baea1a-52b6-4c0e-a79c-af8a568a4aae"
            },
            "attachments": {}
        },
        {
            "cell_type": "code",
            "source": [
                "USE TSQLV6;\r\n",
                "DROP TABLE IF EXISTS dbo.Orders;\r\n",
                "CREATE TABLE dbo.Orders(orderid INT NOT NULL CONSTRAINT PK_Orders PRIMARY KEY);\r\n",
                "INSERT INTO dbo.Orders(orderid)\r\n",
                "  SELECT orderid\r\n",
                "  FROM Sales.Orders\r\n",
                "  WHERE orderid % 2 = 0;\r\n",
                "\r\n",
                "\r\n",
                "\r\n",
                "USE Northwinds2022TSQLV7;\r\n",
                "DROP TABLE IF EXISTS dbo.Orders;\r\n",
                "CREATE TABLE dbo.Orders(orderid INT NOT NULL CONSTRAINT PK_Orders PRIMARY KEY);\r\n",
                "INSERT INTO dbo.Orders(orderid)\r\n",
                "  SELECT OrderId\r\n",
                "  FROM Sales.[Order]\r\n",
                "  WHERE OrderId % 2 = 0;"
            ],
            "metadata": {
                "language": "sql",
                "azdata_cell_guid": "9bc10c82-6897-428b-8b83-906623727d86",
                "tags": [
                    "hide_input"
                ]
            },
            "outputs": [],
            "execution_count": null
        },
        {
            "cell_type": "markdown",
            "source": [
                "### Proposition: Returns CustomerId and CustomerCompanyName for customers located in Spain who have placed at least one order.\r\n",
                "### Table: The query uses Sales.[Order] and Sales.Customer tables.\r\n",
                "### Columns: The columns selected are CustomerId and CustomerCompanyName from Sales.Customer.\r\n",
                "### Predicate: It uses a WHERE clause to filter the results to include only customers located in Spain (CustomerCountry = N'Spain'). The query also includes an EXISTS subquery to check if there exists at least one order in the Sales.[Order] table (aliased as O) where the CustomerId matches the CustomerId of the main query's result set (C.CustomerId). The EXISTS subquery ensures that only customers who have placed at least one order are returned in the result set."
            ],
            "metadata": {
                "language": "sql",
                "azdata_cell_guid": "280b675a-b24d-4c15-b473-b06e27979602"
            },
            "attachments": {}
        },
        {
            "cell_type": "code",
            "source": [
                "USE TSQLV6\r\n",
                "SELECT custid, companyname\r\n",
                "FROM Sales.Customers AS C\r\n",
                "WHERE country = N'Spain'\r\n",
                "  AND EXISTS\r\n",
                "    (SELECT * FROM Sales.Orders AS O\r\n",
                "     WHERE O.custid = C.custid);\r\n",
                "\r\n",
                "\r\n",
                "\r\n",
                "USE Northwinds2022TSQLV7\r\n",
                "SELECT CustomerId, CustomerCompanyName\r\n",
                "FROM Sales.Customer AS C\r\n",
                "WHERE CustomerCountry = N'Spain'\r\n",
                "  AND EXISTS\r\n",
                "    (SELECT * FROM Sales.[Order] AS O\r\n",
                "     WHERE O.CustomerId = C.CustomerId);\r\n",
                ""
            ],
            "metadata": {
                "language": "sql",
                "azdata_cell_guid": "ea8a9d58-ecb7-456a-bdae-b34a50d04ddf",
                "tags": [
                    "hide_input"
                ]
            },
            "outputs": [],
            "execution_count": null
        },
        {
            "cell_type": "markdown",
            "source": [
                "### Proposition: Returns the cumulative sum of quantities for each order year from the OrderTotalsByYear table.\r\n",
                "### Table: The query uses Sales.[Order], Sales.OrderDetail, OrderTotalsByYear tables.\r\n",
                "### Columns: The columns selected are YEAR(O.OrderDate) AS OrderYear, SUM(OD.Quantity) AS Quantity, runqty\r\n",
                "### Predicate: It includes a correlated subquery to calculate the cumulative sum of quantities (runqty) up to the current order year (O1.orderyear). The subquery calculates the sum of quantities from the OrderTotalsByYear table (aliased as O2) where the orderyear is less than or equal to the orderyear of the current row (O1.orderyear). This subquery is executed for each row in the main query, resulting in the cumulative sum of quantities for each order year."
            ],
            "metadata": {
                "language": "sql",
                "azdata_cell_guid": "c4289d83-e611-4d1d-8214-865a85659667"
            },
            "attachments": {}
        },
        {
            "cell_type": "code",
            "source": [
                "USE TSQLV6\r\n",
                "SELECT orderyear, qty,\r\n",
                "  (SELECT SUM(O2.qty)\r\n",
                "   FROM Sales.OrderTotalsByYear AS O2\r\n",
                "   WHERE O2.orderyear <= O1.orderyear) AS runqty\r\n",
                "FROM Sales.OrderTotalsByYear AS O1\r\n",
                "ORDER BY orderyear;\r\n",
                "GO\r\n",
                "\r\n",
                "\r\n",
                "\r\n",
                "USE Northwinds2022TSQLV7\r\n",
                "GO\r\n",
                "CREATE VIEW OrderTotalsByYear\r\n",
                "  WITH SCHEMABINDING\r\n",
                "AS\r\n",
                "SELECT\r\n",
                "  YEAR(O.OrderDate) AS OrderYear,\r\n",
                "  SUM(OD.Quantity) AS Quantity\r\n",
                "FROM Sales.[Order] AS O\r\n",
                "  JOIN Sales.OrderDetail AS OD\r\n",
                "    ON OD.Orderid = O.OrderId\r\n",
                "GROUP BY YEAR(OrderDate);\r\n",
                "GO\r\n",
                "USE Northwinds2022TSQLV7\r\n",
                "SELECT OrderYear, Quantity,\r\n",
                "  (SELECT SUM(O2.Quantity)\r\n",
                "   FROM OrderTotalsByYear AS O2\r\n",
                "   WHERE O2.orderyear <= O1.orderyear) AS runqty\r\n",
                "FROM OrderTotalsByYear AS O1\r\n",
                "ORDER BY orderyear;\r\n",
                "\r\n",
                ""
            ],
            "metadata": {
                "language": "sql",
                "azdata_cell_guid": "63d62fd9-3775-41cc-b640-7d55444cea77",
                "tags": [
                    "hide_input"
                ]
            },
            "outputs": [],
            "execution_count": null
        },
        {
            "cell_type": "markdown",
            "source": [
                "### Proposition: Returns CustomerId and CustomerCompanyName for customers who have not placed any orders.\r\n",
                "### Table: The query uses Sales.[Order] and Sales.Customer tables.\r\n",
                "### Columns: The columns selected are CustomerId and CustomerCompanyName from Sales.Customer.\r\n",
                "### Predicate: It uses a WHERE clause with a NOT EXISTS subquery to filter the results to include only customers who do not have any corresponding orders in the Sales.[Order] table. The NOT EXISTS subquery checks if there are no rows in the Sales.[Order] table (aliased as O) where the CustomerId matches the CustomerId of the main query's result set (C.CustomerId). This ensures that only customers who have not placed any orders are returned in the result set."
            ],
            "metadata": {
                "language": "sql",
                "azdata_cell_guid": "402b3123-d4ed-4fca-bd96-3610638b90a4"
            },
            "attachments": {}
        },
        {
            "cell_type": "code",
            "source": [
                "USE TSQLV6\r\n",
                "SELECT custid, companyname\r\n",
                "FROM Sales.Customers AS C\r\n",
                "WHERE NOT EXISTS\r\n",
                "  (SELECT * \r\n",
                "   FROM Sales.Orders AS O\r\n",
                "   WHERE O.custid = C.custid);\r\n",
                "\r\n",
                "\r\n",
                "\r\n",
                "USE Northwinds2022TSQLV7\r\n",
                "SELECT CustomerId, CustomerCompanyName\r\n",
                "FROM Sales.Customer AS C\r\n",
                "WHERE NOT EXISTS\r\n",
                "  (SELECT * \r\n",
                "   FROM Sales.[Order] AS O\r\n",
                "   WHERE O.CustomerId = C.CustomerId);"
            ],
            "metadata": {
                "language": "sql",
                "azdata_cell_guid": "c4cef0bf-8924-4e06-996c-97e73b9f65e4",
                "tags": [
                    "hide_input"
                ]
            },
            "outputs": [],
            "execution_count": null
        },
        {
            "cell_type": "markdown",
            "source": [
                "### Proposition: Returns ShipperId and ShipperCompanyName for shippers associated with orders placed by a specific customer (CustomerId = 43).\r\n",
                "### Table: The query uses Sales.[Order] and Sales.Shipper tables.\r\n",
                "### Columns: The columns selected are ShipperId, ShipperCompanyName from Sales.Shipper.\r\n",
                "### Predicate: It utilizes a subquery to find ShipperId values from the Sales.[Order] table (aliased as O) where the CustomerId is equal to 43. The IN operator is used to filter the results from the Sales.Shipper table to include only those ShipperId values that exist in the result set of the subquery. This ensures that only shippers associated with orders placed by the customer with CustomerId 43 are returned in the result set."
            ],
            "metadata": {
                "language": "sql",
                "azdata_cell_guid": "e5ecf87b-0276-4813-9f73-2cf5e207eeec"
            },
            "attachments": {}
        },
        {
            "cell_type": "code",
            "source": [
                "USE TSQLV6\r\n",
                "SELECT shipperid, companyname\r\n",
                "FROM Sales.Shippers\r\n",
                "WHERE shipperid IN\r\n",
                "  (SELECT O.shipperid\r\n",
                "   FROM Sales.Orders AS O\r\n",
                "   WHERE O.custid = 43);\r\n",
                "\r\n",
                "\r\n",
                "USE Northwinds2022TSQLV7\r\n",
                "SELECT ShipperId, ShipperCompanyName\r\n",
                "FROM Sales.Shipper\r\n",
                "WHERE ShipperId IN\r\n",
                "  (SELECT O.ShipperId\r\n",
                "   FROM Sales.[Order] AS O\r\n",
                "   WHERE O.CustomerId = 43);"
            ],
            "metadata": {
                "language": "sql",
                "azdata_cell_guid": "dd9b7559-30b2-4b3c-ba51-d3aec9e03363",
                "tags": [
                    "hide_input"
                ]
            },
            "outputs": [],
            "execution_count": null
        },
        {
            "cell_type": "markdown",
            "source": [
                "### Chapter 5 Queries:\r\n",
                ""
            ],
            "metadata": {
                "language": "sql",
                "azdata_cell_guid": "c7f9a963-05f6-4a23-bb0c-35ea34db4d80"
            },
            "attachments": {}
        },
        {
            "cell_type": "markdown",
            "source": [
                "### Proposition: Returns the number of distinct customers for each year, along with the growth in the number of distinct customers between consecutive years, based on order dates.\r\n",
                "### Table: The query uses Sales.[Order].\r\n",
                "### Columns: The columns selected are Cur.numcusts AS curnumcusts, Prv.numcusts AS prvnumcusts, Cur.numcusts - Prv.numcusts AS growth, YEAR(OrderDate) AS orderyear\r\n",
                "### Predicate: The main query selects the orderyear, the number of distinct customers in the current year (curnumcusts), the number of distinct customers in the previous year (prvnumcusts), and calculates the growth as the difference between the number of distinct customers in the current year and the previous year."
            ],
            "metadata": {
                "language": "sql",
                "azdata_cell_guid": "01c6d98b-4ea3-4ba5-badd-f0c810349bf1"
            },
            "attachments": {}
        },
        {
            "cell_type": "code",
            "source": [
                "USE TSQLV6\r\n",
                "SELECT Cur.orderyear, \r\n",
                "  Cur.numcusts AS curnumcusts, Prv.numcusts AS prvnumcusts,\r\n",
                "  Cur.numcusts - Prv.numcusts AS growth\r\n",
                "FROM (SELECT YEAR(orderdate) AS orderyear,\r\n",
                "        COUNT(DISTINCT custid) AS numcusts\r\n",
                "      FROM Sales.Orders\r\n",
                "      GROUP BY YEAR(orderdate)) AS Cur\r\n",
                "  LEFT OUTER JOIN\r\n",
                "     (SELECT YEAR(orderdate) AS orderyear,\r\n",
                "        COUNT(DISTINCT custid) AS numcusts\r\n",
                "      FROM Sales.Orders\r\n",
                "      GROUP BY YEAR(orderdate)) AS Prv\r\n",
                "    ON Cur.orderyear = Prv.orderyear + 1;\r\n",
                "\r\n",
                "\r\n",
                "\r\n",
                "USE Northwinds2022TSQLV7\r\n",
                "SELECT Cur.orderyear, \r\n",
                "  Cur.numcusts AS curnumcusts, Prv.numcusts AS prvnumcusts,\r\n",
                "  Cur.numcusts - Prv.numcusts AS growth\r\n",
                "FROM (SELECT YEAR(orderdate) AS orderyear,\r\n",
                "        COUNT(DISTINCT CustomerId) AS numcusts\r\n",
                "      FROM Sales.[Order]\r\n",
                "      GROUP BY YEAR(OrderDate)) AS Cur\r\n",
                "  LEFT OUTER JOIN\r\n",
                "     (SELECT YEAR(OrderDate) AS orderyear,\r\n",
                "        COUNT(DISTINCT CustomerId) AS numcusts\r\n",
                "      FROM Sales.[Order]\r\n",
                "      GROUP BY YEAR(OrderDate)) AS Prv\r\n",
                "    ON Cur.orderyear = Prv.orderyear + 1;\r\n",
                "\r\n",
                ""
            ],
            "metadata": {
                "language": "sql",
                "azdata_cell_guid": "62873dfe-86fa-4c17-b1a7-8adfba1eb8eb",
                "tags": [
                    "hide_input"
                ]
            },
            "outputs": [],
            "execution_count": null
        },
        {
            "cell_type": "markdown",
            "source": [
                "### Proposition: The following query retrieves order years and the number of distinct customers for each year and filtering the results to include only those years with more than 70 distinct customers.\r\n",
                "### Table: The query uses Sales.[Order].\r\n",
                "### Columns: The columns selected are YEAR(orderdate) AS orderyear, COUNT(DISTINCT custid) AS numcusts.\r\n",
                "### Predicate: This query uses two CTEs (C1 and C2) to first select the order year (orderyear) and CustomerId from the Sales.[Order] table in C1 and then calculates the count of distinct customers (numcusts) for each order year in C2. Finally, the query selects orderyear and numcusts columns from C2, filtering the result set to include only those years with more than 70 distinct customers."
            ],
            "metadata": {
                "language": "sql",
                "azdata_cell_guid": "48490bdd-9625-4faa-9448-34bb488f7684"
            },
            "attachments": {}
        },
        {
            "cell_type": "code",
            "source": [
                "USE TSQLV6\r\n",
                "DECLARE @empid AS INT = 3;\r\n",
                "WITH C AS\r\n",
                "(\r\n",
                "  SELECT YEAR(orderdate) AS orderyear, custid\r\n",
                "  FROM Sales.Orders\r\n",
                "  WHERE empid = @empid\r\n",
                ")\r\n",
                "SELECT orderyear, COUNT(DISTINCT custid) AS numcusts\r\n",
                "FROM C\r\n",
                "GROUP BY orderyear;\r\n",
                "GO\r\n",
                "-------------------------------------------------------my part below\r\n",
                "WITH C1 AS\r\n",
                "(\r\n",
                "  SELECT YEAR(orderdate) AS orderyear, custid\r\n",
                "  FROM Sales.Orders\r\n",
                "),\r\n",
                "C2 AS\r\n",
                "(\r\n",
                "  SELECT orderyear, COUNT(DISTINCT custid) AS numcusts\r\n",
                "  FROM C1\r\n",
                "  GROUP BY orderyear\r\n",
                ")\r\n",
                "SELECT orderyear, numcusts\r\n",
                "FROM C2\r\n",
                "WHERE numcusts > 70;\r\n",
                "\r\n",
                "\r\n",
                "\r\n",
                "USE Northwinds2022TSQLV7\r\n",
                "DECLARE @empid AS INT = 3;\r\n",
                "WITH C AS\r\n",
                "(\r\n",
                "  SELECT YEAR(OrderDate) AS orderyear, CustomerId\r\n",
                "  FROM Sales.[Order]\r\n",
                "  WHERE EmployeeId = @empid\r\n",
                ")\r\n",
                "SELECT orderyear, COUNT(DISTINCT CustomerId) AS numcusts\r\n",
                "FROM C\r\n",
                "GROUP BY orderyear;\r\n",
                "GO\r\n",
                "--------------------------------------------------------my part below\r\n",
                "WITH C1 AS\r\n",
                "(\r\n",
                "  SELECT YEAR(OrderDate) AS orderyear, CustomerId\r\n",
                "  FROM Sales.[Order]\r\n",
                "),\r\n",
                "C2 AS\r\n",
                "(\r\n",
                "  SELECT orderyear, COUNT(DISTINCT CustomerId) AS numcusts\r\n",
                "  FROM C1\r\n",
                "  GROUP BY orderyear\r\n",
                ")\r\n",
                "SELECT orderyear, numcusts\r\n",
                "FROM C2\r\n",
                "WHERE numcusts > 70;\r\n",
                ""
            ],
            "metadata": {
                "language": "sql",
                "azdata_cell_guid": "df68f1f9-9890-4984-9df9-f274bc3aa914",
                "tags": [
                    "hide_input"
                ]
            },
            "outputs": [],
            "execution_count": null
        },
        {
            "cell_type": "markdown",
            "source": [
                "### Proposition: Returns customer, their company name, and region ordered by region.\r\n",
                "### Table: The query uses Sales.Customer.\r\n",
                "### Columns: The columns selected are CustomerId, CustomerCompanyName, CustomerRegion.\r\n",
                "### Predicate: The ORDER BY clause sorts the result set in ascending order based on the CustomerRegion column."
            ],
            "metadata": {
                "language": "sql",
                "azdata_cell_guid": "ce5508aa-7a5b-4427-8e36-53c0455dc3ac"
            },
            "attachments": {}
        },
        {
            "cell_type": "code",
            "source": [
                "USE TSQLV6\r\n",
                "SELECT custid, companyname, region\r\n",
                "FROM Sales.Customers\r\n",
                "ORDER BY region;\r\n",
                "GO\r\n",
                "\r\n",
                "\r\n",
                "USE Northwinds2022TSQLV7\r\n",
                "SELECT CustomerId, CustomerCompanyName, CustomerRegion\r\n",
                "FROM Sales.Customer\r\n",
                "ORDER BY CustomerRegion;\r\n",
                "GO\r\n",
                ""
            ],
            "metadata": {
                "language": "sql",
                "azdata_cell_guid": "5e0e16be-0a83-4c47-ade0-799eb6388844",
                "tags": [
                    "hide_input"
                ]
            },
            "outputs": [],
            "execution_count": null
        },
        {
            "cell_type": "markdown",
            "source": [
                "### Proposition: Creates or alters a view named Sales.USACusts. The view retrieves detailed information about customers located in the USA.\r\n",
                "### Table: The query uses Sales.Customer.\r\n",
                "### Columns: The columns selected are CustomerId, CustomerCompanyName, CustomerContactName, CustomerContactTitle, CustomerAddress, CustomerCity, CustomerRegion, CustomerPostalcode, CustomerCountry, CustomerPhoneNumber, CustomerFaxNumber.\r\n",
                "### Predicate: It uses the \"CREATE OR ALTER VIEW\" statement to create or modify the view named Sales.USACusts. The view definition includes a SELECT statement that retrieves specific columns (CustomerId, CustomerCompanyName, CustomerContactName, CustomerContactTitle, CustomerAddress, CustomerCity, CustomerRegion, CustomerPostalcode, CustomerCountry, CustomerPhoneNumber, and CustomerFaxNumber) from the Sales.Customer table. The WHERE clause filters the rows to include only customers located in the USA (CustomerCountry = N'USA')."
            ],
            "metadata": {
                "language": "sql",
                "azdata_cell_guid": "8ade7d30-c80c-44e2-a2d0-0728be3f79d2"
            },
            "attachments": {}
        },
        {
            "cell_type": "code",
            "source": [
                "USE TSQLV6\r\n",
                "GO\r\n",
                "CREATE OR ALTER VIEW Sales.USACusts\r\n",
                "AS\r\n",
                "SELECT\r\n",
                "  custid, companyname, contactname, contacttitle, address,\r\n",
                "  city, region, postalcode, country, phone, fax\r\n",
                "FROM Sales.Customers\r\n",
                "WHERE country = N'USA';\r\n",
                "GO\r\n",
                "\r\n",
                "\r\n",
                "\r\n",
                "USE Northwinds2022TSQLV7\r\n",
                "GO\r\n",
                "CREATE OR ALTER VIEW Sales.USACusts\r\n",
                "AS\r\n",
                "SELECT\r\n",
                "  CustomerId, CustomerCompanyName, CustomerContactName, CustomerContactTitle, CustomerAddress,\r\n",
                "  CustomerCity, CustomerRegion, CustomerPostalcode, CustomerCountry, CustomerPhoneNumber, CustomerFaxNumber\r\n",
                "FROM Sales.Customer\r\n",
                "WHERE CustomerCountry = N'USA';\r\n",
                "GO"
            ],
            "metadata": {
                "language": "sql",
                "azdata_cell_guid": "5d3b1952-e270-4821-8f63-9e8aed6582df",
                "tags": [
                    "hide_input"
                ]
            },
            "outputs": [],
            "execution_count": null
        },
        {
            "cell_type": "markdown",
            "source": [
                "### Proposition: Creates or alters a view named Sales.USACusts. The view retrieves detailed information about customers located in the USA.\r\n",
                "### Table: The query uses Sales.Customer.\r\n",
                "### Columns: The columns selected are CustomerId, CustomerCompanyName, CustomerContactName, CustomerContactTitle, CustomerAddress, CustomerCity, CustomerRegion, CustomerPostalcode, CustomerCountry, CustomerPhoneNumber, CustomerFaxNumber.\r\n",
                "### Predicate: It uses the \"CREATE OR ALTER VIEW\" statement to create or modify the view named Sales.USACusts with the SCHEMABINDING option. The view definition includes a SELECT statement that retrieves specific columns (CustomerId, CustomerCompanyName, CustomerContactName, CustomerContactTitle, CustomerAddress, CustomerCity, CustomerRegion, CustomerPostalcode, CustomerCountry, CustomerPhoneNumber, and CustomerFaxNumber) from the Sales.Customer table. The WHERE clause filters the rows to include only customers located in the USA (CustomerCountry = N'USA')."
            ],
            "metadata": {
                "language": "sql",
                "azdata_cell_guid": "beb10b03-2dfd-4ef1-908b-4b8eea814104"
            },
            "attachments": {}
        },
        {
            "cell_type": "code",
            "source": [
                "USE TSQLV6\r\n",
                "GO\r\n",
                "CREATE OR ALTER VIEW Sales.USACusts WITH SCHEMABINDING\r\n",
                "AS\r\n",
                "SELECT\r\n",
                "  custid, companyname, contactname, contacttitle, address,\r\n",
                "  city, region, postalcode, country, phone, fax\r\n",
                "FROM Sales.Customers\r\n",
                "WHERE country = N'USA';\r\n",
                "GO\r\n",
                "\r\n",
                "\r\n",
                "\r\n",
                "USE Northwinds2022TSQLV7\r\n",
                "GO\r\n",
                "CREATE OR ALTER VIEW Sales.USACusts WITH SCHEMABINDING\r\n",
                "AS\r\n",
                "SELECT\r\n",
                "  CustomerId, CustomerCompanyName, CustomerContactName, CustomerContactTitle, CustomerAddress,\r\n",
                "  CustomerCity, CustomerRegion, CustomerPostalCode, CustomerCountry, CustomerPhoneNumber, CustomerFaxNumber\r\n",
                "FROM Sales.Customer\r\n",
                "WHERE CustomerCountry = N'USA';\r\n",
                "GO\r\n",
                ""
            ],
            "metadata": {
                "language": "sql",
                "azdata_cell_guid": "124a70ab-d85a-49c6-a1e6-6da197b5f98a",
                "tags": [
                    "hide_input"
                ]
            },
            "outputs": [],
            "execution_count": null
        },
        {
            "cell_type": "markdown",
            "source": [
                "### Proposition: Creates or alters a view named Sales.USACusts. The view retrieves detailed information about customers located in the USA.\r\n",
                "### Table: The query uses Sales.Customer.\r\n",
                "### Columns: The columns selected are CustomerId, CustomerCompanyName, CustomerContactName, CustomerContactTitle, CustomerAddress, CustomerCity, CustomerRegion, CustomerPostalcode, CustomerCountry, CustomerPhoneNumber, CustomerFaxNumber.\r\n",
                "### Predicate: It uses the \"CREATE OR ALTER VIEW\" statement to create or modify the view named Sales.USACusts with the SCHEMABINDING option and WITH CHECK OPTION (specifies the level of checking when data is inserted or updated through a view) at the end. The view definition includes a SELECT statement that retrieves specific columns (CustomerId, CustomerCompanyName, CustomerContactName, CustomerContactTitle, CustomerAddress, CustomerCity, CustomerRegion, CustomerPostalcode, CustomerCountry, CustomerPhoneNumber, and CustomerFaxNumber) from the Sales.Customer table. The WHERE clause filters the rows to include only customers located in the USA (CustomerCountry = N'USA')."
            ],
            "metadata": {
                "language": "sql",
                "azdata_cell_guid": "29356087-0a77-4c76-b7e4-a23f69c6874d"
            },
            "attachments": {}
        },
        {
            "cell_type": "code",
            "source": [
                "USE TSQLV6\r\n",
                "GO\r\n",
                "CREATE OR ALTER VIEW Sales.USACusts WITH SCHEMABINDING\r\n",
                "AS\r\n",
                "SELECT\r\n",
                "  custid, companyname, contactname, contacttitle, address,\r\n",
                "  city, region, postalcode, country, phone, fax\r\n",
                "FROM Sales.Customers\r\n",
                "WHERE country = N'USA'\r\n",
                "WITH CHECK OPTION;\r\n",
                "GO\r\n",
                "\r\n",
                "\r\n",
                "USE Northwinds2022TSQLV7\r\n",
                "GO\r\n",
                "CREATE OR ALTER VIEW Sales.USACusts WITH SCHEMABINDING\r\n",
                "AS\r\n",
                "SELECT\r\n",
                "  CustomerId, CustomerCompanyName, CustomerContactName, CustomerContactTitle, CustomerAddress,\r\n",
                "  CustomerCity, CustomerRegion, CustomerPostalCode, CustomerCountry, CustomerPhoneNumber, CustomerFaxNumber\r\n",
                "FROM Sales.Customer\r\n",
                "WHERE CustomerCountry = N'USA'\r\n",
                "WITH CHECK OPTION;\r\n",
                "GO\r\n",
                ""
            ],
            "metadata": {
                "language": "sql",
                "azdata_cell_guid": "54388ea4-e2f8-4326-ad97-452b12a1b23b",
                "tags": [
                    "hide_input"
                ]
            },
            "outputs": [],
            "execution_count": null
        },
        {
            "cell_type": "markdown",
            "source": [
                "### Proposition: Creates or alters a table-valued function named dbo.GetCustOrders. This function takes a customer ID (@cid) as input and returns details of orders placed by the specified customer.\r\n",
                "### Table: The query uses Sales.[Order] and Sales.OrderDetail tables.\r\n",
                "### Columns: The columns selected are OrderId, CustomerId, EmployeeId, OrderDate, RequiredDate, ShipToDate, ShipperId, Freight, ShipToName, ShipToAddress, ShipToCity, ShipToRegion, ShipToPostalCode, ShipToCountry, O.OrderId, O.CustomerId, OD.ProductId, OD.Quantity.\r\n",
                "### Predicate: It defines a table-valued function dbo.GetCustOrders that takes a customer ID (@cid) as input parameter. The function returns a table containing various order details (OrderId, CustomerId, EmployeeId, OrderDate, RequiredDate, ShipToDate, ShipperId, Freight, ShipToName, ShipToAddress, ShipToCity, ShipToRegion, ShipToPostalCode, ShipToCountry) for the specified customer ID from the Sales.[Order] table. After defining the function, a SELECT statement is executed to retrieve OrderId, CustomerId, ProductId, and Quantity from the orders placed by CustomerId 1. It uses the dbo.GetCustOrders function to get the order details and joins with the Sales.OrderDetail table on OrderId to fetch corresponding product details."
            ],
            "metadata": {
                "language": "sql",
                "azdata_cell_guid": "12672a49-8b6c-4a43-9a77-ef486b3b5c3e"
            },
            "attachments": {}
        },
        {
            "cell_type": "code",
            "source": [
                "USE TSQLV6;\r\n",
                "GO\r\n",
                "CREATE OR ALTER FUNCTION dbo.GetCustOrders\r\n",
                "  (@cid AS INT) RETURNS TABLE\r\n",
                "AS\r\n",
                "RETURN\r\n",
                "  SELECT orderid, custid, empid, orderdate, requireddate,\r\n",
                "    shippeddate, shipperid, freight, shipname, shipaddress, shipcity,\r\n",
                "    shipregion, shippostalcode, shipcountry\r\n",
                "  FROM Sales.Orders\r\n",
                "  WHERE custid = @cid;\r\n",
                "GO\r\n",
                "SELECT O.orderid, O.custid, OD.productid, OD.qty\r\n",
                "FROM dbo.GetCustOrders(1) AS O\r\n",
                "  INNER JOIN Sales.OrderDetails AS OD\r\n",
                "    ON O.orderid = OD.orderid;\r\n",
                "GO\r\n",
                "\r\n",
                "\r\n",
                "\r\n",
                "\r\n",
                "USE Northwinds2022TSQLV7\r\n",
                "GO\r\n",
                "CREATE OR ALTER FUNCTION dbo.GetCustOrders\r\n",
                "  (@cid AS INT) RETURNS TABLE\r\n",
                "AS\r\n",
                "RETURN\r\n",
                "  SELECT OrderId, CustomerId, EmployeeId, OrderDate, RequiredDate,\r\n",
                "    ShipToDate, ShipperId, Freight, ShipToName, ShipToAddress, ShipToCity,\r\n",
                "    ShipToRegion, ShipToPostalCode, ShipToCountry\r\n",
                "  FROM Sales.[Order]\r\n",
                "  WHERE CustomerId = @cid;\r\n",
                "GO\r\n",
                "SELECT O.OrderId, O.CustomerId, OD.ProductId, OD.Quantity\r\n",
                "FROM dbo.GetCustOrders(1) AS O\r\n",
                "  INNER JOIN Sales.OrderDetail AS OD\r\n",
                "    ON O.OrderId = OD.OrderId;\r\n",
                "GO"
            ],
            "metadata": {
                "language": "sql",
                "azdata_cell_guid": "616c449b-a47b-427d-9b07-9f137488a44e",
                "tags": [
                    "hide_input"
                ]
            },
            "outputs": [],
            "execution_count": null
        }
    ]
}