{
    "metadata": {
        "kernelspec": {
            "name": "SQL",
            "display_name": "SQL",
            "language": "sql"
        },
        "language_info": {
            "name": "sql",
            "version": ""
        }
    },
    "nbformat_minor": 2,
    "nbformat": 4,
    "cells": [
        {
            "cell_type": "markdown",
            "source": [
                "# **Taruna Mangar**\r\n",
                "\r\n",
                "# **HOME-WORK 4*:*\r\n",
                "\r\n",
                "## CHAPTER SIX- Excerises"
            ],
            "metadata": {
                "azdata_cell_guid": "c95f8bf0-06cd-43c6-9fd8-17b025eda758"
            },
            "attachments": {}
        },
        {
            "cell_type": "markdown",
            "source": [
                "## **Excerise Four**\r\n",
                "\n",
                "<img src=\"https://static.vecteezy.com/system/resources/previews/022/841/114/non_2x/chatgpt-logo-transparent-background-free-png.png\" alt=\"AI\" width=\"20\" height=\"20\"> *Written in collaboration with ChatGPT from OpenAI to improve understanding and assist with polishing query and simplifying predicate explination.*\r\n",
                "\r\n",
                "- Write a query that returns customer and employee pairs \r\n",
                "- that had order activity in both January 2016 and February 2016\r\n",
                "- Tables involved: TSQLV4 database, Orders table\r\n",
                "\r\n",
                "\r\n",
                "\r\n",
                "### **ANSWER**\r\n",
                "\r\n",
                "**PROPOSITION:** Write a query that returns CustomerId and EmployeeId pairs where orders were placed in both January 2016 and February 2016.\r\n",
                "\r\n",
                "**TABLES:** Northwinds2022TSQLV7 Database, Sales.[Order]\r\n",
                "\r\n",
                "**COLUMN:** CustomerId, EmployeeId and OrderDate from Sales.[Order].\r\n",
                "\r\n",
                "**PREDICATE:**\n",
                "\n",
                " *Before ChatGPT:* The predicate of the query involves selecting CustomerId and EmployeeId pairs from the Sales.[Order] table where the OrderDate falls within January 2016 in the first SELECT statement and within February 2016 in the second SELECT statement using the INTERSECT operator.\n",
                "\n",
                " *After ChatGPT:* This query selects CustomerId and EmployeeId pairs from the Sales.[Order] table where the order dates fall within January 2016 in the first statement and within February 2016 in the second statement using the INTERSECT operator\n",
                "\n",
                "\r\n",
                "\r\n",
                "**WHAT'S SPECIAL: The query employs the INTERSECT operator to retrieve unique CustomerId and EmployeeId pairs from the Sales.[Order] table where orders were placed in both January 2016 and February 2016, ensuring only common rows between the two SELECT statements are included.**\r\n",
                "\r\n",
                "\r\n",
                ""
            ],
            "metadata": {
                "language": "sql",
                "azdata_cell_guid": "26e8835e-bed4-4713-a3e4-5671917b4129"
            },
            "attachments": {}
        },
        {
            "cell_type": "code",
            "source": [
                "-- Before chatGPT\r\n",
                "USE Northwinds2022TSQLV7\n",
                "SELECT O1.CustomerId, O1.EmployeeId\n",
                "FROM Sales.[Order] AS O1\n",
                "WHERE OrderDate >= '20160101' AND OrderDate < '20160201'\n",
                "INTERSECT\n",
                "SELECT O2.CustomerId, O2.EmployeeId\n",
                "FROM Sales.[Order] AS O2\n",
                "WHERE OrderDate >= '20160201' AND OrderDate < '20160301';\n",
                "\r\n",
                "\r\n",
                "\r\n",\n",
                "\n",
                "-- After ChatGPT
                "FROM Sales.Orders\r\n",
                "WHERE orderdate >= '20160101' AND orderdate < '20160201'\r\n",
                "\r\n",
                "INTERSECT\r\n",
                "\r\n",
                "SELECT custid, empid\r\n",
                "FROM Sales.Orders\r\n",
                "WHERE orderdate >= '20160201' AND orderdate < '20160301';\r\n",
                "\r\n",
                "USE Northwinds2022TSQLV7\r\n",
                "SELECT CustomerId, EmployeeId\r\n",
                "FROM Sales.[Order]\r\n",
                "WHERE OrderDate >= '20160101' AND OrderDate < '20160201'\r\n",
                "\r\n",
                "INTERSECT\r\n",
                "\r\n",
                "SELECT CustomerId, EmployeeId\r\n",
                "FROM Sales.[Order]\r\n",
                "WHERE orderdate >= '20160201' AND orderdate < '20160301';\r\n",
                ""
            ],
            "metadata": {
                "azdata_cell_guid": "9aaebe8c-e088-4305-9d30-675ca5c9efdf",
                "language": "sql"
            },
            "outputs": [
{
    "output_type": "error",
    "evalue": "Msg 102, Level 15, State 1, Line 3\r\nIncorrect syntax near '.1E'.",
    "ename": "",
    "traceback": []
}, {
    "output_type": "error",
    "evalue": "Msg 102, Level 15, State 1, Line 9\r\nIncorrect syntax near '.2'.",
    "ename": "",
    "traceback": []
}, {
    "output_type": "display_data",
    "data": {
        "text/html": "Total execution time: 00:00:00.003"
    },
    "metadata": {}
}
],
            "execution_count": 4
        },
        {
            "cell_type": "markdown",
            "source": [
                "# CHAPTER Six - Set Operators \r\n",
                "\r\n",
                "## QUESTION 1- The UNION Operator\r\n",
                "\r\n",
                "**PROPOSITION:** Write a query that create a unified list of distinct employee and customer locations, comprising country, region, and city details\r\n",
                "\r\n",
                "**TABLES:** Northwinds2022TSQLV7 Database, HumanResources.Employee, Sales.Customer\r\n",
                "\r\n",
                "**COLUMN:** EmployeeCountry, EmployeeRegion, and EmployeeCity from the HumanResources.Employee table, along with CustomerCountry, CustomerRegion, and CustomerCity from the Sales.Customer \r\n",
                "\r\n",
                "**PREDICATE:** The predicate involves selecting unique country, region, and city combinations for employees and customers from the HumanResources.Employee and Sales.Customer tables, respectively, with the UNION operator combining these results\r\n",
                "\r\n",
                "**WHAT'S SPECIAL:The query stands out for its use of the UNION operator, efficiently merging and eliminating duplicates from employee and customer location data, ultimately creating a consolidated and unique set of country, region, and city details.**\r\n",
                "\r\n",
                "\r\n",
                ""
            ],
            "metadata": {
                "language": "sql",
                "azdata_cell_guid": "fa4d4796-3bdd-4f2d-8f53-a980d719d46b"
            },
            "attachments": {}
        },
        {
            "cell_type": "code",
            "source": [
                "Use TSQLV6\r\n",
                "SELECT country, region, city FROM HR.Employees\r\n",
                "UNION\r\n",
                "SELECT country, region, city FROM Sales.Customers;\r\n",
                "\r\n",
                "Use Northwinds2022TSQLV7\r\n",
                "SELECT EmployeeCountry, EmployeeRegion, EmployeeCity FROM HumanResources.Employee\r\n",
                "UNION\r\n",
                "SELECT CustomerCountry, CustomerRegion, CustomerCity FROM Sales.Customer;\r\n",
                ""
            ],
            "metadata": {
                "language": "sql",
                "azdata_cell_guid": "c2df5f98-c449-44f4-a727-5718abb6e2f7"
            },
            "outputs": [
                {
                    "output_type": "display_data",
                    "data": {
                        "text/html": "(71 rows affected)"
                    },
                    "metadata": {}
                },
                {
                    "output_type": "display_data",
                    "data": {
                        "text/html": "(71 rows affected)"
                    },
                    "metadata": {}
                },
                {
                    "output_type": "display_data",
                    "data": {
                        "text/html": "Total execution time: 00:00:00.040"
                    },
                    "metadata": {}
                },
                {
                    "output_type": "execute_result",
                    "metadata": {},
                    "execution_count": 3,
                    "data": {
                        "application/vnd.dataresource+json": {
                            "schema": {
                                "fields": [
                                    {
                                        "name": "country"
                                    },
                                    {
                                        "name": "region"
                                    },
                                    {
                                        "name": "city"
                                    }
                                ]
                            },
                            "data": [
                                {
                                    "country": "Argentina",
                                    "region": "NULL",
                                    "city": "Buenos Aires"
                                },
                                {
                                    "country": "Austria",
                                    "region": "NULL",
                                    "city": "Graz"
                                },
                                {
                                    "country": "Austria",
                                    "region": "NULL",
                                    "city": "Salzburg"
                                },
                                {
                                    "country": "Belgium",
                                    "region": "NULL",
                                    "city": "Bruxelles"
                                },
                                {
                                    "country": "Belgium",
                                    "region": "NULL",
                                    "city": "Charleroi"
                                },
                                {
                                    "country": "Brazil",
                                    "region": "RJ",
                                    "city": "Rio de Janeiro"
                                },
                                {
                                    "country": "Brazil",
                                    "region": "SP",
                                    "city": "Campinas"
                                },
                                {
                                    "country": "Brazil",
                                    "region": "SP",
                                    "city": "Resende"
                                },
                                {
                                    "country": "Brazil",
                                    "region": "SP",
                                    "city": "Sao Paulo"
                                },
                                {
                                    "country": "Canada",
                                    "region": "BC",
                                    "city": "Tsawassen"
                                },
                                {
                                    "country": "Canada",
                                    "region": "BC",
                                    "city": "Vancouver"
                                },
                                {
                                    "country": "Canada",
                                    "region": "Québec",
                                    "city": "Montréal"
                                },
                                {
                                    "country": "Denmark",
                                    "region": "NULL",
                                    "city": "Århus"
                                },
                                {
                                    "country": "Denmark",
                                    "region": "NULL",
                                    "city": "Kobenhavn"
                                },
                                {
                                    "country": "Finland",
                                    "region": "NULL",
                                    "city": "Helsinki"
                                },
                                {
                                    "country": "Finland",
                                    "region": "NULL",
                                    "city": "Oulu"
                                },
                                {
                                    "country": "France",
                                    "region": "NULL",
                                    "city": "Lille"
                                },
                                {
                                    "country": "France",
                                    "region": "NULL",
                                    "city": "Lyon"
                                },
                                {
                                    "country": "France",
                                    "region": "NULL",
                                    "city": "Marseille"
                                },
                                {
                                    "country": "France",
                                    "region": "NULL",
                                    "city": "Nantes"
                                },
                                {
                                    "country": "France",
                                    "region": "NULL",
                                    "city": "Paris"
                                },
                                {
                                    "country": "France",
                                    "region": "NULL",
                                    "city": "Reims"
                                },
                                {
                                    "country": "France",
                                    "region": "NULL",
                                    "city": "Strasbourg"
                                },
                                {
                                    "country": "France",
                                    "region": "NULL",
                                    "city": "Toulouse"
                                },
                                {
                                    "country": "France",
                                    "region": "NULL",
                                    "city": "Versailles"
                                },
                                {
                                    "country": "Germany",
                                    "region": "NULL",
                                    "city": "Aachen"
                                },
                                {
                                    "country": "Germany",
                                    "region": "NULL",
                                    "city": "Berlin"
                                },
                                {
                                    "country": "Germany",
                                    "region": "NULL",
                                    "city": "Brandenburg"
                                },
                                {
                                    "country": "Germany",
                                    "region": "NULL",
                                    "city": "Cunewalde"
                                },
                                {
                                    "country": "Germany",
                                    "region": "NULL",
                                    "city": "Frankfurt a.M."
                                },
                                {
                                    "country": "Germany",
                                    "region": "NULL",
                                    "city": "Köln"
                                },
                                {
                                    "country": "Germany",
                                    "region": "NULL",
                                    "city": "Leipzig"
                                },
                                {
                                    "country": "Germany",
                                    "region": "NULL",
                                    "city": "Mannheim"
                                },
                                {
                                    "country": "Germany",
                                    "region": "NULL",
                                    "city": "München"
                                },
                                {
                                    "country": "Germany",
                                    "region": "NULL",
                                    "city": "Münster"
                                },
                                {
                                    "country": "Germany",
                                    "region": "NULL",
                                    "city": "Stuttgart"
                                },
                                {
                                    "country": "Ireland",
                                    "region": "Co. Cork",
                                    "city": "Cork"
                                },
                                {
                                    "country": "Italy",
                                    "region": "NULL",
                                    "city": "Bergamo"
                                },
                                {
                                    "country": "Italy",
                                    "region": "NULL",
                                    "city": "Reggio Emilia"
                                },
                                {
                                    "country": "Italy",
                                    "region": "NULL",
                                    "city": "Torino"
                                },
                                {
                                    "country": "Mexico",
                                    "region": "NULL",
                                    "city": "México D.F."
                                },
                                {
                                    "country": "Norway",
                                    "region": "NULL",
                                    "city": "Stavern"
                                },
                                {
                                    "country": "Poland",
                                    "region": "NULL",
                                    "city": "Warszawa"
                                },
                                {
                                    "country": "Portugal",
                                    "region": "NULL",
                                    "city": "Lisboa"
                                },
                                {
                                    "country": "Spain",
                                    "region": "NULL",
                                    "city": "Barcelona"
                                },
                                {
                                    "country": "Spain",
                                    "region": "NULL",
                                    "city": "Madrid"
                                },
                                {
                                    "country": "Spain",
                                    "region": "NULL",
                                    "city": "Sevilla"
                                },
                                {
                                    "country": "Sweden",
                                    "region": "NULL",
                                    "city": "Bräcke"
                                },
                                {
                                    "country": "Sweden",
                                    "region": "NULL",
                                    "city": "Luleå"
                                },
                                {
                                    "country": "Switzerland",
                                    "region": "NULL",
                                    "city": "Bern"
                                },
                                {
                                    "country": "Switzerland",
                                    "region": "NULL",
                                    "city": "Genève"
                                },
                                {
                                    "country": "UK",
                                    "region": "NULL",
                                    "city": "London"
                                },
                                {
                                    "country": "UK",
                                    "region": "Isle of Wight",
                                    "city": "Cowes"
                                },
                                {
                                    "country": "USA",
                                    "region": "AK",
                                    "city": "Anchorage"
                                },
                                {
                                    "country": "USA",
                                    "region": "CA",
                                    "city": "San Francisco"
                                },
                                {
                                    "country": "USA",
                                    "region": "ID",
                                    "city": "Boise"
                                },
                                {
                                    "country": "USA",
                                    "region": "MT",
                                    "city": "Butte"
                                },
                                {
                                    "country": "USA",
                                    "region": "NM",
                                    "city": "Albuquerque"
                                },
                                {
                                    "country": "USA",
                                    "region": "OR",
                                    "city": "Elgin"
                                },
                                {
                                    "country": "USA",
                                    "region": "OR",
                                    "city": "Eugene"
                                },
                                {
                                    "country": "USA",
                                    "region": "OR",
                                    "city": "Portland"
                                },
                                {
                                    "country": "USA",
                                    "region": "WA",
                                    "city": "Kirkland"
                                },
                                {
                                    "country": "USA",
                                    "region": "WA",
                                    "city": "Redmond"
                                },
                                {
                                    "country": "USA",
                                    "region": "WA",
                                    "city": "Seattle"
                                },
                                {
                                    "country": "USA",
                                    "region": "WA",
                                    "city": "Tacoma"
                                },
                                {
                                    "country": "USA",
                                    "region": "WA",
                                    "city": "Walla Walla"
                                },
                                {
                                    "country": "USA",
                                    "region": "WY",
                                    "city": "Lander"
                                },
                                {
                                    "country": "Venezuela",
                                    "region": "DF",
                                    "city": "Caracas"
                                },
                                {
                                    "country": "Venezuela",
                                    "region": "Lara",
                                    "city": "Barquisimeto"
                                },
                                {
                                    "country": "Venezuela",
                                    "region": "Nueva Esparta",
                                    "city": "I. de Margarita"
                                },
                                {
                                    "country": "Venezuela",
                                    "region": "Táchira",
                                    "city": "San Cristóbal"
                                }
                            ]
                        },
                        "text/html": [
                            "<table>",
                            "<tr><th>country</th><th>region</th><th>city</th></tr>",
                            "<tr><td>Argentina</td><td>NULL</td><td>Buenos Aires</td></tr>",
                            "<tr><td>Austria</td><td>NULL</td><td>Graz</td></tr>",
                            "<tr><td>Austria</td><td>NULL</td><td>Salzburg</td></tr>",
                            "<tr><td>Belgium</td><td>NULL</td><td>Bruxelles</td></tr>",
                            "<tr><td>Belgium</td><td>NULL</td><td>Charleroi</td></tr>",
                            "<tr><td>Brazil</td><td>RJ</td><td>Rio de Janeiro</td></tr>",
                            "<tr><td>Brazil</td><td>SP</td><td>Campinas</td></tr>",
                            "<tr><td>Brazil</td><td>SP</td><td>Resende</td></tr>",
                            "<tr><td>Brazil</td><td>SP</td><td>Sao Paulo</td></tr>",
                            "<tr><td>Canada</td><td>BC</td><td>Tsawassen</td></tr>",
                            "<tr><td>Canada</td><td>BC</td><td>Vancouver</td></tr>",
                            "<tr><td>Canada</td><td>Québec</td><td>Montréal</td></tr>",
                            "<tr><td>Denmark</td><td>NULL</td><td>Århus</td></tr>",
                            "<tr><td>Denmark</td><td>NULL</td><td>Kobenhavn</td></tr>",
                            "<tr><td>Finland</td><td>NULL</td><td>Helsinki</td></tr>",
                            "<tr><td>Finland</td><td>NULL</td><td>Oulu</td></tr>",
                            "<tr><td>France</td><td>NULL</td><td>Lille</td></tr>",
                            "<tr><td>France</td><td>NULL</td><td>Lyon</td></tr>",
                            "<tr><td>France</td><td>NULL</td><td>Marseille</td></tr>",
                            "<tr><td>France</td><td>NULL</td><td>Nantes</td></tr>",
                            "<tr><td>France</td><td>NULL</td><td>Paris</td></tr>",
                            "<tr><td>France</td><td>NULL</td><td>Reims</td></tr>",
                            "<tr><td>France</td><td>NULL</td><td>Strasbourg</td></tr>",
                            "<tr><td>France</td><td>NULL</td><td>Toulouse</td></tr>",
                            "<tr><td>France</td><td>NULL</td><td>Versailles</td></tr>",
                            "<tr><td>Germany</td><td>NULL</td><td>Aachen</td></tr>",
                            "<tr><td>Germany</td><td>NULL</td><td>Berlin</td></tr>",
                            "<tr><td>Germany</td><td>NULL</td><td>Brandenburg</td></tr>",
                            "<tr><td>Germany</td><td>NULL</td><td>Cunewalde</td></tr>",
                            "<tr><td>Germany</td><td>NULL</td><td>Frankfurt a.M.</td></tr>",
                            "<tr><td>Germany</td><td>NULL</td><td>Köln</td></tr>",
                            "<tr><td>Germany</td><td>NULL</td><td>Leipzig</td></tr>",
                            "<tr><td>Germany</td><td>NULL</td><td>Mannheim</td></tr>",
                            "<tr><td>Germany</td><td>NULL</td><td>München</td></tr>",
                            "<tr><td>Germany</td><td>NULL</td><td>Münster</td></tr>",
                            "<tr><td>Germany</td><td>NULL</td><td>Stuttgart</td></tr>",
                            "<tr><td>Ireland</td><td>Co. Cork</td><td>Cork</td></tr>",
                            "<tr><td>Italy</td><td>NULL</td><td>Bergamo</td></tr>",
                            "<tr><td>Italy</td><td>NULL</td><td>Reggio Emilia</td></tr>",
                            "<tr><td>Italy</td><td>NULL</td><td>Torino</td></tr>",
                            "<tr><td>Mexico</td><td>NULL</td><td>México D.F.</td></tr>",
                            "<tr><td>Norway</td><td>NULL</td><td>Stavern</td></tr>",
                            "<tr><td>Poland</td><td>NULL</td><td>Warszawa</td></tr>",
                            "<tr><td>Portugal</td><td>NULL</td><td>Lisboa</td></tr>",
                            "<tr><td>Spain</td><td>NULL</td><td>Barcelona</td></tr>",
                            "<tr><td>Spain</td><td>NULL</td><td>Madrid</td></tr>",
                            "<tr><td>Spain</td><td>NULL</td><td>Sevilla</td></tr>",
                            "<tr><td>Sweden</td><td>NULL</td><td>Bräcke</td></tr>",
                            "<tr><td>Sweden</td><td>NULL</td><td>Luleå</td></tr>",
                            "<tr><td>Switzerland</td><td>NULL</td><td>Bern</td></tr>",
                            "<tr><td>Switzerland</td><td>NULL</td><td>Genève</td></tr>",
                            "<tr><td>UK</td><td>NULL</td><td>London</td></tr>",
                            "<tr><td>UK</td><td>Isle of Wight</td><td>Cowes</td></tr>",
                            "<tr><td>USA</td><td>AK</td><td>Anchorage</td></tr>",
                            "<tr><td>USA</td><td>CA</td><td>San Francisco</td></tr>",
                            "<tr><td>USA</td><td>ID</td><td>Boise</td></tr>",
                            "<tr><td>USA</td><td>MT</td><td>Butte</td></tr>",
                            "<tr><td>USA</td><td>NM</td><td>Albuquerque</td></tr>",
                            "<tr><td>USA</td><td>OR</td><td>Elgin</td></tr>",
                            "<tr><td>USA</td><td>OR</td><td>Eugene</td></tr>",
                            "<tr><td>USA</td><td>OR</td><td>Portland</td></tr>",
                            "<tr><td>USA</td><td>WA</td><td>Kirkland</td></tr>",
                            "<tr><td>USA</td><td>WA</td><td>Redmond</td></tr>",
                            "<tr><td>USA</td><td>WA</td><td>Seattle</td></tr>",
                            "<tr><td>USA</td><td>WA</td><td>Tacoma</td></tr>",
                            "<tr><td>USA</td><td>WA</td><td>Walla Walla</td></tr>",
                            "<tr><td>USA</td><td>WY</td><td>Lander</td></tr>",
                            "<tr><td>Venezuela</td><td>DF</td><td>Caracas</td></tr>",
                            "<tr><td>Venezuela</td><td>Lara</td><td>Barquisimeto</td></tr>",
                            "<tr><td>Venezuela</td><td>Nueva Esparta</td><td>I. de Margarita</td></tr>",
                            "<tr><td>Venezuela</td><td>Táchira</td><td>San Cristóbal</td></tr>",
                            "</table>"
                        ]
                    }
                },
                {
                    "output_type": "execute_result",
                    "metadata": {},
                    "execution_count": 3,
                    "data": {
                        "application/vnd.dataresource+json": {
                            "schema": {
                                "fields": [
                                    {
                                        "name": "EmployeeCountry"
                                    },
                                    {
                                        "name": "EmployeeRegion"
                                    },
                                    {
                                        "name": "EmployeeCity"
                                    }
                                ]
                            },
                            "data": [
                                {
                                    "EmployeeCountry": "Argentina",
                                    "EmployeeRegion": "NULL",
                                    "EmployeeCity": "Buenos Aires"
                                },
                                {
                                    "EmployeeCountry": "Austria",
                                    "EmployeeRegion": "NULL",
                                    "EmployeeCity": "Graz"
                                },
                                {
                                    "EmployeeCountry": "Austria",
                                    "EmployeeRegion": "NULL",
                                    "EmployeeCity": "Salzburg"
                                },
                                {
                                    "EmployeeCountry": "Belgium",
                                    "EmployeeRegion": "NULL",
                                    "EmployeeCity": "Bruxelles"
                                },
                                {
                                    "EmployeeCountry": "Belgium",
                                    "EmployeeRegion": "NULL",
                                    "EmployeeCity": "Charleroi"
                                },
                                {
                                    "EmployeeCountry": "Brazil",
                                    "EmployeeRegion": "RJ",
                                    "EmployeeCity": "Rio de Janeiro"
                                },
                                {
                                    "EmployeeCountry": "Brazil",
                                    "EmployeeRegion": "SP",
                                    "EmployeeCity": "Campinas"
                                },
                                {
                                    "EmployeeCountry": "Brazil",
                                    "EmployeeRegion": "SP",
                                    "EmployeeCity": "Resende"
                                },
                                {
                                    "EmployeeCountry": "Brazil",
                                    "EmployeeRegion": "SP",
                                    "EmployeeCity": "Sao Paulo"
                                },
                                {
                                    "EmployeeCountry": "Canada",
                                    "EmployeeRegion": "BC",
                                    "EmployeeCity": "Tsawassen"
                                },
                                {
                                    "EmployeeCountry": "Canada",
                                    "EmployeeRegion": "BC",
                                    "EmployeeCity": "Vancouver"
                                },
                                {
                                    "EmployeeCountry": "Canada",
                                    "EmployeeRegion": "Québec",
                                    "EmployeeCity": "Montréal"
                                },
                                {
                                    "EmployeeCountry": "Denmark",
                                    "EmployeeRegion": "NULL",
                                    "EmployeeCity": "Århus"
                                },
                                {
                                    "EmployeeCountry": "Denmark",
                                    "EmployeeRegion": "NULL",
                                    "EmployeeCity": "Kobenhavn"
                                },
                                {
                                    "EmployeeCountry": "Finland",
                                    "EmployeeRegion": "NULL",
                                    "EmployeeCity": "Helsinki"
                                },
                                {
                                    "EmployeeCountry": "Finland",
                                    "EmployeeRegion": "NULL",
                                    "EmployeeCity": "Oulu"
                                },
                                {
                                    "EmployeeCountry": "France",
                                    "EmployeeRegion": "NULL",
                                    "EmployeeCity": "Lille"
                                },
                                {
                                    "EmployeeCountry": "France",
                                    "EmployeeRegion": "NULL",
                                    "EmployeeCity": "Lyon"
                                },
                                {
                                    "EmployeeCountry": "France",
                                    "EmployeeRegion": "NULL",
                                    "EmployeeCity": "Marseille"
                                },
                                {
                                    "EmployeeCountry": "France",
                                    "EmployeeRegion": "NULL",
                                    "EmployeeCity": "Nantes"
                                },
                                {
                                    "EmployeeCountry": "France",
                                    "EmployeeRegion": "NULL",
                                    "EmployeeCity": "Paris"
                                },
                                {
                                    "EmployeeCountry": "France",
                                    "EmployeeRegion": "NULL",
                                    "EmployeeCity": "Reims"
                                },
                                {
                                    "EmployeeCountry": "France",
                                    "EmployeeRegion": "NULL",
                                    "EmployeeCity": "Strasbourg"
                                },
                                {
                                    "EmployeeCountry": "France",
                                    "EmployeeRegion": "NULL",
                                    "EmployeeCity": "Toulouse"
                                },
                                {
                                    "EmployeeCountry": "France",
                                    "EmployeeRegion": "NULL",
                                    "EmployeeCity": "Versailles"
                                },
                                {
                                    "EmployeeCountry": "Germany",
                                    "EmployeeRegion": "NULL",
                                    "EmployeeCity": "Aachen"
                                },
                                {
                                    "EmployeeCountry": "Germany",
                                    "EmployeeRegion": "NULL",
                                    "EmployeeCity": "Berlin"
                                },
                                {
                                    "EmployeeCountry": "Germany",
                                    "EmployeeRegion": "NULL",
                                    "EmployeeCity": "Brandenburg"
                                },
                                {
                                    "EmployeeCountry": "Germany",
                                    "EmployeeRegion": "NULL",
                                    "EmployeeCity": "Cunewalde"
                                },
                                {
                                    "EmployeeCountry": "Germany",
                                    "EmployeeRegion": "NULL",
                                    "EmployeeCity": "Frankfurt a.M."
                                },
                                {
                                    "EmployeeCountry": "Germany",
                                    "EmployeeRegion": "NULL",
                                    "EmployeeCity": "Köln"
                                },
                                {
                                    "EmployeeCountry": "Germany",
                                    "EmployeeRegion": "NULL",
                                    "EmployeeCity": "Leipzig"
                                },
                                {
                                    "EmployeeCountry": "Germany",
                                    "EmployeeRegion": "NULL",
                                    "EmployeeCity": "Mannheim"
                                },
                                {
                                    "EmployeeCountry": "Germany",
                                    "EmployeeRegion": "NULL",
                                    "EmployeeCity": "München"
                                },
                                {
                                    "EmployeeCountry": "Germany",
                                    "EmployeeRegion": "NULL",
                                    "EmployeeCity": "Münster"
                                },
                                {
                                    "EmployeeCountry": "Germany",
                                    "EmployeeRegion": "NULL",
                                    "EmployeeCity": "Stuttgart"
                                },
                                {
                                    "EmployeeCountry": "Ireland",
                                    "EmployeeRegion": "Co. Cork",
                                    "EmployeeCity": "Cork"
                                },
                                {
                                    "EmployeeCountry": "Italy",
                                    "EmployeeRegion": "NULL",
                                    "EmployeeCity": "Bergamo"
                                },
                                {
                                    "EmployeeCountry": "Italy",
                                    "EmployeeRegion": "NULL",
                                    "EmployeeCity": "Reggio Emilia"
                                },
                                {
                                    "EmployeeCountry": "Italy",
                                    "EmployeeRegion": "NULL",
                                    "EmployeeCity": "Torino"
                                },
                                {
                                    "EmployeeCountry": "Mexico",
                                    "EmployeeRegion": "NULL",
                                    "EmployeeCity": "México D.F."
                                },
                                {
                                    "EmployeeCountry": "Norway",
                                    "EmployeeRegion": "NULL",
                                    "EmployeeCity": "Stavern"
                                },
                                {
                                    "EmployeeCountry": "Poland",
                                    "EmployeeRegion": "NULL",
                                    "EmployeeCity": "Warszawa"
                                },
                                {
                                    "EmployeeCountry": "Portugal",
                                    "EmployeeRegion": "NULL",
                                    "EmployeeCity": "Lisboa"
                                },
                                {
                                    "EmployeeCountry": "Spain",
                                    "EmployeeRegion": "NULL",
                                    "EmployeeCity": "Barcelona"
                                },
                                {
                                    "EmployeeCountry": "Spain",
                                    "EmployeeRegion": "NULL",
                                    "EmployeeCity": "Madrid"
                                },
                                {
                                    "EmployeeCountry": "Spain",
                                    "EmployeeRegion": "NULL",
                                    "EmployeeCity": "Sevilla"
                                },
                                {
                                    "EmployeeCountry": "Sweden",
                                    "EmployeeRegion": "NULL",
                                    "EmployeeCity": "Bräcke"
                                },
                                {
                                    "EmployeeCountry": "Sweden",
                                    "EmployeeRegion": "NULL",
                                    "EmployeeCity": "Luleå"
                                },
                                {
                                    "EmployeeCountry": "Switzerland",
                                    "EmployeeRegion": "NULL",
                                    "EmployeeCity": "Bern"
                                },
                                {
                                    "EmployeeCountry": "Switzerland",
                                    "EmployeeRegion": "NULL",
                                    "EmployeeCity": "Genève"
                                },
                                {
                                    "EmployeeCountry": "UK",
                                    "EmployeeRegion": "NULL",
                                    "EmployeeCity": "London"
                                },
                                {
                                    "EmployeeCountry": "UK",
                                    "EmployeeRegion": "Isle of Wight",
                                    "EmployeeCity": "Cowes"
                                },
                                {
                                    "EmployeeCountry": "USA",
                                    "EmployeeRegion": "AK",
                                    "EmployeeCity": "Anchorage"
                                },
                                {
                                    "EmployeeCountry": "USA",
                                    "EmployeeRegion": "CA",
                                    "EmployeeCity": "San Francisco"
                                },
                                {
                                    "EmployeeCountry": "USA",
                                    "EmployeeRegion": "ID",
                                    "EmployeeCity": "Boise"
                                },
                                {
                                    "EmployeeCountry": "USA",
                                    "EmployeeRegion": "MT",
                                    "EmployeeCity": "Butte"
                                },
                                {
                                    "EmployeeCountry": "USA",
                                    "EmployeeRegion": "NM",
                                    "EmployeeCity": "Albuquerque"
                                },
                                {
                                    "EmployeeCountry": "USA",
                                    "EmployeeRegion": "OR",
                                    "EmployeeCity": "Elgin"
                                },
                                {
                                    "EmployeeCountry": "USA",
                                    "EmployeeRegion": "OR",
                                    "EmployeeCity": "Eugene"
                                },
                                {
                                    "EmployeeCountry": "USA",
                                    "EmployeeRegion": "OR",
                                    "EmployeeCity": "Portland"
                                },
                                {
                                    "EmployeeCountry": "USA",
                                    "EmployeeRegion": "WA",
                                    "EmployeeCity": "Kirkland"
                                },
                                {
                                    "EmployeeCountry": "USA",
                                    "EmployeeRegion": "WA",
                                    "EmployeeCity": "Redmond"
                                },
                                {
                                    "EmployeeCountry": "USA",
                                    "EmployeeRegion": "WA",
                                    "EmployeeCity": "Seattle"
                                },
                                {
                                    "EmployeeCountry": "USA",
                                    "EmployeeRegion": "WA",
                                    "EmployeeCity": "Tacoma"
                                },
                                {
                                    "EmployeeCountry": "USA",
                                    "EmployeeRegion": "WA",
                                    "EmployeeCity": "Walla Walla"
                                },
                                {
                                    "EmployeeCountry": "USA",
                                    "EmployeeRegion": "WY",
                                    "EmployeeCity": "Lander"
                                },
                                {
                                    "EmployeeCountry": "Venezuela",
                                    "EmployeeRegion": "DF",
                                    "EmployeeCity": "Caracas"
                                },
                                {
                                    "EmployeeCountry": "Venezuela",
                                    "EmployeeRegion": "Lara",
                                    "EmployeeCity": "Barquisimeto"
                                },
                                {
                                    "EmployeeCountry": "Venezuela",
                                    "EmployeeRegion": "Nueva Esparta",
                                    "EmployeeCity": "I. de Margarita"
                                },
                                {
                                    "EmployeeCountry": "Venezuela",
                                    "EmployeeRegion": "Táchira",
                                    "EmployeeCity": "San Cristóbal"
                                }
                            ]
                        },
                        "text/html": [
                            "<table>",
                            "<tr><th>EmployeeCountry</th><th>EmployeeRegion</th><th>EmployeeCity</th></tr>",
                            "<tr><td>Argentina</td><td>NULL</td><td>Buenos Aires</td></tr>",
                            "<tr><td>Austria</td><td>NULL</td><td>Graz</td></tr>",
                            "<tr><td>Austria</td><td>NULL</td><td>Salzburg</td></tr>",
                            "<tr><td>Belgium</td><td>NULL</td><td>Bruxelles</td></tr>",
                            "<tr><td>Belgium</td><td>NULL</td><td>Charleroi</td></tr>",
                            "<tr><td>Brazil</td><td>RJ</td><td>Rio de Janeiro</td></tr>",
                            "<tr><td>Brazil</td><td>SP</td><td>Campinas</td></tr>",
                            "<tr><td>Brazil</td><td>SP</td><td>Resende</td></tr>",
                            "<tr><td>Brazil</td><td>SP</td><td>Sao Paulo</td></tr>",
                            "<tr><td>Canada</td><td>BC</td><td>Tsawassen</td></tr>",
                            "<tr><td>Canada</td><td>BC</td><td>Vancouver</td></tr>",
                            "<tr><td>Canada</td><td>Québec</td><td>Montréal</td></tr>",
                            "<tr><td>Denmark</td><td>NULL</td><td>Århus</td></tr>",
                            "<tr><td>Denmark</td><td>NULL</td><td>Kobenhavn</td></tr>",
                            "<tr><td>Finland</td><td>NULL</td><td>Helsinki</td></tr>",
                            "<tr><td>Finland</td><td>NULL</td><td>Oulu</td></tr>",
                            "<tr><td>France</td><td>NULL</td><td>Lille</td></tr>",
                            "<tr><td>France</td><td>NULL</td><td>Lyon</td></tr>",
                            "<tr><td>France</td><td>NULL</td><td>Marseille</td></tr>",
                            "<tr><td>France</td><td>NULL</td><td>Nantes</td></tr>",
                            "<tr><td>France</td><td>NULL</td><td>Paris</td></tr>",
                            "<tr><td>France</td><td>NULL</td><td>Reims</td></tr>",
                            "<tr><td>France</td><td>NULL</td><td>Strasbourg</td></tr>",
                            "<tr><td>France</td><td>NULL</td><td>Toulouse</td></tr>",
                            "<tr><td>France</td><td>NULL</td><td>Versailles</td></tr>",
                            "<tr><td>Germany</td><td>NULL</td><td>Aachen</td></tr>",
                            "<tr><td>Germany</td><td>NULL</td><td>Berlin</td></tr>",
                            "<tr><td>Germany</td><td>NULL</td><td>Brandenburg</td></tr>",
                            "<tr><td>Germany</td><td>NULL</td><td>Cunewalde</td></tr>",
                            "<tr><td>Germany</td><td>NULL</td><td>Frankfurt a.M.</td></tr>",
                            "<tr><td>Germany</td><td>NULL</td><td>Köln</td></tr>",
                            "<tr><td>Germany</td><td>NULL</td><td>Leipzig</td></tr>",
                            "<tr><td>Germany</td><td>NULL</td><td>Mannheim</td></tr>",
                            "<tr><td>Germany</td><td>NULL</td><td>München</td></tr>",
                            "<tr><td>Germany</td><td>NULL</td><td>Münster</td></tr>",
                            "<tr><td>Germany</td><td>NULL</td><td>Stuttgart</td></tr>",
                            "<tr><td>Ireland</td><td>Co. Cork</td><td>Cork</td></tr>",
                            "<tr><td>Italy</td><td>NULL</td><td>Bergamo</td></tr>",
                            "<tr><td>Italy</td><td>NULL</td><td>Reggio Emilia</td></tr>",
                            "<tr><td>Italy</td><td>NULL</td><td>Torino</td></tr>",
                            "<tr><td>Mexico</td><td>NULL</td><td>México D.F.</td></tr>",
                            "<tr><td>Norway</td><td>NULL</td><td>Stavern</td></tr>",
                            "<tr><td>Poland</td><td>NULL</td><td>Warszawa</td></tr>",
                            "<tr><td>Portugal</td><td>NULL</td><td>Lisboa</td></tr>",
                            "<tr><td>Spain</td><td>NULL</td><td>Barcelona</td></tr>",
                            "<tr><td>Spain</td><td>NULL</td><td>Madrid</td></tr>",
                            "<tr><td>Spain</td><td>NULL</td><td>Sevilla</td></tr>",
                            "<tr><td>Sweden</td><td>NULL</td><td>Bräcke</td></tr>",
                            "<tr><td>Sweden</td><td>NULL</td><td>Luleå</td></tr>",
                            "<tr><td>Switzerland</td><td>NULL</td><td>Bern</td></tr>",
                            "<tr><td>Switzerland</td><td>NULL</td><td>Genève</td></tr>",
                            "<tr><td>UK</td><td>NULL</td><td>London</td></tr>",
                            "<tr><td>UK</td><td>Isle of Wight</td><td>Cowes</td></tr>",
                            "<tr><td>USA</td><td>AK</td><td>Anchorage</td></tr>",
                            "<tr><td>USA</td><td>CA</td><td>San Francisco</td></tr>",
                            "<tr><td>USA</td><td>ID</td><td>Boise</td></tr>",
                            "<tr><td>USA</td><td>MT</td><td>Butte</td></tr>",
                            "<tr><td>USA</td><td>NM</td><td>Albuquerque</td></tr>",
                            "<tr><td>USA</td><td>OR</td><td>Elgin</td></tr>",
                            "<tr><td>USA</td><td>OR</td><td>Eugene</td></tr>",
                            "<tr><td>USA</td><td>OR</td><td>Portland</td></tr>",
                            "<tr><td>USA</td><td>WA</td><td>Kirkland</td></tr>",
                            "<tr><td>USA</td><td>WA</td><td>Redmond</td></tr>",
                            "<tr><td>USA</td><td>WA</td><td>Seattle</td></tr>",
                            "<tr><td>USA</td><td>WA</td><td>Tacoma</td></tr>",
                            "<tr><td>USA</td><td>WA</td><td>Walla Walla</td></tr>",
                            "<tr><td>USA</td><td>WY</td><td>Lander</td></tr>",
                            "<tr><td>Venezuela</td><td>DF</td><td>Caracas</td></tr>",
                            "<tr><td>Venezuela</td><td>Lara</td><td>Barquisimeto</td></tr>",
                            "<tr><td>Venezuela</td><td>Nueva Esparta</td><td>I. de Margarita</td></tr>",
                            "<tr><td>Venezuela</td><td>Táchira</td><td>San Cristóbal</td></tr>",
                            "</table>"
                        ]
                    }
                }
            ],
            "execution_count": 3
        },
        {
            "cell_type": "markdown",
            "source": [
                "## QUESTION 2- Two most recent orders for employees 3 and 5\r\n",
                "\r\n",
                "**PROPOSITION:**Write a query that fetches the top 2 most recent orders, including EmployeeId, OrderId, and OrderDate, for employees with IDs 3 and 5 from the Sales.[Order] table.\n",
                "\r\n",
                "**TABLES:** Northwinds2022TSQLV7 Database, Sales.[Order]\r\n",
                "\r\n",
                "**COLUMN:** EmployeeId, OrderId, and OrderDater from the Sales.[Order] table\n",
                "\r\n",
                "**PREDICATE:** The query selects the top 2 most recent orders (EmployeeId, OrderId, OrderDate) for employees with IDs 3 and 5 from Sales.[Order], using a WHERE clause to filter by employee ID \n",
                "\r\n",
                "**WHAT'S SPECIAL:The query stands out for its use of the UNION ALL operator, allowing the combination of results from two distinct SELECT statements for employees with IDs 3 and 5. This results in a consolidated set of the top 2 most recent orders, including EmployeeId, OrderId, and OrderDate, from the Sales.[Order] table in the Northwinds2022TSQLV7 database. The UNION ALL operator preserves duplicate rows, providing a comprehensive view of recent orders for the specified employees.**"
            ],
            "metadata": {
                "language": "sql",
                "azdata_cell_guid": "13a7d6f7-432d-46a1-8250-185e15cf5d9a"
            },
            "attachments": {}
        },
        {
            "cell_type": "code",
            "source": [
                "Use TSQLV6\r\n",
                "SELECT empid, orderid, orderdate\r\n",
                "FROM (SELECT TOP (2) empid, orderid, orderdate\r\n",
                "      FROM Sales.Orders\r\n",
                "      WHERE empid = 3\r\n",
                "      ORDER BY orderdate DESC, orderid DESC) AS D1\r\n",
                "\r\n",
                "UNION ALL\r\n",
                "\r\n",
                "SELECT empid, orderid, orderdate\r\n",
                "FROM (SELECT TOP (2) empid, orderid, orderdate\r\n",
                "      FROM Sales.Orders\r\n",
                "      WHERE empid = 5\r\n",
                "      ORDER BY orderdate DESC, orderid DESC) AS D2;\r\n",
                "\r\n",
                "\r\n",
                "Use Northwinds2022TSQLV7\r\n",
                "SELECT EmployeeId, OrderId, OrderDate\r\n",
                "FROM (SELECT TOP (2) EmployeeId, OrderId, OrderDate\r\n",
                "      FROM Sales.[Order]\r\n",
                "      WHERE EmployeeId = 3\r\n",
                "      ORDER BY OrderDate DESC, OrderId DESC) AS D1\r\n",
                "\r\n",
                "UNION ALL\r\n",
                "\r\n",
                "SELECT EmployeeId, OrderId, OrderDate\r\n",
                "FROM (SELECT TOP (2) EmployeeId, OrderId, OrderDate\r\n",
                "      FROM Sales.[Order]\r\n",
                "      WHERE EmployeeId = 5\r\n",
                "      ORDER BY OrderDate DESC, OrderId DESC) AS D2;\r\n",
                "\r\n",
                ""
            ],
            "metadata": {
                "language": "sql",
                "azdata_cell_guid": "cc3cc9cb-c80a-4476-b5f0-369b146fd133"
            },
            "outputs": [
                {
                    "output_type": "display_data",
                    "data": {
                        "text/html": "(4 rows affected)"
                    },
                    "metadata": {}
                },
                {
                    "output_type": "display_data",
                    "data": {
                        "text/html": "(4 rows affected)"
                    },
                    "metadata": {}
                },
                {
                    "output_type": "display_data",
                    "data": {
                        "text/html": "Total execution time: 00:00:00.091"
                    },
                    "metadata": {}
                },
                {
                    "output_type": "execute_result",
                    "metadata": {},
                    "execution_count": 2,
                    "data": {
                        "application/vnd.dataresource+json": {
                            "schema": {
                                "fields": [
                                    {
                                        "name": "empid"
                                    },
                                    {
                                        "name": "orderid"
                                    },
                                    {
                                        "name": "orderdate"
                                    }
                                ]
                            },
                            "data": [
                                {
                                    "empid": "3",
                                    "orderid": "11063",
                                    "orderdate": "2022-04-30"
                                },
                                {
                                    "empid": "3",
                                    "orderid": "11057",
                                    "orderdate": "2022-04-29"
                                },
                                {
                                    "empid": "5",
                                    "orderid": "11043",
                                    "orderdate": "2022-04-22"
                                },
                                {
                                    "empid": "5",
                                    "orderid": "10954",
                                    "orderdate": "2022-03-17"
                                }
                            ]
                        },
                        "text/html": [
                            "<table>",
                            "<tr><th>empid</th><th>orderid</th><th>orderdate</th></tr>",
                            "<tr><td>3</td><td>11063</td><td>2022-04-30</td></tr>",
                            "<tr><td>3</td><td>11057</td><td>2022-04-29</td></tr>",
                            "<tr><td>5</td><td>11043</td><td>2022-04-22</td></tr>",
                            "<tr><td>5</td><td>10954</td><td>2022-03-17</td></tr>",
                            "</table>"
                        ]
                    }
                },
                {
                    "output_type": "execute_result",
                    "metadata": {},
                    "execution_count": 2,
                    "data": {
                        "application/vnd.dataresource+json": {
                            "schema": {
                                "fields": [
                                    {
                                        "name": "EmployeeId"
                                    },
                                    {
                                        "name": "OrderId"
                                    },
                                    {
                                        "name": "OrderDate"
                                    }
                                ]
                            },
                            "data": [
                                {
                                    "EmployeeId": "3",
                                    "OrderId": "11063",
                                    "OrderDate": "2016-04-30"
                                },
                                {
                                    "EmployeeId": "3",
                                    "OrderId": "11057",
                                    "OrderDate": "2016-04-29"
                                },
                                {
                                    "EmployeeId": "5",
                                    "OrderId": "11043",
                                    "OrderDate": "2016-04-22"
                                },
                                {
                                    "EmployeeId": "5",
                                    "OrderId": "10954",
                                    "OrderDate": "2016-03-17"
                                }
                            ]
                        },
                        "text/html": [
                            "<table>",
                            "<tr><th>EmployeeId</th><th>OrderId</th><th>OrderDate</th></tr>",
                            "<tr><td>3</td><td>11063</td><td>2016-04-30</td></tr>",
                            "<tr><td>3</td><td>11057</td><td>2016-04-29</td></tr>",
                            "<tr><td>5</td><td>11043</td><td>2016-04-22</td></tr>",
                            "<tr><td>5</td><td>10954</td><td>2016-03-17</td></tr>",
                            "</table>"
                        ]
                    }
                }
            ],
            "execution_count": 2
        }
    ]
}