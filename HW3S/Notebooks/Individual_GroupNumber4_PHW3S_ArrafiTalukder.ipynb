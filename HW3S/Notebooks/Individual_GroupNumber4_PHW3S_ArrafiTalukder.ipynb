{
    "metadata": {
        "kernelspec": {
            "name": "SQL",
            "display_name": "SQL",
            "language": "sql"
        },
        "language_info": {
            "name": "sql",
            "version": ""
        }
    },
    "nbformat_minor": 2,
    "nbformat": 4,
    "cells": [
        {
            "cell_type": "markdown",
            "source": [
                "# **Top 3 Queries**\n",
                "## **Question 1 (Chapter 06 - Set Operators - Exercises)**\n",
                "\n",
                "OPERATOR DIFFERENCE: The UNION and UNION ALL operators both combine the result sets of different select statements and return a single result set. However, the UNION ALL operator returns all the rows displayed in the combined result sets into a single result whereas the UNION operator returns only the distinct rows which means no duplicates. \n",
                "\n",
                "OPERATOR EQUIVALENCE: For both outputs to act equivalently, a query case would have to be that the combined result sets of the select statements derived from the tables have no duplicate rows. For example, let age be selected from the customer table (first select statement) and age be selected from the employee table (second select statement). The combined result sets of both select statements have to be all distinct ages for a UNION ALL and UNION operator to be equivalent given they are implemented to return a single result set of only distinct ages. \n",
                "\n",
                "THE BETTER OPERATOR WITH THE CONDITION OF RETURNING SAME OUTPUT: If implementing both the operators within a query return the same results, then, using an UNION ALL operator would be more efficient than an UNION operator due to faster query execution in performance. This is because the UNION operator has to check for duplicate rows within the combined result sets to create the single result set of distinct rows when the UNION ALL operator does not check. \n",
                "\n",
                "\n",
                ""
            ],
            "metadata": {
                "azdata_cell_guid": "59098ee8-c6ec-4a22-b6b9-4c3d9dea71fd"
            },
            "attachments": {}
        },
        {
            "cell_type": "markdown",
            "source": [
                "## **Query (Chapter 06 - Set Operators)**\n",
                "\n",
                "PROPOSITION: Returns a shared list of countries, regions, and cities of both employees and customers.\n",
                "\n",
                "TABLES: The query involves two tables which are HumanResources.Employee and Sales.Customer.\n",
                "\n",
                "COLUMNS: It selects the columns EmployeeCountry, EmployeeRegion, and EmployeeCity from the HumanResources.Employee table. It selects the CustomerCountry, CustomerRegion, and CustomerCity from the Sales.Customer table.\n",
                "\n",
                "PREDICATE: The query uses the INTERSECT operator to combine the results of two select statements. The first select statement retrieves the country, region, and city of employees, while the second select statement retrieves the country, region, and city of customers. INTERSECT returns only the rows that appear in both result sets, finding the common cities between the employees and customers.\n",
                "\n",
                "- *This query is special because it implements the interesect operator.*\n",
                ""
            ],
            "metadata": {
                "azdata_cell_guid": "a8389d4e-1402-4178-8456-59e339987da8"
            },
            "attachments": {}
        },
        {
            "cell_type": "code",
            "source": [
                "USE TSQLV6;\n",
                "\n",
                "SELECT country, region, city FROM HR.Employees\n",
                "INTERSECT\n",
                "SELECT country, region, city FROM Sales.Customers;\n",
                "\n",
                "USE Northwinds2022TSQLV7;\n",
                "\n",
                "SELECT EmployeeCountry, EmployeeRegion, EmployeeCity FROM HumanResources.Employee\n",
                "INTERSECT\n",
                "SELECT CustomerCountry, CustomerRegion, CustomerCity FROM Sales.Customer;\n",
                ""
            ],
            "metadata": {
                "azdata_cell_guid": "deefc075-f184-4b6e-9638-16c454d28e5b",
                "language": "sql"
            },
            "outputs": [],
            "execution_count": null
        },
        {
            "cell_type": "markdown",
            "source": [
                "## **Query (Chapter 06 - Set Operators)**\n",
                "\n",
                "- *Before ChatGPT*\n",
                "\n",
                "PROPOSITION: Returns suppliers’ locations shared with customers’ locations where no employees reside.\n",
                "\n",
                "TABLES: The query involves three tables which are the Production.Supplier, HumanResources.Employee, and Sales.Customer tables.\n",
                "\n",
                "COLUMNS: It selects SupplierCountry, SupplierRegion, and SupplierCity from the Production.Supplier table, EmployeeCountry, EmployeeRegion, and EmployeeCity from the HumanResources.Employee table. It selects CustomerCountry, CustomerRegion, and CustomerCity from the Sales.Customer table.\n",
                "\n",
                "PREDICATE: The query first selects all suppliers' country, region, and city data, then removes any locations where employees reside using the EXCEPT operator. Finally, it finds the intersection of the remaining supplier locations with the locations of customers, ensuring the output includes supplier locations that are shared with customer locations where no employee resides.\n",
                "\n",
                "\n",
                "- *After ChatGPT*\n",
                "\n",
                "PROPOSITION: Returns suppliers’ locations where neither employees nor customers reside.\n",
                "\n",
                "TABLES: The query involves three tables which are the Production.Supplier, HumanResources.Employee, and Sales.Customer tables.\n",
                "\n",
                "COLUMNS: It selects SupplierCountry, SupplierRegion, and SupplierCity from the Production.Supplier table, EmployeeCountry, EmployeeRegion, and EmployeeCity from the HumanResources.Employee table. It selects  CustomerCountry, CustomerRegion, and CustomerCity from the Sales.Customer table.\n",
                "\n",
                "PREDICATE: The query first selects all suppliers' country, region, and city data, then removes any locations where employees reside using the EXCEPT operator. Finally, it finds the intersection of the remaining supplier locations with the locations of customers, ensuring the output includes only supplier locations that are neither employee nor customer locations.\n",
                "\n",
                "\n",
                "- *This query is special because it implements the EXCEPT operator.*\n",
                "\n",
                "\n",
                "*<img src=\"https://static.vecteezy.com/system/resources/previews/022/841/114/non_2x/chatgpt-logo-transparent-background-free-png.png\" alt=\"AI\" width=\"20\" height=\"20\"> Written in collaboration with ChatGPT from OpenAI to improve understanding and assist with the explanation of the query*"
            ],
            "metadata": {
                "azdata_cell_guid": "b51b9945-20a8-416e-b366-432413db96cf"
            },
            "attachments": {}
        },
        {
            "cell_type": "code",
            "source": [
                "USE TSQLV6;\n",
                "\n",
                "SELECT country, region, city FROM Production.Suppliers\n",
                "EXCEPT\n",
                "SELECT country, region, city FROM HR.Employees\n",
                "INTERSECT\n",
                "SELECT country, region, city FROM Sales.Customers;\n",
                "\n",
                "USE Northwinds2022TSQLV7;\n",
                "\n",
                "SELECT SupplierCountry, SupplierRegion, SupplierCity FROM Production.Supplier\n",
                "EXCEPT\n",
                "SELECT EmployeeCountry, EmployeeRegion, EmployeeCity FROM HumanResources.Employee\n",
                "INTERSECT\n",
                "SELECT CustomerCountry, CustomerRegion, CustomerCity FROM Sales.Customer;\n",
                ""
            ],
            "metadata": {
                "azdata_cell_guid": "83d4f265-526f-4974-97ad-1f6800782300",
                "language": "sql"
            },
            "outputs": [],
            "execution_count": null
        }
    ]
}