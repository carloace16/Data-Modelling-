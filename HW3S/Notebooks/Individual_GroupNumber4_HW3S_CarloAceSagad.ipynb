{
    "metadata": {
        "kernelspec": {
            "name": "SQL",
            "display_name": "SQL",
            "language": "sql"
        },
        "language_info": {
            "name": "sql",
            "version": ""
        }
    },
    "nbformat_minor": 2,
    "nbformat": 4,
    "cells": [
        {
            "cell_type": "markdown",
            "source": [
                "# <u> **My Top 2 Queries** </u>\r\n",
                "## **Homework 3S**"
            ],
            "metadata": {
                "azdata_cell_guid": "b0339ab1-8149-4857-a14d-31befdd38e3b"
            },
            "attachments": {}
        },
        {
            "cell_type": "markdown",
            "source": [
                "## **Chapter 06 - Set Operators - Exercise**\r\n",
                "<img src=\"https://static.vecteezy.com/system/resources/previews/022/841/114/non_2x/chatgpt-logo-transparent-background-free-png.png\" alt=\"AI\" width=\"20\" height=\"20\"> _Written in collaboration with ChatGPT from OpenAI to improve understanding and assist with the explanation of the query_\r\n",
                "- **Proposition:** The query intends to generate a comprehensive list of all conceivable combinations of customer and employee pairs based on specific order date conditions, leveraging the \"Sales.[Order]\" table.\r\n",
                "- **Table:** The \"Sales.[Order]\" table is utilized in this query.\r\n",
                "- **Columns:** The columns selected for this proposition are CustomerId and EmployeeId.\r\n",
                "- **Predicate:**\r\n",
                "- Before ChatGPT: The original query on the \"Sales.[Order]\" table utilizes set operations, focusing on CustomerId and EmployeeId columns. It begins by selecting distinct pairs for January and February 2016 orders, followed by INTERSECT to retain common pairs. The EXCEPT operation then eliminates 2015-associated pairs, refining the result set. Finally, an ORDER BY arranges output in descending order based on CustomerId and EmployeeId, ensuring clarity in the presented information. This approach efficiently combines set operations to filter and organize data based on specific conditions, yielding a concise and clear output.\r\n",
                "- After ChatGPT: The query employs a series of set operations to achieve the desired result. It begins by selecting distinct pairs of CustomerId and EmployeeId for orders placed in January 2016 and February 2016. The INTERSECT operation ensures that only common pairs between the two sets are retained. Following this, the EXCEPT operation eliminates pairs associated with order activity in the year 2015. The final result set is ordered in descending order based on CustomerId and EmployeeId.\r\n",
                "- **What's Special:** This SQL code uniquely combines set operations to efficiently filter and organize data, providing a clear and refined output. By using INTERSECT to identify common pairs and EXCEPT to exclude undesired pairs, the query ensures a precise list of customer and employee combinations meeting the specified date criteria. The ordering in descending order adds a further layer of clarity to the result set, creating a concise representation of the desired information.\r\n",
                "\r\n",
                ""
            ],
            "metadata": {
                "azdata_cell_guid": "1206cfc7-efd1-4935-a347-60f015516d23"
            },
            "attachments": {}
        },
        {
            "cell_type": "code",
            "source": [
                "-- 5\r\n",
                "-- Write a query that returns customer and employee pairs \r\n",
                "-- that had order activity in both January 2016 and February 2016\r\n",
                "-- but not in 2015\r\n",
                "-- Tables involved: TSQLV4 database, Orders table\r\n",
                "\r\n",
                "--Desired output\r\n",
                "-- custid      empid\r\n",
                "-- ----------- -----------\r\n",
                "-- 67          1\r\n",
                "-- 46          5\r\n",
                "-- (2 row(s) affected)\r\n",
                "\r\n",
                "USE TSQLV4;  --Using TSQLV6 dont give any output. Instruction also said to use TSQLV4\r\n",
                "SELECT custid, empid\r\n",
                "FROM Sales.Orders\r\n",
                "WHERE orderdate >= '20160101' AND orderdate < '20160201'\r\n",
                "\r\n",
                "INTERSECT\r\n",
                "\r\n",
                "SELECT custid, empid\r\n",
                "FROM Sales.Orders\r\n",
                "WHERE orderdate >= '20160201' AND orderdate < '20160301'\r\n",
                "\r\n",
                "EXCEPT\r\n",
                "\r\n",
                "SELECT custid, empid\r\n",
                "FROM Sales.Orders\r\n",
                "WHERE orderdate >= '20150101' AND orderdate < '20160101'\r\n",
                "ORDER BY custid DESC, empid DESC;\r\n",
                "\r\n",
                "USE Northwinds2022TSQLV7;\r\n",
                "SELECT CustomerId, EmployeeId\r\n",
                "FROM Sales.[Order]\r\n",
                "WHERE orderdate >= '20160101' AND orderdate < '20160201'\r\n",
                "\r\n",
                "INTERSECT\r\n",
                "\r\n",
                "SELECT CustomerId, EmployeeId\r\n",
                "FROM Sales.[Order]\r\n",
                "WHERE orderdate >= '20160201' AND orderdate < '20160301'\r\n",
                "\r\n",
                "EXCEPT\r\n",
                "\r\n",
                "SELECT CustomerId, EmployeeId\r\n",
                "FROM Sales.[Order]\r\n",
                "WHERE orderdate >= '20150101' AND orderdate < '20160101'\r\n",
                "ORDER BY CustomerId DESC, EmployeeId DESC;\r\n",
                "\r\n",
                "\r\n",
                "\r\n",
                ""
            ],
            "metadata": {
                "azdata_cell_guid": "a9846429-32c7-4833-90b2-7975f59b93a5",
                "language": "sql",
                "tags": []
            },
            "outputs": [],
            "execution_count": null
        },
        {
            "cell_type": "markdown",
            "source": [
                "## **Chapter 06 - Set Operators**\r\n",
                "<img src=\"https://static.vecteezy.com/system/resources/previews/022/841/114/non_2x/chatgpt-logo-transparent-background-free-png.png\" alt=\"AI\" width=\"20\" height=\"20\"> _Written in collaboration with ChatGPT from OpenAI to improve understanding and assist with the explanation of the query_\r\n",
                "- **Proposition:** The query aims to compile an exhaustive list of all conceivable combinations of employee and customer pairs based on location information, utilizing the \"HumanResources.Employee\" and \"Sales.Customer\" tables.\r\n",
                "- **Table:** The query involves the \"HumanResources.Employee\" and \"Sales.Customer\" tables.\r\n",
                "- **Columns:** The columns selected are EmployeeCountry, EmployeeRegion, and EmployeeCity from the \"HumanResources.Employee\" table, along with CustomerCountry, CustomerRegion, and CustomerCity from the \"Sales.Customer\" table.\r\n",
                "- **Predicate:** \r\n",
                "- Before ChatGPT: In the original query, we use a UNION ALL to combine data from two SELECT statements. The first SELECT gets location details for employees, like EmployeeCountry, EmployeeRegion, and EmployeeCity. The second SELECT does the same for customers, with CustomerCountry, CustomerRegion, and CustomerCity. We choose UNION ALL to keep all rows from both SELECTs, even if there are duplicates. This gives us a big dataset showing all possible combinations of where employees and customers are located.\r\n",
                "- After ChatGPT: The query employs a UNION ALL clause to combine the results of two SELECT statements. The first SELECT retrieves location details for employees, while the second SELECT fetches similar information for customers. UNION ALL is used to include all rows from both SELECT statements, preserving duplicates. This results in a comprehensive dataset showcasing all possible combinations of employee and customer location information.\r\n",
                "- **What's Special:** The use of UNION ALL allows the query to seamlessly merge location details from employees and customers into a unified result set, providing a holistic view of the geographical aspects of both entities. The query efficiently utilizes the UNION ALL operator to maintain duplicate rows, ensuring a comprehensive representation of all possible combinations. This approach offers a concise and readable presentation of location information for employees and customers within a single result set.\r\n",
                ""
            ],
            "metadata": {
                "language": "sql",
                "azdata_cell_guid": "d1fcf01c-5dec-4c4f-b8fd-e5f8ce84eb67"
            },
            "attachments": {}
        },
        {
            "cell_type": "code",
            "source": [
                "-- The UNION ALL Multiset Operator\r\n",
                "USE TSQLV6;\r\n",
                "SELECT country, region, city FROM HR.Employees\r\n",
                "UNION ALL\r\n",
                "SELECT country, region, city FROM Sales.Customers;\r\n",
                "\r\n",
                "USE Northwinds2022TSQLV7;\r\n",
                "SELECT EmployeeCountry, EmployeeRegion, EmployeeCity FROM HumanResources.Employee\r\n",
                "UNION ALL\r\n",
                "SELECT CustomerCountry, CustomerRegion, CustomerCity FROM Sales.Customer;"
            ],
            "metadata": {
                "language": "sql",
                "azdata_cell_guid": "63b74d09-4f3a-45d1-88c2-fc14598289fc",
                "tags": []
            },
            "outputs": [],
            "execution_count": null
        }
    ]
}