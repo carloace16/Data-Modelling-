{
    "metadata": {
        "kernelspec": {
            "name": "SQL",
            "display_name": "SQL",
            "language": "sql"
        },
        "language_info": {
            "name": "sql",
            "version": ""
        }
    },
    "nbformat_minor": 2,
    "nbformat": 4,
    "cells": [
        {
            "cell_type": "markdown",
            "source": [
                "# **Top 3 Queries**\r\n",
                "## **Query 1 (Chapter 6 Exercise 2)**\r\n",
                "*<img src=\"https://static.vecteezy.com/system/resources/previews/022/841/114/non_2x/chatgpt-logo-transparent-background-free-png.png\" alt=\"AI\" width=\"20\" height=\"20\">\r\n",
                "Written in collaboration with ChatGPT from OpenAI to improve understanding and assist with the explanation of the query*\r\n",
                "\r\n",
                "### Proposition: Returns a list of numbers from 1 to 10.\r\n",
                "### Table: None.\r\n",
                "### Columns: The column selected is n.\r\n",
                "### Predicate: This query will generate a virtual table with numbers from 1 to 10 using recursion in the CTE, without requiring any physical table.\r\n",
                "\r\n",
                "### *What I think is special is that for this query, it shows us how to use recursion to build up a virtual table from 1-10.*\r\n",
                ""
            ],
            "metadata": {
                "azdata_cell_guid": "088539c1-c860-471e-bce2-f1108cec7d3a"
            },
            "attachments": {}
        },
        {
            "cell_type": "code",
            "source": [
                "WITH RecursiveNumbers AS (\r\n",
                "    SELECT 1 AS n\r\n",
                "    UNION ALL\r\n",
                "    SELECT n + 1\r\n",
                "    FROM RecursiveNumbers\r\n",
                "    WHERE n < 10\r\n",
                ")\r\n",
                "\r\n",
                "SELECT n\r\n",
                "FROM RecursiveNumbers;"
            ],
            "metadata": {
                "azdata_cell_guid": "3a0bdc12-f7db-4ac0-96b8-8ce5d55de3ea",
                "language": "sql",
                "tags": []
            },
            "outputs": [],
            "execution_count": null
        },
        {
            "cell_type": "markdown",
            "source": [
                "## **Query 2**\r\n",
                "\r\n",
                "### Proposition: Calculate row numbers for employees and customers based on their respective country, region, and city, ordering by row number using a constant value (SELECT 0) as tiebreaker.\r\n",
                "### Table: HumanResources.Employee, Sales.Customer.\r\n",
                "### Columns: The columns selected are rownum, EmployeeCountry, EmployeeRegion, EmployeeCity.\r\n",
                "### Predicate: It uses a constant value (SELECT 0) as a tiebreaker when ordering rows within each partition to ensure deterministic results. The INTERSECT operator is then used to find the common combinations of EmployeeCountry, EmployeeRegion, and EmployeeCity that exist in both the HumanResources.Employee and Sales.Customer tables. \r\n",
                "\r\n",
                "### *What I think is special for this is that the way it used SELECT 0 as tiebreaker and the INTERSECT operator to find the combination of columns exist in 2 tables.*"
            ],
            "metadata": {
                "language": "sql",
                "azdata_cell_guid": "6fc4107a-5410-46d0-8c30-05f8cf049c54"
            },
            "attachments": {}
        },
        {
            "cell_type": "code",
            "source": [
                "USE TSQLV6\r\n",
                "SELECT\r\n",
                "  ROW_NUMBER() \r\n",
                "    OVER(PARTITION BY country, region, city\r\n",
                "         ORDER     BY (SELECT 0)) AS rownum,\r\n",
                "  country, region, city\r\n",
                "FROM HR.Employees\r\n",
                "\r\n",
                "INTERSECT\r\n",
                "\r\n",
                "SELECT\r\n",
                "  ROW_NUMBER() \r\n",
                "    OVER(PARTITION BY country, region, city\r\n",
                "         ORDER     BY (SELECT 0)),\r\n",
                "  country, region, city\r\n",
                "FROM Sales.Customers;\r\n",
                "\r\n",
                "WITH INTERSECT_ALL\r\n",
                "AS\r\n",
                "(\r\n",
                "  SELECT\r\n",
                "    ROW_NUMBER() \r\n",
                "      OVER(PARTITION BY country, region, city\r\n",
                "           ORDER     BY (SELECT 0)) AS rownum,\r\n",
                "    country, region, city\r\n",
                "  FROM HR.Employees\r\n",
                "\r\n",
                "  INTERSECT\r\n",
                "\r\n",
                "  SELECT\r\n",
                "    ROW_NUMBER() \r\n",
                "      OVER(PARTITION BY country, region, city\r\n",
                "           ORDER     BY (SELECT 0)),\r\n",
                "    country, region, city\r\n",
                "  FROM Sales.Customers\r\n",
                ")\r\n",
                "SELECT country, region, city\r\n",
                "FROM INTERSECT_ALL;\r\n",
                "\r\n",
                "\r\n",
                "\r\n",
                "\r\n",
                "USE Northwinds2022TSQLV7\r\n",
                "SELECT\r\n",
                "  ROW_NUMBER() \r\n",
                "    OVER(PARTITION BY EmployeeCountry, EmployeeRegion, EmployeeCity\r\n",
                "         ORDER     BY (SELECT 0)) AS rownum,\r\n",
                "  EmployeeCountry, EmployeeRegion, EmployeeCity\r\n",
                "FROM HumanResources.Employee\r\n",
                "\r\n",
                "INTERSECT\r\n",
                "\r\n",
                "SELECT\r\n",
                "  ROW_NUMBER() \r\n",
                "    OVER(PARTITION BY CustomerCountry, CustomerRegion, CustomerCity\r\n",
                "         ORDER     BY (SELECT 0)),\r\n",
                "  CustomerCountry, CustomerRegion, CustomerCity\r\n",
                "FROM Sales.Customer;\r\n",
                "\r\n",
                "WITH INTERSECT_ALL\r\n",
                "AS\r\n",
                "(\r\n",
                "  SELECT\r\n",
                "    ROW_NUMBER() \r\n",
                "      OVER(PARTITION BY EmployeeCountry, EmployeeRegion, EmployeeCity\r\n",
                "           ORDER     BY (SELECT 0)) AS rownum,\r\n",
                "    EmployeeCountry, EmployeeRegion, EmployeeCity\r\n",
                "  FROM HumanResources.Employee\r\n",
                "\r\n",
                "  INTERSECT\r\n",
                "\r\n",
                "  SELECT\r\n",
                "    ROW_NUMBER() \r\n",
                "      OVER(PARTITION BY CustomerCountry, CustomerRegion, CustomerCity\r\n",
                "           ORDER     BY (SELECT 0)),\r\n",
                "    CustomerCountry, CustomerRegion, CustomerCity\r\n",
                "  FROM Sales.Customer\r\n",
                ")\r\n",
                "SELECT EmployeeCountry, EmployeeRegion, EmployeeCity\r\n",
                "FROM INTERSECT_ALL;"
            ],
            "metadata": {
                "language": "sql",
                "azdata_cell_guid": "d11f3ac6-8938-4942-9aad-9b961f2fd3d3",
                "tags": []
            },
            "outputs": [],
            "execution_count": null
        },
        {
            "cell_type": "markdown",
            "source": [
                "## **Query 3**\r\n",
                "\r\n",
                "### Proposition: Find the distinct combinations of Country, Region, and City from Production.Supplier table that is not in the HumanResources.Employee table. Then, intersect these combinations with the distinct combinations of Country, Region, and City from the Sales.Customer table.\r\n",
                "### Table: Production.Supplier, HumanResources.Employee, Sales.Customer.\r\n",
                "### Columns: SupplierCountry, SupplierRegion, SupplierCity.\r\n",
                "### Predicate: This query first finds the distinct combinations of SupplierCountry, SupplierRegion, and SupplierCity from the Production.Supplier table that do not exist in the HumanResources.Employee table using the EXCEPT operator. Then, it intersects these combinations with the distinct combinations of CustomerCountry, CustomerRegion, and CustomerCity from the Sales.Customer table. Finally, it selects the common combinations of SupplierCountry, SupplierRegion, and SupplierCity that also exist in the Sales.Customer table.\r\n",
                "\r\n",
                "### *What is special for this query is that it uses EXCEPT operator to filter out the combinations in one table but not in the other one which is the difference between them.*"
            ],
            "metadata": {
                "language": "sql",
                "azdata_cell_guid": "2c82a2a4-a6b3-4681-9d0e-1a2470cf020a"
            },
            "attachments": {}
        },
        {
            "cell_type": "code",
            "source": [
                "USE TSQLV6\r\n",
                "(SELECT country, region, city FROM Production.Suppliers\r\n",
                " EXCEPT\r\n",
                " SELECT country, region, city FROM HR.Employees)\r\n",
                "INTERSECT\r\n",
                "SELECT country, region, city FROM Sales.Customers;\r\n",
                "\r\n",
                "\r\n",
                "\r\n",
                "USE Northwinds2022TSQLV7\r\n",
                "(SELECT SupplierCountry, SupplierRegion, SupplierCity FROM Production.Supplier\r\n",
                " EXCEPT\r\n",
                " SELECT EmployeeCountry, EmployeeRegion, EmployeeCity FROM HumanResources.Employee)\r\n",
                "INTERSECT\r\n",
                "SELECT CustomerCountry, CustomerRegion, CustomerCity FROM Sales.Customer;\r\n",
                ""
            ],
            "metadata": {
                "language": "sql",
                "azdata_cell_guid": "74578175-20d8-460e-9e14-2d336ccb8ba7",
                "tags": []
            },
            "outputs": [],
            "execution_count": null
        }
    ]
}