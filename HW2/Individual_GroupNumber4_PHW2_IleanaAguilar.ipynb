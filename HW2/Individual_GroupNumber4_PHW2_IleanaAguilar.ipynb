{
    "metadata": {
        "kernelspec": {
            "name": "SQL",
            "display_name": "SQL",
            "language": "sql"
        },
        "language_info": {
            "name": "sql",
            "version": ""
        }
    },
    "nbformat_minor": 2,
    "nbformat": 4,
    "cells": [
        {
            "cell_type": "markdown",
            "source": [
                "***\n",
                "# MY TOP 5\n",
                "***"
            ],
            "metadata": {
                "azdata_cell_guid": "f932d046-5311-4968-8458-23c48d75b42d"
            }
        },
        {
            "cell_type": "markdown",
            "source": [
                "# EXERCISE 1-2\n",
                "\n",
                "\\-- 1-2 (Optional, Advanced)  \n",
                "\\-- Write a query that returns a row for each employee and day  \n",
                "\\-- in the range June 12, 2016 – June 16 2016.  \n",
                "\\-- Tables involved: TSQLV4 database, Employees(HR.Employees) and Nums tables(dbo.Nums)\n",
                "\n",
                "## My Answer:\n",
                "\n",
                "**Proposition:** Write a query that returns a schedule-like list for employees for a specific period.\n",
                "\n",
                "**Table:** HumanResources.\\[Employee\\] referred as e, dbo.\\[Nums\\] referred as n \n",
                "\n",
                "**Columns:** EmployeeId, dt (generated date using CONVERT function and DATEADD function)\n",
                "\n",
                "**Predicate:** This query returns dates from June 11, 2016, to June 16, 2016, for each employee. It starts with the base date '2016-06-11' and adds a sequence of numbers to it, creating a list of dates within the specified range.\n",
                "\n",
                "**What's special:** There is a CROSS JOIN between the HumanResources.Employee table and the dbo.Nums table that creates a Cartesian product, combining every row from Employee with every row from Nums. The DATEADD function is used to add the number of days (N.N) to the base date '2016-06-11', generating a sequence of dates. The CONVERT function is used to convert the resulting datetime values from DATEADD function into DATE data type.\n",
                "\n",
                "\n",
                "<img src=\"https://static.vecteezy.com/system/resources/previews/022/841/114/non_2x/chatgpt-logo-transparent-background-free-png.png\" alt=\"AI\" width=\"20\" height=\"20\"> Written in collaboration with ChatGPT from OpenAI to improve understanding and assist with the explanation of the query"
            ],
            "metadata": {
                "azdata_cell_guid": "676499ea-44dc-42cb-af02-f706055973f6"
            },
            "attachments": {}
        },
        {
            "cell_type": "code",
            "source": [
                "USE TSQLV4;\n",
                "SELECT e.empid, CONVERT(DATE, DATEADD(DAY, n.n, '2016-06-11')) AS dt\n",
                "FROM HR.Employees e\n",
                "CROSS JOIN dbo.Nums n\n",
                "WHERE n.n BETWEEN 0 AND DATEDIFF(DAY, '2016-06-11', '2016-06-16')\n",
                "ORDER BY e.empid, dt;\n",
                "\n",
                "\n",
                "USE Northwinds2022TSQLV7;\n",
                "SELECT e.EmployeeId, CONVERT(DATE, DATEADD(DAY, N.N, '2016-06-11')) AS DT\n",
                "FROM HumanResources.[Employee] E\n",
                "CROSS JOIN dbo.[Nums] N\n",
                "WHERE N.N BETWEEN 0 AND DATEDIFF(DAY, '2016-06-11', '2016-06-16')\n",
                "ORDER BY E.EmployeeId, DT; \n",
                ""
            ],
            "metadata": {
                "azdata_cell_guid": "26ecad9d-d265-419a-ae2c-21cba2c775c4",
                "language": "sql",
                "tags": []
            },
            "outputs": [],
            "execution_count": null
        },
        {
            "cell_type": "markdown",
            "source": [
                "# EXERCISE 6\n",
                "\n",
                "\\-- Return customers with orders placed on Feb 12, 2016 along with their orders  \n",
                "\\-- Tables involved: TSQLV4 database, Customers and Orders tables\n",
                "\n",
                "## My Answer:\n",
                "\n",
                "**Proposition:** Write a query that retrieves customer information along with order details for all orders.\n",
                "\n",
                "**Table:** Sales.Customer referred as c, Sales.\\[Order\\] referred as o\n",
                "\n",
                "**Columns:** CustomerId, CustomerCompanyName from Sales.Customer table, and OrderId, OrderDate from Sales.\\[Order\\] table.\n",
                "\n",
                "**Predicate:** INNER JOINs are used to join the Sales.Customer and Sales.Order tables on the CustomerId column. Additionally, a condition is applied to only include orders made on February 12, 2016.\n",
                "\n",
                "**What's special:** CONVERT Function. JOIN between the Sales.Customer table and the Sales.Order table. It also includes this condition (CONVERT(DATE, o.orderdate) = '2016-02-12'). It filters and ensures that only orders with a specific order date ('2016-02-12') are included in the result set\n",
                "\n",
                "<img src=\"https://static.vecteezy.com/system/resources/previews/022/841/114/non_2x/chatgpt-logo-transparent-background-free-png.png\" alt=\"AI\" width=\"20\" height=\"20\"> Written in collaboration with ChatGPT from OpenAI to improve understanding and assist with the explanation of the query"
            ],
            "metadata": {
                "azdata_cell_guid": "ffe380c0-8fa4-4744-b038-5942bba73d09"
            },
            "attachments": {}
        },
        {
            "cell_type": "code",
            "source": [
                "USE TSQLV4;\n",
                "SELECT c.custid, c.companyname, o.orderid, o.orderdate\n",
                "FROM Sales.Customers c\n",
                "JOIN Orders o ON c.custid = o.custid AND CONVERT(DATE, o.orderdate) = '2016-02-12';\n",
                "\n",
                "\n",
                "USE Northwinds2022TSQLV7;\n",
                "SELECT c.CustomerId, c.CustomerCompanyName, o.OrderId, o.OrderDate\n",
                "FROM Sales.Customer c\n",
                "JOIN Sales.[Order] o ON c.CustomerId = o.CustomerId AND CONVERT(DATE, o.orderdate) = '2016-02-12';"
            ],
            "metadata": {
                "azdata_cell_guid": "a633bc90-bf74-4d24-90de-f04c7e1b6dd7",
                "language": "sql",
                "tags": []
            },
            "outputs": [],
            "execution_count": null
        },
        {
            "cell_type": "markdown",
            "source": [
                "* * *\n",
                "# Using Outer Joins in a Multi-Join Query -- Option 2: change join order\n",
                "**Proposition:** Write a query that retrieves customer information along with order details for all orders.  \n",
                "\n",
                "**Table:** Sales.\\[Order\\] referred O, sales.\\[OrderDetail\\] referred OD, Sales.\\[Customer\\] referred C \n",
                "\n",
                "**Columns:** CustomerId, OrderId, ProductId, Quantity from the Sales.\\[Order\\], sales.\\[OrderDetail\\], and Sales.\\[Customer\\] tables.  \n",
                "\n",
                "**Predicate:** INNER JOINs are used to join the Sales.\\[Order\\] and sales.\\[OrderDetail\\] tables on the OrderId column and then RIGHT OUTER JOIN is used to join the resulting set with the Sales.\\[Customer\\] table on the CustomerId column. This ensures that all orders are included along with their associated customer information.\n",
                "\n",
                "**What's special:** \n",
                "\n",
                "*RIGHT OUTER JOIN:* all records from the Sales.Customer table regardless of whether there are matching records in the other two tables. \n",
                "\n",
                "*INNER JOIN:* The Sales.Order and Sales.OrderDetail tables are joined first with an INNER JOIN based on the OrderId column, ensuring that only orders with corresponding order details are included in the result set\n",
                "\n",
                "\n",
                "<img src=\"https://static.vecteezy.com/system/resources/previews/022/841/114/non_2x/chatgpt-logo-transparent-background-free-png.png\" alt=\"AI\" width=\"20\" height=\"20\"> Written in collaboration with ChatGPT from OpenAI to improve understanding and assist with the explanation of the query"
            ],
            "metadata": {
                "azdata_cell_guid": "020593e7-f9c7-4ddf-b8e8-52057d301d11"
            },
            "attachments": {}
        },
        {
            "cell_type": "code",
            "source": [
                "USE TSQLV4;\n",
                "SELECT C.custid, O.orderid, OD.productid, OD.qty\n",
                "FROM Sales.Orders AS O\n",
                "  INNER JOIN Sales.OrderDetails AS OD\n",
                "    ON O.orderid = OD.orderid\n",
                "  RIGHT OUTER JOIN Sales.Customers AS C\n",
                "     ON O.custid = C.custid;\n",
                "\n",
                "\n",
                "USE Northwinds2022TSQLV7;\n",
                "SELECT C.CustomerId, O.OrderId, OD.ProductId, OD.Quantity\n",
                "FROM Sales.[Order] AS O\n",
                "  INNER JOIN sales.[OrderDetail] AS OD\n",
                "    ON O.OrderId = OD.OrderId\n",
                "  RIGHT OUTER JOIN Sales.[Customer] AS C\n",
                "     ON O.CustomerId = C.CustomerId;\n"
            ],
            "metadata": {
                "azdata_cell_guid": "df0a6da7-05b0-498d-95af-216da2f515bb",
                "language": "sql",
                "tags": []
            },
            "outputs": [],
            "execution_count": null
        },
        {
            "cell_type": "markdown",
            "source": [
                "* * *\n",
                "# Beyond the Fundamentals of Outer Joins -- Including Missing Values\n",
                "**Proposition:** Write a query that generates a sequence of dates from January 1, 2014, to December 31, 2016.  \n",
                "\n",
                "**Table:** dbo.Nums  \n",
                "\n",
                "**Columns:** N, which represents sequential numbers.  \n",
                "\n",
                "**Predicate:** WHERE N represents sequential numbers less than or equal to the number of days between January 1, 2014, and December 31, 2016, plus one.\n",
                "\n",
                "**What's special:** \n",
                "\n",
                "*Dynamic Date Generation(DATEADD(day, n-1, CAST('2014-01-01' AS DATE)) AS OrderDate):* Rather than relying on a pre-existing table containing dates, this query dynamically generates a sequence of dates by adding a sequential number of days to the base date ('2014-01-01'). This allows for flexibility in generating date sequences for various purposes without needing a dedicated dates table. \n",
                "\n",
                "*WHERE N <= DATEDIFF(day, '2014-01-01', '2016-12-31') + 1:* By using table dbo.Nums, the query efficiently generates a sequence of numbers without the need for recursion or complex calculations. Each row in the dbo.Nums table contributes a different number of days to the base date, effectively creating a sequence of dates.\n",
                "\n",
                "<img src=\"https://static.vecteezy.com/system/resources/previews/022/841/114/non_2x/chatgpt-logo-transparent-background-free-png.png\" alt=\"AI\" width=\"20\" height=\"20\"> Written in collaboration with ChatGPT from OpenAI to improve understanding and assist with the explanation of the query"
            ],
            "metadata": {
                "azdata_cell_guid": "9b6c4435-34cd-45c4-be55-f39879d14d0a"
            },
            "attachments": {}
        },
        {
            "cell_type": "code",
            "source": [
                "USE TSQLV4;\n",
                "SELECT DATEADD(day, n-1, CAST('2014-01-01' AS DATE)) AS orderdate\n",
                "FROM dbo.Nums\n",
                "WHERE n <= DATEDIFF(day, '2014-01-01', '2016-12-31') + 1\n",
                "ORDER BY orderdate;\n",
                "\n",
                "\n",
                "USE Northwinds2022TSQLV7;\n",
                "SELECT DATEADD(day, n-1, CAST('2014-01-01' AS DATE)) AS OrderDate\n",
                "FROM dbo.Nums\n",
                "WHERE N <= DATEDIFF(day, '2014-01-01', '2016-12-31') + 1\n",
                "ORDER BY OrderDate;\n",
                ""
            ],
            "metadata": {
                "azdata_cell_guid": "dd65cdba-9155-43ff-98cb-fa1d6c8092ea",
                "language": "sql",
                "tags": []
            },
            "outputs": [],
            "execution_count": null
        },
        {
            "cell_type": "markdown",
            "source": [
                "* * *\n",
                "\n",
                "# More Join Examples -- Composite Joins\n",
                "\n",
                "**Proposition:** Write a query that retrieves order details along with audit information for a specific column.\n",
                "\n",
                "**Table:** Sales.\\[OrderDetail\\] referred as OD, Sales.OrderDetailAudit referred as ODA\n",
                "\n",
                "**Columns:** OrderId, ProductId, Quantity, DateT, LoginName, OldVal, NewVal from the Sales.OrderDetail and Sales.OrderDetailAudit tables.\n",
                "\n",
                "**Predicate:** INNER JOINs are used to join the Sales.\\[OrderDetail\\] and Sales.\\[OrderDetailAudit\\] tables on the OrderId and ProductId columns. The WHERE clause filters the result set to only include rows where the ColumnName in the Sales.OrderDetailAudit table is 'Quantity'.\n",
                "\n",
                "**What's special:** \n",
                "\n",
                "*Auditing Table Creation:* The query begins by dropping the Sales.OrderDetailAudit table if it already exists, ensuring a fresh start for the auditing mechanism. This is a common practice to prevent conflicts or errors when recreating a table.\n",
                "\n",
                "*Creation of a table:* The CREATE TABLE statement defines the structure of the Sales.OrderDetailAudit table. It includes columns to store essential information about each change, such as the OrderId, ProductId, DateT (timestamp), LoginName (user who made the change), ColumnName (name of the modified column), OldVal (previous value), and NewVal (new value). By storing these details, the audit table provides a comprehensive record of changes made to order details.\n",
                "\n",
                "*Primary Key and Foreign Key Constraints*: The table is configured with a primary key constraint (PK_OrderDetailAudit) on the Lsn column, ensuring uniqueness of audit entries. Additionally, a foreign key constraint (FK_OrderDetailAudit_OrderDetail) establishes referential integrity between the OrderId and ProductId columns in the audit table and the corresponding columns in the Sales.OrderDetail table. This ensures that audit entries are linked to valid order details.\n",
                "\n",
                "*Inner Join with Conditions:* It uses an INNER JOIN to link records from Sales.OrderDetail and Sales.OrderDetailAudit based on matching OrderId and ProductId values. This ensures that only audit entries corresponding to specific order details are retrieved, enhancing data accuracy and relevance.\n",
                "\n",
                "*Filtering by Column Name:* The WHERE clause specifies a condition that restricts the result set to only include audit entries where the 'ColumnName' is 'Quantity'. This ensures that only changes to the 'Quantity' column are considered, allowing for focused auditing on a specific attribute.\n",
                "\n",
                "\n",
                "\n",
                "<img src=\"https://static.vecteezy.com/system/resources/previews/022/841/114/non_2x/chatgpt-logo-transparent-background-free-png.png\" alt=\"AI\" width=\"20\" height=\"20\"> Written in collaboration with ChatGPT from OpenAI to improve understanding and assist with the explanation of the query"
            ],
            "metadata": {
                "azdata_cell_guid": "75dd466f-a0a5-4808-90af-6575c00656cc"
            },
            "attachments": {}
        },
        {
            "cell_type": "code",
            "source": [
                "USE TSQLV4;\n",
                "DROP TABLE IF EXISTS Sales.OrderDetailsAudit;\n",
                "\n",
                "CREATE TABLE Sales.OrderDetailsAudit\n",
                "(\n",
                "  lsn        INT NOT NULL IDENTITY,\n",
                "  orderid    INT NOT NULL,\n",
                "  productid  INT NOT NULL,\n",
                "  dt         DATETIME NOT NULL,\n",
                "  loginname  sysname NOT NULL,\n",
                "  columnname sysname NOT NULL,\n",
                "  oldval     SQL_VARIANT,\n",
                "  newval     SQL_VARIANT,\n",
                "  CONSTRAINT PK_OrderDetailsAudit PRIMARY KEY(lsn),\n",
                "  CONSTRAINT FK_OrderDetailsAudit_OrderDetails\n",
                "    FOREIGN KEY(orderid, productid)\n",
                "    REFERENCES Sales.OrderDetails(orderid, productid)\n",
                ");\n",
                "\n",
                "SELECT OD.orderid, OD.productid, OD.qty,\n",
                "  ODA.dt, ODA.loginname, ODA.oldval, ODA.newval\n",
                "FROM Sales.OrderDetails AS OD\n",
                "  INNER JOIN Sales.OrderDetailsAudit AS ODA\n",
                "    ON OD.orderid = ODA.orderid\n",
                "    AND OD.productid = ODA.productid\n",
                "WHERE ODA.columnname = N'qty';\n",
                "\n",
                "\n",
                "USE Northwinds2022TSQLV7;\n",
                "DROP TABLE IF EXISTS Sales.OrderDetailAudit;\n",
                "\n",
                "CREATE TABLE Sales.OrderDetailAudit\n",
                "(\n",
                "  Lsn        INT NOT NULL IDENTITY,\n",
                "  OrderId    INT NOT NULL,\n",
                "  ProductId  INT NOT NULL,\n",
                "  DateT         DATETIME NOT NULL,\n",
                "  LoginName  sysname NOT NULL,\n",
                "  ColumnName sysname NOT NULL,\n",
                "  OldVal     SQL_VARIANT,\n",
                "  NewVal     SQL_VARIANT,\n",
                "  CONSTRAINT PK_OrderDetailAudit PRIMARY KEY(Lsn),\n",
                "  CONSTRAINT FK_OrderDetailAudit_OrderDetail\n",
                "    FOREIGN KEY(OrderId, ProductId)\n",
                "    REFERENCES Sales.[OrderDetail](OrderId, ProductId)\n",
                ");\n",
                "\n",
                "SELECT OD.OrderId, OD.ProductId, OD.Quantity,\n",
                "  ODA.DateT, ODA.LoginName, ODA.OldVal, ODA.NewVal\n",
                "FROM sales.[OrderDetail] AS OD\n",
                "  INNER JOIN sales.[OrderDetailAudit] AS ODA\n",
                "    ON OD.OrderId = ODA.OrderId\n",
                "    AND OD.ProductId = ODA.ProductId\n",
                "WHERE ODA.ColumnName = N'Quantity';\n"
            ],
            "metadata": {
                "azdata_cell_guid": "b43905f7-77be-44b2-bb6e-6521dcde50f3",
                "language": "sql",
                "tags": []
            },
            "outputs": [],
            "execution_count": null
        },
        {
            "cell_type": "markdown",
            "source": [
                "***\n",
                "# Rest of my Chapter - 03 Joins Propositions\n",
                "***"
            ],
            "metadata": {
                "azdata_cell_guid": "eadbb4af-2bd7-493a-8430-b5339a48f7b1"
            },
            "attachments": {}
        },
        {
            "cell_type": "markdown",
            "source": [
                "# SQL-89 -- INNER Joins\n",
                "\n",
                "**Proposition:** Write a query that retrieves orders along with employee details, sorting the results by EmployeeId.\n",
                "\n",
                "**Table:** HumanResources.Employee and Sales.\\[Order\\]\n",
                "\n",
                "**Columns:** EmployeeId, EmployeeFirstName, and EmployeeLastName from HumanResources.Employee table, and OrderId from Sales.\\[Order\\] table.\n",
                "\n",
                "**Predicate:** INNER JOIN Sales.\\[Order\\] ON E.EmployeeId = O.EmployeeId. This INNER JOIN clause connects the HumanResources.Employee and Sales.\\[Order\\] tables based on the EmployeeId column.\n",
                "\n",
                "<img src=\"https://static.vecteezy.com/system/resources/previews/022/841/114/non_2x/chatgpt-logo-transparent-background-free-png.png\" alt=\"AI\" width=\"20\" height=\"20\"> Written in collaboration with ChatGPT from OpenAI to improve understanding and assist with the explanation of the query"
            ],
            "metadata": {
                "azdata_cell_guid": "34c9edb4-c62f-47e3-8208-665f6b63acc3"
            },
            "attachments": {}
        },
        {
            "cell_type": "code",
            "source": [
                "USE TSQLV4;\n",
                "SELECT E.empid, E.firstname, E.lastname, O.orderid\n",
                "FROM HR.Employees AS E, Sales.Orders AS O\n",
                "WHERE E.empid = O.empid;\n",
                "GO\n",
                "\n",
                "USE Northwinds2022TSQLV7;\n",
                "SELECT E.EmployeeId, E.EmployeeFirstName, E.EmployeeLastName, O.OrderId\n",
                "FROM HumanResources.Employee AS E\n",
                "INNER JOIN Sales.[Order] AS O ON E.EmployeeId = O.EmployeeId\n",
                "ORDER BY E.EmployeeId;\n",
                "GO"
            ],
            "metadata": {
                "azdata_cell_guid": "cd4c7e82-7e1d-4ad1-89f8-7a581d64105d",
                "language": "sql",
                "tags": []
            },
            "outputs": [],
            "execution_count": null
        }
    ]
}