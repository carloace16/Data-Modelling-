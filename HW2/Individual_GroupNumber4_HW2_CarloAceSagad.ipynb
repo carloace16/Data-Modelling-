{
    "metadata": {
        "kernelspec": {
            "name": "SQL",
            "display_name": "SQL",
            "language": "sql"
        },
        "language_info": {
            "name": "sql",
            "version": ""
        }
    },
    "nbformat_minor": 2,
    "nbformat": 4,
    "cells": [
        {
            "cell_type": "markdown",
            "source": [
                "# <u>**My Top 5 Queries**</u>"
            ],
            "metadata": {
                "language": "sql",
                "azdata_cell_guid": "8db51746-e91a-4a43-a5c4-156209c15553"
            },
            "attachments": {}
        },
        {
            "cell_type": "markdown",
            "source": [
                "## **Query 5** \n",
                "<img src=\"https://static.vecteezy.com/system/resources/previews/022/841/114/non_2x/chatgpt-logo-transparent-background-free-png.png\" alt=\"AI\" width=\"20\" height=\"20\"> _Written in collaboration with ChatGPT from OpenAI to improve understanding and assist with the explanation of the query_\n",
                "\n",
                "- Proposition: Retrieves a list of customers and their associated company names who do not have any corresponding orders in the Sales.Order table.\n",
                "    \n",
                "- Table: The query uses the Sales.Customer table and Sales.Order table.\n",
                "    \n",
                "- Columns: The columns selected are c.CustomerId and c.CustomerCompanyName.\n",
                "    \n",
                "- Predicate: The query employs a LEFT JOIN between the Sales.Customer table (as c) and the Sales.Order table (as o) using the condition c.CustomerId = o.CustomerId. This ensures that all rows from the Sales.Customer table are included in the result set, regardless of whether there is a matching entry in the Sales.Order table. The WHERE clause filters the result set to only include rows where the o.orderid IS NULL, indicating that no corresponding order exists for the customer.\n",
                "    \n",
                "- This SQL code is special as it efficiently reveals inactive customers, offering valuable insights for businesses aiming to understand and engage with customers who may not have participated in any transactions. It provides a clear overview of customer engagement, aiding businesses in targeting specific customer segments for outreach or analysis."
            ],
            "metadata": {
                "language": "sql",
                "azdata_cell_guid": "c1a74899-4215-4f53-bdcf-60c5e0beff7f"
            },
            "attachments": {}
        },
        {
            "cell_type": "code",
            "source": [
                "use TSQLV4;\r\n",
                "SELECT c.custid, c.companyname\r\n",
                "FROM Sales.Customers c\r\n",
                "LEFT JOIN Orders o ON c.custid = o.custid\r\n",
                "WHERE o.orderid IS NULL;\r\n",
                "\r\n",
                "USE Northwinds2022TSQLV7;\r\n",
                "SELECT c.CustomerId, c.CustomerCompanyName\r\n",
                "FROM Sales.Customer c\r\n",
                "LEFT JOIN Sales.[Order] o ON c.CustomerId = o.CustomerId\r\n",
                "WHERE o.OrderId IS NULL;"
            ],
            "metadata": {
                "language": "sql",
                "azdata_cell_guid": "8089b5e8-b77d-47d4-b9dc-1f5afc1f3997"
            },
            "outputs": [],
            "execution_count": null
        },
        {
            "cell_type": "markdown",
            "source": [
                "## **Query 9**\r\n",
                "<img src=\"https://static.vecteezy.com/system/resources/previews/022/841/114/non_2x/chatgpt-logo-transparent-background-free-png.png\" alt=\"AI\" width=\"20\" height=\"20\"> _Written in collaboration with ChatGPT from OpenAI to improve understanding and assist with the explanation of the query_\r\n",
                "- Proposition: Generates a list of customers along with their identification, company name, and a computed column indicating whether each customer has placed an order on a specific date.\r\n",
                "- Table: The query utilizes the Sales.Customer table.\r\n",
                "- Columns: The columns selected include CustomerId, CustomerCompanyName, and a computed column named HasOrderOn20160212.\r\n",
                "- Predicate: The query uses a CASE WHEN statement within the SELECT clause to determine if each customer has placed an order on the specified date ('2016-02-12'). The existence of such an order is checked by correlating the Sales.Customer table with the Sales.[Order] table using the CustomerId column.\r\n",
                "\r\n",
                "- This SQL code is special as it provides a clear and concise way to ascertain customer activity on a specific date. It's useful for businesses aiming to understand customer engagement patterns, allowing them to tailor strategies based on customer behavior. This kind of dynamic information helps businesses adapt and optimize their approaches for better customer interaction and satisfaction.\r\n",
                ""
            ],
            "metadata": {
                "language": "sql",
                "azdata_cell_guid": "86699c08-7825-4287-bbd0-2e64fdcf2c92"
            },
            "attachments": {}
        },
        {
            "cell_type": "code",
            "source": [
                "use TSQLV4;\r\n",
                "SELECT c.custid, c.companyname,\r\n",
                "       CASE WHEN EXISTS (\r\n",
                "           SELECT 1 \r\n",
                "           FROM Orders o \r\n",
                "           WHERE c.custid = o.custid \r\n",
                "             AND CONVERT(DATE, o.orderdate) = '2016-02-12'\r\n",
                "       ) THEN 'Yes' ELSE 'No' END AS HasOrderOn20160212\r\n",
                "FROM Sales.Customers c;\r\n",
                "\r\n",
                "USE Northwinds2022TSQLV7;\r\n",
                "SELECT c.CustomerId, c.CustomerCompanyName,\r\n",
                "       CASE WHEN EXISTS (\r\n",
                "           SELECT 1 \r\n",
                "           FROM Sales.[Order] o \r\n",
                "           WHERE c.CustomerId = o.CustomerId \r\n",
                "             AND CONVERT(DATE, o.OrderDate) = '2016-02-12'\r\n",
                "       ) THEN 'Yes' ELSE 'No' END AS HasOrderOn20160212\r\n",
                "FROM Sales.Customer c;"
            ],
            "metadata": {
                "language": "sql",
                "azdata_cell_guid": "5d36908a-785d-4d75-bca5-e6b962eaf898"
            },
            "outputs": [],
            "execution_count": null
        },
        {
            "cell_type": "markdown",
            "source": [
                "## **Query Joins**\n",
                "<img src=\"https://static.vecteezy.com/system/resources/previews/022/841/114/non_2x/chatgpt-logo-transparent-background-free-png.png\" alt=\"AI\" width=\"20\" height=\"20\"> _Written in collaboration with ChatGPT from OpenAI to improve understanding and assist with the explanation of the query_\n",
                "- Proposition: Returns a list of consecutive numbers from 1 to 1000 by combining three instances of the dbo.Digits table.\n",
                "- Tables: This query uses the table dbo.Digits.\n",
                "- Columns: D1.digit, D2.digit, D3.digit  is selected, each representing a digit place (ones, tens, hundreds) in the resulting number, and they aliase as the n column. \n",
                "- Predicate: The CROSS JOIN clause is used in this query to generate every possible combination of digits from the dbo.Digits table for each digit place, resulting in a Cartesian product. The expression (D3.digit * 100 + D2.digit * 10 + D1.digit + 1) calculates the numeric value of each combination, ensuring that numbers range from 1 to 1000. The ORDER BY clause arranges the numbers in ascending order.\n",
                "- This SQL code generates a sequence of three-digit numbers starting from 1 by combining digits from the \"dbo.Digits\" table using CROSS JOIN. The calculated values are ordered in ascending order, providing a concise way to generate and organize such numerical sequences for analytical or testing needs.\n",
                ""
            ],
            "metadata": {
                "language": "sql",
                "azdata_cell_guid": "79ef4534-cb6d-4362-a3e3-d8b828b8dc8c"
            },
            "attachments": {}
        },
        {
            "cell_type": "code",
            "source": [
                "USE TSQLV4; \r\n",
                "\r\n",
                "SELECT D3.digit * 100 + D2.digit * 10 + D1.digit + 1 AS n\r\n",
                "FROM         dbo.Digits AS D1\r\n",
                "  CROSS JOIN dbo.Digits AS D2\r\n",
                "  CROSS JOIN dbo.Digits AS D3\r\n",
                "ORDER BY n;\r\n",
                "\r\n",
                "USE Northwinds2022TSQLV7;\r\n",
                "SELECT D3.digit * 100 + D2.digit * 10 + D1.digit + 1 AS n\r\n",
                "FROM         dbo.Digits AS D1\r\n",
                "  CROSS JOIN dbo.Digits AS D2\r\n",
                "  CROSS JOIN dbo.Digits AS D3\r\n",
                "ORDER BY n;"
            ],
            "metadata": {
                "language": "sql",
                "azdata_cell_guid": "a10914bd-c22b-47d4-a40e-8110e6fc17f2"
            },
            "outputs": [],
            "execution_count": null
        },
        {
            "cell_type": "markdown",
            "source": [
                "## **Query Joins**\r\n",
                "<img src=\"https://static.vecteezy.com/system/resources/previews/022/841/114/non_2x/chatgpt-logo-transparent-background-free-png.png\" alt=\"AI\" width=\"20\" height=\"20\"> _Written in collaboration with ChatGPT from OpenAI to improve understanding and assist with the explanation of the query_\r\n",
                "- Proposition: Generates a refined list of distinct pairs of employees by utilizing an INNER JOIN clause based on a specific condition.\r\n",
                "- Table: The query utilizes the HumanResources.Employee table.\r\n",
                "- Columns: The selected columns include EmployeeId, EmployeeFirstName, and EmployeeLastName from both instances (E1 and E2) of the HumanResources.Employee table.\r\n",
                "- Predicate: The query employs an INNER JOIN clause to combine rows from the HumanResources.Employee table (E1 and E2) based on a specific condition (E1.EmployeeId < E2.EmployeeId). This condition ensures that each pair is unique, avoiding duplicate combinations. The result is a filtered set of employee pairs where the EmployeeId of the first employee (E1) is less than the EmployeeId of the second employee (E2).\r\n",
                "- This SQL code is special as it efficiently generates distinct pairs of employees, avoiding duplicates and redundancy. It's particularly useful for scenarios where comparing or analyzing relationships between pairs of items is essential, offering a streamlined and unique view of employee combinations. The condition in the ON clause ensures that each pair is unique, making it a valuable tool for various analytical and comparison tasks.\r\n",
                ""
            ],
            "metadata": {
                "language": "sql",
                "azdata_cell_guid": "19a8c85d-0617-4105-a9c5-725b4526c7fe"
            },
            "attachments": {}
        },
        {
            "cell_type": "code",
            "source": [
                "use TSQLV4;\r\n",
                "-- Unique pairs of employees\r\n",
                "SELECT\r\n",
                "  E1.empid, E1.firstname, E1.lastname,\r\n",
                "  E2.empid, E2.firstname, E2.lastname\r\n",
                "FROM HR.Employees AS E1\r\n",
                "  INNER JOIN HR.Employees AS E2\r\n",
                "    ON E1.empid < E2.empid;\r\n",
                "\r\n",
                "USE Northwinds2022TSQLV7;\r\n",
                "SELECT\r\n",
                "  E1.EmployeeId, E1.EmployeeFirstName, E1.EmployeeLastName,\r\n",
                "  E2.EmployeeId, E2.EmployeeFirstName, E2.EmployeeLastName\r\n",
                "FROM HumanResources.Employee AS E1\r\n",
                "  INNER JOIN HumanResources.Employee AS E2\r\n",
                "    ON E1.EmployeeId < E2.EmployeeId;"
            ],
            "metadata": {
                "language": "sql",
                "azdata_cell_guid": "89de5af0-f53b-4212-ada0-390ead361d2c"
            },
            "outputs": [],
            "execution_count": null
        },
        {
            "cell_type": "markdown",
            "source": [
                "## **Query Joins**\r\n",
                "<img src=\"https://static.vecteezy.com/system/resources/previews/022/841/114/non_2x/chatgpt-logo-transparent-background-free-png.png\" alt=\"AI\" width=\"20\" height=\"20\"> _Written in collaboration with ChatGPT from OpenAI to improve understanding and assist with the explanation of the query_\r\n",
                "- Proposition: Generates a comprehensive list of customer-order combinations along with associated order details, utilizing a LEFT OUTER JOIN to include customers even if they haven't placed any orders.\r\n",
                "- Table: The query involves the Sales.Customer, Sales.[Order], and Sales.OrderDetail tables.\r\n",
                "- Columns: The selected columns include CustomerId from the Sales.Customer table, OrderId from the Sales.[Order] table, and ProductId along with Quantity from the Sales.OrderDetail table.\r\n",
                "- Predicate: The query utilizes a LEFT OUTER JOIN structure to connect the Sales.Customer table (as C) with a combination of the Sales.[Order] table (as O) and the Sales.OrderDetail table (as OD). The JOIN condition is specified as C.CustomerId = O.CustomerId, ensuring that all customers are included in the result, even if they haven't placed any orders. This structure allows for the retrieval of information about customers and their associated orders and order details.\r\n",
                "- This SQL code is special as it forms a comprehensive view of customer transactions, connecting customers to their orders and the specific products they purchased. The combination of LEFT OUTER JOIN and INNER JOIN ensures that all customers are included, even if they haven't placed any orders, while also linking orders with their corresponding details. It's a powerful tool for businesses seeking to understand the complete picture of customer interactions and purchase history, aiding in tailored customer service and targeted marketing strategies.\r\n",
                ""
            ],
            "metadata": {
                "language": "sql",
                "azdata_cell_guid": "1e0d12e4-d8b1-42bb-a5da-ec4aa61b20b0"
            },
            "attachments": {}
        },
        {
            "cell_type": "code",
            "source": [
                "use TSQLV4;\r\n",
                "SELECT C.custid, O.orderid, OD.productid, OD.qty\r\n",
                "FROM Sales.Customers AS C\r\n",
                "  LEFT OUTER JOIN\r\n",
                "      (Sales.Orders AS O\r\n",
                "         INNER JOIN Sales.OrderDetails AS OD\r\n",
                "           ON O.orderid = OD.orderid)\r\n",
                "    ON C.custid = O.custid;\r\n",
                "\r\n",
                "USE Northwinds2022TSQLV7;\r\n",
                "SELECT C.CustomerId, O.OrderId, OD.ProductId, OD.Quantity\r\n",
                "FROM Sales.Customer AS C\r\n",
                "  LEFT OUTER JOIN\r\n",
                "      (Sales.[Order] AS O\r\n",
                "         INNER JOIN Sales.OrderDetail AS OD\r\n",
                "           ON O.OrderId = OD.OrderId)\r\n",
                "    ON C.CustomerId = O.CustomerId;\r\n",
                ""
            ],
            "metadata": {
                "language": "sql",
                "azdata_cell_guid": "277bdedf-e70f-495e-a90a-1a3122e86176"
            },
            "outputs": [],
            "execution_count": null
        },
        {
            "cell_type": "markdown",
            "source": [
                "# <u>**Chapter 03 - Joins**</u>"
            ],
            "metadata": {
                "language": "sql",
                "azdata_cell_guid": "cc90296b-22c2-46a4-8cbf-12efdcd9f0f9"
            },
            "attachments": {}
        },
        {
            "cell_type": "markdown",
            "source": [
                "<img src=\"https://static.vecteezy.com/system/resources/previews/022/841/114/non_2x/chatgpt-logo-transparent-background-free-png.png\" alt=\"AI\" width=\"20\" height=\"20\"> _Written in collaboration with ChatGPT from OpenAI to improve understanding and assist with the explanation of the query_\r\n",
                "- Proposition: Returns a list of consecutive numbers from 1 to 1000 by combining three instances of the dbo.Digits table.\r\n",
                "- Tables: This query uses the table dbo.Digits.\r\n",
                "- Columns: D1.digit, D2.digit, D3.digit  is selected, each representing a digit place (ones, tens, hundreds) in the resulting number, and they aliase as the n column. \r\n",
                "- Predicate: The CROSS JOIN clause is used in this query to generate every possible combination of digits from the dbo.Digits table for each digit place, resulting in a Cartesian product. The expression (D3.digit * 100 + D2.digit * 10 + D1.digit + 1) calculates the numeric value of each combination, ensuring that numbers range from 1 to 1000. The ORDER BY clause arranges the numbers in ascending order.\r\n",
                ""
            ],
            "metadata": {
                "language": "sql",
                "azdata_cell_guid": "08c68931-2572-4bce-a136-d28f90998500"
            },
            "attachments": {}
        },
        {
            "cell_type": "code",
            "source": [
                "USE TSQLV4; \r\n",
                "\r\n",
                "SELECT D3.digit * 100 + D2.digit * 10 + D1.digit + 1 AS n\r\n",
                "FROM         dbo.Digits AS D1\r\n",
                "  CROSS JOIN dbo.Digits AS D2\r\n",
                "  CROSS JOIN dbo.Digits AS D3\r\n",
                "ORDER BY n;\r\n",
                "\r\n",
                "USE Northwinds2022TSQLV7;\r\n",
                "SELECT D3.digit * 100 + D2.digit * 10 + D1.digit + 1 AS n\r\n",
                "FROM         dbo.Digits AS D1\r\n",
                "  CROSS JOIN dbo.Digits AS D2\r\n",
                "  CROSS JOIN dbo.Digits AS D3\r\n",
                "ORDER BY n;\r\n",
                ""
            ],
            "metadata": {
                "language": "sql",
                "azdata_cell_guid": "62c9b3c0-a508-40e4-a947-c13d5a211947"
            },
            "outputs": [],
            "execution_count": null
        },
        {
            "cell_type": "markdown",
            "source": [
                "<img src=\"https://static.vecteezy.com/system/resources/previews/022/841/114/non_2x/chatgpt-logo-transparent-background-free-png.png\" alt=\"AI\" width=\"20\" height=\"20\"> _Written in collaboration with ChatGPT from OpenAI to improve understanding and assist with the explanation of the query_\r\n",
                "- Proposition: Constructs and populates a table named dbo.Digits containing the digits from 0 to 9, providing a foundation for various numeric operations.\r\n",
                "- Table: The query involves the creation and manipulation of the dbo.Digits table.\r\n",
                "- Columns: The dbo.Digits table comprises a single column named digit, representing the numeric digits from 0 to 9.\r\n",
                "- Predicate: The query utilizes a series of SQL statements to create, populate, and retrieve data from the dbo.Digits table. It employs the DROP TABLE IF EXISTS statement to ensure the table's absence before creation, then uses the CREATE TABLE statement to define the structure of the table with a primary key constraint on the digit column. Subsequently, the INSERT INTO statement populates the table with values ranging from 0 to 9. Finally, a SELECT statement retrieves the digit values from the dbo.Digits table.\r\n",
                "\r\n",
                ""
            ],
            "metadata": {
                "language": "sql",
                "azdata_cell_guid": "6caf57da-b3e3-4e1b-948a-f852b3ffd368"
            },
            "attachments": {}
        },
        {
            "cell_type": "code",
            "source": [
                "use TSQLV4;\r\n",
                "DROP TABLE IF EXISTS dbo.Digits;\r\n",
                "\r\n",
                "CREATE TABLE dbo.Digits(digit INT NOT NULL PRIMARY KEY);\r\n",
                "\r\n",
                "INSERT INTO dbo.Digits(digit)\r\n",
                "  VALUES (0),(1),(2),(3),(4),(5),(6),(7),(8),(9);\r\n",
                "\r\n",
                "SELECT digit FROM dbo.Digits;\r\n",
                "GO\r\n",
                "\r\n",
                "USE Northwinds2022TSQLV7;\r\n",
                "DROP TABLE IF EXISTS dbo.Digits;\r\n",
                "\r\n",
                "CREATE TABLE dbo.Digits(digit INT NOT NULL PRIMARY KEY);\r\n",
                "\r\n",
                "INSERT INTO dbo.Digits(digit)\r\n",
                "  VALUES (0),(1),(2),(3),(4),(5),(6),(7),(8),(9);\r\n",
                "\r\n",
                "SELECT digit FROM dbo.Digits;\r\n",
                "GO\r\n",
                "\r\n",
                ""
            ],
            "metadata": {
                "language": "sql",
                "azdata_cell_guid": "74d5d126-655d-47ec-85eb-ba4ceea6399d"
            },
            "outputs": [],
            "execution_count": null
        },
        {
            "cell_type": "markdown",
            "source": [
                "<img src=\"https://static.vecteezy.com/system/resources/previews/022/841/114/non_2x/chatgpt-logo-transparent-background-free-png.png\" alt=\"AI\" width=\"20\" height=\"20\"> _Written in collaboration with ChatGPT from OpenAI to improve understanding and assist with the explanation of the query_\r\n",
                "- Proposition: Retrieves a list of employee details along with associated order information by utilizing an INNER JOIN between the HumanResources.Employee table and the Sales.[Order] table.\r\n",
                "- Table: The query involves the HumanResources.Employee and Sales.[Order] tables.\r\n",
                "- Columns: The selected columns include EmployeeId, EmployeeFirstName, and EmployeeLastName from the HumanResources.Employee table, along with OrderId from the Sales.[Order] table.\r\n",
                "- Predicate: The query employs an INNER JOIN clause to combine rows from the HumanResources.Employee table (as E) with the Sales.[Order] table (as O). This connection is established without specifying a specific join condition, resulting in a Cartesian product between the two tables. This means that every row from the HumanResources.Employee table is paired with every row from the Sales.[Order] table, creating all possible combinations of employee and order pairs.\r\n",
                ""
            ],
            "metadata": {
                "language": "sql",
                "azdata_cell_guid": "7ed9f175-0e71-4868-9fb3-d8c6f5b8664a"
            },
            "attachments": {}
        },
        {
            "cell_type": "code",
            "source": [
                "--Code is in comment in Chapter -03 Joins\r\n",
                "--use TSQLV4;\r\n",
                "-- Inner Join Safety\r\n",
                "/*\r\n",
                "SELECT E.empid, E.firstname, E.lastname, O.orderid\r\n",
                "FROM HR.Employees AS E\r\n",
                "  INNER JOIN Sales.Orders AS O;\r\n",
                "GO\r\n",
                "*/\r\n",
                "/*USE Northwinds2022TSQLV7;\r\n",
                "SELECT E.EmployeeId, E.EmployeeFirstName, E.EmployeeLastName, O.OrderId\r\n",
                "FROM HumanResources.Employee AS E\r\n",
                "  INNER JOIN Sales.[Order] AS O;\r\n",
                "GO\r\n",
                "*/"
            ],
            "metadata": {
                "language": "sql",
                "azdata_cell_guid": "4df4bf99-3780-4298-9d1c-0381ee0798aa"
            },
            "outputs": [],
            "execution_count": null
        },
        {
            "cell_type": "markdown",
            "source": [
                "<img src=\"https://static.vecteezy.com/system/resources/previews/022/841/114/non_2x/chatgpt-logo-transparent-background-free-png.png\" alt=\"AI\" width=\"20\" height=\"20\"> _Written in collaboration with ChatGPT from OpenAI to improve understanding and assist with the explanation of the query_\r\n",
                "- Proposition: Generates a refined list of distinct pairs of employees by utilizing an INNER JOIN clause with a specific condition.\r\n",
                "- Table: The query involves the HumanResources.Employee table.\r\n",
                "- Columns: The selected columns include EmployeeId, EmployeeFirstName, and EmployeeLastName from both instances (E1 and E2) of the HumanResources.Employee table.\r\n",
                "- Predicate: The query employs an INNER JOIN clause to combine rows from the HumanResources.Employee table (E1 and E2) based on a specific condition (E1.EmployeeId < E2.EmployeeId). This condition ensures that each pair is unique, avoiding duplicate combinations. The result is a filtered set of employee pairs where the EmployeeId of the first employee (E1) is less than the EmployeeId of the second employee (E2).\r\n",
                "\r\n",
                ""
            ],
            "metadata": {
                "language": "sql",
                "azdata_cell_guid": "2bd54a58-8004-432f-b562-260712a40386"
            },
            "attachments": {}
        },
        {
            "cell_type": "code",
            "source": [
                "use TSQLV4;\r\n",
                "-- Unique pairs of employees\r\n",
                "SELECT\r\n",
                "  E1.empid, E1.firstname, E1.lastname,\r\n",
                "  E2.empid, E2.firstname, E2.lastname\r\n",
                "FROM HR.Employees AS E1\r\n",
                "  INNER JOIN HR.Employees AS E2\r\n",
                "    ON E1.empid < E2.empid;\r\n",
                "\r\n",
                "USE Northwinds2022TSQLV7;\r\n",
                "SELECT\r\n",
                "  E1.EmployeeId, E1.EmployeeFirstName, E1.EmployeeLastName,\r\n",
                "  E2.EmployeeId, E2.EmployeeFirstName, E2.EmployeeLastName\r\n",
                "FROM HumanResources.Employee AS E1\r\n",
                "  INNER JOIN HumanResources.Employee AS E2\r\n",
                "    ON E1.EmployeeId < E2.EmployeeId;\r\n",
                "\r\n",
                ""
            ],
            "metadata": {
                "language": "sql",
                "azdata_cell_guid": "04bf2ef1-d1b5-4432-b4b3-e282d842dc94",
                "tags": []
            },
            "outputs": [],
            "execution_count": null
        },
        {
            "cell_type": "markdown",
            "source": [
                "<img src=\"https://static.vecteezy.com/system/resources/previews/022/841/114/non_2x/chatgpt-logo-transparent-background-free-png.png\" alt=\"AI\" width=\"20\" height=\"20\"> _Written in collaboration with ChatGPT from OpenAI to improve understanding and assist with the explanation of the query_\r\n",
                "- Proposition: Generates a chronological list of order details, including order date, order ID, customer ID, and employee ID, by utilizing a LEFT OUTER JOIN with a date range specified through the dbo.Nums table.\r\n",
                "- Table: The query involves the Sales.[Order] and dbo.Nums tables.\r\n",
                "- Columns: The selected columns include a dynamically calculated order date using DATEADD and Nums.n, along with OrderId, CustomerId, and EmployeeId from the Sales.[Order] table.\r\n",
                "- Predicate: The query utilizes a LEFT OUTER JOIN with the dbo.Nums table, linking rows based on the calculated order date. The date range is determined by the difference between '20140101' and '20161231,' and the WHERE clause filters the results to include only relevant dates within this range. The query orders the results by the calculated order date.\r\n",
                ""
            ],
            "metadata": {
                "language": "sql",
                "azdata_cell_guid": "9db1da73-9d8d-499f-afb9-e9acae4a1522"
            },
            "attachments": {}
        },
        {
            "cell_type": "code",
            "source": [
                "use TSQLV4;\r\n",
                "SELECT DATEADD(day, Nums.n - 1, CAST('20140101' AS DATE)) AS orderdate,\r\n",
                "  O.orderid, O.custid, O.empid\r\n",
                "FROM dbo.Nums\r\n",
                "  LEFT OUTER JOIN Sales.Orders AS O\r\n",
                "    ON DATEADD(day, Nums.n - 1, CAST('20140101' AS DATE)) = O.orderdate\r\n",
                "WHERE Nums.n <= DATEDIFF(day, '20140101', '20161231') + 1\r\n",
                "ORDER BY orderdate;\r\n",
                "\r\n",
                "USE Northwinds2022TSQLV7;\r\n",
                "SELECT DATEADD(day, Nums.n - 1, CAST('20140101' AS DATE)) AS OrderDate,\r\n",
                "  O.OrderId, O.CustomerId, O.EmployeeId\r\n",
                "FROM dbo.Nums\r\n",
                "  LEFT OUTER JOIN Sales.[Order] AS O\r\n",
                "    ON DATEADD(day, Nums.n - 1, CAST('20140101' AS DATE)) = O.OrderDate\r\n",
                "WHERE Nums.n <= DATEDIFF(day, '20140101', '20161231') + 1\r\n",
                "ORDER BY OrderDate;\r\n",
                ""
            ],
            "metadata": {
                "language": "sql",
                "azdata_cell_guid": "051a2492-20e6-47af-b913-96a808e04d2b"
            },
            "outputs": [],
            "execution_count": null
        },
        {
            "cell_type": "markdown",
            "source": [
                "<img src=\"https://static.vecteezy.com/system/resources/previews/022/841/114/non_2x/chatgpt-logo-transparent-background-free-png.png\" alt=\"AI\" width=\"20\" height=\"20\"> _Written in collaboration with ChatGPT from OpenAI to improve understanding and assist with the explanation of the query_\r\n",
                "- Proposition: Constructs a comprehensive list of customer details along with associated order and order detail information by utilizing a LEFT OUTER JOIN between the Sales.Customer, Sales.[Order], and Sales.OrderDetail tables.\r\n",
                "- Table: The query involves the Sales.Customer, Sales.[Order], and Sales.OrderDetail tables.\r\n",
                "- Columns: The selected columns include CustomerId from the Sales.Customer table, OrderId from the Sales.[Order] table, and ProductId along with Quantity from the Sales.OrderDetail table.\r\n",
                "- Predicate: The query employs a LEFT OUTER JOIN structure, linking the Sales.Customer table (as C) with a combination of the Sales.[Order] table (as O) and the Sales.OrderDetail table (as OD). The join conditions are specified as C.CustomerId = O.CustomerId and O.orderid = OD.orderid. This structure ensures that all customers are included in the result, even if they haven't placed any orders. The SELECT statement retrieves relevant details, creating a comprehensive output of customer, order, and order detail combinations.\r\n",
                "\r\n",
                ""
            ],
            "metadata": {
                "language": "sql",
                "azdata_cell_guid": "0ca4009e-e9e5-42f3-b484-ec7d3ef845f4"
            },
            "attachments": {}
        },
        {
            "cell_type": "code",
            "source": [
                "use TSQLV4;\r\n",
                "SELECT C.custid, O.orderid, OD.productid, OD.qty\r\n",
                "FROM Sales.Customers AS C\r\n",
                "  LEFT OUTER JOIN\r\n",
                "      (Sales.Orders AS O\r\n",
                "         INNER JOIN Sales.OrderDetails AS OD\r\n",
                "           ON O.orderid = OD.orderid)\r\n",
                "    ON C.custid = O.custid;\r\n",
                "\r\n",
                "USE Northwinds2022TSQLV7;\r\n",
                "SELECT C.CustomerId, O.OrderId, OD.ProductId, OD.Quantity\r\n",
                "FROM Sales.Customer AS C\r\n",
                "  LEFT OUTER JOIN\r\n",
                "      (Sales.[Order] AS O\r\n",
                "         INNER JOIN Sales.OrderDetail AS OD\r\n",
                "           ON O.OrderId = OD.OrderId)\r\n",
                "    ON C.CustomerId = O.CustomerId;\r\n",
                ""
            ],
            "metadata": {
                "language": "sql",
                "azdata_cell_guid": "39ee84ef-d825-42f0-af9e-efa9c6e37bd6"
            },
            "outputs": [],
            "execution_count": null
        }
    ]
}