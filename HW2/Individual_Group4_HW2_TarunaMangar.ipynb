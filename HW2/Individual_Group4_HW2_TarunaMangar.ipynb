{
    "metadata": {
        "kernelspec": {
            "name": "SQL",
            "display_name": "SQL",
            "language": "sql"
        },
        "language_info": {
            "name": "sql",
            "version": ""
        }
    },
    "nbformat_minor": 2,
    "nbformat": 4,
    "cells": [
        {
            "cell_type": "markdown",
            "source": [
                "# **Taruna Mangar**\r\n",
                "\r\n",
                "## **SQL Joins- Excerises**\r\n",
                ""
            ],
            "metadata": {
                "azdata_cell_guid": "0417e503-ef12-4e1b-8a0d-8cdc9e446bb2"
            },
            "attachments": {}
        },
        {
            "cell_type": "markdown",
            "source": [
                "## **Exercises #2**\n",
                "\n",
                "Explain what’s wrong in the following query and provide a correct alternative\n",
                "\n",
                "```\n",
                "SELECT Customers.custid, Customers.companyname, Orders.orderid, Orders.orderdate \n",
                "\n",
                "FROM Sales.Customers AS C\n",
                "\n",
                "INNER JOIN Sales.Orders AS O \n",
                "\n",
                "ON Customers.custid = Orders.custid;\n",
                "\n",
                "```"
            ],
            "metadata": {
                "azdata_cell_guid": "54445250-c725-4f1d-8cca-7fdf4db1ab94"
            },
            "attachments": {}
        },
        {
            "cell_type": "markdown",
            "source": [
                "## **Answer**\n",
                "\n",
                "This issue with this table is that the query provided alias for the tables 'Sales Customer' and 'Sales.Order' which are 'C' and 'O' respectively in the 'ON' clause of the 'JOIN', however the alias was not used in the appropiate manner, resulting in a syntax error.\n",
                "\n",
                "Note: The square brackets are used around Order in the Nothwinds version of the query to differntiate it from the reserved keyword.\n",
                "\n",
                "**PROPOSITION:** Write a query that returns CustomerId, OrderId and OrderDate for those customers who's CustomerId in the Sales.Customer table is the same as the CustomerId in the Sales.Order table.\n",
                "\n",
                "**TABLES:** Northwinds2022TSQLV7 Database, Sales.Customer as alias C and Sales.\\[Order\\] as alias O\n",
                "\n",
                "**COLUMN:** CustomerId and CustomerCompanyName from Sales.Customer and OrderId and OrderDate from Sales.\\[Order\\]\n",
                "\n",
                "**PREDICATE:** INNER JOIN Sales.Customer to Sales.\\[Order\\] ON CustomerId in Sales.Customer equals to CustomerId in Sales.\\[Order\\]\n",
                "\n",
                "**WHAT'S SPECIAL: INNER JOIN using Alias for the tables Sales.Customer and Sales.[Order]**\n",
                "\n",
                "<img src=\"https://static.vecteezy.com/system/resources/previews/022/841/114/non_2x/chatgpt-logo-transparent-background-free-png.png\" alt=\"AI\" width=\"20\" height=\"20\"> *Written in collaboration with ChatGPT from OpenAI to improve understanding and assist with the explanation of the query.*\n",
                "\n",
                "\n",
                "\n",
                "\n",
                ""
            ],
            "metadata": {
                "azdata_cell_guid": "b0d87ed2-6c81-45ee-b437-217bf2d4c046"
            },
            "attachments": {}
        },
        {
            "cell_type": "code",
            "source": [
                "Use TSQLV4\r\n",
                "SELECT C.custid, C.companyname, O.orderid, O.orderdate\r\n",
                "FROM Sales.Customers AS C\r\n",
                "  INNER JOIN Sales.Orders AS O\r\n",
                "    ON C.custid = O.custid;\r\n",
                "\r\n",
                "Use Northwinds2022TSQLV7\r\n",
                "SELECT C.CustomerId, C.CustomerCompanyName, O.OrderId, O.OrderDate\r\n",
                "FROM Sales.Customer AS C\r\n",
                "  INNER JOIN Sales.[Order] AS O\r\n",
                "    ON C.CustomerId = O.CustomerId;"
            ],
            "metadata": {
                "azdata_cell_guid": "8fa8c43f-4fb3-49ae-a0ee-064376521941",
                "language": "sql",
                "tags": []
            },
            "outputs": [],
            "execution_count": null
        },
        {
            "cell_type": "markdown",
            "source": [
                "## **Exercises #3**\n",
                "\n",
                "Return US customers, and for each customer the total number of orders and total quantities.\n",
                "\n",
                "Tables involved: TSQLV4 database, Customers, Orders and OrderDetails tables"
            ],
            "metadata": {
                "language": "sql",
                "azdata_cell_guid": "54b24c6b-6cdf-47e1-8533-3b7999a85645"
            },
            "attachments": {}
        },
        {
            "cell_type": "markdown",
            "source": [
                "## **Answer**\n",
                "\n",
                "**PROPOSITION:** Write a query that returns all USA Customers. For each of the USA customer, return their total number of orders and the total quantity.\n",
                "\n",
                "**TABLES:** Northwinds2022TSQLV7 Database, Sales.Customer as alias C,  Sales.\\[Order\\] as alias O and Sales.OrderDetail as OD\n",
                "\n",
                "**COLUMN:** CustomerId and CustomerCountry from Sales.Customer, CustomerId and OrderId from Sales.\\[Order\\] and OrderId and Quantity from Sales.OrderDetails\n",
                "\n",
                "**PREDICATE:** INNER JOIN Sales.Customer to Sales.\\[Order\\] ON CustomerId in Sales.Customer equals to CustomerId in Sales.\\[Order\\], INNER JOIN Sales.\\[Orders\\] to Sales.OrderDetails ON OrderId in Sales.OrderDetails equals OrderId in Sales.\\[Order\\], WHERE CustomerCountry equals N'USA'.\n",
                "\n",
                "**WHAT'S SPECIAL: Multiple INNER JOINs to produce results**\n",
                "\n",
                "<img src=\"https://static.vecteezy.com/system/resources/previews/022/841/114/non_2x/chatgpt-logo-transparent-background-free-png.png\" alt=\"AI\" width=\"20\" height=\"20\"> *Written in collaboration with ChatGPT from OpenAI to improve understanding and assist with the explanation of the query.*\n",
                "\n",
                "\n",
                ""
            ],
            "metadata": {
                "language": "sql",
                "azdata_cell_guid": "0be9f07e-e0a4-4b3c-8eb2-ab685d5f4a78"
            },
            "attachments": {}
        },
        {
            "cell_type": "code",
            "source": [
                "Use TSQLV4\r\n",
                "SELECT C.custid, COUNT( DISTINCT O.orderid) AS numorders, SUM(OD.qty) AS totalqty\r\n",
                "FROM Sales.Customers AS C\r\n",
                "\tINNER JOIN Sales.Orders AS O\r\n",
                "\t\tON O.custid = C.custid\r\n",
                "\tINNER JOIN Sales.OrderDetails AS OD\r\n",
                "\t\tON OD.orderid = O.orderid\r\n",
                "\tWHERE C.country = N'USA'\r\n",
                "\tGROUP BY C.custid;\r\n",
                "\r\n",
                "Use Northwinds2022TSQLV7\r\n",
                "SELECT C.CustomerId, COUNT( DISTINCT O.orderid) AS NumOrders, SUM(OD.Quantity) AS TotalQuantity\r\n",
                "FROM Sales.Customer AS C\r\n",
                "\tINNER JOIN Sales.[Order] AS O\r\n",
                "\t\tON O.CustomerId = C.CustomerId\r\n",
                "\tINNER JOIN Sales.OrderDetail AS OD\r\n",
                "\t\tON OD.OrderId = O.OrderId\r\n",
                "\tWHERE C.CustomerCountry = N'USA'\r\n",
                "\tGROUP BY C.CustomerId;\r\n",
                ""
            ],
            "metadata": {
                "language": "sql",
                "azdata_cell_guid": "f7b108b6-8e5f-4d02-9a6b-90ea23255b2a",
                "tags": []
            },
            "outputs": [],
            "execution_count": null
        },
        {
            "cell_type": "markdown",
            "source": [
                "## **SQL JOINS - #1 Cross Join**\n",
                "\n",
                "This Query produces a cross join, in other words, the use of the comma , in the FROM clause without any explicit JOIN condition results in a Cartesian product or cross join.\n",
                "\n",
                "**PROPOSITION:** Write a query that returns the CustomerId from the Sales.Customer Table and EmployeeId from the HumanResoruces.Employee table.\n",
                "\n",
                "**TABLES:** Northwinds2022TSQLV7 Database, Sales.Customer as alias C and HumanResources.Employee as alias E.\n",
                "\n",
                "**COLUMN:** Customer from Sales.Customer and EmployeeId from HumanResorces.Employee table.\n",
                "\n",
                "**PREDICATE:** While not explicitly defined, there is a LEFT OUTER JOIN between Sales.Customer and HumanResources.Employee ON CustomerId being identical.\n",
                "\n",
                "**WHAT'S SPECIAL: Cross Join not explicitly defined**\n",
                "\n",
                "<img src=\"https://static.vecteezy.com/system/resources/previews/022/841/114/non_2x/chatgpt-logo-transparent-background-free-png.png\" alt=\"AI\" width=\"20\" height=\"20\"> *Written in collaboration with ChatGPT from OpenAI to improve understanding and assist with the explanation of the query.*\n",
                "\n",
                ""
            ],
            "metadata": {
                "language": "sql",
                "azdata_cell_guid": "836fb5c8-ccf8-40fe-b07a-707e3245ac3f"
            },
            "attachments": {}
        },
        {
            "cell_type": "code",
            "source": [
                "Use TSQLV4\r\n",
                "SELECT C.custid, E.empid\r\n",
                "FROM Sales.Customers AS C, HR.Employees AS E\r\n",
                "ORDER BY E.empid; \r\n",
                "\r\n",
                "Use Northwinds2022TSQLV7\r\n",
                "SELECT C.CustomerId, E.EmployeeId\r\n",
                "FROM Sales.Customer as C, HumanResources.Employee as E\r\n",
                "ORDER BY E.EmployeeId;"
            ],
            "metadata": {
                "language": "sql",
                "azdata_cell_guid": "497c5aad-c52d-4f8d-8842-35f68d9b87e2",
                "tags": []
            },
            "outputs": [],
            "execution_count": null
        },
        {
            "cell_type": "markdown",
            "source": [
                "## **SQL JOINS- #2- Cross Join**\n",
                "\n",
                "This Query produces a cross join, in other words, the use of the comma , in the FROM clause without any explicit JOIN condition results in a Cartesian product or cross join.\n",
                "\n",
                "**PROPOSITION:** Write a query that returns EmployeeId, EmployeeFirstName, EmployeeLastName from the HumanResources.Employee table and OrderId from the Sales.\\[Order\\] table, resulting in a Cartesian product of all combinations of rows between the two tables (cross join).\n",
                "\n",
                "**TABLES:** Northwinds2022TSQLV7 Database, HumanResources.Employee as alias E and Sales.\\[Order\\] as alias O.\n",
                "\n",
                "**COLUMN:** EmployeeId, EmployeeFirstName and EmployeeLastName from HumanResources.Employee table and orderid from Sales.\\[Order\\] table.\n",
                "\n",
                "**PREDICATE:** No explicit 'WHERE' or 'JOIN' conditions, howeve the predicate is the combination of all possible pairs of rows between the HumanResources.Employee and Sales.\\[Order\\] tables, which results in a Cartesian product.\n",
                "\n",
                "<img src=\"https://static.vecteezy.com/system/resources/previews/022/841/114/non_2x/chatgpt-logo-transparent-background-free-png.png\" alt=\"AI\" width=\"20\" height=\"20\"> *Written in collaboration with ChatGPT from OpenAI to improve understanding and assist with the explanation of the query.*\n",
                "\n",
                ""
            ],
            "metadata": {
                "language": "sql",
                "azdata_cell_guid": "100cf5b1-8d8b-4012-96e4-14eb7fea5d7c"
            },
            "attachments": {}
        },
        {
            "cell_type": "code",
            "source": [
                "Use TSQLV4\r\n",
                "SELECT E.empid, E.firstname, E.lastname, O.orderid\r\n",
                "FROM HR.Employees AS E, Sales.Orders AS O;\r\n",
                "GO\r\n",
                "\r\n",
                "Use Northwinds2022TSQLV7\r\n",
                "SELECT E.EmployeeId, E.EmployeeFirstName, E.EmployeeLastName, O.Orderid\r\n",
                "FROM HumanResources.Employee AS E, Sales.[Order] AS O\r\n",
                "GO"
            ],
            "metadata": {
                "language": "sql",
                "azdata_cell_guid": "6d0b9d57-bcaf-40d6-83e1-5d162c80ab76",
                "tags": []
            },
            "outputs": [],
            "execution_count": null
        },
        {
            "cell_type": "markdown",
            "source": [
                "## **SQL JOINS- #3 Multi-Join Queries**\n",
                "\n",
                "**PROPOSITION:** Write a query that returns the CustomerId and CustomerCompanyName from the Sales.Customer table, OrderId from the Sales.\\[Order\\] table, ProductId, and Quantity from the Sales.OrderDetail table. The Query should Join Sales.Customer with Sales.\\[Order\\] on CustomerId, and then joins Sales.\\[Order\\] with Sales.OrderDetail on OrderId.\n",
                "\n",
                "**TABLES:** Northwinds2022TSQLV7 Database, Sales.Customer as alias C, Sales.\\[Order\\] as alias O and Sales.OrderDetails as alias OD\n",
                "\n",
                "**COLUMN:** CustomerId and CustomerCompanyName from the Sales.Customer table, OrderId from the Sales.\\[Order\\] table, ProductId, and Quantity from the Sales.OrderDetail table\n",
                "\n",
                "**PREDICATE:** INNER JOIN Sales.\\[Order\\] and Sales.Customer ON CustomerId being equal and INNER JOIN Sales.OrderDetail and Sales.\\[Order\\] ON orderId being equal.\n",
                "\n",
                "<img src=\"https://static.vecteezy.com/system/resources/previews/022/841/114/non_2x/chatgpt-logo-transparent-background-free-png.png\" alt=\"AI\" width=\"20\" height=\"20\"> *Written in collaboration with ChatGPT from OpenAI to improve understanding and assist with the explanation of the query.*"
            ],
            "metadata": {
                "language": "sql",
                "azdata_cell_guid": "57a08515-6b3e-4926-a15a-2096723b259d"
            },
            "attachments": {}
        },
        {
            "cell_type": "code",
            "source": [
                "Use TSQLV4\r\n",
                "SELECT C.custid, C.companyname, O.orderid, OD.productid, OD.qty\r\n",
                "FROM Sales.Customers AS C\r\n",
                "  INNER JOIN Sales.Orders AS O\r\n",
                "    ON C.custid = O.custid\r\n",
                "  INNER JOIN Sales.OrderDetails AS OD\r\n",
                "    ON O.orderid = OD.orderid;\r\n",
                "\r\n",
                "Use Northwinds2022TSQLV7\r\n",
                "SELECT C.CustomerId, C.CustomerCompanyName, O.OrderId, OD.ProductId, OD.Quantity\r\n",
                "FROM Sales.Customer AS C\r\n",
                "  INNER JOIN Sales.[Order] AS O\r\n",
                "    ON C.CustomerId = O.CustomerId\r\n",
                "  INNER JOIN Sales.OrderDetail AS OD\r\n",
                "    ON O.OrderId = OD.OrderId;\r\n",
                "\r\n",
                ""
            ],
            "metadata": {
                "language": "sql",
                "azdata_cell_guid": "ff9a34ca-45e9-40ad-8c64-94210043f1d4",
                "tags": []
            },
            "outputs": [],
            "execution_count": null
        },
        {
            "cell_type": "markdown",
            "source": [
                "## **SQL Joins #4- Filtering Attributes from Non-Preserved Side of Outer Join**\n",
                "\n",
                "**PROPOSITION:** Write a query that returns the CustomerId and CustomerCompanyName from the Sales.Customer table, OrderId and OrderDate from the Sales.\\[Order\\] table. Also perform a LEFT OUTER JOIN between Sales.Customer and Sales.\\[Order\\] on CustomerId, and filter the result set to include only rows where the orderdate is greater than or equal to January 1, 2016.\n",
                "\n",
                "**TABLES:** Northwinds2022TSQLV7 Database, Sales.Customer as alias C and Sales.\\[Order\\] as alias O.\n",
                "\n",
                "**COLUMN:** CustomerId and CustomerCompanyName from the Sales.Customer table and orderId and orderdate from the Sales.\\[Order\\] table.\n",
                "\n",
                "**PREDICATE:** LEFT OUTER JOIN between Sales.Customer table and Sales.\\[Order\\] table WHERE CustomerId in both tables must be equal and orderdate from Sales.\\[Order\\] WHERE orderdate \\>= to January 1, 2016\n",
                "\n",
                "**WHAT'S SPECIAL: The use of the LEFT OUTER JOIN, and applying a filter on the non-preserved side of the outer join which is OrderDate from the Sales.[Order] table.**\n",
                "\n",
                "<img src=\"https://static.vecteezy.com/system/resources/previews/022/841/114/non_2x/chatgpt-logo-transparent-background-free-png.png\" alt=\"AI\" width=\"20\" height=\"20\"> *Written in collaboration with ChatGPT from OpenAI to improve understanding and assist with the explanation of the query.*\n",
                "\n",
                ""
            ],
            "metadata": {
                "language": "sql",
                "azdata_cell_guid": "9548868c-a4af-4c79-adad-abb063c304de"
            },
            "attachments": {}
        },
        {
            "cell_type": "code",
            "source": [
                "Use TSQLV4\r\n",
                "SELECT C.custid, C.companyname, O.orderid, O.orderdate\r\n",
                "FROM Sales.Customers AS C\r\n",
                "  LEFT OUTER JOIN Sales.Orders AS O\r\n",
                "    ON C.custid = O.custid\r\n",
                "WHERE O.orderdate >= '20160101';\r\n",
                "\r\n",
                "Use Northwinds2022TSQLV7\r\n",
                "SELECT C.CustomerId, C.CustomerCompanyName, O.OrderId, O.OrderDate\r\n",
                "FROM Sales.Customer AS C\r\n",
                "  LEFT OUTER JOIN Sales.[Order] AS O\r\n",
                "    ON C.CustomerId = O.CustomerId\r\n",
                "WHERE O.OrderDate >= '20160101';\r\n",
                ""
            ],
            "metadata": {
                "language": "sql",
                "azdata_cell_guid": "0768d6d8-ab02-4a04-96aa-1d2c2160c2f8"
            },
            "outputs": [],
            "execution_count": null
        },
        {
            "cell_type": "markdown",
            "source": [
                "## **SQL JOINS #5 --- Using the COUNT Aggregate with Outer Joins**\n",
                "\n",
                "**PROPOSITION:** Write a query that returns the CustomerId from the Sales.Customer table and counts the number of orders for each customer using a LEFT OUTER JOIN with the Sales.\\[Order\\] table on the CustomerId column. The result is grouped by CustomerId.\n",
                "\n",
                "**TABLES:** Northwinds2022TSQLV7 Database, Sales.Customer as alias C and Sales.\\[Order\\] as alias O.\n",
                "\n",
                "**COLUMN:** CustomerId from the Sales.Customer table CustomerId from the Sales.\\[Order\\] table.\n",
                "\n",
                "**PREDICATE:** LEFT OUTER JOIN between Sales.Customer table and Sales.\\[Order\\] table ON the CustomerId in both tables are identical.\n",
                "\n",
                "**WHAT'S SPECIAL: Using LEFT OUTER JOIN and COUNT (*)**\n",
                "\n",
                "<img src=\"https://static.vecteezy.com/system/resources/previews/022/841/114/non_2x/chatgpt-logo-transparent-background-free-png.png\" alt=\"AI\" width=\"20\" height=\"20\"> *Written in collaboration with ChatGPT from OpenAI to improve understanding and assist with the explanation of the query.*\n",
                "\n",
                "\n",
                ""
            ],
            "metadata": {
                "language": "sql",
                "azdata_cell_guid": "c43088ea-c62f-443c-bfbe-f4b6395a3e9f"
            },
            "attachments": {}
        },
        {
            "cell_type": "code",
            "source": [
                "Use TSQLV4\r\n",
                "SELECT C.custid, COUNT(*) AS numorders\r\n",
                "FROM Sales.Customers AS C\r\n",
                "  LEFT OUTER JOIN Sales.Orders AS O\r\n",
                "    ON C.custid = O.custid\r\n",
                "GROUP BY C.custid;\r\n",
                "\r\n",
                "Use Northwinds2022TSQLV7\r\n",
                "SELECT C.CustomerId, COUNT(*) AS NumOrders\r\n",
                "FROM Sales.Customer AS C\r\n",
                "  LEFT OUTER JOIN Sales.[Order] AS O\r\n",
                "    ON C.CustomerId = O.CustomerId\r\n",
                "GROUP BY C.CustomerId;"
            ],
            "metadata": {
                "language": "sql",
                "azdata_cell_guid": "410a0d33-b6ad-4d74-a011-3fcf7d289a65"
            },
            "outputs": [],
            "execution_count": null
        }
    ]
}