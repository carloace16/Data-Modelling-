{
    "metadata": {
        "kernelspec": {
            "name": "SQL",
            "display_name": "SQL",
            "language": "sql"
        },
        "language_info": {
            "name": "sql",
            "version": ""
        }
    },
    "nbformat_minor": 2,
    "nbformat": 4,
    "cells": [
        {
            "cell_type": "markdown",
            "source": [
                "# **Top 5 Queries**\r\n",
                "## **Query 1 (Exercise 1.1)**\r\n",
                "*<img src=\"https://static.vecteezy.com/system/resources/previews/022/841/114/non_2x/chatgpt-logo-transparent-background-free-png.png\" alt=\"AI\" width=\"20\" height=\"20\">\r\n",
                "Written in collaboration with ChatGPT from OpenAI to improve understanding and assist with the explanation of the query*\r\n",
                "\r\n",
                "### --Proposition: Returns a list of employees along with a sequential number up to a specified limit.\r\n",
                "### --Table: The query uses the HumanResources.Employee table and the dbo.Nums table.\r\n",
                "### --Columns: The columns selected are EmployeeId, EmployeeFirstName, EmployeeLastName, and N.\r\n",
                "### --Predicate: The query combines each row from the HumanResources.Employee table with each row from the dbo.Nums table, where the sequential number (N) is less than 6. This is achieved by omitting a specific join condition between the two tables, resulting in a cross join or Cartesian product. The result set includes all possible combinations of employees with sequential numbers up to 5 which is smaller than 6.\r\n",
                "\r\n",
                "### *The query is special because it returns repeated employees' id and names with specified times.*"
            ],
            "metadata": {
                "azdata_cell_guid": "39af34d0-7108-4f33-9750-6718b80219e7"
            },
            "attachments": {}
        },
        {
            "cell_type": "code",
            "source": [
                "USE TSQLV4;\r\n",
                "SELECT empid, firstname, lastname, n\r\n",
                "FROM HR.Employees, dbo.Nums\r\n",
                "where n < 6\r\n",
                "ORDER BY\r\n",
                "    n,\r\n",
                "    empid;\r\n",
                "\r\n",
                "\r\n",
                "USE Northwinds2022TSQLV7;\r\n",
                "SELECT EmployeeId, EmployeeFirstName, EmployeeLastName, N\r\n",
                "FROM HumanResources.Employee, dbo.Nums\r\n",
                "where N < 6\r\n",
                "ORDER BY\r\n",
                "    N,\r\n",
                "    EmployeeId;\r\n",
                ""
            ],
            "metadata": {
                "azdata_cell_guid": "b3549e86-fab2-4476-b082-21a828039416",
                "language": "sql",
                "tags": [
                    "hide_input"
                ]
            },
            "outputs": [],
            "execution_count": null
        },
        {
            "cell_type": "markdown",
            "source": [
                "## **Query 2 (Exercise 8)**\r\n",
                "*<img src=\"https://static.vecteezy.com/system/resources/previews/022/841/114/non_2x/chatgpt-logo-transparent-background-free-png.png\" alt=\"AI\" width=\"20\" height=\"20\">\r\n",
                "Written in collaboration with ChatGPT from OpenAI to improve understanding and assist with the explanation of the query*\r\n",
                "\r\n",
                "### --Proposition: Returns a list of customers along with their orders, including those with no orders, for a specific order date.\r\n",
                "### --Table: The query utilizes the Sales.Customer table and the Sales.[Order] table.\r\n",
                "### --Columns: The columns selected are CustomerId, CustomerCompanyName from Sales.Customer, OrderId, and OrderDate from Sales.[Order].\r\n",
                "### --Predicate: The query employs a LEFT OUTER JOIN clause to combine rows from the Sales.Customer table (as C) with matching rows from the Sales.[Order] table (as O) based on the condition that the CustomerId in the Order table matches the CustomerId in the Customer table. Additionally, the WHERE clause filters the result set to include only orders with a specific order date ('20160212') or customers with no orders (where OrderId is NULL).\r\n",
                "\r\n",
                "### *ANSWER: The use of where clause here will not display customers who have not made any orders.*"
            ],
            "metadata": {
                "language": "sql",
                "azdata_cell_guid": "95ef1214-74b2-4ae1-8b55-3a7acc02aeb3"
            },
            "attachments": {}
        },
        {
            "cell_type": "code",
            "source": [
                "USE TSQLV4\r\n",
                "SELECT C.custid, C.companyname, O.orderid, O.orderdate\r\n",
                "FROM Sales.Customers AS C\r\n",
                "  LEFT OUTER JOIN Sales.Orders AS O\r\n",
                "    ON O.custid = C.custid\r\n",
                "WHERE O.orderdate = '20160212'\r\n",
                "   OR O.orderid IS NULL;\r\n",
                "\r\n",
                "USE Northwinds2022TSQLV7\r\n",
                "SELECT C.CustomerId, C.CustomerCompanyName, O.OrderId, O.OrderDate\r\n",
                "FROM Sales.Customer AS C\r\n",
                "  LEFT OUTER JOIN Sales.[Order] AS O\r\n",
                "    ON O.CustomerId = C.CustomerId\r\n",
                "WHERE O.OrderDate = '20160212'\r\n",
                "   OR O.OrderId IS NULL;\r\n",
                ""
            ],
            "metadata": {
                "azdata_cell_guid": "b997c441-d71d-43ad-8475-2e28a7bd44e9",
                "language": "sql",
                "tags": [
                    "hide_input"
                ]
            },
            "outputs": [],
            "execution_count": null
        },
        {
            "cell_type": "markdown",
            "source": [
                "## **Query 3**\r\n",
                "*<img src=\"https://static.vecteezy.com/system/resources/previews/022/841/114/non_2x/chatgpt-logo-transparent-background-free-png.png\" alt=\"AI\" width=\"20\" height=\"20\">\r\n",
                "Written in collaboration with ChatGPT from OpenAI to improve understanding and assist with the explanation of the query*\r\n",
                "\r\n",
                "### --Proposition: Returns a list of all orders assigned to each employee.\r\n",
                "### --Table: The query utilizes the HumanResources.Employee table and the Sales.[Order] table.\r\n",
                "### --Columns: The columns selected are EmployeeId, EmployeeFirstName, EmployeeLastName from HumanResources.Employee, and OrderId from Sales.[Order].\r\n",
                "### --Predicate: The query employs an INNER JOIN clause to combine rows from the HumanResources.Employee table (as E) with matching rows from the Sales.[Order] table (as O) based on the condition that the EmployeeId in the Employee table matches the EmployeeId in the Order table. This ensures that only orders associated with existing employees are included in the result set.\r\n",
                "\r\n",
                "### *What I think is special here is that the query shows us how to output data from 2 tables at the same time.*"
            ],
            "metadata": {
                "language": "sql",
                "azdata_cell_guid": "5fdb8b65-cd85-4e58-9574-37f1bd247427"
            },
            "attachments": {}
        },
        {
            "cell_type": "code",
            "source": [
                "USE TSQLV4;\r\n",
                "SELECT E.empid, E.firstname, E.lastname, O.orderid\r\n",
                "FROM HR.Employees AS E\r\n",
                "  INNER JOIN Sales.Orders AS O\r\n",
                "    ON E.empid = O.empid\r\n",
                "ORDER BY E.empid, O.orderid;\r\n",
                "\r\n",
                "USE Northwinds2022TSQLV7;\r\n",
                "SELECT E.EmployeeId, E.EmployeeFirstName, E.EmployeeLastName, O.OrderId\r\n",
                "FROM HumanResources.Employee AS E\r\n",
                "  INNER JOIN Sales.[Order] AS O\r\n",
                "    ON E.EmployeeId = O.EmployeeId\r\n",
                "ORDER BY E.EmployeeId, O.OrderId;\r\n",
                ""
            ],
            "metadata": {
                "language": "sql",
                "azdata_cell_guid": "5fbff98d-9fcb-424c-b307-72ef3ff46c69",
                "tags": [
                    "hide_input"
                ]
            },
            "outputs": [],
            "execution_count": null
        },
        {
            "cell_type": "markdown",
            "source": [
                "## **Query 4**\r\n",
                "*<img src=\"https://static.vecteezy.com/system/resources/previews/022/841/114/non_2x/chatgpt-logo-transparent-background-free-png.png\" alt=\"AI\" width=\"20\" height=\"20\">\r\n",
                "Written in collaboration with ChatGPT from OpenAI to improve understanding and assist with the explanation of the query*\r\n",
                "\r\n",
                "### --Proposition: Returns a list of customers who have not placed any orders.\r\n",
                "### --Table: The query utilizes the Sales.Customer table and the Sales.[Order] table.\r\n",
                "### --Columns: The columns selected are CustomerId and CustomerCompanyName from Sales.Customer.\r\n",
                "### --Predicate: The query employs a LEFT OUTER JOIN clause to combine rows from the Sales.Customer table (as C) with matching rows from the Sales.[Order] table (as O) based on the condition that the CustomerId in the Order table matches the CustomerId in the Customer table. The WHERE clause filters the result set to include only those customers where the OrderId is NULL, indicating that no orders exist for that customer.\r\n",
                "\r\n",
                "### *What is special for this query is that it returns data from one table but use another table for where clause.*"
            ],
            "metadata": {
                "language": "sql",
                "azdata_cell_guid": "f6c4305d-09bf-4635-94d6-12cee6151e78"
            },
            "attachments": {}
        },
        {
            "cell_type": "code",
            "source": [
                "USE TSQLV4\r\n",
                "SELECT C.custid, C.companyname\r\n",
                "FROM Sales.Customers AS C\r\n",
                "  LEFT OUTER JOIN Sales.Orders AS O\r\n",
                "    ON C.custid = O.custid\r\n",
                "WHERE O.orderid IS NULL;\r\n",
                "\r\n",
                "USE Northwinds2022TSQLV7\r\n",
                "SELECT C.CustomerId, C.CustomerCompanyName\r\n",
                "FROM Sales.Customer AS C\r\n",
                "  LEFT OUTER JOIN Sales.[Order] AS O\r\n",
                "    ON C.CustomerId = O.CustomerId\r\n",
                "WHERE O.orderid IS NULL;\r\n",
                ""
            ],
            "metadata": {
                "language": "sql",
                "azdata_cell_guid": "e486a571-e599-4155-a33c-923488944c1a",
                "tags": [
                    "hide_input"
                ]
            },
            "outputs": [],
            "execution_count": null
        },
        {
            "cell_type": "markdown",
            "source": [
                "## **Query 5**\r\n",
                "*<img src=\"https://static.vecteezy.com/system/resources/previews/022/841/114/non_2x/chatgpt-logo-transparent-background-free-png.png\" alt=\"AI\" width=\"20\" height=\"20\">\r\n",
                "Written in collaboration with ChatGPT from OpenAI to improve understanding and assist with the explanation of the query*\r\n",
                "\r\n",
                "### --Proposition: Returns a list of customers along with the count of orders each customer has placed.\r\n",
                "### --Table: The query utilizes the Sales.Customer table and the Sales.[Order] table.\r\n",
                "### --Columns: The columns selected are CustomerId from Sales.Customer and COUNT(OrderId) AS numorders from Sales.[Order].\r\n",
                "### --Predicate: The query employs a LEFT OUTER JOIN clause to combine rows from the Sales.Customer table (as C) with matching rows from the Sales.[Order] table (as O) based on the condition that the CustomerId in the Order table matches the CustomerId in the Customer table. The result set is then grouped by CustomerId, and the COUNT function is used to calculate the number of orders for each customer.\r\n",
                "\r\n",
                "### *The special part for the query is that it uses COUNT to add up the order for each CustomerId.*"
            ],
            "metadata": {
                "language": "sql",
                "azdata_cell_guid": "9edbd9f0-dc8f-464d-8dec-bc2632e3f2a8"
            },
            "attachments": {}
        },
        {
            "cell_type": "code",
            "source": [
                "USE TSQLV4\r\n",
                "SELECT C.custid, COUNT(O.orderid) AS numorders\r\n",
                "FROM Sales.Customers AS C\r\n",
                "  LEFT OUTER JOIN Sales.Orders AS O\r\n",
                "    ON C.custid = O.custid\r\n",
                "GROUP BY C.custid;\r\n",
                "\r\n",
                "USE Northwinds2022TSQLV7\r\n",
                "SELECT C.CustomerId, COUNT(O.OrderId) AS numorders\r\n",
                "FROM Sales.Customer AS C\r\n",
                "  LEFT OUTER JOIN Sales.[Order] AS O\r\n",
                "    ON C.CustomerId = O.CustomerId\r\n",
                "GROUP BY C.CustomerId;"
            ],
            "metadata": {
                "language": "sql",
                "azdata_cell_guid": "d2261e0e-cd89-43bf-8469-85b9e0c1fd25",
                "tags": [
                    "hide_input"
                ]
            },
            "outputs": [],
            "execution_count": null
        },
        {
            "cell_type": "markdown",
            "source": [
                "# **Chapter 3 - JOIN Query**\n",
                "\n",
                "## **Query**\n",
                "*<img src=\"https://static.vecteezy.com/system/resources/previews/022/841/114/non_2x/chatgpt-logo-transparent-background-free-png.png\" alt=\"AI\" width=\"20\" height=\"20\">\n",
                "Written in collaboration with ChatGPT from OpenAI to improve understanding and assist with the explanation of the query*\n",
                "\n",
                "### --Proposition: Returns a list of customers along with their orders and corresponding order details, including customers who have not placed any orders.\n",
                "### --Table: The query utilizes the Sales.Customer table, the Sales.\\[Order\\] table, and the Sales.OrderDetail table.\n",
                "### --Columns: The columns selected are CustomerId from Sales.Customer, OrderId from Sales.[Order], ProductId, and Quantity from Sales.OrderDetail.\n",
                "### --Predicate: The query employs LEFT OUTER JOIN clauses to combine rows from the Sales.Customer table (as C) with matching rows from the Sales.\\[Order\\] table (as O) based on the condition that the CustomerId in the Order table matches the CustomerId in the Customer table, and then combines these results with matching rows from the Sales.OrderDetail table (as OD) based on the condition that the OrderId in the OrderDetail table matches the OrderId in the Order table. This allows for a comprehensive list of customers along with their orders and corresponding order details, including customers who have not placed any orders."
            ],
            "metadata": {
                "azdata_cell_guid": "11559c11-4a7c-42f0-a43a-de45be78eeb9"
            },
            "attachments": {}
        },
        {
            "cell_type": "code",
            "source": [
                "USE TSQLV4\r\n",
                "SELECT C.custid, O.orderid, OD.productid, OD.qty\r\n",
                "FROM Sales.Customers AS C\r\n",
                "  LEFT OUTER JOIN Sales.Orders AS O\r\n",
                "    ON C.custid = O.custid\r\n",
                "  LEFT OUTER JOIN Sales.OrderDetails AS OD\r\n",
                "    ON O.orderid = OD.orderid;\r\n",
                "\r\n",
                "USE Northwinds2022TSQLV7\r\n",
                "SELECT C.CustomerId, O.OrderId, OD.ProductId, OD.Quantity\r\n",
                "FROM Sales.Customer AS C\r\n",
                "  LEFT OUTER JOIN Sales.[Order] AS O\r\n",
                "    ON C.CustomerId = O.CustomerId\r\n",
                "  LEFT OUTER JOIN Sales.OrderDetail AS OD\r\n",
                "    ON O.OrderId = OD.OrderId;\r\n",
                ""
            ],
            "metadata": {
                "azdata_cell_guid": "4c34304a-ae60-45bb-b8cc-f9e0a3e14ded",
                "language": "sql",
                "tags": [
                    "hide_input"
                ]
            },
            "outputs": [],
            "execution_count": null
        },
        {
            "cell_type": "markdown",
            "source": [
                "###"
            ],
            "metadata": {
                "language": "sql",
                "azdata_cell_guid": "01d55f6c-2c3f-4b78-9571-5e44e5106c1e"
            },
            "attachments": {}
        }
    ]
}