{
    "metadata": {
        "kernelspec": {
            "name": "SQL",
            "display_name": "SQL",
            "language": "sql"
        },
        "language_info": {
            "name": "sql",
            "version": ""
        }
    },
    "nbformat_minor": 2,
    "nbformat": 4,
    "cells": [
        {
            "cell_type": "markdown",
            "source": [
                "# **Top 5 Queries**\n",
                "\n",
                "## **Question 4 (Exercises)**\n",
                "\n",
                "### Proposition: Returns a list of customers along with their corresponding orders, including customers who have not placed any orders.\n",
                "\n",
                "### Table: The query uses the Sales.Customer and Sales.Order tables.\n",
                "\n",
                "### Columns: The columns used here are CustomerId, CustomerCompanyName from the Sales.Customer table. The OrderId and OrderDate columns are from the Sales.Order table.\n",
                "\n",
                "### Predicate: The Sales.Customer table provides details about the customers and the company name of the orders that the customers have made from. The Sales.Order table provides the details of customers' orders and their respective dates. The LEFT JOIN clause is used here to combine rows from the Sales.Customer table (as c) with rows from the Sales.Order table (as o) based on the CustomerId. \n",
                "\n",
                "*This query is special to me because this is the first query in which I have implemented the LEFT JOIN clause.*\n",
                "\n",
                "*<img src=\"https://static.vecteezy.com/system/resources/previews/022/841/114/non_2x/chatgpt-logo-transparent-background-free-png.png\" alt=\"AI\" width=\"20\" height=\"20\"> Written in collaboration with ChatGPT from OpenAI to improve understanding and assist with the explanation of the query*\n",
                ""
            ],
            "metadata": {
                "azdata_cell_guid": "6f4ab1cc-7c0a-49fb-a0d2-cbe2ec418f42"
            },
            "attachments": {}
        },
        {
            "cell_type": "code",
            "source": [
                "USE TSQLV4;\n",
                "\n",
                "SELECT c.custid, c.companyname, o.orderid, o.orderdate\n",
                "FROM Sales.Customers c\n",
                "LEFT JOIN Orders o ON c.custid = o.custid;\n",
                "\n",
                "\n",
                "USE Northwinds2022TSQLV7;\n",
                "\n",
                "SELECT c.CustomerId, c.CustomerCompanyName, o.OrderId, o.OrderDate\n",
                "FROM Sales.Customer c\n",
                "LEFT JOIN Sales.[Order] o ON c.CustomerId = o.CustomerId;"
            ],
            "metadata": {
                "azdata_cell_guid": "9ce98588-dccb-4d35-862d-9c77e155ac7a",
                "language": "sql",
                "tags": []
            },
            "outputs": [],
            "execution_count": null
        },
        {
            "cell_type": "markdown",
            "source": [
                "## **Question 7 (Optional, Advanced) (Exercises)** \n",
                "\n",
                "### Proposition: Returns a list of customers along with their corresponding orders placed specifically on February 12, 2016.\n",
                "### Table: The query uses the Sales.Customer and Sales.Order tables.\n",
                "### Columns: It selects CustomerId, CustomerCompanyName from the Sales.Customer table, and OrderId, OrderDate from the Sales.Order table, providing details of customers' orders placed on February 12, 2016.\n",
                "### Predicate: The LEFT JOIN clause combines rows from the Sales.Customer table (as c) with rows from the Sales.Order table (as o) based on matching CustomerId. CONVERT(DATE, o.OrderDate) = '2016-02-12' filters the result set to include only orders placed on that specific date.\n",
                "\n",
                "*This query is special to me because I have implemented the CONVERT() function for filtering.*\n",
                "\n",
                "*<img src=\"https://static.vecteezy.com/system/resources/previews/022/841/114/non_2x/chatgpt-logo-transparent-background-free-png.png\" alt=\"AI\" width=\"20\" height=\"20\"> Written in collaboration with ChatGPT from OpenAI to improve understanding and assist with the explanation of the query*"
            ],
            "metadata": {
                "azdata_cell_guid": "26168c71-ae7d-48f8-8d28-07819dfddba1"
            },
            "attachments": {}
        },
        {
            "cell_type": "code",
            "source": [
                "USE TSQLV4;\n",
                "\n",
                "SELECT c.custid, c.companyname, o.orderid, o.orderdate\n",
                "FROM Sales.Customers c\n",
                "LEFT JOIN Orders o ON c.custid = o.custid AND CONVERT(DATE, o.orderdate) = '2016-02-12'\n",
                "ORDER BY custid;\n",
                "\n",
                "USE Northwinds2022TSQLV7;\n",
                "\n",
                "SELECT c.CustomerId, c.CustomerCompanyName, o.OrderId, o.OrderDate\n",
                "FROM Sales.Customer c\n",
                "LEFT JOIN Sales.[Order] o ON c.CustomerId = o.CustomerId AND CONVERT(DATE, o.OrderDate) = '2016-02-12';"
            ],
            "metadata": {
                "azdata_cell_guid": "07b6695a-cb99-4ebe-b98b-8cf748231675",
                "language": "sql",
                "tags": []
            },
            "outputs": [],
            "execution_count": null
        },
        {
            "cell_type": "markdown",
            "source": [
                "## **Query (Joins)** \n",
                "\n",
                "### Proposition: Returns a list of all possible combinations of pairs of employees\n",
                "### Table: The query uses the HumanResources.Employee table.\n",
                "### Columns: The columns used are  EmployeeId, EmployeeFirstName, EmployeeLastName from the HumanResources.Employee table. The three selections aliases twice, E1 and E2, as two different tables which results to 6 columns per row in output.\n",
                "### Predicate: The query uses a CROSS JOIN clause, which combines each row from the first table (as E1) with every row from the second table (as E2), resulting in a cartesian product, to generate all possible combinations of employee pairs. \n",
                "\n",
                "*This query is special to me because this is the first query in which I have implemented the CROSS JOIN clause.*\n",
                "\n",
                "*<img src=\"https://static.vecteezy.com/system/resources/previews/022/841/114/non_2x/chatgpt-logo-transparent-background-free-png.png\" alt=\"AI\" width=\"20\" height=\"20\"> Written in collaboration with ChatGPT from OpenAI to improve understanding and assist with the explanation of the query*"
            ],
            "metadata": {
                "azdata_cell_guid": "0836c3ba-cca5-4b29-97c0-6b9cfc3d517a"
            },
            "attachments": {}
        },
        {
            "cell_type": "code",
            "source": [
                "USE TSQLV4;\n",
                "\n",
                "SELECT\n",
                "  E1.empid, E1.firstname, E1.lastname,\n",
                "  E2.empid, E2.firstname, E2.lastname\n",
                "FROM HR.Employees AS E1 \n",
                "  CROSS JOIN HR.Employees AS E2;\n",
                "GO\n",
                "\n",
                "\n",
                "USE Northwinds2022TSQLV7;\n",
                "\n",
                "SELECT\n",
                "  E1.EmployeeId, E1.EmployeeFirstName, E1.EmployeeLastName,\n",
                "  E2.EmployeeId, E2.EmployeeFirstName, E2.EmployeeLastName\n",
                "FROM HumanResources.Employee AS E1 \n",
                "  CROSS JOIN HumanResources.Employee AS E2;\n",
                "GO"
            ],
            "metadata": {
                "azdata_cell_guid": "bcc946e8-878c-42fd-8367-72ed225623c9",
                "language": "sql"
            },
            "outputs": [],
            "execution_count": null
        },
        {
            "cell_type": "markdown",
            "source": [
                "## **Query (Joins)**\n",
                "\n",
                "### Proposition: Creates an audit table named Sales.OrderDetailsAudit to track changes made to the Sales.OrderDetail table.\n",
                "### Table: The query creates the Sales.OrderDetailsAudit table and references the Sales.OrderDetail table. \n",
                "### Columns: The Sales.OrderDetailsAudit table contains the following columns after being created: Lsn, OrderId, ProductId, Dt, LoginName, ColumnName, OldVal, NewVal.\n",
                "### Predicate: The table schema includes columns as listed above and the constraints ensure data integrity, with a primary key constraint on the Lsn column and a foreign key constraint referencing the OrderId and ProductId in the Sales.OrderDetail table.\n",
                "\n",
                "*This query is special to me because this is the first time I have created a table in sql.*\n",
                "\n",
                "*<img src=\"https://static.vecteezy.com/system/resources/previews/022/841/114/non_2x/chatgpt-logo-transparent-background-free-png.png\" alt=\"AI\" width=\"20\" height=\"20\"> Written in collaboration with ChatGPT from OpenAI to improve understanding and assist with the explanation of the query*"
            ],
            "metadata": {
                "azdata_cell_guid": "e00d453e-8b8b-4dc3-b791-f805fcffe927"
            },
            "attachments": {}
        },
        {
            "cell_type": "code",
            "source": [
                "USE TSQLV4;\n",
                "\n",
                "DROP TABLE IF EXISTS Sales.OrderDetailsAudit;\n",
                "\n",
                "CREATE TABLE Sales.OrderDetailsAudit\n",
                "(\n",
                "  lsn        INT NOT NULL IDENTITY,\n",
                "  orderid    INT NOT NULL,\n",
                "  productid  INT NOT NULL,\n",
                "  dt         DATETIME NOT NULL,\n",
                "  loginname  sysname NOT NULL,\n",
                "  columnname sysname NOT NULL,\n",
                "  oldval     SQL_VARIANT,\n",
                "  newval     SQL_VARIANT,\n",
                "  CONSTRAINT PK_OrderDetailsAudit PRIMARY KEY(lsn),\n",
                "  CONSTRAINT FK_OrderDetailsAudit_OrderDetails\n",
                "    FOREIGN KEY(orderid, productid)\n",
                "    REFERENCES Sales.OrderDetails(orderid, productid)\n",
                ");\n",
                "\n",
                "\n",
                "USE Northwinds2022TSQLV7;\n",
                "\n",
                "DROP TABLE IF EXISTS Sales.OrderDetailsAudit;\n",
                "\n",
                "CREATE TABLE Sales.OrderDetailsAudit\n",
                "(\n",
                "  Lsn       INT NOT NULL IDENTITY,\n",
                "  OrderId   INT NOT NULL,\n",
                "  ProductId  INT NOT NULL,\n",
                "  Dt         DATETIME NOT NULL,\n",
                "  LoginName  sysname NOT NULL,\n",
                "  ColumnName sysname NOT NULL,\n",
                "  OldVal     SQL_VARIANT,\n",
                "  NewVal     SQL_VARIANT,\n",
                "  CONSTRAINT PK_OrderDetailsAudit PRIMARY KEY(Lsn),\n",
                "  CONSTRAINT FK_OrderDetailsAudit_OrderDetails\n",
                "    FOREIGN KEY(OrderId, ProductId)\n",
                "    REFERENCES Sales.OrderDetail(OrderId, ProductId)\n",
                ");"
            ],
            "metadata": {
                "azdata_cell_guid": "a77b792f-da29-496c-8b50-ef751dfce44f",
                "language": "sql"
            },
            "outputs": [],
            "execution_count": null
        },
        {
            "cell_type": "markdown",
            "source": [
                "## **Query (Joins)** \n",
                "\n",
                "### Proposition: Returns a list of customer orders along with the details of each order's products and the quantity of the products ordered per order. \n",
                "### Table: The query uses the Sales.Customer, Sales.Order, and Sales.OrderDetail tables.\n",
                "### Columns: The columns used are: CustomerId, OrderId, ProductId, Quantity.\n",
                "### Predicate: The query begins with a LEFT OUTER JOIN between the Sales.Customer and Sales.Order tables, matching records based on the CustomerId column. This ensures all customers are included in the result, regardless of whether they have placed orders. Then, an INNER JOIN is performed between the Sales.Order and Sales.OrderDetail tables, connecting records based on the OrderId column, retrieving the product details for each order. \n",
                "\n",
                "*This query is special to me because this is the first query in which I have implemented the LEFT OUTER JOIN and INNER JOIN clauses.*\n",
                "\n",
                "*<img src=\"https://static.vecteezy.com/system/resources/previews/022/841/114/non_2x/chatgpt-logo-transparent-background-free-png.png\" alt=\"AI\" width=\"20\" height=\"20\"> Written in collaboration with ChatGPT from OpenAI to improve understanding and assist with the explanation of the query*"
            ],
            "metadata": {
                "azdata_cell_guid": "e5a8ec5a-2d21-4f11-961c-070d5f7aecf8"
            },
            "attachments": {}
        },
        {
            "cell_type": "code",
            "source": [
                "USE TSQLV4;\n",
                "\n",
                "SELECT C.custid, O.orderid, OD.productid, OD.qty\n",
                "FROM Sales.Customers AS C\n",
                "  LEFT OUTER JOIN Sales.Orders AS O\n",
                "    ON C.custid = O.custid\n",
                "  INNER JOIN Sales.OrderDetails AS OD\n",
                "    ON O.orderid = OD.orderid;\n",
                "\n",
                "\n",
                "USE Northwinds2022TSQLV7;\n",
                "\n",
                "SELECT C.CustomerId, O.OrderId, OD.ProductId, OD.Quantity\n",
                "FROM Sales.Customer AS C\n",
                "  LEFT OUTER JOIN Sales.[Order] AS O\n",
                "    ON C.CustomerId = O.CustomerId\n",
                "  INNER JOIN Sales.OrderDetail AS OD\n",
                "    ON O.OrderId = OD.OrderId;"
            ],
            "metadata": {
                "azdata_cell_guid": "62553def-a4d7-4b68-94ec-6f240738159c",
                "language": "sql"
            },
            "outputs": [],
            "execution_count": null
        },
        {
            "cell_type": "markdown",
            "source": [
                "# **Chapter 03 - Join Queries**\n",
                "## **Query**\n",
                "### Proposition: Returns a list of all possible combinations of pairs of customers and employees.\n",
                "### Table: The query uses the Sales.Customer table for customers and the HumanResources.Employee table for employees.\n",
                "### Columns: The resulting table includes CustomerId from the Sales.Customer table and EmployeeId from the HumanResources.Employee table.\n",
                "### Predicate: The query uses a CROSS JOIN clause, combining each row from the Sales.Customer table (as C) with every row from the HumanResources.Employee table (as E), resulting in a Cartesian product. The ORDER BY clause is ordering the EmployeeId from HumanResources.Employee table in ascending order in the output.\n",
                "\n",
                "*<img src=\"https://static.vecteezy.com/system/resources/previews/022/841/114/non_2x/chatgpt-logo-transparent-background-free-png.png\" alt=\"AI\" width=\"20\" height=\"20\"> Written in collaboration with ChatGPT from OpenAI to improve understanding and assist with the explanation of the query*"
            ],
            "metadata": {
                "azdata_cell_guid": "bcd43759-c7ca-4725-8ea6-743bd0f4e3d0"
            },
            "attachments": {}
        },
        {
            "cell_type": "code",
            "source": [
                "USE TSQLV4;\n",
                "\n",
                "SELECT C.custid, E.empid\n",
                "FROM Sales.Customers AS C\n",
                "  CROSS JOIN HR.Employees AS E\n",
                "ORDER BY E.empid;\n",
                "\n",
                "\n",
                "USE Northwinds2022TSQLV7;\n",
                "\n",
                "SELECT C.CustomerId, E.EmployeeId\n",
                "FROM Sales.Customer AS C\n",
                "  CROSS JOIN HumanResources.Employee AS E\n",
                "ORDER BY E.EmployeeId;\n",
                "\n",
                "\n",
                "\n",
                ""
            ],
            "metadata": {
                "azdata_cell_guid": "3894e313-fc62-4b36-bb42-22e8ec73cd73",
                "language": "sql",
                "tags": []
            },
            "outputs": [],
            "execution_count": null
        },
        {
            "cell_type": "markdown",
            "source": [
                "## **Query**\n",
                "\n",
                "### Proposition: Returns a list of customers along with their associated orders, if any.\n",
                "\n",
                "### Table: Uses the Sales.Customer and Sales.Order tables.\n",
                "\n",
                "### Columns: The columns used are CustomerId and CustomerCompanyName from the Sales.Customer. OrderId from the Sales.Order table.\n",
                "\n",
                "### Predicate: The query uses a LEFT OUTER JOIN clause to combine rows from the Sales.Customer table (as C) with matching rows from the Sales.Order table (as O) based on the CustomerId column. This ensures that all customers are included in the result set, regardless of whether they have associated orders. If a customer has orders, the order information (OrderId) is displayed; otherwise, NULL values are shown for order-related columns. The ORDER BY clause is ordering the CustomerId from Sales.Customer and OrderId in Sales.Order table in ascending order.\n",
                "\n",
                "*<img src=\"https://static.vecteezy.com/system/resources/previews/022/841/114/non_2x/chatgpt-logo-transparent-background-free-png.png\" alt=\"AI\" width=\"20\" height=\"20\"> Written in collaboration with ChatGPT from OpenAI to improve understanding and assist with the explanation of the query*"
            ],
            "metadata": {
                "azdata_cell_guid": "c1ff0991-00ae-4263-834f-02a4eeaba91a"
            },
            "attachments": {}
        },
        {
            "cell_type": "code",
            "source": [
                "USE TSQLV4;\n",
                "\n",
                "SELECT C.custid, C.companyname, O.orderid\n",
                "FROM Sales.Customers AS C\n",
                "  LEFT OUTER JOIN Sales.Orders AS O\n",
                "    ON C.custid = O.custid\n",
                "ORDER BY C.custid, O.orderid;\n",
                "\n",
                "\n",
                "USE Northwinds2022TSQLV7;\n",
                "\n",
                "SELECT C.CustomerId, C.CustomerCompanyName, O.OrderId\n",
                "FROM Sales.Customer AS C\n",
                "  LEFT OUTER JOIN Sales.[Order] AS O\n",
                "    ON C.CustomerId = O.CustomerId\n",
                "ORDER BY C.CustomerId, O.OrderId;\n",
                "\n",
                ""
            ],
            "metadata": {
                "azdata_cell_guid": "734f6a02-9061-46fe-a6a1-86be3d3c8f37",
                "language": "sql",
                "tags": []
            },
            "outputs": [],
            "execution_count": null
        }
    ]
}